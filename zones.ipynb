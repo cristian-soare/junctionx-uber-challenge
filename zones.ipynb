{
 "cells": [
  {
   "cell_type": "code",
   "execution_count": 1,
   "id": "1336ede9",
   "metadata": {},
   "outputs": [
    {
     "name": "stdout",
     "output_type": "stream",
     "text": [
      "Dataset shape: (3000, 24)\n",
      "\n",
      "Column names:\n",
      "['ride_id', 'driver_id', 'rider_id', 'city_id', 'product', 'vehicle_type', 'is_ev', 'start_time', 'end_time', 'pickup_lat', 'pickup_lon', 'pickup_hex_id9', 'drop_lat', 'drop_lon', 'drop_hex_id9', 'distance_km', 'duration_mins', 'surge_multiplier', 'fare_amount', 'uber_fee', 'net_earnings', 'tips', 'payment_type', 'date']\n",
      "\n",
      "==================================================\n",
      "ANALYSIS OF HEX ID COLUMNS\n",
      "==================================================\n",
      "\n",
      "PICKUP_HEX_ID9:\n",
      "  Unique values: 2970\n",
      "  Missing values: 0\n",
      "  Data type: object\n",
      "  Sample values: ['89b5443252677be', '89fa132b2821409', '89df88c01c5d375', '8923a24a0c47657', '897df7e0ca6a6f7']\n",
      "  Most common values:\n",
      "    pickup_hex_id9\n",
      "89b231f4d0144bb    2\n",
      "8971e8676a25686    2\n",
      "89a81df844d05f4    2\n",
      "896cd847e7b5bd3    2\n",
      "89ab997665e6fbb    2\n",
      "Name: count, dtype: int64\n",
      "\n",
      "DROP_HEX_ID9:\n",
      "  Unique values: 2969\n",
      "  Missing values: 0\n",
      "  Data type: object\n",
      "  Sample values: ['896326c3e14b5c2', '898e2394712bd2c', '8947d4823562561', '89cf8728790df33', '8900b3581cd6ec3']\n",
      "  Most common values:\n",
      "    drop_hex_id9\n",
      "8999ccd5fffa82b    2\n",
      "89ff5cf5057d674    2\n",
      "8969d1d33a35f42    2\n",
      "894486821fd7e8e    2\n",
      "893906c16267c53    2\n",
      "Name: count, dtype: int64\n",
      "\n",
      "==================================================\n",
      "SAMPLE DATA\n",
      "==================================================\n",
      "    pickup_hex_id9     drop_hex_id9\n",
      "0  89b5443252677be  896326c3e14b5c2\n",
      "1  89fa132b2821409  898e2394712bd2c\n",
      "2  89df88c01c5d375  8947d4823562561\n",
      "3  8923a24a0c47657  89cf8728790df33\n",
      "4  897df7e0ca6a6f7  8900b3581cd6ec3\n",
      "5  8919eb8c2a35840  8917722e7a09e1d\n",
      "6  89f51aaedc99a91  891471d28d62842\n",
      "7  89789fcc7e414bb  89bcf96a911d280\n",
      "8  890f5c9b5567ac0  899f0d0666540d6\n",
      "9  89320e6ff14c88f  89115866d9b5d07\n"
     ]
    }
   ],
   "source": [
    "import pandas as pd\n",
    "import numpy as np\n",
    "import plotly.express as px\n",
    "import plotly.graph_objects as go\n",
    "from plotly.subplots import make_subplots\n",
    "\n",
    "# Load the rides_trips data\n",
    "df = pd.read_csv('server/data/ride_trips.csv')\n",
    "\n",
    "# Display basic information about the dataset\n",
    "print(\"Dataset shape:\", df.shape)\n",
    "print(\"\\nColumn names:\")\n",
    "print(df.columns.tolist())\n",
    "\n",
    "# Focus on pickup_hex_id9 and drop_hex_id9 columns\n",
    "hex_columns = ['pickup_hex_id9', 'drop_hex_id9']\n",
    "\n",
    "print(\"\\n\" + \"=\"*50)\n",
    "print(\"ANALYSIS OF HEX ID COLUMNS\")\n",
    "print(\"=\"*50)\n",
    "\n",
    "for col in hex_columns:\n",
    "  if col in df.columns:\n",
    "    print(f\"\\n{col.upper()}:\")\n",
    "    print(f\"  Unique values: {df[col].nunique()}\")\n",
    "    print(f\"  Missing values: {df[col].isnull().sum()}\")\n",
    "    print(f\"  Data type: {df[col].dtype}\")\n",
    "    print(f\"  Sample values: {df[col].dropna().head().tolist()}\")\n",
    "    print(f\"  Most common values:\")\n",
    "    print(f\"    {df[col].value_counts().head()}\")\n",
    "  else:\n",
    "    print(f\"\\n{col} column not found in dataset\")\n",
    "\n",
    "# Display first few rows with hex columns\n",
    "print(\"\\n\" + \"=\"*50)\n",
    "print(\"SAMPLE DATA\")\n",
    "print(\"=\"*50)\n",
    "if all(col in df.columns for col in hex_columns):\n",
    "  print(df[hex_columns].head(10))\n",
    "else:\n",
    "  print(\"Available columns:\", [col for col in hex_columns if col in df.columns])"
   ]
  },
  {
   "cell_type": "code",
   "execution_count": 2,
   "id": "26fcdede",
   "metadata": {},
   "outputs": [
    {
     "data": {
      "application/vnd.plotly.v1+json": {
       "config": {
        "plotlyServerURL": "https://plot.ly"
       },
       "data": [
        {
         "hovertemplate": "Hex ID=%{x}<br>Number of Pickups=%{y}<extra></extra>",
         "legendgroup": "",
         "marker": {
          "color": "#636efa",
          "pattern": {
           "shape": ""
          }
         },
         "name": "",
         "orientation": "v",
         "showlegend": false,
         "textposition": "auto",
         "type": "bar",
         "x": [
          "89b231f4d0144bb",
          "8971e8676a25686",
          "89a81df844d05f4",
          "896cd847e7b5bd3",
          "89ab997665e6fbb",
          "899e2101c795fbe",
          "89a72fc8a355059",
          "89ac290f453fded",
          "891a96aede1801f",
          "89e6d9832c07d7a",
          "899957cbd767aef",
          "8977f4fc6f38947",
          "893096bc3839c09",
          "89fc6124bcd5982",
          "897896c8febd2f2",
          "896388666ac90f6",
          "89b48969ef76800",
          "8982a4077645925",
          "89c924ad8543c27",
          "89e8e3fd9d7f0c0"
         ],
         "xaxis": "x",
         "y": {
          "bdata": "AgICAgICAgICAgICAgICAgICAgI=",
          "dtype": "i1"
         },
         "yaxis": "y"
        }
       ],
       "layout": {
        "barmode": "relative",
        "legend": {
         "tracegroupgap": 0
        },
        "template": {
         "data": {
          "bar": [
           {
            "error_x": {
             "color": "#2a3f5f"
            },
            "error_y": {
             "color": "#2a3f5f"
            },
            "marker": {
             "line": {
              "color": "#E5ECF6",
              "width": 0.5
             },
             "pattern": {
              "fillmode": "overlay",
              "size": 10,
              "solidity": 0.2
             }
            },
            "type": "bar"
           }
          ],
          "barpolar": [
           {
            "marker": {
             "line": {
              "color": "#E5ECF6",
              "width": 0.5
             },
             "pattern": {
              "fillmode": "overlay",
              "size": 10,
              "solidity": 0.2
             }
            },
            "type": "barpolar"
           }
          ],
          "carpet": [
           {
            "aaxis": {
             "endlinecolor": "#2a3f5f",
             "gridcolor": "white",
             "linecolor": "white",
             "minorgridcolor": "white",
             "startlinecolor": "#2a3f5f"
            },
            "baxis": {
             "endlinecolor": "#2a3f5f",
             "gridcolor": "white",
             "linecolor": "white",
             "minorgridcolor": "white",
             "startlinecolor": "#2a3f5f"
            },
            "type": "carpet"
           }
          ],
          "choropleth": [
           {
            "colorbar": {
             "outlinewidth": 0,
             "ticks": ""
            },
            "type": "choropleth"
           }
          ],
          "contour": [
           {
            "colorbar": {
             "outlinewidth": 0,
             "ticks": ""
            },
            "colorscale": [
             [
              0,
              "#0d0887"
             ],
             [
              0.1111111111111111,
              "#46039f"
             ],
             [
              0.2222222222222222,
              "#7201a8"
             ],
             [
              0.3333333333333333,
              "#9c179e"
             ],
             [
              0.4444444444444444,
              "#bd3786"
             ],
             [
              0.5555555555555556,
              "#d8576b"
             ],
             [
              0.6666666666666666,
              "#ed7953"
             ],
             [
              0.7777777777777778,
              "#fb9f3a"
             ],
             [
              0.8888888888888888,
              "#fdca26"
             ],
             [
              1,
              "#f0f921"
             ]
            ],
            "type": "contour"
           }
          ],
          "contourcarpet": [
           {
            "colorbar": {
             "outlinewidth": 0,
             "ticks": ""
            },
            "type": "contourcarpet"
           }
          ],
          "heatmap": [
           {
            "colorbar": {
             "outlinewidth": 0,
             "ticks": ""
            },
            "colorscale": [
             [
              0,
              "#0d0887"
             ],
             [
              0.1111111111111111,
              "#46039f"
             ],
             [
              0.2222222222222222,
              "#7201a8"
             ],
             [
              0.3333333333333333,
              "#9c179e"
             ],
             [
              0.4444444444444444,
              "#bd3786"
             ],
             [
              0.5555555555555556,
              "#d8576b"
             ],
             [
              0.6666666666666666,
              "#ed7953"
             ],
             [
              0.7777777777777778,
              "#fb9f3a"
             ],
             [
              0.8888888888888888,
              "#fdca26"
             ],
             [
              1,
              "#f0f921"
             ]
            ],
            "type": "heatmap"
           }
          ],
          "histogram": [
           {
            "marker": {
             "pattern": {
              "fillmode": "overlay",
              "size": 10,
              "solidity": 0.2
             }
            },
            "type": "histogram"
           }
          ],
          "histogram2d": [
           {
            "colorbar": {
             "outlinewidth": 0,
             "ticks": ""
            },
            "colorscale": [
             [
              0,
              "#0d0887"
             ],
             [
              0.1111111111111111,
              "#46039f"
             ],
             [
              0.2222222222222222,
              "#7201a8"
             ],
             [
              0.3333333333333333,
              "#9c179e"
             ],
             [
              0.4444444444444444,
              "#bd3786"
             ],
             [
              0.5555555555555556,
              "#d8576b"
             ],
             [
              0.6666666666666666,
              "#ed7953"
             ],
             [
              0.7777777777777778,
              "#fb9f3a"
             ],
             [
              0.8888888888888888,
              "#fdca26"
             ],
             [
              1,
              "#f0f921"
             ]
            ],
            "type": "histogram2d"
           }
          ],
          "histogram2dcontour": [
           {
            "colorbar": {
             "outlinewidth": 0,
             "ticks": ""
            },
            "colorscale": [
             [
              0,
              "#0d0887"
             ],
             [
              0.1111111111111111,
              "#46039f"
             ],
             [
              0.2222222222222222,
              "#7201a8"
             ],
             [
              0.3333333333333333,
              "#9c179e"
             ],
             [
              0.4444444444444444,
              "#bd3786"
             ],
             [
              0.5555555555555556,
              "#d8576b"
             ],
             [
              0.6666666666666666,
              "#ed7953"
             ],
             [
              0.7777777777777778,
              "#fb9f3a"
             ],
             [
              0.8888888888888888,
              "#fdca26"
             ],
             [
              1,
              "#f0f921"
             ]
            ],
            "type": "histogram2dcontour"
           }
          ],
          "mesh3d": [
           {
            "colorbar": {
             "outlinewidth": 0,
             "ticks": ""
            },
            "type": "mesh3d"
           }
          ],
          "parcoords": [
           {
            "line": {
             "colorbar": {
              "outlinewidth": 0,
              "ticks": ""
             }
            },
            "type": "parcoords"
           }
          ],
          "pie": [
           {
            "automargin": true,
            "type": "pie"
           }
          ],
          "scatter": [
           {
            "fillpattern": {
             "fillmode": "overlay",
             "size": 10,
             "solidity": 0.2
            },
            "type": "scatter"
           }
          ],
          "scatter3d": [
           {
            "line": {
             "colorbar": {
              "outlinewidth": 0,
              "ticks": ""
             }
            },
            "marker": {
             "colorbar": {
              "outlinewidth": 0,
              "ticks": ""
             }
            },
            "type": "scatter3d"
           }
          ],
          "scattercarpet": [
           {
            "marker": {
             "colorbar": {
              "outlinewidth": 0,
              "ticks": ""
             }
            },
            "type": "scattercarpet"
           }
          ],
          "scattergeo": [
           {
            "marker": {
             "colorbar": {
              "outlinewidth": 0,
              "ticks": ""
             }
            },
            "type": "scattergeo"
           }
          ],
          "scattergl": [
           {
            "marker": {
             "colorbar": {
              "outlinewidth": 0,
              "ticks": ""
             }
            },
            "type": "scattergl"
           }
          ],
          "scattermap": [
           {
            "marker": {
             "colorbar": {
              "outlinewidth": 0,
              "ticks": ""
             }
            },
            "type": "scattermap"
           }
          ],
          "scattermapbox": [
           {
            "marker": {
             "colorbar": {
              "outlinewidth": 0,
              "ticks": ""
             }
            },
            "type": "scattermapbox"
           }
          ],
          "scatterpolar": [
           {
            "marker": {
             "colorbar": {
              "outlinewidth": 0,
              "ticks": ""
             }
            },
            "type": "scatterpolar"
           }
          ],
          "scatterpolargl": [
           {
            "marker": {
             "colorbar": {
              "outlinewidth": 0,
              "ticks": ""
             }
            },
            "type": "scatterpolargl"
           }
          ],
          "scatterternary": [
           {
            "marker": {
             "colorbar": {
              "outlinewidth": 0,
              "ticks": ""
             }
            },
            "type": "scatterternary"
           }
          ],
          "surface": [
           {
            "colorbar": {
             "outlinewidth": 0,
             "ticks": ""
            },
            "colorscale": [
             [
              0,
              "#0d0887"
             ],
             [
              0.1111111111111111,
              "#46039f"
             ],
             [
              0.2222222222222222,
              "#7201a8"
             ],
             [
              0.3333333333333333,
              "#9c179e"
             ],
             [
              0.4444444444444444,
              "#bd3786"
             ],
             [
              0.5555555555555556,
              "#d8576b"
             ],
             [
              0.6666666666666666,
              "#ed7953"
             ],
             [
              0.7777777777777778,
              "#fb9f3a"
             ],
             [
              0.8888888888888888,
              "#fdca26"
             ],
             [
              1,
              "#f0f921"
             ]
            ],
            "type": "surface"
           }
          ],
          "table": [
           {
            "cells": {
             "fill": {
              "color": "#EBF0F8"
             },
             "line": {
              "color": "white"
             }
            },
            "header": {
             "fill": {
              "color": "#C8D4E3"
             },
             "line": {
              "color": "white"
             }
            },
            "type": "table"
           }
          ]
         },
         "layout": {
          "annotationdefaults": {
           "arrowcolor": "#2a3f5f",
           "arrowhead": 0,
           "arrowwidth": 1
          },
          "autotypenumbers": "strict",
          "coloraxis": {
           "colorbar": {
            "outlinewidth": 0,
            "ticks": ""
           }
          },
          "colorscale": {
           "diverging": [
            [
             0,
             "#8e0152"
            ],
            [
             0.1,
             "#c51b7d"
            ],
            [
             0.2,
             "#de77ae"
            ],
            [
             0.3,
             "#f1b6da"
            ],
            [
             0.4,
             "#fde0ef"
            ],
            [
             0.5,
             "#f7f7f7"
            ],
            [
             0.6,
             "#e6f5d0"
            ],
            [
             0.7,
             "#b8e186"
            ],
            [
             0.8,
             "#7fbc41"
            ],
            [
             0.9,
             "#4d9221"
            ],
            [
             1,
             "#276419"
            ]
           ],
           "sequential": [
            [
             0,
             "#0d0887"
            ],
            [
             0.1111111111111111,
             "#46039f"
            ],
            [
             0.2222222222222222,
             "#7201a8"
            ],
            [
             0.3333333333333333,
             "#9c179e"
            ],
            [
             0.4444444444444444,
             "#bd3786"
            ],
            [
             0.5555555555555556,
             "#d8576b"
            ],
            [
             0.6666666666666666,
             "#ed7953"
            ],
            [
             0.7777777777777778,
             "#fb9f3a"
            ],
            [
             0.8888888888888888,
             "#fdca26"
            ],
            [
             1,
             "#f0f921"
            ]
           ],
           "sequentialminus": [
            [
             0,
             "#0d0887"
            ],
            [
             0.1111111111111111,
             "#46039f"
            ],
            [
             0.2222222222222222,
             "#7201a8"
            ],
            [
             0.3333333333333333,
             "#9c179e"
            ],
            [
             0.4444444444444444,
             "#bd3786"
            ],
            [
             0.5555555555555556,
             "#d8576b"
            ],
            [
             0.6666666666666666,
             "#ed7953"
            ],
            [
             0.7777777777777778,
             "#fb9f3a"
            ],
            [
             0.8888888888888888,
             "#fdca26"
            ],
            [
             1,
             "#f0f921"
            ]
           ]
          },
          "colorway": [
           "#636efa",
           "#EF553B",
           "#00cc96",
           "#ab63fa",
           "#FFA15A",
           "#19d3f3",
           "#FF6692",
           "#B6E880",
           "#FF97FF",
           "#FECB52"
          ],
          "font": {
           "color": "#2a3f5f"
          },
          "geo": {
           "bgcolor": "white",
           "lakecolor": "white",
           "landcolor": "#E5ECF6",
           "showlakes": true,
           "showland": true,
           "subunitcolor": "white"
          },
          "hoverlabel": {
           "align": "left"
          },
          "hovermode": "closest",
          "mapbox": {
           "style": "light"
          },
          "paper_bgcolor": "white",
          "plot_bgcolor": "#E5ECF6",
          "polar": {
           "angularaxis": {
            "gridcolor": "white",
            "linecolor": "white",
            "ticks": ""
           },
           "bgcolor": "#E5ECF6",
           "radialaxis": {
            "gridcolor": "white",
            "linecolor": "white",
            "ticks": ""
           }
          },
          "scene": {
           "xaxis": {
            "backgroundcolor": "#E5ECF6",
            "gridcolor": "white",
            "gridwidth": 2,
            "linecolor": "white",
            "showbackground": true,
            "ticks": "",
            "zerolinecolor": "white"
           },
           "yaxis": {
            "backgroundcolor": "#E5ECF6",
            "gridcolor": "white",
            "gridwidth": 2,
            "linecolor": "white",
            "showbackground": true,
            "ticks": "",
            "zerolinecolor": "white"
           },
           "zaxis": {
            "backgroundcolor": "#E5ECF6",
            "gridcolor": "white",
            "gridwidth": 2,
            "linecolor": "white",
            "showbackground": true,
            "ticks": "",
            "zerolinecolor": "white"
           }
          },
          "shapedefaults": {
           "line": {
            "color": "#2a3f5f"
           }
          },
          "ternary": {
           "aaxis": {
            "gridcolor": "white",
            "linecolor": "white",
            "ticks": ""
           },
           "baxis": {
            "gridcolor": "white",
            "linecolor": "white",
            "ticks": ""
           },
           "bgcolor": "#E5ECF6",
           "caxis": {
            "gridcolor": "white",
            "linecolor": "white",
            "ticks": ""
           }
          },
          "title": {
           "x": 0.05
          },
          "xaxis": {
           "automargin": true,
           "gridcolor": "white",
           "linecolor": "white",
           "ticks": "",
           "title": {
            "standoff": 15
           },
           "zerolinecolor": "white",
           "zerolinewidth": 2
          },
          "yaxis": {
           "automargin": true,
           "gridcolor": "white",
           "linecolor": "white",
           "ticks": "",
           "title": {
            "standoff": 15
           },
           "zerolinecolor": "white",
           "zerolinewidth": 2
          }
         }
        },
        "title": {
         "text": "Top 20 Pickup Zones (by Hex ID)"
        },
        "xaxis": {
         "anchor": "y",
         "domain": [
          0,
          1
         ],
         "tickangle": 45,
         "title": {
          "text": "Hex ID"
         }
        },
        "yaxis": {
         "anchor": "x",
         "domain": [
          0,
          1
         ],
         "title": {
          "text": "Number of Pickups"
         }
        }
       }
      }
     },
     "metadata": {},
     "output_type": "display_data"
    },
    {
     "data": {
      "application/vnd.plotly.v1+json": {
       "config": {
        "plotlyServerURL": "https://plot.ly"
       },
       "data": [
        {
         "hovertemplate": "Hex ID=%{x}<br>Number of Drop-offs=%{y}<extra></extra>",
         "legendgroup": "",
         "marker": {
          "color": "#636efa",
          "pattern": {
           "shape": ""
          }
         },
         "name": "",
         "orientation": "v",
         "showlegend": false,
         "textposition": "auto",
         "type": "bar",
         "x": [
          "8999ccd5fffa82b",
          "89ff5cf5057d674",
          "8969d1d33a35f42",
          "894486821fd7e8e",
          "893906c16267c53",
          "89818b35ac6f392",
          "89015ff946bcf5c",
          "89a6f3dadf061be",
          "89bee7f3adb6ca3",
          "8934b2a3a2b9d28",
          "891d91917b53e28",
          "89f28aa53f70e02",
          "8977f41e5cf4a6b",
          "890f309c1afdba8",
          "895766e84ae1932",
          "89441aa6efcfbf1",
          "8912d048a6710fd",
          "89926e4eb16196e",
          "89ac8107fd82557",
          "898c1b3d5ea336d"
         ],
         "xaxis": "x",
         "y": {
          "bdata": "AgICAgICAgICAgICAgICAgICAgI=",
          "dtype": "i1"
         },
         "yaxis": "y"
        }
       ],
       "layout": {
        "barmode": "relative",
        "legend": {
         "tracegroupgap": 0
        },
        "template": {
         "data": {
          "bar": [
           {
            "error_x": {
             "color": "#2a3f5f"
            },
            "error_y": {
             "color": "#2a3f5f"
            },
            "marker": {
             "line": {
              "color": "#E5ECF6",
              "width": 0.5
             },
             "pattern": {
              "fillmode": "overlay",
              "size": 10,
              "solidity": 0.2
             }
            },
            "type": "bar"
           }
          ],
          "barpolar": [
           {
            "marker": {
             "line": {
              "color": "#E5ECF6",
              "width": 0.5
             },
             "pattern": {
              "fillmode": "overlay",
              "size": 10,
              "solidity": 0.2
             }
            },
            "type": "barpolar"
           }
          ],
          "carpet": [
           {
            "aaxis": {
             "endlinecolor": "#2a3f5f",
             "gridcolor": "white",
             "linecolor": "white",
             "minorgridcolor": "white",
             "startlinecolor": "#2a3f5f"
            },
            "baxis": {
             "endlinecolor": "#2a3f5f",
             "gridcolor": "white",
             "linecolor": "white",
             "minorgridcolor": "white",
             "startlinecolor": "#2a3f5f"
            },
            "type": "carpet"
           }
          ],
          "choropleth": [
           {
            "colorbar": {
             "outlinewidth": 0,
             "ticks": ""
            },
            "type": "choropleth"
           }
          ],
          "contour": [
           {
            "colorbar": {
             "outlinewidth": 0,
             "ticks": ""
            },
            "colorscale": [
             [
              0,
              "#0d0887"
             ],
             [
              0.1111111111111111,
              "#46039f"
             ],
             [
              0.2222222222222222,
              "#7201a8"
             ],
             [
              0.3333333333333333,
              "#9c179e"
             ],
             [
              0.4444444444444444,
              "#bd3786"
             ],
             [
              0.5555555555555556,
              "#d8576b"
             ],
             [
              0.6666666666666666,
              "#ed7953"
             ],
             [
              0.7777777777777778,
              "#fb9f3a"
             ],
             [
              0.8888888888888888,
              "#fdca26"
             ],
             [
              1,
              "#f0f921"
             ]
            ],
            "type": "contour"
           }
          ],
          "contourcarpet": [
           {
            "colorbar": {
             "outlinewidth": 0,
             "ticks": ""
            },
            "type": "contourcarpet"
           }
          ],
          "heatmap": [
           {
            "colorbar": {
             "outlinewidth": 0,
             "ticks": ""
            },
            "colorscale": [
             [
              0,
              "#0d0887"
             ],
             [
              0.1111111111111111,
              "#46039f"
             ],
             [
              0.2222222222222222,
              "#7201a8"
             ],
             [
              0.3333333333333333,
              "#9c179e"
             ],
             [
              0.4444444444444444,
              "#bd3786"
             ],
             [
              0.5555555555555556,
              "#d8576b"
             ],
             [
              0.6666666666666666,
              "#ed7953"
             ],
             [
              0.7777777777777778,
              "#fb9f3a"
             ],
             [
              0.8888888888888888,
              "#fdca26"
             ],
             [
              1,
              "#f0f921"
             ]
            ],
            "type": "heatmap"
           }
          ],
          "histogram": [
           {
            "marker": {
             "pattern": {
              "fillmode": "overlay",
              "size": 10,
              "solidity": 0.2
             }
            },
            "type": "histogram"
           }
          ],
          "histogram2d": [
           {
            "colorbar": {
             "outlinewidth": 0,
             "ticks": ""
            },
            "colorscale": [
             [
              0,
              "#0d0887"
             ],
             [
              0.1111111111111111,
              "#46039f"
             ],
             [
              0.2222222222222222,
              "#7201a8"
             ],
             [
              0.3333333333333333,
              "#9c179e"
             ],
             [
              0.4444444444444444,
              "#bd3786"
             ],
             [
              0.5555555555555556,
              "#d8576b"
             ],
             [
              0.6666666666666666,
              "#ed7953"
             ],
             [
              0.7777777777777778,
              "#fb9f3a"
             ],
             [
              0.8888888888888888,
              "#fdca26"
             ],
             [
              1,
              "#f0f921"
             ]
            ],
            "type": "histogram2d"
           }
          ],
          "histogram2dcontour": [
           {
            "colorbar": {
             "outlinewidth": 0,
             "ticks": ""
            },
            "colorscale": [
             [
              0,
              "#0d0887"
             ],
             [
              0.1111111111111111,
              "#46039f"
             ],
             [
              0.2222222222222222,
              "#7201a8"
             ],
             [
              0.3333333333333333,
              "#9c179e"
             ],
             [
              0.4444444444444444,
              "#bd3786"
             ],
             [
              0.5555555555555556,
              "#d8576b"
             ],
             [
              0.6666666666666666,
              "#ed7953"
             ],
             [
              0.7777777777777778,
              "#fb9f3a"
             ],
             [
              0.8888888888888888,
              "#fdca26"
             ],
             [
              1,
              "#f0f921"
             ]
            ],
            "type": "histogram2dcontour"
           }
          ],
          "mesh3d": [
           {
            "colorbar": {
             "outlinewidth": 0,
             "ticks": ""
            },
            "type": "mesh3d"
           }
          ],
          "parcoords": [
           {
            "line": {
             "colorbar": {
              "outlinewidth": 0,
              "ticks": ""
             }
            },
            "type": "parcoords"
           }
          ],
          "pie": [
           {
            "automargin": true,
            "type": "pie"
           }
          ],
          "scatter": [
           {
            "fillpattern": {
             "fillmode": "overlay",
             "size": 10,
             "solidity": 0.2
            },
            "type": "scatter"
           }
          ],
          "scatter3d": [
           {
            "line": {
             "colorbar": {
              "outlinewidth": 0,
              "ticks": ""
             }
            },
            "marker": {
             "colorbar": {
              "outlinewidth": 0,
              "ticks": ""
             }
            },
            "type": "scatter3d"
           }
          ],
          "scattercarpet": [
           {
            "marker": {
             "colorbar": {
              "outlinewidth": 0,
              "ticks": ""
             }
            },
            "type": "scattercarpet"
           }
          ],
          "scattergeo": [
           {
            "marker": {
             "colorbar": {
              "outlinewidth": 0,
              "ticks": ""
             }
            },
            "type": "scattergeo"
           }
          ],
          "scattergl": [
           {
            "marker": {
             "colorbar": {
              "outlinewidth": 0,
              "ticks": ""
             }
            },
            "type": "scattergl"
           }
          ],
          "scattermap": [
           {
            "marker": {
             "colorbar": {
              "outlinewidth": 0,
              "ticks": ""
             }
            },
            "type": "scattermap"
           }
          ],
          "scattermapbox": [
           {
            "marker": {
             "colorbar": {
              "outlinewidth": 0,
              "ticks": ""
             }
            },
            "type": "scattermapbox"
           }
          ],
          "scatterpolar": [
           {
            "marker": {
             "colorbar": {
              "outlinewidth": 0,
              "ticks": ""
             }
            },
            "type": "scatterpolar"
           }
          ],
          "scatterpolargl": [
           {
            "marker": {
             "colorbar": {
              "outlinewidth": 0,
              "ticks": ""
             }
            },
            "type": "scatterpolargl"
           }
          ],
          "scatterternary": [
           {
            "marker": {
             "colorbar": {
              "outlinewidth": 0,
              "ticks": ""
             }
            },
            "type": "scatterternary"
           }
          ],
          "surface": [
           {
            "colorbar": {
             "outlinewidth": 0,
             "ticks": ""
            },
            "colorscale": [
             [
              0,
              "#0d0887"
             ],
             [
              0.1111111111111111,
              "#46039f"
             ],
             [
              0.2222222222222222,
              "#7201a8"
             ],
             [
              0.3333333333333333,
              "#9c179e"
             ],
             [
              0.4444444444444444,
              "#bd3786"
             ],
             [
              0.5555555555555556,
              "#d8576b"
             ],
             [
              0.6666666666666666,
              "#ed7953"
             ],
             [
              0.7777777777777778,
              "#fb9f3a"
             ],
             [
              0.8888888888888888,
              "#fdca26"
             ],
             [
              1,
              "#f0f921"
             ]
            ],
            "type": "surface"
           }
          ],
          "table": [
           {
            "cells": {
             "fill": {
              "color": "#EBF0F8"
             },
             "line": {
              "color": "white"
             }
            },
            "header": {
             "fill": {
              "color": "#C8D4E3"
             },
             "line": {
              "color": "white"
             }
            },
            "type": "table"
           }
          ]
         },
         "layout": {
          "annotationdefaults": {
           "arrowcolor": "#2a3f5f",
           "arrowhead": 0,
           "arrowwidth": 1
          },
          "autotypenumbers": "strict",
          "coloraxis": {
           "colorbar": {
            "outlinewidth": 0,
            "ticks": ""
           }
          },
          "colorscale": {
           "diverging": [
            [
             0,
             "#8e0152"
            ],
            [
             0.1,
             "#c51b7d"
            ],
            [
             0.2,
             "#de77ae"
            ],
            [
             0.3,
             "#f1b6da"
            ],
            [
             0.4,
             "#fde0ef"
            ],
            [
             0.5,
             "#f7f7f7"
            ],
            [
             0.6,
             "#e6f5d0"
            ],
            [
             0.7,
             "#b8e186"
            ],
            [
             0.8,
             "#7fbc41"
            ],
            [
             0.9,
             "#4d9221"
            ],
            [
             1,
             "#276419"
            ]
           ],
           "sequential": [
            [
             0,
             "#0d0887"
            ],
            [
             0.1111111111111111,
             "#46039f"
            ],
            [
             0.2222222222222222,
             "#7201a8"
            ],
            [
             0.3333333333333333,
             "#9c179e"
            ],
            [
             0.4444444444444444,
             "#bd3786"
            ],
            [
             0.5555555555555556,
             "#d8576b"
            ],
            [
             0.6666666666666666,
             "#ed7953"
            ],
            [
             0.7777777777777778,
             "#fb9f3a"
            ],
            [
             0.8888888888888888,
             "#fdca26"
            ],
            [
             1,
             "#f0f921"
            ]
           ],
           "sequentialminus": [
            [
             0,
             "#0d0887"
            ],
            [
             0.1111111111111111,
             "#46039f"
            ],
            [
             0.2222222222222222,
             "#7201a8"
            ],
            [
             0.3333333333333333,
             "#9c179e"
            ],
            [
             0.4444444444444444,
             "#bd3786"
            ],
            [
             0.5555555555555556,
             "#d8576b"
            ],
            [
             0.6666666666666666,
             "#ed7953"
            ],
            [
             0.7777777777777778,
             "#fb9f3a"
            ],
            [
             0.8888888888888888,
             "#fdca26"
            ],
            [
             1,
             "#f0f921"
            ]
           ]
          },
          "colorway": [
           "#636efa",
           "#EF553B",
           "#00cc96",
           "#ab63fa",
           "#FFA15A",
           "#19d3f3",
           "#FF6692",
           "#B6E880",
           "#FF97FF",
           "#FECB52"
          ],
          "font": {
           "color": "#2a3f5f"
          },
          "geo": {
           "bgcolor": "white",
           "lakecolor": "white",
           "landcolor": "#E5ECF6",
           "showlakes": true,
           "showland": true,
           "subunitcolor": "white"
          },
          "hoverlabel": {
           "align": "left"
          },
          "hovermode": "closest",
          "mapbox": {
           "style": "light"
          },
          "paper_bgcolor": "white",
          "plot_bgcolor": "#E5ECF6",
          "polar": {
           "angularaxis": {
            "gridcolor": "white",
            "linecolor": "white",
            "ticks": ""
           },
           "bgcolor": "#E5ECF6",
           "radialaxis": {
            "gridcolor": "white",
            "linecolor": "white",
            "ticks": ""
           }
          },
          "scene": {
           "xaxis": {
            "backgroundcolor": "#E5ECF6",
            "gridcolor": "white",
            "gridwidth": 2,
            "linecolor": "white",
            "showbackground": true,
            "ticks": "",
            "zerolinecolor": "white"
           },
           "yaxis": {
            "backgroundcolor": "#E5ECF6",
            "gridcolor": "white",
            "gridwidth": 2,
            "linecolor": "white",
            "showbackground": true,
            "ticks": "",
            "zerolinecolor": "white"
           },
           "zaxis": {
            "backgroundcolor": "#E5ECF6",
            "gridcolor": "white",
            "gridwidth": 2,
            "linecolor": "white",
            "showbackground": true,
            "ticks": "",
            "zerolinecolor": "white"
           }
          },
          "shapedefaults": {
           "line": {
            "color": "#2a3f5f"
           }
          },
          "ternary": {
           "aaxis": {
            "gridcolor": "white",
            "linecolor": "white",
            "ticks": ""
           },
           "baxis": {
            "gridcolor": "white",
            "linecolor": "white",
            "ticks": ""
           },
           "bgcolor": "#E5ECF6",
           "caxis": {
            "gridcolor": "white",
            "linecolor": "white",
            "ticks": ""
           }
          },
          "title": {
           "x": 0.05
          },
          "xaxis": {
           "automargin": true,
           "gridcolor": "white",
           "linecolor": "white",
           "ticks": "",
           "title": {
            "standoff": 15
           },
           "zerolinecolor": "white",
           "zerolinewidth": 2
          },
          "yaxis": {
           "automargin": true,
           "gridcolor": "white",
           "linecolor": "white",
           "ticks": "",
           "title": {
            "standoff": 15
           },
           "zerolinecolor": "white",
           "zerolinewidth": 2
          }
         }
        },
        "title": {
         "text": "Top 20 Drop-off Zones (by Hex ID)"
        },
        "xaxis": {
         "anchor": "y",
         "domain": [
          0,
          1
         ],
         "tickangle": 45,
         "title": {
          "text": "Hex ID"
         }
        },
        "yaxis": {
         "anchor": "x",
         "domain": [
          0,
          1
         ],
         "title": {
          "text": "Number of Drop-offs"
         }
        }
       }
      }
     },
     "metadata": {},
     "output_type": "display_data"
    },
    {
     "data": {
      "application/vnd.plotly.v1+json": {
       "config": {
        "plotlyServerURL": "https://plot.ly"
       },
       "data": [
        {
         "hovertemplate": "Zone Type=%{x}<br>Unique Count=%{y}<extra></extra>",
         "legendgroup": "",
         "marker": {
          "color": "#636efa",
          "pattern": {
           "shape": ""
          }
         },
         "name": "",
         "orientation": "v",
         "showlegend": false,
         "textposition": "auto",
         "type": "bar",
         "x": [
          "Pickup Zones",
          "Drop-off Zones"
         ],
         "xaxis": "x",
         "y": {
          "bdata": "mguZCw==",
          "dtype": "i2"
         },
         "yaxis": "y"
        }
       ],
       "layout": {
        "barmode": "relative",
        "legend": {
         "tracegroupgap": 0
        },
        "template": {
         "data": {
          "bar": [
           {
            "error_x": {
             "color": "#2a3f5f"
            },
            "error_y": {
             "color": "#2a3f5f"
            },
            "marker": {
             "line": {
              "color": "#E5ECF6",
              "width": 0.5
             },
             "pattern": {
              "fillmode": "overlay",
              "size": 10,
              "solidity": 0.2
             }
            },
            "type": "bar"
           }
          ],
          "barpolar": [
           {
            "marker": {
             "line": {
              "color": "#E5ECF6",
              "width": 0.5
             },
             "pattern": {
              "fillmode": "overlay",
              "size": 10,
              "solidity": 0.2
             }
            },
            "type": "barpolar"
           }
          ],
          "carpet": [
           {
            "aaxis": {
             "endlinecolor": "#2a3f5f",
             "gridcolor": "white",
             "linecolor": "white",
             "minorgridcolor": "white",
             "startlinecolor": "#2a3f5f"
            },
            "baxis": {
             "endlinecolor": "#2a3f5f",
             "gridcolor": "white",
             "linecolor": "white",
             "minorgridcolor": "white",
             "startlinecolor": "#2a3f5f"
            },
            "type": "carpet"
           }
          ],
          "choropleth": [
           {
            "colorbar": {
             "outlinewidth": 0,
             "ticks": ""
            },
            "type": "choropleth"
           }
          ],
          "contour": [
           {
            "colorbar": {
             "outlinewidth": 0,
             "ticks": ""
            },
            "colorscale": [
             [
              0,
              "#0d0887"
             ],
             [
              0.1111111111111111,
              "#46039f"
             ],
             [
              0.2222222222222222,
              "#7201a8"
             ],
             [
              0.3333333333333333,
              "#9c179e"
             ],
             [
              0.4444444444444444,
              "#bd3786"
             ],
             [
              0.5555555555555556,
              "#d8576b"
             ],
             [
              0.6666666666666666,
              "#ed7953"
             ],
             [
              0.7777777777777778,
              "#fb9f3a"
             ],
             [
              0.8888888888888888,
              "#fdca26"
             ],
             [
              1,
              "#f0f921"
             ]
            ],
            "type": "contour"
           }
          ],
          "contourcarpet": [
           {
            "colorbar": {
             "outlinewidth": 0,
             "ticks": ""
            },
            "type": "contourcarpet"
           }
          ],
          "heatmap": [
           {
            "colorbar": {
             "outlinewidth": 0,
             "ticks": ""
            },
            "colorscale": [
             [
              0,
              "#0d0887"
             ],
             [
              0.1111111111111111,
              "#46039f"
             ],
             [
              0.2222222222222222,
              "#7201a8"
             ],
             [
              0.3333333333333333,
              "#9c179e"
             ],
             [
              0.4444444444444444,
              "#bd3786"
             ],
             [
              0.5555555555555556,
              "#d8576b"
             ],
             [
              0.6666666666666666,
              "#ed7953"
             ],
             [
              0.7777777777777778,
              "#fb9f3a"
             ],
             [
              0.8888888888888888,
              "#fdca26"
             ],
             [
              1,
              "#f0f921"
             ]
            ],
            "type": "heatmap"
           }
          ],
          "histogram": [
           {
            "marker": {
             "pattern": {
              "fillmode": "overlay",
              "size": 10,
              "solidity": 0.2
             }
            },
            "type": "histogram"
           }
          ],
          "histogram2d": [
           {
            "colorbar": {
             "outlinewidth": 0,
             "ticks": ""
            },
            "colorscale": [
             [
              0,
              "#0d0887"
             ],
             [
              0.1111111111111111,
              "#46039f"
             ],
             [
              0.2222222222222222,
              "#7201a8"
             ],
             [
              0.3333333333333333,
              "#9c179e"
             ],
             [
              0.4444444444444444,
              "#bd3786"
             ],
             [
              0.5555555555555556,
              "#d8576b"
             ],
             [
              0.6666666666666666,
              "#ed7953"
             ],
             [
              0.7777777777777778,
              "#fb9f3a"
             ],
             [
              0.8888888888888888,
              "#fdca26"
             ],
             [
              1,
              "#f0f921"
             ]
            ],
            "type": "histogram2d"
           }
          ],
          "histogram2dcontour": [
           {
            "colorbar": {
             "outlinewidth": 0,
             "ticks": ""
            },
            "colorscale": [
             [
              0,
              "#0d0887"
             ],
             [
              0.1111111111111111,
              "#46039f"
             ],
             [
              0.2222222222222222,
              "#7201a8"
             ],
             [
              0.3333333333333333,
              "#9c179e"
             ],
             [
              0.4444444444444444,
              "#bd3786"
             ],
             [
              0.5555555555555556,
              "#d8576b"
             ],
             [
              0.6666666666666666,
              "#ed7953"
             ],
             [
              0.7777777777777778,
              "#fb9f3a"
             ],
             [
              0.8888888888888888,
              "#fdca26"
             ],
             [
              1,
              "#f0f921"
             ]
            ],
            "type": "histogram2dcontour"
           }
          ],
          "mesh3d": [
           {
            "colorbar": {
             "outlinewidth": 0,
             "ticks": ""
            },
            "type": "mesh3d"
           }
          ],
          "parcoords": [
           {
            "line": {
             "colorbar": {
              "outlinewidth": 0,
              "ticks": ""
             }
            },
            "type": "parcoords"
           }
          ],
          "pie": [
           {
            "automargin": true,
            "type": "pie"
           }
          ],
          "scatter": [
           {
            "fillpattern": {
             "fillmode": "overlay",
             "size": 10,
             "solidity": 0.2
            },
            "type": "scatter"
           }
          ],
          "scatter3d": [
           {
            "line": {
             "colorbar": {
              "outlinewidth": 0,
              "ticks": ""
             }
            },
            "marker": {
             "colorbar": {
              "outlinewidth": 0,
              "ticks": ""
             }
            },
            "type": "scatter3d"
           }
          ],
          "scattercarpet": [
           {
            "marker": {
             "colorbar": {
              "outlinewidth": 0,
              "ticks": ""
             }
            },
            "type": "scattercarpet"
           }
          ],
          "scattergeo": [
           {
            "marker": {
             "colorbar": {
              "outlinewidth": 0,
              "ticks": ""
             }
            },
            "type": "scattergeo"
           }
          ],
          "scattergl": [
           {
            "marker": {
             "colorbar": {
              "outlinewidth": 0,
              "ticks": ""
             }
            },
            "type": "scattergl"
           }
          ],
          "scattermap": [
           {
            "marker": {
             "colorbar": {
              "outlinewidth": 0,
              "ticks": ""
             }
            },
            "type": "scattermap"
           }
          ],
          "scattermapbox": [
           {
            "marker": {
             "colorbar": {
              "outlinewidth": 0,
              "ticks": ""
             }
            },
            "type": "scattermapbox"
           }
          ],
          "scatterpolar": [
           {
            "marker": {
             "colorbar": {
              "outlinewidth": 0,
              "ticks": ""
             }
            },
            "type": "scatterpolar"
           }
          ],
          "scatterpolargl": [
           {
            "marker": {
             "colorbar": {
              "outlinewidth": 0,
              "ticks": ""
             }
            },
            "type": "scatterpolargl"
           }
          ],
          "scatterternary": [
           {
            "marker": {
             "colorbar": {
              "outlinewidth": 0,
              "ticks": ""
             }
            },
            "type": "scatterternary"
           }
          ],
          "surface": [
           {
            "colorbar": {
             "outlinewidth": 0,
             "ticks": ""
            },
            "colorscale": [
             [
              0,
              "#0d0887"
             ],
             [
              0.1111111111111111,
              "#46039f"
             ],
             [
              0.2222222222222222,
              "#7201a8"
             ],
             [
              0.3333333333333333,
              "#9c179e"
             ],
             [
              0.4444444444444444,
              "#bd3786"
             ],
             [
              0.5555555555555556,
              "#d8576b"
             ],
             [
              0.6666666666666666,
              "#ed7953"
             ],
             [
              0.7777777777777778,
              "#fb9f3a"
             ],
             [
              0.8888888888888888,
              "#fdca26"
             ],
             [
              1,
              "#f0f921"
             ]
            ],
            "type": "surface"
           }
          ],
          "table": [
           {
            "cells": {
             "fill": {
              "color": "#EBF0F8"
             },
             "line": {
              "color": "white"
             }
            },
            "header": {
             "fill": {
              "color": "#C8D4E3"
             },
             "line": {
              "color": "white"
             }
            },
            "type": "table"
           }
          ]
         },
         "layout": {
          "annotationdefaults": {
           "arrowcolor": "#2a3f5f",
           "arrowhead": 0,
           "arrowwidth": 1
          },
          "autotypenumbers": "strict",
          "coloraxis": {
           "colorbar": {
            "outlinewidth": 0,
            "ticks": ""
           }
          },
          "colorscale": {
           "diverging": [
            [
             0,
             "#8e0152"
            ],
            [
             0.1,
             "#c51b7d"
            ],
            [
             0.2,
             "#de77ae"
            ],
            [
             0.3,
             "#f1b6da"
            ],
            [
             0.4,
             "#fde0ef"
            ],
            [
             0.5,
             "#f7f7f7"
            ],
            [
             0.6,
             "#e6f5d0"
            ],
            [
             0.7,
             "#b8e186"
            ],
            [
             0.8,
             "#7fbc41"
            ],
            [
             0.9,
             "#4d9221"
            ],
            [
             1,
             "#276419"
            ]
           ],
           "sequential": [
            [
             0,
             "#0d0887"
            ],
            [
             0.1111111111111111,
             "#46039f"
            ],
            [
             0.2222222222222222,
             "#7201a8"
            ],
            [
             0.3333333333333333,
             "#9c179e"
            ],
            [
             0.4444444444444444,
             "#bd3786"
            ],
            [
             0.5555555555555556,
             "#d8576b"
            ],
            [
             0.6666666666666666,
             "#ed7953"
            ],
            [
             0.7777777777777778,
             "#fb9f3a"
            ],
            [
             0.8888888888888888,
             "#fdca26"
            ],
            [
             1,
             "#f0f921"
            ]
           ],
           "sequentialminus": [
            [
             0,
             "#0d0887"
            ],
            [
             0.1111111111111111,
             "#46039f"
            ],
            [
             0.2222222222222222,
             "#7201a8"
            ],
            [
             0.3333333333333333,
             "#9c179e"
            ],
            [
             0.4444444444444444,
             "#bd3786"
            ],
            [
             0.5555555555555556,
             "#d8576b"
            ],
            [
             0.6666666666666666,
             "#ed7953"
            ],
            [
             0.7777777777777778,
             "#fb9f3a"
            ],
            [
             0.8888888888888888,
             "#fdca26"
            ],
            [
             1,
             "#f0f921"
            ]
           ]
          },
          "colorway": [
           "#636efa",
           "#EF553B",
           "#00cc96",
           "#ab63fa",
           "#FFA15A",
           "#19d3f3",
           "#FF6692",
           "#B6E880",
           "#FF97FF",
           "#FECB52"
          ],
          "font": {
           "color": "#2a3f5f"
          },
          "geo": {
           "bgcolor": "white",
           "lakecolor": "white",
           "landcolor": "#E5ECF6",
           "showlakes": true,
           "showland": true,
           "subunitcolor": "white"
          },
          "hoverlabel": {
           "align": "left"
          },
          "hovermode": "closest",
          "mapbox": {
           "style": "light"
          },
          "paper_bgcolor": "white",
          "plot_bgcolor": "#E5ECF6",
          "polar": {
           "angularaxis": {
            "gridcolor": "white",
            "linecolor": "white",
            "ticks": ""
           },
           "bgcolor": "#E5ECF6",
           "radialaxis": {
            "gridcolor": "white",
            "linecolor": "white",
            "ticks": ""
           }
          },
          "scene": {
           "xaxis": {
            "backgroundcolor": "#E5ECF6",
            "gridcolor": "white",
            "gridwidth": 2,
            "linecolor": "white",
            "showbackground": true,
            "ticks": "",
            "zerolinecolor": "white"
           },
           "yaxis": {
            "backgroundcolor": "#E5ECF6",
            "gridcolor": "white",
            "gridwidth": 2,
            "linecolor": "white",
            "showbackground": true,
            "ticks": "",
            "zerolinecolor": "white"
           },
           "zaxis": {
            "backgroundcolor": "#E5ECF6",
            "gridcolor": "white",
            "gridwidth": 2,
            "linecolor": "white",
            "showbackground": true,
            "ticks": "",
            "zerolinecolor": "white"
           }
          },
          "shapedefaults": {
           "line": {
            "color": "#2a3f5f"
           }
          },
          "ternary": {
           "aaxis": {
            "gridcolor": "white",
            "linecolor": "white",
            "ticks": ""
           },
           "baxis": {
            "gridcolor": "white",
            "linecolor": "white",
            "ticks": ""
           },
           "bgcolor": "#E5ECF6",
           "caxis": {
            "gridcolor": "white",
            "linecolor": "white",
            "ticks": ""
           }
          },
          "title": {
           "x": 0.05
          },
          "xaxis": {
           "automargin": true,
           "gridcolor": "white",
           "linecolor": "white",
           "ticks": "",
           "title": {
            "standoff": 15
           },
           "zerolinecolor": "white",
           "zerolinewidth": 2
          },
          "yaxis": {
           "automargin": true,
           "gridcolor": "white",
           "linecolor": "white",
           "ticks": "",
           "title": {
            "standoff": 15
           },
           "zerolinecolor": "white",
           "zerolinewidth": 2
          }
         }
        },
        "title": {
         "text": "Number of Unique Zones for Pickup vs Drop-off"
        },
        "xaxis": {
         "anchor": "y",
         "domain": [
          0,
          1
         ],
         "title": {
          "text": "Zone Type"
         }
        },
        "yaxis": {
         "anchor": "x",
         "domain": [
          0,
          1
         ],
         "title": {
          "text": "Unique Count"
         }
        }
       }
      }
     },
     "metadata": {},
     "output_type": "display_data"
    },
    {
     "name": "stdout",
     "output_type": "stream",
     "text": [
      "Total unique pickup zones: 2970\n",
      "Total unique drop-off zones: 2969\n",
      "Zones that appear in both pickup and drop-off: 55\n"
     ]
    }
   ],
   "source": [
    "# Create visualizations for zone analysis\n",
    "\n",
    "# 1. Top pickup zones\n",
    "pickup_counts = df['pickup_hex_id9'].value_counts().head(20)\n",
    "fig1 = px.bar(\n",
    "    x=pickup_counts.index,\n",
    "    y=pickup_counts.values,\n",
    "    title=\"Top 20 Pickup Zones (by Hex ID)\",\n",
    "    labels={'x': 'Hex ID', 'y': 'Number of Pickups'}\n",
    ")\n",
    "fig1.update_layout(xaxis_tickangle=45)\n",
    "fig1.show()\n",
    "\n",
    "# 2. Top drop-off zones\n",
    "dropoff_counts = df['drop_hex_id9'].value_counts().head(20)\n",
    "fig2 = px.bar(\n",
    "    x=dropoff_counts.index,\n",
    "    y=dropoff_counts.values,\n",
    "    title=\"Top 20 Drop-off Zones (by Hex ID)\",\n",
    "    labels={'x': 'Hex ID', 'y': 'Number of Drop-offs'}\n",
    ")\n",
    "fig2.update_layout(xaxis_tickangle=45)\n",
    "fig2.show()\n",
    "\n",
    "# 3. Distribution of unique zones\n",
    "zone_stats = pd.DataFrame({\n",
    "    'Zone Type': ['Pickup Zones', 'Drop-off Zones'],\n",
    "    'Unique Count': [df['pickup_hex_id9'].nunique(), df['drop_hex_id9'].nunique()]\n",
    "})\n",
    "\n",
    "fig3 = px.bar(zone_stats, x='Zone Type', y='Unique Count', \n",
    "              title='Number of Unique Zones for Pickup vs Drop-off')\n",
    "fig3.show()\n",
    "\n",
    "print(f\"Total unique pickup zones: {df['pickup_hex_id9'].nunique()}\")\n",
    "print(f\"Total unique drop-off zones: {df['drop_hex_id9'].nunique()}\")\n",
    "print(f\"Zones that appear in both pickup and drop-off: {len(set(df['pickup_hex_id9']).intersection(set(df['drop_hex_id9'])))}\")"
   ]
  },
  {
   "cell_type": "code",
   "execution_count": 3,
   "id": "8b570caf",
   "metadata": {},
   "outputs": [
    {
     "name": "stderr",
     "output_type": "stream",
     "text": [
      "/tmp/ipykernel_14447/1415389544.py:7: DeprecationWarning:\n",
      "\n",
      "*scatter_mapbox* is deprecated! Use *scatter_map* instead. Learn more at: https://plotly.com/python/mapbox-to-maplibre/\n",
      "\n"
     ]
    },
    {
     "data": {
      "application/vnd.plotly.v1+json": {
       "config": {
        "plotlyServerURL": "https://plot.ly"
       },
       "data": [
        {
         "hovertemplate": "pickup_lat=%{lat}<br>pickup_lon=%{lon}<extra></extra>",
         "lat": {
          "bdata": "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",
          "dtype": "f8"
         },
         "legendgroup": "",
         "lon": {
          "bdata": "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",
          "dtype": "f8"
         },
         "marker": {
          "color": "#636efa"
         },
         "mode": "markers",
         "name": "",
         "showlegend": false,
         "subplot": "mapbox",
         "type": "scattermapbox"
        }
       ],
       "layout": {
        "height": 600,
        "legend": {
         "tracegroupgap": 0
        },
        "mapbox": {
         "center": {
          "lat": 51.985924929999996,
          "lon": 4.86167664
         },
         "domain": {
          "x": [
           0,
           1
          ],
          "y": [
           0,
           1
          ]
         },
         "style": "open-street-map",
         "zoom": 10
        },
        "template": {
         "data": {
          "bar": [
           {
            "error_x": {
             "color": "#2a3f5f"
            },
            "error_y": {
             "color": "#2a3f5f"
            },
            "marker": {
             "line": {
              "color": "#E5ECF6",
              "width": 0.5
             },
             "pattern": {
              "fillmode": "overlay",
              "size": 10,
              "solidity": 0.2
             }
            },
            "type": "bar"
           }
          ],
          "barpolar": [
           {
            "marker": {
             "line": {
              "color": "#E5ECF6",
              "width": 0.5
             },
             "pattern": {
              "fillmode": "overlay",
              "size": 10,
              "solidity": 0.2
             }
            },
            "type": "barpolar"
           }
          ],
          "carpet": [
           {
            "aaxis": {
             "endlinecolor": "#2a3f5f",
             "gridcolor": "white",
             "linecolor": "white",
             "minorgridcolor": "white",
             "startlinecolor": "#2a3f5f"
            },
            "baxis": {
             "endlinecolor": "#2a3f5f",
             "gridcolor": "white",
             "linecolor": "white",
             "minorgridcolor": "white",
             "startlinecolor": "#2a3f5f"
            },
            "type": "carpet"
           }
          ],
          "choropleth": [
           {
            "colorbar": {
             "outlinewidth": 0,
             "ticks": ""
            },
            "type": "choropleth"
           }
          ],
          "contour": [
           {
            "colorbar": {
             "outlinewidth": 0,
             "ticks": ""
            },
            "colorscale": [
             [
              0,
              "#0d0887"
             ],
             [
              0.1111111111111111,
              "#46039f"
             ],
             [
              0.2222222222222222,
              "#7201a8"
             ],
             [
              0.3333333333333333,
              "#9c179e"
             ],
             [
              0.4444444444444444,
              "#bd3786"
             ],
             [
              0.5555555555555556,
              "#d8576b"
             ],
             [
              0.6666666666666666,
              "#ed7953"
             ],
             [
              0.7777777777777778,
              "#fb9f3a"
             ],
             [
              0.8888888888888888,
              "#fdca26"
             ],
             [
              1,
              "#f0f921"
             ]
            ],
            "type": "contour"
           }
          ],
          "contourcarpet": [
           {
            "colorbar": {
             "outlinewidth": 0,
             "ticks": ""
            },
            "type": "contourcarpet"
           }
          ],
          "heatmap": [
           {
            "colorbar": {
             "outlinewidth": 0,
             "ticks": ""
            },
            "colorscale": [
             [
              0,
              "#0d0887"
             ],
             [
              0.1111111111111111,
              "#46039f"
             ],
             [
              0.2222222222222222,
              "#7201a8"
             ],
             [
              0.3333333333333333,
              "#9c179e"
             ],
             [
              0.4444444444444444,
              "#bd3786"
             ],
             [
              0.5555555555555556,
              "#d8576b"
             ],
             [
              0.6666666666666666,
              "#ed7953"
             ],
             [
              0.7777777777777778,
              "#fb9f3a"
             ],
             [
              0.8888888888888888,
              "#fdca26"
             ],
             [
              1,
              "#f0f921"
             ]
            ],
            "type": "heatmap"
           }
          ],
          "histogram": [
           {
            "marker": {
             "pattern": {
              "fillmode": "overlay",
              "size": 10,
              "solidity": 0.2
             }
            },
            "type": "histogram"
           }
          ],
          "histogram2d": [
           {
            "colorbar": {
             "outlinewidth": 0,
             "ticks": ""
            },
            "colorscale": [
             [
              0,
              "#0d0887"
             ],
             [
              0.1111111111111111,
              "#46039f"
             ],
             [
              0.2222222222222222,
              "#7201a8"
             ],
             [
              0.3333333333333333,
              "#9c179e"
             ],
             [
              0.4444444444444444,
              "#bd3786"
             ],
             [
              0.5555555555555556,
              "#d8576b"
             ],
             [
              0.6666666666666666,
              "#ed7953"
             ],
             [
              0.7777777777777778,
              "#fb9f3a"
             ],
             [
              0.8888888888888888,
              "#fdca26"
             ],
             [
              1,
              "#f0f921"
             ]
            ],
            "type": "histogram2d"
           }
          ],
          "histogram2dcontour": [
           {
            "colorbar": {
             "outlinewidth": 0,
             "ticks": ""
            },
            "colorscale": [
             [
              0,
              "#0d0887"
             ],
             [
              0.1111111111111111,
              "#46039f"
             ],
             [
              0.2222222222222222,
              "#7201a8"
             ],
             [
              0.3333333333333333,
              "#9c179e"
             ],
             [
              0.4444444444444444,
              "#bd3786"
             ],
             [
              0.5555555555555556,
              "#d8576b"
             ],
             [
              0.6666666666666666,
              "#ed7953"
             ],
             [
              0.7777777777777778,
              "#fb9f3a"
             ],
             [
              0.8888888888888888,
              "#fdca26"
             ],
             [
              1,
              "#f0f921"
             ]
            ],
            "type": "histogram2dcontour"
           }
          ],
          "mesh3d": [
           {
            "colorbar": {
             "outlinewidth": 0,
             "ticks": ""
            },
            "type": "mesh3d"
           }
          ],
          "parcoords": [
           {
            "line": {
             "colorbar": {
              "outlinewidth": 0,
              "ticks": ""
             }
            },
            "type": "parcoords"
           }
          ],
          "pie": [
           {
            "automargin": true,
            "type": "pie"
           }
          ],
          "scatter": [
           {
            "fillpattern": {
             "fillmode": "overlay",
             "size": 10,
             "solidity": 0.2
            },
            "type": "scatter"
           }
          ],
          "scatter3d": [
           {
            "line": {
             "colorbar": {
              "outlinewidth": 0,
              "ticks": ""
             }
            },
            "marker": {
             "colorbar": {
              "outlinewidth": 0,
              "ticks": ""
             }
            },
            "type": "scatter3d"
           }
          ],
          "scattercarpet": [
           {
            "marker": {
             "colorbar": {
              "outlinewidth": 0,
              "ticks": ""
             }
            },
            "type": "scattercarpet"
           }
          ],
          "scattergeo": [
           {
            "marker": {
             "colorbar": {
              "outlinewidth": 0,
              "ticks": ""
             }
            },
            "type": "scattergeo"
           }
          ],
          "scattergl": [
           {
            "marker": {
             "colorbar": {
              "outlinewidth": 0,
              "ticks": ""
             }
            },
            "type": "scattergl"
           }
          ],
          "scattermap": [
           {
            "marker": {
             "colorbar": {
              "outlinewidth": 0,
              "ticks": ""
             }
            },
            "type": "scattermap"
           }
          ],
          "scattermapbox": [
           {
            "marker": {
             "colorbar": {
              "outlinewidth": 0,
              "ticks": ""
             }
            },
            "type": "scattermapbox"
           }
          ],
          "scatterpolar": [
           {
            "marker": {
             "colorbar": {
              "outlinewidth": 0,
              "ticks": ""
             }
            },
            "type": "scatterpolar"
           }
          ],
          "scatterpolargl": [
           {
            "marker": {
             "colorbar": {
              "outlinewidth": 0,
              "ticks": ""
             }
            },
            "type": "scatterpolargl"
           }
          ],
          "scatterternary": [
           {
            "marker": {
             "colorbar": {
              "outlinewidth": 0,
              "ticks": ""
             }
            },
            "type": "scatterternary"
           }
          ],
          "surface": [
           {
            "colorbar": {
             "outlinewidth": 0,
             "ticks": ""
            },
            "colorscale": [
             [
              0,
              "#0d0887"
             ],
             [
              0.1111111111111111,
              "#46039f"
             ],
             [
              0.2222222222222222,
              "#7201a8"
             ],
             [
              0.3333333333333333,
              "#9c179e"
             ],
             [
              0.4444444444444444,
              "#bd3786"
             ],
             [
              0.5555555555555556,
              "#d8576b"
             ],
             [
              0.6666666666666666,
              "#ed7953"
             ],
             [
              0.7777777777777778,
              "#fb9f3a"
             ],
             [
              0.8888888888888888,
              "#fdca26"
             ],
             [
              1,
              "#f0f921"
             ]
            ],
            "type": "surface"
           }
          ],
          "table": [
           {
            "cells": {
             "fill": {
              "color": "#EBF0F8"
             },
             "line": {
              "color": "white"
             }
            },
            "header": {
             "fill": {
              "color": "#C8D4E3"
             },
             "line": {
              "color": "white"
             }
            },
            "type": "table"
           }
          ]
         },
         "layout": {
          "annotationdefaults": {
           "arrowcolor": "#2a3f5f",
           "arrowhead": 0,
           "arrowwidth": 1
          },
          "autotypenumbers": "strict",
          "coloraxis": {
           "colorbar": {
            "outlinewidth": 0,
            "ticks": ""
           }
          },
          "colorscale": {
           "diverging": [
            [
             0,
             "#8e0152"
            ],
            [
             0.1,
             "#c51b7d"
            ],
            [
             0.2,
             "#de77ae"
            ],
            [
             0.3,
             "#f1b6da"
            ],
            [
             0.4,
             "#fde0ef"
            ],
            [
             0.5,
             "#f7f7f7"
            ],
            [
             0.6,
             "#e6f5d0"
            ],
            [
             0.7,
             "#b8e186"
            ],
            [
             0.8,
             "#7fbc41"
            ],
            [
             0.9,
             "#4d9221"
            ],
            [
             1,
             "#276419"
            ]
           ],
           "sequential": [
            [
             0,
             "#0d0887"
            ],
            [
             0.1111111111111111,
             "#46039f"
            ],
            [
             0.2222222222222222,
             "#7201a8"
            ],
            [
             0.3333333333333333,
             "#9c179e"
            ],
            [
             0.4444444444444444,
             "#bd3786"
            ],
            [
             0.5555555555555556,
             "#d8576b"
            ],
            [
             0.6666666666666666,
             "#ed7953"
            ],
            [
             0.7777777777777778,
             "#fb9f3a"
            ],
            [
             0.8888888888888888,
             "#fdca26"
            ],
            [
             1,
             "#f0f921"
            ]
           ],
           "sequentialminus": [
            [
             0,
             "#0d0887"
            ],
            [
             0.1111111111111111,
             "#46039f"
            ],
            [
             0.2222222222222222,
             "#7201a8"
            ],
            [
             0.3333333333333333,
             "#9c179e"
            ],
            [
             0.4444444444444444,
             "#bd3786"
            ],
            [
             0.5555555555555556,
             "#d8576b"
            ],
            [
             0.6666666666666666,
             "#ed7953"
            ],
            [
             0.7777777777777778,
             "#fb9f3a"
            ],
            [
             0.8888888888888888,
             "#fdca26"
            ],
            [
             1,
             "#f0f921"
            ]
           ]
          },
          "colorway": [
           "#636efa",
           "#EF553B",
           "#00cc96",
           "#ab63fa",
           "#FFA15A",
           "#19d3f3",
           "#FF6692",
           "#B6E880",
           "#FF97FF",
           "#FECB52"
          ],
          "font": {
           "color": "#2a3f5f"
          },
          "geo": {
           "bgcolor": "white",
           "lakecolor": "white",
           "landcolor": "#E5ECF6",
           "showlakes": true,
           "showland": true,
           "subunitcolor": "white"
          },
          "hoverlabel": {
           "align": "left"
          },
          "hovermode": "closest",
          "mapbox": {
           "style": "light"
          },
          "paper_bgcolor": "white",
          "plot_bgcolor": "#E5ECF6",
          "polar": {
           "angularaxis": {
            "gridcolor": "white",
            "linecolor": "white",
            "ticks": ""
           },
           "bgcolor": "#E5ECF6",
           "radialaxis": {
            "gridcolor": "white",
            "linecolor": "white",
            "ticks": ""
           }
          },
          "scene": {
           "xaxis": {
            "backgroundcolor": "#E5ECF6",
            "gridcolor": "white",
            "gridwidth": 2,
            "linecolor": "white",
            "showbackground": true,
            "ticks": "",
            "zerolinecolor": "white"
           },
           "yaxis": {
            "backgroundcolor": "#E5ECF6",
            "gridcolor": "white",
            "gridwidth": 2,
            "linecolor": "white",
            "showbackground": true,
            "ticks": "",
            "zerolinecolor": "white"
           },
           "zaxis": {
            "backgroundcolor": "#E5ECF6",
            "gridcolor": "white",
            "gridwidth": 2,
            "linecolor": "white",
            "showbackground": true,
            "ticks": "",
            "zerolinecolor": "white"
           }
          },
          "shapedefaults": {
           "line": {
            "color": "#2a3f5f"
           }
          },
          "ternary": {
           "aaxis": {
            "gridcolor": "white",
            "linecolor": "white",
            "ticks": ""
           },
           "baxis": {
            "gridcolor": "white",
            "linecolor": "white",
            "ticks": ""
           },
           "bgcolor": "#E5ECF6",
           "caxis": {
            "gridcolor": "white",
            "linecolor": "white",
            "ticks": ""
           }
          },
          "title": {
           "x": 0.05
          },
          "xaxis": {
           "automargin": true,
           "gridcolor": "white",
           "linecolor": "white",
           "ticks": "",
           "title": {
            "standoff": 15
           },
           "zerolinecolor": "white",
           "zerolinewidth": 2
          },
          "yaxis": {
           "automargin": true,
           "gridcolor": "white",
           "linecolor": "white",
           "ticks": "",
           "title": {
            "standoff": 15
           },
           "zerolinecolor": "white",
           "zerolinewidth": 2
          }
         }
        },
        "title": {
         "text": "Pickup Locations (Sample of 1000 rides)"
        }
       }
      }
     },
     "metadata": {},
     "output_type": "display_data"
    },
    {
     "name": "stderr",
     "output_type": "stream",
     "text": [
      "/tmp/ipykernel_14447/1415389544.py:19: DeprecationWarning:\n",
      "\n",
      "*density_mapbox* is deprecated! Use *density_map* instead. Learn more at: https://plotly.com/python/mapbox-to-maplibre/\n",
      "\n"
     ]
    },
    {
     "data": {
      "application/vnd.plotly.v1+json": {
       "config": {
        "plotlyServerURL": "https://plot.ly"
       },
       "data": [
        {
         "coloraxis": "coloraxis",
         "hovertemplate": "pickup_lat=%{lat}<br>pickup_lon=%{lon}<extra></extra>",
         "lat": {
          "bdata": "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",
          "dtype": "f8"
         },
         "lon": {
          "bdata": "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",
          "dtype": "f8"
         },
         "name": "",
         "radius": 10,
         "subplot": "mapbox",
         "type": "densitymapbox"
        }
       ],
       "layout": {
        "coloraxis": {
         "colorscale": [
          [
           0,
           "#0d0887"
          ],
          [
           0.1111111111111111,
           "#46039f"
          ],
          [
           0.2222222222222222,
           "#7201a8"
          ],
          [
           0.3333333333333333,
           "#9c179e"
          ],
          [
           0.4444444444444444,
           "#bd3786"
          ],
          [
           0.5555555555555556,
           "#d8576b"
          ],
          [
           0.6666666666666666,
           "#ed7953"
          ],
          [
           0.7777777777777778,
           "#fb9f3a"
          ],
          [
           0.8888888888888888,
           "#fdca26"
          ],
          [
           1,
           "#f0f921"
          ]
         ]
        },
        "height": 600,
        "legend": {
         "tracegroupgap": 0
        },
        "mapbox": {
         "center": {
          "lat": 51.985924929999996,
          "lon": 4.86167664
         },
         "domain": {
          "x": [
           0,
           1
          ],
          "y": [
           0,
           1
          ]
         },
         "style": "open-street-map",
         "zoom": 10
        },
        "template": {
         "data": {
          "bar": [
           {
            "error_x": {
             "color": "#2a3f5f"
            },
            "error_y": {
             "color": "#2a3f5f"
            },
            "marker": {
             "line": {
              "color": "#E5ECF6",
              "width": 0.5
             },
             "pattern": {
              "fillmode": "overlay",
              "size": 10,
              "solidity": 0.2
             }
            },
            "type": "bar"
           }
          ],
          "barpolar": [
           {
            "marker": {
             "line": {
              "color": "#E5ECF6",
              "width": 0.5
             },
             "pattern": {
              "fillmode": "overlay",
              "size": 10,
              "solidity": 0.2
             }
            },
            "type": "barpolar"
           }
          ],
          "carpet": [
           {
            "aaxis": {
             "endlinecolor": "#2a3f5f",
             "gridcolor": "white",
             "linecolor": "white",
             "minorgridcolor": "white",
             "startlinecolor": "#2a3f5f"
            },
            "baxis": {
             "endlinecolor": "#2a3f5f",
             "gridcolor": "white",
             "linecolor": "white",
             "minorgridcolor": "white",
             "startlinecolor": "#2a3f5f"
            },
            "type": "carpet"
           }
          ],
          "choropleth": [
           {
            "colorbar": {
             "outlinewidth": 0,
             "ticks": ""
            },
            "type": "choropleth"
           }
          ],
          "contour": [
           {
            "colorbar": {
             "outlinewidth": 0,
             "ticks": ""
            },
            "colorscale": [
             [
              0,
              "#0d0887"
             ],
             [
              0.1111111111111111,
              "#46039f"
             ],
             [
              0.2222222222222222,
              "#7201a8"
             ],
             [
              0.3333333333333333,
              "#9c179e"
             ],
             [
              0.4444444444444444,
              "#bd3786"
             ],
             [
              0.5555555555555556,
              "#d8576b"
             ],
             [
              0.6666666666666666,
              "#ed7953"
             ],
             [
              0.7777777777777778,
              "#fb9f3a"
             ],
             [
              0.8888888888888888,
              "#fdca26"
             ],
             [
              1,
              "#f0f921"
             ]
            ],
            "type": "contour"
           }
          ],
          "contourcarpet": [
           {
            "colorbar": {
             "outlinewidth": 0,
             "ticks": ""
            },
            "type": "contourcarpet"
           }
          ],
          "heatmap": [
           {
            "colorbar": {
             "outlinewidth": 0,
             "ticks": ""
            },
            "colorscale": [
             [
              0,
              "#0d0887"
             ],
             [
              0.1111111111111111,
              "#46039f"
             ],
             [
              0.2222222222222222,
              "#7201a8"
             ],
             [
              0.3333333333333333,
              "#9c179e"
             ],
             [
              0.4444444444444444,
              "#bd3786"
             ],
             [
              0.5555555555555556,
              "#d8576b"
             ],
             [
              0.6666666666666666,
              "#ed7953"
             ],
             [
              0.7777777777777778,
              "#fb9f3a"
             ],
             [
              0.8888888888888888,
              "#fdca26"
             ],
             [
              1,
              "#f0f921"
             ]
            ],
            "type": "heatmap"
           }
          ],
          "histogram": [
           {
            "marker": {
             "pattern": {
              "fillmode": "overlay",
              "size": 10,
              "solidity": 0.2
             }
            },
            "type": "histogram"
           }
          ],
          "histogram2d": [
           {
            "colorbar": {
             "outlinewidth": 0,
             "ticks": ""
            },
            "colorscale": [
             [
              0,
              "#0d0887"
             ],
             [
              0.1111111111111111,
              "#46039f"
             ],
             [
              0.2222222222222222,
              "#7201a8"
             ],
             [
              0.3333333333333333,
              "#9c179e"
             ],
             [
              0.4444444444444444,
              "#bd3786"
             ],
             [
              0.5555555555555556,
              "#d8576b"
             ],
             [
              0.6666666666666666,
              "#ed7953"
             ],
             [
              0.7777777777777778,
              "#fb9f3a"
             ],
             [
              0.8888888888888888,
              "#fdca26"
             ],
             [
              1,
              "#f0f921"
             ]
            ],
            "type": "histogram2d"
           }
          ],
          "histogram2dcontour": [
           {
            "colorbar": {
             "outlinewidth": 0,
             "ticks": ""
            },
            "colorscale": [
             [
              0,
              "#0d0887"
             ],
             [
              0.1111111111111111,
              "#46039f"
             ],
             [
              0.2222222222222222,
              "#7201a8"
             ],
             [
              0.3333333333333333,
              "#9c179e"
             ],
             [
              0.4444444444444444,
              "#bd3786"
             ],
             [
              0.5555555555555556,
              "#d8576b"
             ],
             [
              0.6666666666666666,
              "#ed7953"
             ],
             [
              0.7777777777777778,
              "#fb9f3a"
             ],
             [
              0.8888888888888888,
              "#fdca26"
             ],
             [
              1,
              "#f0f921"
             ]
            ],
            "type": "histogram2dcontour"
           }
          ],
          "mesh3d": [
           {
            "colorbar": {
             "outlinewidth": 0,
             "ticks": ""
            },
            "type": "mesh3d"
           }
          ],
          "parcoords": [
           {
            "line": {
             "colorbar": {
              "outlinewidth": 0,
              "ticks": ""
             }
            },
            "type": "parcoords"
           }
          ],
          "pie": [
           {
            "automargin": true,
            "type": "pie"
           }
          ],
          "scatter": [
           {
            "fillpattern": {
             "fillmode": "overlay",
             "size": 10,
             "solidity": 0.2
            },
            "type": "scatter"
           }
          ],
          "scatter3d": [
           {
            "line": {
             "colorbar": {
              "outlinewidth": 0,
              "ticks": ""
             }
            },
            "marker": {
             "colorbar": {
              "outlinewidth": 0,
              "ticks": ""
             }
            },
            "type": "scatter3d"
           }
          ],
          "scattercarpet": [
           {
            "marker": {
             "colorbar": {
              "outlinewidth": 0,
              "ticks": ""
             }
            },
            "type": "scattercarpet"
           }
          ],
          "scattergeo": [
           {
            "marker": {
             "colorbar": {
              "outlinewidth": 0,
              "ticks": ""
             }
            },
            "type": "scattergeo"
           }
          ],
          "scattergl": [
           {
            "marker": {
             "colorbar": {
              "outlinewidth": 0,
              "ticks": ""
             }
            },
            "type": "scattergl"
           }
          ],
          "scattermap": [
           {
            "marker": {
             "colorbar": {
              "outlinewidth": 0,
              "ticks": ""
             }
            },
            "type": "scattermap"
           }
          ],
          "scattermapbox": [
           {
            "marker": {
             "colorbar": {
              "outlinewidth": 0,
              "ticks": ""
             }
            },
            "type": "scattermapbox"
           }
          ],
          "scatterpolar": [
           {
            "marker": {
             "colorbar": {
              "outlinewidth": 0,
              "ticks": ""
             }
            },
            "type": "scatterpolar"
           }
          ],
          "scatterpolargl": [
           {
            "marker": {
             "colorbar": {
              "outlinewidth": 0,
              "ticks": ""
             }
            },
            "type": "scatterpolargl"
           }
          ],
          "scatterternary": [
           {
            "marker": {
             "colorbar": {
              "outlinewidth": 0,
              "ticks": ""
             }
            },
            "type": "scatterternary"
           }
          ],
          "surface": [
           {
            "colorbar": {
             "outlinewidth": 0,
             "ticks": ""
            },
            "colorscale": [
             [
              0,
              "#0d0887"
             ],
             [
              0.1111111111111111,
              "#46039f"
             ],
             [
              0.2222222222222222,
              "#7201a8"
             ],
             [
              0.3333333333333333,
              "#9c179e"
             ],
             [
              0.4444444444444444,
              "#bd3786"
             ],
             [
              0.5555555555555556,
              "#d8576b"
             ],
             [
              0.6666666666666666,
              "#ed7953"
             ],
             [
              0.7777777777777778,
              "#fb9f3a"
             ],
             [
              0.8888888888888888,
              "#fdca26"
             ],
             [
              1,
              "#f0f921"
             ]
            ],
            "type": "surface"
           }
          ],
          "table": [
           {
            "cells": {
             "fill": {
              "color": "#EBF0F8"
             },
             "line": {
              "color": "white"
             }
            },
            "header": {
             "fill": {
              "color": "#C8D4E3"
             },
             "line": {
              "color": "white"
             }
            },
            "type": "table"
           }
          ]
         },
         "layout": {
          "annotationdefaults": {
           "arrowcolor": "#2a3f5f",
           "arrowhead": 0,
           "arrowwidth": 1
          },
          "autotypenumbers": "strict",
          "coloraxis": {
           "colorbar": {
            "outlinewidth": 0,
            "ticks": ""
           }
          },
          "colorscale": {
           "diverging": [
            [
             0,
             "#8e0152"
            ],
            [
             0.1,
             "#c51b7d"
            ],
            [
             0.2,
             "#de77ae"
            ],
            [
             0.3,
             "#f1b6da"
            ],
            [
             0.4,
             "#fde0ef"
            ],
            [
             0.5,
             "#f7f7f7"
            ],
            [
             0.6,
             "#e6f5d0"
            ],
            [
             0.7,
             "#b8e186"
            ],
            [
             0.8,
             "#7fbc41"
            ],
            [
             0.9,
             "#4d9221"
            ],
            [
             1,
             "#276419"
            ]
           ],
           "sequential": [
            [
             0,
             "#0d0887"
            ],
            [
             0.1111111111111111,
             "#46039f"
            ],
            [
             0.2222222222222222,
             "#7201a8"
            ],
            [
             0.3333333333333333,
             "#9c179e"
            ],
            [
             0.4444444444444444,
             "#bd3786"
            ],
            [
             0.5555555555555556,
             "#d8576b"
            ],
            [
             0.6666666666666666,
             "#ed7953"
            ],
            [
             0.7777777777777778,
             "#fb9f3a"
            ],
            [
             0.8888888888888888,
             "#fdca26"
            ],
            [
             1,
             "#f0f921"
            ]
           ],
           "sequentialminus": [
            [
             0,
             "#0d0887"
            ],
            [
             0.1111111111111111,
             "#46039f"
            ],
            [
             0.2222222222222222,
             "#7201a8"
            ],
            [
             0.3333333333333333,
             "#9c179e"
            ],
            [
             0.4444444444444444,
             "#bd3786"
            ],
            [
             0.5555555555555556,
             "#d8576b"
            ],
            [
             0.6666666666666666,
             "#ed7953"
            ],
            [
             0.7777777777777778,
             "#fb9f3a"
            ],
            [
             0.8888888888888888,
             "#fdca26"
            ],
            [
             1,
             "#f0f921"
            ]
           ]
          },
          "colorway": [
           "#636efa",
           "#EF553B",
           "#00cc96",
           "#ab63fa",
           "#FFA15A",
           "#19d3f3",
           "#FF6692",
           "#B6E880",
           "#FF97FF",
           "#FECB52"
          ],
          "font": {
           "color": "#2a3f5f"
          },
          "geo": {
           "bgcolor": "white",
           "lakecolor": "white",
           "landcolor": "#E5ECF6",
           "showlakes": true,
           "showland": true,
           "subunitcolor": "white"
          },
          "hoverlabel": {
           "align": "left"
          },
          "hovermode": "closest",
          "mapbox": {
           "style": "light"
          },
          "paper_bgcolor": "white",
          "plot_bgcolor": "#E5ECF6",
          "polar": {
           "angularaxis": {
            "gridcolor": "white",
            "linecolor": "white",
            "ticks": ""
           },
           "bgcolor": "#E5ECF6",
           "radialaxis": {
            "gridcolor": "white",
            "linecolor": "white",
            "ticks": ""
           }
          },
          "scene": {
           "xaxis": {
            "backgroundcolor": "#E5ECF6",
            "gridcolor": "white",
            "gridwidth": 2,
            "linecolor": "white",
            "showbackground": true,
            "ticks": "",
            "zerolinecolor": "white"
           },
           "yaxis": {
            "backgroundcolor": "#E5ECF6",
            "gridcolor": "white",
            "gridwidth": 2,
            "linecolor": "white",
            "showbackground": true,
            "ticks": "",
            "zerolinecolor": "white"
           },
           "zaxis": {
            "backgroundcolor": "#E5ECF6",
            "gridcolor": "white",
            "gridwidth": 2,
            "linecolor": "white",
            "showbackground": true,
            "ticks": "",
            "zerolinecolor": "white"
           }
          },
          "shapedefaults": {
           "line": {
            "color": "#2a3f5f"
           }
          },
          "ternary": {
           "aaxis": {
            "gridcolor": "white",
            "linecolor": "white",
            "ticks": ""
           },
           "baxis": {
            "gridcolor": "white",
            "linecolor": "white",
            "ticks": ""
           },
           "bgcolor": "#E5ECF6",
           "caxis": {
            "gridcolor": "white",
            "linecolor": "white",
            "ticks": ""
           }
          },
          "title": {
           "x": 0.05
          },
          "xaxis": {
           "automargin": true,
           "gridcolor": "white",
           "linecolor": "white",
           "ticks": "",
           "title": {
            "standoff": 15
           },
           "zerolinecolor": "white",
           "zerolinewidth": 2
          },
          "yaxis": {
           "automargin": true,
           "gridcolor": "white",
           "linecolor": "white",
           "ticks": "",
           "title": {
            "standoff": 15
           },
           "zerolinecolor": "white",
           "zerolinewidth": 2
          }
         }
        },
        "title": {
         "text": "Pickup Density Heat Map (Sample of 1000 rides)"
        }
       }
      }
     },
     "metadata": {},
     "output_type": "display_data"
    },
    {
     "name": "stdout",
     "output_type": "stream",
     "text": [
      "\n",
      "==================================================\n",
      "GEOGRAPHIC ANALYSIS\n",
      "==================================================\n",
      "Pickup coordinates range:\n",
      "  Latitude: 51.403700 to 52.405810\n",
      "  Longitude: 4.243310 to 5.523270\n",
      "\n",
      "Drop-off coordinates range:\n",
      "  Latitude: 51.403730 to 52.405940\n",
      "  Longitude: 4.243270 to 5.523290\n",
      "\n",
      "Top 10 most active zones (pickup + dropoff):\n",
      "                 pickup_count  dropoff_count  total_activity\n",
      "896388666ac90f6           2.0            1.0             3.0\n",
      "89fc6124bcd5982           2.0            1.0             3.0\n",
      "89b231f4d0144bb           2.0            0.0             2.0\n",
      "89e00a119f1b4bc           1.0            1.0             2.0\n",
      "89e5f9c7a165d87           1.0            1.0             2.0\n",
      "89c14c893200a0f           0.0            2.0             2.0\n",
      "893c5224fd80533           1.0            1.0             2.0\n",
      "898733b7c5d91f8           1.0            1.0             2.0\n",
      "89dc4d68524aecd           1.0            1.0             2.0\n",
      "89b1a3fa59e6db2           1.0            1.0             2.0\n"
     ]
    }
   ],
   "source": [
    "# Geographic analysis of zones\n",
    "\n",
    "# 4. Scatter plot of pickup and drop-off locations\n",
    "sample_size = min(1000, len(df))  # Use a sample for better performance\n",
    "df_sample = df.sample(n=sample_size, random_state=42)\n",
    "\n",
    "fig4 = px.scatter_mapbox(\n",
    "    df_sample,\n",
    "    lat=\"pickup_lat\",\n",
    "    lon=\"pickup_lon\",\n",
    "    title=f\"Pickup Locations (Sample of {sample_size} rides)\",\n",
    "    zoom=10,\n",
    "    height=600,\n",
    "    mapbox_style=\"open-street-map\"\n",
    ")\n",
    "fig4.show()\n",
    "\n",
    "# 5. Heat map style scatter plot\n",
    "fig5 = px.density_mapbox(\n",
    "    df_sample,\n",
    "    lat=\"pickup_lat\",\n",
    "    lon=\"pickup_lon\",\n",
    "    radius=10,\n",
    "    title=f\"Pickup Density Heat Map (Sample of {sample_size} rides)\",\n",
    "    zoom=10,\n",
    "    height=600,\n",
    "    mapbox_style=\"open-street-map\"\n",
    ")\n",
    "fig5.show()\n",
    "\n",
    "# 6. Analysis of zone coverage\n",
    "print(\"\\n\" + \"=\"*50)\n",
    "print(\"GEOGRAPHIC ANALYSIS\")\n",
    "print(\"=\"*50)\n",
    "print(f\"Pickup coordinates range:\")\n",
    "print(f\"  Latitude: {df['pickup_lat'].min():.6f} to {df['pickup_lat'].max():.6f}\")\n",
    "print(f\"  Longitude: {df['pickup_lon'].min():.6f} to {df['pickup_lon'].max():.6f}\")\n",
    "print(f\"\\nDrop-off coordinates range:\")\n",
    "print(f\"  Latitude: {df['drop_lat'].min():.6f} to {df['drop_lat'].max():.6f}\")\n",
    "print(f\"  Longitude: {df['drop_lon'].min():.6f} to {df['drop_lon'].max():.6f}\")\n",
    "\n",
    "# 7. Most active zones (combining pickup and dropoff)\n",
    "all_zones = pd.concat([\n",
    "    df['pickup_hex_id9'].value_counts().rename('pickup_count'),\n",
    "    df['drop_hex_id9'].value_counts().rename('dropoff_count')\n",
    "], axis=1).fillna(0)\n",
    "\n",
    "all_zones['total_activity'] = all_zones['pickup_count'] + all_zones['dropoff_count']\n",
    "most_active = all_zones.sort_values('total_activity', ascending=False).head(10)\n",
    "\n",
    "print(f\"\\nTop 10 most active zones (pickup + dropoff):\")\n",
    "print(most_active)"
   ]
  },
  {
   "cell_type": "code",
   "execution_count": 4,
   "id": "a2dfaf6c",
   "metadata": {},
   "outputs": [
    {
     "name": "stdout",
     "output_type": "stream",
     "text": [
      "============================================================\n",
      "COORDINATE ANALYSIS AND GROUPING STRATEGIES\n",
      "============================================================\n",
      "Coordinate Data Overview:\n",
      "Pickup coordinates:\n",
      "  Latitude range: 51.403700 to 52.405810\n",
      "  Longitude range: 4.243310 to 5.523270\n",
      "  Latitude span: 1.002110 degrees\n",
      "  Longitude span: 1.279960 degrees\n",
      "\n",
      "Drop-off coordinates:\n",
      "  Latitude range: 51.403730 to 52.405940\n",
      "  Longitude range: 4.243270 to 5.523290\n",
      "  Latitude span: 1.002210 degrees\n",
      "  Longitude span: 1.280020 degrees\n",
      "\n",
      "Method 1: Grid-based grouping (grid size: 0.01 degrees)\n",
      "Unique pickup grid cells: 84\n",
      "Unique drop-off grid cells: 83\n",
      "\n",
      "Method 2: Rounded coordinates (2 decimal places)\n",
      "Unique pickup rounded locations: 88\n",
      "Unique drop-off rounded locations: 86\n",
      "\n",
      "Method 3: Zone-based grouping (10x10 zones)\n",
      "Unique pickup zones: 10\n",
      "Unique drop-off zones: 10\n",
      "\n",
      "============================================================\n",
      "COMPARISON OF GROUPING METHODS\n",
      "============================================================\n",
      "             Method  Pickup Groups  Dropoff Groups\n",
      "0  Original Hex IDs           2970            2969\n",
      "1      Grid (0.01°)             84              83\n",
      "2   Rounded (2 dec)             88              86\n",
      "3  Geographic Zones             10              10\n"
     ]
    }
   ],
   "source": [
    "# LATITUDE AND LONGITUDE ANALYSIS AND GROUPING\n",
    "print(\"=\"*60)\n",
    "print(\"COORDINATE ANALYSIS AND GROUPING STRATEGIES\")\n",
    "print(\"=\"*60)\n",
    "\n",
    "# First, let's examine the coordinate data\n",
    "print(\"Coordinate Data Overview:\")\n",
    "print(f\"Pickup coordinates:\")\n",
    "print(f\"  Latitude range: {df['pickup_lat'].min():.6f} to {df['pickup_lat'].max():.6f}\")\n",
    "print(f\"  Longitude range: {df['pickup_lon'].min():.6f} to {df['pickup_lon'].max():.6f}\")\n",
    "print(f\"  Latitude span: {df['pickup_lat'].max() - df['pickup_lat'].min():.6f} degrees\")\n",
    "print(f\"  Longitude span: {df['pickup_lon'].max() - df['pickup_lon'].min():.6f} degrees\")\n",
    "\n",
    "print(f\"\\nDrop-off coordinates:\")\n",
    "print(f\"  Latitude range: {df['drop_lat'].min():.6f} to {df['drop_lat'].max():.6f}\")\n",
    "print(f\"  Longitude range: {df['drop_lon'].min():.6f} to {df['drop_lon'].max():.6f}\")\n",
    "print(f\"  Latitude span: {df['drop_lat'].max() - df['drop_lat'].min():.6f} degrees\")\n",
    "print(f\"  Longitude span: {df['drop_lon'].max() - df['drop_lon'].min():.6f} degrees\")\n",
    "\n",
    "# Method 1: Grid-based grouping (divide area into equal grid cells)\n",
    "def create_coordinate_grid(lat, lon, grid_size=0.01):\n",
    "    \"\"\"Group coordinates into grid cells\"\"\"\n",
    "    lat_grid = np.floor(lat / grid_size) * grid_size\n",
    "    lon_grid = np.floor(lon / grid_size) * grid_size\n",
    "    return lat_grid, lon_grid\n",
    "\n",
    "# Apply grid grouping for pickups\n",
    "grid_size = 0.01  # About 1km grid cells\n",
    "df['pickup_lat_grid'], df['pickup_lon_grid'] = create_coordinate_grid(\n",
    "    df['pickup_lat'], df['pickup_lon'], grid_size\n",
    ")\n",
    "df['pickup_grid_id'] = df['pickup_lat_grid'].astype(str) + '_' + df['pickup_lon_grid'].astype(str)\n",
    "\n",
    "# Apply grid grouping for drop-offs\n",
    "df['drop_lat_grid'], df['drop_lon_grid'] = create_coordinate_grid(\n",
    "    df['drop_lat'], df['drop_lon'], grid_size\n",
    ")\n",
    "df['drop_grid_id'] = df['drop_lat_grid'].astype(str) + '_' + df['drop_lon_grid'].astype(str)\n",
    "\n",
    "print(f\"\\nMethod 1: Grid-based grouping (grid size: {grid_size} degrees)\")\n",
    "print(f\"Unique pickup grid cells: {df['pickup_grid_id'].nunique()}\")\n",
    "print(f\"Unique drop-off grid cells: {df['drop_grid_id'].nunique()}\")\n",
    "\n",
    "# Method 2: Rounded coordinates (simpler grouping)\n",
    "def round_coordinates(lat, lon, decimal_places=2):\n",
    "    \"\"\"Round coordinates to specified decimal places\"\"\"\n",
    "    return np.round(lat, decimal_places), np.round(lon, decimal_places)\n",
    "\n",
    "df['pickup_lat_rounded'], df['pickup_lon_rounded'] = round_coordinates(\n",
    "    df['pickup_lat'], df['pickup_lon'], 2\n",
    ")\n",
    "df['pickup_rounded_id'] = df['pickup_lat_rounded'].astype(str) + '_' + df['pickup_lon_rounded'].astype(str)\n",
    "\n",
    "df['drop_lat_rounded'], df['drop_lon_rounded'] = round_coordinates(\n",
    "    df['drop_lat'], df['drop_lon'], 2\n",
    ")\n",
    "df['drop_rounded_id'] = df['drop_lat_rounded'].astype(str) + '_' + df['drop_lon_rounded'].astype(str)\n",
    "\n",
    "print(f\"\\nMethod 2: Rounded coordinates (2 decimal places)\")\n",
    "print(f\"Unique pickup rounded locations: {df['pickup_rounded_id'].nunique()}\")\n",
    "print(f\"Unique drop-off rounded locations: {df['drop_rounded_id'].nunique()}\")\n",
    "\n",
    "# Method 3: Zone-based grouping (divide into geographic regions)\n",
    "def create_geographic_zones(lat, lon, lat_zones=10, lon_zones=10):\n",
    "    \"\"\"Divide coordinates into geographic zones\"\"\"\n",
    "    lat_min, lat_max = lat.min(), lat.max()\n",
    "    lon_min, lon_max = lon.min(), lon.max()\n",
    "    \n",
    "    lat_bins = np.linspace(lat_min, lat_max, lat_zones + 1)\n",
    "    lon_bins = np.linspace(lon_min, lon_max, lon_zones + 1)\n",
    "    \n",
    "    lat_zone = pd.cut(lat, bins=lat_bins, labels=False, include_lowest=True)\n",
    "    lon_zone = pd.cut(lon, bins=lon_bins, labels=False, include_lowest=True)\n",
    "    \n",
    "    return lat_zone, lon_zone\n",
    "\n",
    "# Apply zone grouping\n",
    "lat_zones, lon_zones = 10, 10\n",
    "df['pickup_lat_zone'], df['pickup_lon_zone'] = create_geographic_zones(\n",
    "    df['pickup_lat'], df['pickup_lon'], lat_zones, lon_zones\n",
    ")\n",
    "df['pickup_zone_id'] = df['pickup_lat_zone'].astype(str) + '_' + df['pickup_lon_zone'].astype(str)\n",
    "\n",
    "df['drop_lat_zone'], df['drop_lon_zone'] = create_geographic_zones(\n",
    "    df['drop_lat'], df['drop_lon'], lat_zones, lon_zones\n",
    ")\n",
    "df['drop_zone_id'] = df['drop_lat_zone'].astype(str) + '_' + df['drop_lon_zone'].astype(str)\n",
    "\n",
    "print(f\"\\nMethod 3: Zone-based grouping ({lat_zones}x{lon_zones} zones)\")\n",
    "print(f\"Unique pickup zones: {df['pickup_zone_id'].nunique()}\")\n",
    "print(f\"Unique drop-off zones: {df['drop_zone_id'].nunique()}\")\n",
    "\n",
    "# Display comparison of all methods\n",
    "print(f\"\\n\" + \"=\"*60)\n",
    "print(\"COMPARISON OF GROUPING METHODS\")\n",
    "print(\"=\"*60)\n",
    "comparison_data = {\n",
    "    'Method': ['Original Hex IDs', 'Grid (0.01°)', 'Rounded (2 dec)', 'Geographic Zones'],\n",
    "    'Pickup Groups': [df['pickup_hex_id9'].nunique(), df['pickup_grid_id'].nunique(), \n",
    "                     df['pickup_rounded_id'].nunique(), df['pickup_zone_id'].nunique()],\n",
    "    'Dropoff Groups': [df['drop_hex_id9'].nunique(), df['drop_grid_id'].nunique(),\n",
    "                      df['drop_rounded_id'].nunique(), df['drop_zone_id'].nunique()]\n",
    "}\n",
    "\n",
    "comparison_df = pd.DataFrame(comparison_data)\n",
    "print(comparison_df)"
   ]
  },
  {
   "cell_type": "code",
   "execution_count": 5,
   "id": "ea9c7982",
   "metadata": {},
   "outputs": [
    {
     "name": "stdout",
     "output_type": "stream",
     "text": [
      "Creating visualizations for coordinate groupings...\n"
     ]
    },
    {
     "data": {
      "application/vnd.plotly.v1+json": {
       "config": {
        "plotlyServerURL": "https://plot.ly"
       },
       "data": [
        {
         "hovertemplate": "Grid Cell ID=%{x}<br>Number of Pickups=%{y}<extra></extra>",
         "legendgroup": "",
         "marker": {
          "color": "#636efa",
          "pattern": {
           "shape": ""
          }
         },
         "name": "",
         "orientation": "v",
         "showlegend": false,
         "textposition": "auto",
         "type": "bar",
         "x": [
          "51.4_5.44",
          "52.1_5.13",
          "52.09_5.17",
          "51.4_5.45",
          "51.94_4.51",
          "52.050000000000004_4.32",
          "52.38_4.8500000000000005",
          "52.34_4.84",
          "52.4_4.94",
          "51.89_4.49",
          "52.08_5.16",
          "52.09_4.3",
          "52.04_4.29",
          "51.910000000000004_4.45",
          "52.03_4.33"
         ],
         "xaxis": "x",
         "y": {
          "bdata": "rgCiAGoAXgBdAFwAVgBRAE4ATQBNAEwARQBEAEEA",
          "dtype": "i2"
         },
         "yaxis": "y"
        }
       ],
       "layout": {
        "barmode": "relative",
        "height": 500,
        "legend": {
         "tracegroupgap": 0
        },
        "template": {
         "data": {
          "bar": [
           {
            "error_x": {
             "color": "#2a3f5f"
            },
            "error_y": {
             "color": "#2a3f5f"
            },
            "marker": {
             "line": {
              "color": "#E5ECF6",
              "width": 0.5
             },
             "pattern": {
              "fillmode": "overlay",
              "size": 10,
              "solidity": 0.2
             }
            },
            "type": "bar"
           }
          ],
          "barpolar": [
           {
            "marker": {
             "line": {
              "color": "#E5ECF6",
              "width": 0.5
             },
             "pattern": {
              "fillmode": "overlay",
              "size": 10,
              "solidity": 0.2
             }
            },
            "type": "barpolar"
           }
          ],
          "carpet": [
           {
            "aaxis": {
             "endlinecolor": "#2a3f5f",
             "gridcolor": "white",
             "linecolor": "white",
             "minorgridcolor": "white",
             "startlinecolor": "#2a3f5f"
            },
            "baxis": {
             "endlinecolor": "#2a3f5f",
             "gridcolor": "white",
             "linecolor": "white",
             "minorgridcolor": "white",
             "startlinecolor": "#2a3f5f"
            },
            "type": "carpet"
           }
          ],
          "choropleth": [
           {
            "colorbar": {
             "outlinewidth": 0,
             "ticks": ""
            },
            "type": "choropleth"
           }
          ],
          "contour": [
           {
            "colorbar": {
             "outlinewidth": 0,
             "ticks": ""
            },
            "colorscale": [
             [
              0,
              "#0d0887"
             ],
             [
              0.1111111111111111,
              "#46039f"
             ],
             [
              0.2222222222222222,
              "#7201a8"
             ],
             [
              0.3333333333333333,
              "#9c179e"
             ],
             [
              0.4444444444444444,
              "#bd3786"
             ],
             [
              0.5555555555555556,
              "#d8576b"
             ],
             [
              0.6666666666666666,
              "#ed7953"
             ],
             [
              0.7777777777777778,
              "#fb9f3a"
             ],
             [
              0.8888888888888888,
              "#fdca26"
             ],
             [
              1,
              "#f0f921"
             ]
            ],
            "type": "contour"
           }
          ],
          "contourcarpet": [
           {
            "colorbar": {
             "outlinewidth": 0,
             "ticks": ""
            },
            "type": "contourcarpet"
           }
          ],
          "heatmap": [
           {
            "colorbar": {
             "outlinewidth": 0,
             "ticks": ""
            },
            "colorscale": [
             [
              0,
              "#0d0887"
             ],
             [
              0.1111111111111111,
              "#46039f"
             ],
             [
              0.2222222222222222,
              "#7201a8"
             ],
             [
              0.3333333333333333,
              "#9c179e"
             ],
             [
              0.4444444444444444,
              "#bd3786"
             ],
             [
              0.5555555555555556,
              "#d8576b"
             ],
             [
              0.6666666666666666,
              "#ed7953"
             ],
             [
              0.7777777777777778,
              "#fb9f3a"
             ],
             [
              0.8888888888888888,
              "#fdca26"
             ],
             [
              1,
              "#f0f921"
             ]
            ],
            "type": "heatmap"
           }
          ],
          "histogram": [
           {
            "marker": {
             "pattern": {
              "fillmode": "overlay",
              "size": 10,
              "solidity": 0.2
             }
            },
            "type": "histogram"
           }
          ],
          "histogram2d": [
           {
            "colorbar": {
             "outlinewidth": 0,
             "ticks": ""
            },
            "colorscale": [
             [
              0,
              "#0d0887"
             ],
             [
              0.1111111111111111,
              "#46039f"
             ],
             [
              0.2222222222222222,
              "#7201a8"
             ],
             [
              0.3333333333333333,
              "#9c179e"
             ],
             [
              0.4444444444444444,
              "#bd3786"
             ],
             [
              0.5555555555555556,
              "#d8576b"
             ],
             [
              0.6666666666666666,
              "#ed7953"
             ],
             [
              0.7777777777777778,
              "#fb9f3a"
             ],
             [
              0.8888888888888888,
              "#fdca26"
             ],
             [
              1,
              "#f0f921"
             ]
            ],
            "type": "histogram2d"
           }
          ],
          "histogram2dcontour": [
           {
            "colorbar": {
             "outlinewidth": 0,
             "ticks": ""
            },
            "colorscale": [
             [
              0,
              "#0d0887"
             ],
             [
              0.1111111111111111,
              "#46039f"
             ],
             [
              0.2222222222222222,
              "#7201a8"
             ],
             [
              0.3333333333333333,
              "#9c179e"
             ],
             [
              0.4444444444444444,
              "#bd3786"
             ],
             [
              0.5555555555555556,
              "#d8576b"
             ],
             [
              0.6666666666666666,
              "#ed7953"
             ],
             [
              0.7777777777777778,
              "#fb9f3a"
             ],
             [
              0.8888888888888888,
              "#fdca26"
             ],
             [
              1,
              "#f0f921"
             ]
            ],
            "type": "histogram2dcontour"
           }
          ],
          "mesh3d": [
           {
            "colorbar": {
             "outlinewidth": 0,
             "ticks": ""
            },
            "type": "mesh3d"
           }
          ],
          "parcoords": [
           {
            "line": {
             "colorbar": {
              "outlinewidth": 0,
              "ticks": ""
             }
            },
            "type": "parcoords"
           }
          ],
          "pie": [
           {
            "automargin": true,
            "type": "pie"
           }
          ],
          "scatter": [
           {
            "fillpattern": {
             "fillmode": "overlay",
             "size": 10,
             "solidity": 0.2
            },
            "type": "scatter"
           }
          ],
          "scatter3d": [
           {
            "line": {
             "colorbar": {
              "outlinewidth": 0,
              "ticks": ""
             }
            },
            "marker": {
             "colorbar": {
              "outlinewidth": 0,
              "ticks": ""
             }
            },
            "type": "scatter3d"
           }
          ],
          "scattercarpet": [
           {
            "marker": {
             "colorbar": {
              "outlinewidth": 0,
              "ticks": ""
             }
            },
            "type": "scattercarpet"
           }
          ],
          "scattergeo": [
           {
            "marker": {
             "colorbar": {
              "outlinewidth": 0,
              "ticks": ""
             }
            },
            "type": "scattergeo"
           }
          ],
          "scattergl": [
           {
            "marker": {
             "colorbar": {
              "outlinewidth": 0,
              "ticks": ""
             }
            },
            "type": "scattergl"
           }
          ],
          "scattermap": [
           {
            "marker": {
             "colorbar": {
              "outlinewidth": 0,
              "ticks": ""
             }
            },
            "type": "scattermap"
           }
          ],
          "scattermapbox": [
           {
            "marker": {
             "colorbar": {
              "outlinewidth": 0,
              "ticks": ""
             }
            },
            "type": "scattermapbox"
           }
          ],
          "scatterpolar": [
           {
            "marker": {
             "colorbar": {
              "outlinewidth": 0,
              "ticks": ""
             }
            },
            "type": "scatterpolar"
           }
          ],
          "scatterpolargl": [
           {
            "marker": {
             "colorbar": {
              "outlinewidth": 0,
              "ticks": ""
             }
            },
            "type": "scatterpolargl"
           }
          ],
          "scatterternary": [
           {
            "marker": {
             "colorbar": {
              "outlinewidth": 0,
              "ticks": ""
             }
            },
            "type": "scatterternary"
           }
          ],
          "surface": [
           {
            "colorbar": {
             "outlinewidth": 0,
             "ticks": ""
            },
            "colorscale": [
             [
              0,
              "#0d0887"
             ],
             [
              0.1111111111111111,
              "#46039f"
             ],
             [
              0.2222222222222222,
              "#7201a8"
             ],
             [
              0.3333333333333333,
              "#9c179e"
             ],
             [
              0.4444444444444444,
              "#bd3786"
             ],
             [
              0.5555555555555556,
              "#d8576b"
             ],
             [
              0.6666666666666666,
              "#ed7953"
             ],
             [
              0.7777777777777778,
              "#fb9f3a"
             ],
             [
              0.8888888888888888,
              "#fdca26"
             ],
             [
              1,
              "#f0f921"
             ]
            ],
            "type": "surface"
           }
          ],
          "table": [
           {
            "cells": {
             "fill": {
              "color": "#EBF0F8"
             },
             "line": {
              "color": "white"
             }
            },
            "header": {
             "fill": {
              "color": "#C8D4E3"
             },
             "line": {
              "color": "white"
             }
            },
            "type": "table"
           }
          ]
         },
         "layout": {
          "annotationdefaults": {
           "arrowcolor": "#2a3f5f",
           "arrowhead": 0,
           "arrowwidth": 1
          },
          "autotypenumbers": "strict",
          "coloraxis": {
           "colorbar": {
            "outlinewidth": 0,
            "ticks": ""
           }
          },
          "colorscale": {
           "diverging": [
            [
             0,
             "#8e0152"
            ],
            [
             0.1,
             "#c51b7d"
            ],
            [
             0.2,
             "#de77ae"
            ],
            [
             0.3,
             "#f1b6da"
            ],
            [
             0.4,
             "#fde0ef"
            ],
            [
             0.5,
             "#f7f7f7"
            ],
            [
             0.6,
             "#e6f5d0"
            ],
            [
             0.7,
             "#b8e186"
            ],
            [
             0.8,
             "#7fbc41"
            ],
            [
             0.9,
             "#4d9221"
            ],
            [
             1,
             "#276419"
            ]
           ],
           "sequential": [
            [
             0,
             "#0d0887"
            ],
            [
             0.1111111111111111,
             "#46039f"
            ],
            [
             0.2222222222222222,
             "#7201a8"
            ],
            [
             0.3333333333333333,
             "#9c179e"
            ],
            [
             0.4444444444444444,
             "#bd3786"
            ],
            [
             0.5555555555555556,
             "#d8576b"
            ],
            [
             0.6666666666666666,
             "#ed7953"
            ],
            [
             0.7777777777777778,
             "#fb9f3a"
            ],
            [
             0.8888888888888888,
             "#fdca26"
            ],
            [
             1,
             "#f0f921"
            ]
           ],
           "sequentialminus": [
            [
             0,
             "#0d0887"
            ],
            [
             0.1111111111111111,
             "#46039f"
            ],
            [
             0.2222222222222222,
             "#7201a8"
            ],
            [
             0.3333333333333333,
             "#9c179e"
            ],
            [
             0.4444444444444444,
             "#bd3786"
            ],
            [
             0.5555555555555556,
             "#d8576b"
            ],
            [
             0.6666666666666666,
             "#ed7953"
            ],
            [
             0.7777777777777778,
             "#fb9f3a"
            ],
            [
             0.8888888888888888,
             "#fdca26"
            ],
            [
             1,
             "#f0f921"
            ]
           ]
          },
          "colorway": [
           "#636efa",
           "#EF553B",
           "#00cc96",
           "#ab63fa",
           "#FFA15A",
           "#19d3f3",
           "#FF6692",
           "#B6E880",
           "#FF97FF",
           "#FECB52"
          ],
          "font": {
           "color": "#2a3f5f"
          },
          "geo": {
           "bgcolor": "white",
           "lakecolor": "white",
           "landcolor": "#E5ECF6",
           "showlakes": true,
           "showland": true,
           "subunitcolor": "white"
          },
          "hoverlabel": {
           "align": "left"
          },
          "hovermode": "closest",
          "mapbox": {
           "style": "light"
          },
          "paper_bgcolor": "white",
          "plot_bgcolor": "#E5ECF6",
          "polar": {
           "angularaxis": {
            "gridcolor": "white",
            "linecolor": "white",
            "ticks": ""
           },
           "bgcolor": "#E5ECF6",
           "radialaxis": {
            "gridcolor": "white",
            "linecolor": "white",
            "ticks": ""
           }
          },
          "scene": {
           "xaxis": {
            "backgroundcolor": "#E5ECF6",
            "gridcolor": "white",
            "gridwidth": 2,
            "linecolor": "white",
            "showbackground": true,
            "ticks": "",
            "zerolinecolor": "white"
           },
           "yaxis": {
            "backgroundcolor": "#E5ECF6",
            "gridcolor": "white",
            "gridwidth": 2,
            "linecolor": "white",
            "showbackground": true,
            "ticks": "",
            "zerolinecolor": "white"
           },
           "zaxis": {
            "backgroundcolor": "#E5ECF6",
            "gridcolor": "white",
            "gridwidth": 2,
            "linecolor": "white",
            "showbackground": true,
            "ticks": "",
            "zerolinecolor": "white"
           }
          },
          "shapedefaults": {
           "line": {
            "color": "#2a3f5f"
           }
          },
          "ternary": {
           "aaxis": {
            "gridcolor": "white",
            "linecolor": "white",
            "ticks": ""
           },
           "baxis": {
            "gridcolor": "white",
            "linecolor": "white",
            "ticks": ""
           },
           "bgcolor": "#E5ECF6",
           "caxis": {
            "gridcolor": "white",
            "linecolor": "white",
            "ticks": ""
           }
          },
          "title": {
           "x": 0.05
          },
          "xaxis": {
           "automargin": true,
           "gridcolor": "white",
           "linecolor": "white",
           "ticks": "",
           "title": {
            "standoff": 15
           },
           "zerolinecolor": "white",
           "zerolinewidth": 2
          },
          "yaxis": {
           "automargin": true,
           "gridcolor": "white",
           "linecolor": "white",
           "ticks": "",
           "title": {
            "standoff": 15
           },
           "zerolinecolor": "white",
           "zerolinewidth": 2
          }
         }
        },
        "title": {
         "text": "Top 15 Pickup Grid Cells (0.01° grid)"
        },
        "xaxis": {
         "anchor": "y",
         "domain": [
          0,
          1
         ],
         "tickangle": 45,
         "title": {
          "text": "Grid Cell ID"
         }
        },
        "yaxis": {
         "anchor": "x",
         "domain": [
          0,
          1
         ],
         "title": {
          "text": "Number of Pickups"
         }
        }
       }
      }
     },
     "metadata": {},
     "output_type": "display_data"
    },
    {
     "data": {
      "application/vnd.plotly.v1+json": {
       "config": {
        "plotlyServerURL": "https://plot.ly"
       },
       "data": [
        {
         "coloraxis": "coloraxis",
         "histfunc": "sum",
         "hovertemplate": "Longitude Zone=%{x}<br>Latitude Zone=%{y}<br>sum of count=%{z}<extra></extra>",
         "name": "",
         "type": "histogram2d",
         "x": {
          "bdata": "CQEBAgAGBwYEBQ==",
          "dtype": "i1"
         },
         "xaxis": "x",
         "xbingroup": "x",
         "y": {
          "bdata": "AAQFBQYGBgcJCQ==",
          "dtype": "i1"
         },
         "yaxis": "y",
         "ybingroup": "y",
         "z": {
          "bdata": "LQK6ALwA1wByAt8AywDZANsAbgE=",
          "dtype": "i2"
         }
        }
       ],
       "layout": {
        "coloraxis": {
         "colorbar": {
          "title": {
           "text": "sum of count"
          }
         },
         "colorscale": [
          [
           0,
           "#0d0887"
          ],
          [
           0.1111111111111111,
           "#46039f"
          ],
          [
           0.2222222222222222,
           "#7201a8"
          ],
          [
           0.3333333333333333,
           "#9c179e"
          ],
          [
           0.4444444444444444,
           "#bd3786"
          ],
          [
           0.5555555555555556,
           "#d8576b"
          ],
          [
           0.6666666666666666,
           "#ed7953"
          ],
          [
           0.7777777777777778,
           "#fb9f3a"
          ],
          [
           0.8888888888888888,
           "#fdca26"
          ],
          [
           1,
           "#f0f921"
          ]
         ]
        },
        "legend": {
         "tracegroupgap": 0
        },
        "template": {
         "data": {
          "bar": [
           {
            "error_x": {
             "color": "#2a3f5f"
            },
            "error_y": {
             "color": "#2a3f5f"
            },
            "marker": {
             "line": {
              "color": "#E5ECF6",
              "width": 0.5
             },
             "pattern": {
              "fillmode": "overlay",
              "size": 10,
              "solidity": 0.2
             }
            },
            "type": "bar"
           }
          ],
          "barpolar": [
           {
            "marker": {
             "line": {
              "color": "#E5ECF6",
              "width": 0.5
             },
             "pattern": {
              "fillmode": "overlay",
              "size": 10,
              "solidity": 0.2
             }
            },
            "type": "barpolar"
           }
          ],
          "carpet": [
           {
            "aaxis": {
             "endlinecolor": "#2a3f5f",
             "gridcolor": "white",
             "linecolor": "white",
             "minorgridcolor": "white",
             "startlinecolor": "#2a3f5f"
            },
            "baxis": {
             "endlinecolor": "#2a3f5f",
             "gridcolor": "white",
             "linecolor": "white",
             "minorgridcolor": "white",
             "startlinecolor": "#2a3f5f"
            },
            "type": "carpet"
           }
          ],
          "choropleth": [
           {
            "colorbar": {
             "outlinewidth": 0,
             "ticks": ""
            },
            "type": "choropleth"
           }
          ],
          "contour": [
           {
            "colorbar": {
             "outlinewidth": 0,
             "ticks": ""
            },
            "colorscale": [
             [
              0,
              "#0d0887"
             ],
             [
              0.1111111111111111,
              "#46039f"
             ],
             [
              0.2222222222222222,
              "#7201a8"
             ],
             [
              0.3333333333333333,
              "#9c179e"
             ],
             [
              0.4444444444444444,
              "#bd3786"
             ],
             [
              0.5555555555555556,
              "#d8576b"
             ],
             [
              0.6666666666666666,
              "#ed7953"
             ],
             [
              0.7777777777777778,
              "#fb9f3a"
             ],
             [
              0.8888888888888888,
              "#fdca26"
             ],
             [
              1,
              "#f0f921"
             ]
            ],
            "type": "contour"
           }
          ],
          "contourcarpet": [
           {
            "colorbar": {
             "outlinewidth": 0,
             "ticks": ""
            },
            "type": "contourcarpet"
           }
          ],
          "heatmap": [
           {
            "colorbar": {
             "outlinewidth": 0,
             "ticks": ""
            },
            "colorscale": [
             [
              0,
              "#0d0887"
             ],
             [
              0.1111111111111111,
              "#46039f"
             ],
             [
              0.2222222222222222,
              "#7201a8"
             ],
             [
              0.3333333333333333,
              "#9c179e"
             ],
             [
              0.4444444444444444,
              "#bd3786"
             ],
             [
              0.5555555555555556,
              "#d8576b"
             ],
             [
              0.6666666666666666,
              "#ed7953"
             ],
             [
              0.7777777777777778,
              "#fb9f3a"
             ],
             [
              0.8888888888888888,
              "#fdca26"
             ],
             [
              1,
              "#f0f921"
             ]
            ],
            "type": "heatmap"
           }
          ],
          "histogram": [
           {
            "marker": {
             "pattern": {
              "fillmode": "overlay",
              "size": 10,
              "solidity": 0.2
             }
            },
            "type": "histogram"
           }
          ],
          "histogram2d": [
           {
            "colorbar": {
             "outlinewidth": 0,
             "ticks": ""
            },
            "colorscale": [
             [
              0,
              "#0d0887"
             ],
             [
              0.1111111111111111,
              "#46039f"
             ],
             [
              0.2222222222222222,
              "#7201a8"
             ],
             [
              0.3333333333333333,
              "#9c179e"
             ],
             [
              0.4444444444444444,
              "#bd3786"
             ],
             [
              0.5555555555555556,
              "#d8576b"
             ],
             [
              0.6666666666666666,
              "#ed7953"
             ],
             [
              0.7777777777777778,
              "#fb9f3a"
             ],
             [
              0.8888888888888888,
              "#fdca26"
             ],
             [
              1,
              "#f0f921"
             ]
            ],
            "type": "histogram2d"
           }
          ],
          "histogram2dcontour": [
           {
            "colorbar": {
             "outlinewidth": 0,
             "ticks": ""
            },
            "colorscale": [
             [
              0,
              "#0d0887"
             ],
             [
              0.1111111111111111,
              "#46039f"
             ],
             [
              0.2222222222222222,
              "#7201a8"
             ],
             [
              0.3333333333333333,
              "#9c179e"
             ],
             [
              0.4444444444444444,
              "#bd3786"
             ],
             [
              0.5555555555555556,
              "#d8576b"
             ],
             [
              0.6666666666666666,
              "#ed7953"
             ],
             [
              0.7777777777777778,
              "#fb9f3a"
             ],
             [
              0.8888888888888888,
              "#fdca26"
             ],
             [
              1,
              "#f0f921"
             ]
            ],
            "type": "histogram2dcontour"
           }
          ],
          "mesh3d": [
           {
            "colorbar": {
             "outlinewidth": 0,
             "ticks": ""
            },
            "type": "mesh3d"
           }
          ],
          "parcoords": [
           {
            "line": {
             "colorbar": {
              "outlinewidth": 0,
              "ticks": ""
             }
            },
            "type": "parcoords"
           }
          ],
          "pie": [
           {
            "automargin": true,
            "type": "pie"
           }
          ],
          "scatter": [
           {
            "fillpattern": {
             "fillmode": "overlay",
             "size": 10,
             "solidity": 0.2
            },
            "type": "scatter"
           }
          ],
          "scatter3d": [
           {
            "line": {
             "colorbar": {
              "outlinewidth": 0,
              "ticks": ""
             }
            },
            "marker": {
             "colorbar": {
              "outlinewidth": 0,
              "ticks": ""
             }
            },
            "type": "scatter3d"
           }
          ],
          "scattercarpet": [
           {
            "marker": {
             "colorbar": {
              "outlinewidth": 0,
              "ticks": ""
             }
            },
            "type": "scattercarpet"
           }
          ],
          "scattergeo": [
           {
            "marker": {
             "colorbar": {
              "outlinewidth": 0,
              "ticks": ""
             }
            },
            "type": "scattergeo"
           }
          ],
          "scattergl": [
           {
            "marker": {
             "colorbar": {
              "outlinewidth": 0,
              "ticks": ""
             }
            },
            "type": "scattergl"
           }
          ],
          "scattermap": [
           {
            "marker": {
             "colorbar": {
              "outlinewidth": 0,
              "ticks": ""
             }
            },
            "type": "scattermap"
           }
          ],
          "scattermapbox": [
           {
            "marker": {
             "colorbar": {
              "outlinewidth": 0,
              "ticks": ""
             }
            },
            "type": "scattermapbox"
           }
          ],
          "scatterpolar": [
           {
            "marker": {
             "colorbar": {
              "outlinewidth": 0,
              "ticks": ""
             }
            },
            "type": "scatterpolar"
           }
          ],
          "scatterpolargl": [
           {
            "marker": {
             "colorbar": {
              "outlinewidth": 0,
              "ticks": ""
             }
            },
            "type": "scatterpolargl"
           }
          ],
          "scatterternary": [
           {
            "marker": {
             "colorbar": {
              "outlinewidth": 0,
              "ticks": ""
             }
            },
            "type": "scatterternary"
           }
          ],
          "surface": [
           {
            "colorbar": {
             "outlinewidth": 0,
             "ticks": ""
            },
            "colorscale": [
             [
              0,
              "#0d0887"
             ],
             [
              0.1111111111111111,
              "#46039f"
             ],
             [
              0.2222222222222222,
              "#7201a8"
             ],
             [
              0.3333333333333333,
              "#9c179e"
             ],
             [
              0.4444444444444444,
              "#bd3786"
             ],
             [
              0.5555555555555556,
              "#d8576b"
             ],
             [
              0.6666666666666666,
              "#ed7953"
             ],
             [
              0.7777777777777778,
              "#fb9f3a"
             ],
             [
              0.8888888888888888,
              "#fdca26"
             ],
             [
              1,
              "#f0f921"
             ]
            ],
            "type": "surface"
           }
          ],
          "table": [
           {
            "cells": {
             "fill": {
              "color": "#EBF0F8"
             },
             "line": {
              "color": "white"
             }
            },
            "header": {
             "fill": {
              "color": "#C8D4E3"
             },
             "line": {
              "color": "white"
             }
            },
            "type": "table"
           }
          ]
         },
         "layout": {
          "annotationdefaults": {
           "arrowcolor": "#2a3f5f",
           "arrowhead": 0,
           "arrowwidth": 1
          },
          "autotypenumbers": "strict",
          "coloraxis": {
           "colorbar": {
            "outlinewidth": 0,
            "ticks": ""
           }
          },
          "colorscale": {
           "diverging": [
            [
             0,
             "#8e0152"
            ],
            [
             0.1,
             "#c51b7d"
            ],
            [
             0.2,
             "#de77ae"
            ],
            [
             0.3,
             "#f1b6da"
            ],
            [
             0.4,
             "#fde0ef"
            ],
            [
             0.5,
             "#f7f7f7"
            ],
            [
             0.6,
             "#e6f5d0"
            ],
            [
             0.7,
             "#b8e186"
            ],
            [
             0.8,
             "#7fbc41"
            ],
            [
             0.9,
             "#4d9221"
            ],
            [
             1,
             "#276419"
            ]
           ],
           "sequential": [
            [
             0,
             "#0d0887"
            ],
            [
             0.1111111111111111,
             "#46039f"
            ],
            [
             0.2222222222222222,
             "#7201a8"
            ],
            [
             0.3333333333333333,
             "#9c179e"
            ],
            [
             0.4444444444444444,
             "#bd3786"
            ],
            [
             0.5555555555555556,
             "#d8576b"
            ],
            [
             0.6666666666666666,
             "#ed7953"
            ],
            [
             0.7777777777777778,
             "#fb9f3a"
            ],
            [
             0.8888888888888888,
             "#fdca26"
            ],
            [
             1,
             "#f0f921"
            ]
           ],
           "sequentialminus": [
            [
             0,
             "#0d0887"
            ],
            [
             0.1111111111111111,
             "#46039f"
            ],
            [
             0.2222222222222222,
             "#7201a8"
            ],
            [
             0.3333333333333333,
             "#9c179e"
            ],
            [
             0.4444444444444444,
             "#bd3786"
            ],
            [
             0.5555555555555556,
             "#d8576b"
            ],
            [
             0.6666666666666666,
             "#ed7953"
            ],
            [
             0.7777777777777778,
             "#fb9f3a"
            ],
            [
             0.8888888888888888,
             "#fdca26"
            ],
            [
             1,
             "#f0f921"
            ]
           ]
          },
          "colorway": [
           "#636efa",
           "#EF553B",
           "#00cc96",
           "#ab63fa",
           "#FFA15A",
           "#19d3f3",
           "#FF6692",
           "#B6E880",
           "#FF97FF",
           "#FECB52"
          ],
          "font": {
           "color": "#2a3f5f"
          },
          "geo": {
           "bgcolor": "white",
           "lakecolor": "white",
           "landcolor": "#E5ECF6",
           "showlakes": true,
           "showland": true,
           "subunitcolor": "white"
          },
          "hoverlabel": {
           "align": "left"
          },
          "hovermode": "closest",
          "mapbox": {
           "style": "light"
          },
          "paper_bgcolor": "white",
          "plot_bgcolor": "#E5ECF6",
          "polar": {
           "angularaxis": {
            "gridcolor": "white",
            "linecolor": "white",
            "ticks": ""
           },
           "bgcolor": "#E5ECF6",
           "radialaxis": {
            "gridcolor": "white",
            "linecolor": "white",
            "ticks": ""
           }
          },
          "scene": {
           "xaxis": {
            "backgroundcolor": "#E5ECF6",
            "gridcolor": "white",
            "gridwidth": 2,
            "linecolor": "white",
            "showbackground": true,
            "ticks": "",
            "zerolinecolor": "white"
           },
           "yaxis": {
            "backgroundcolor": "#E5ECF6",
            "gridcolor": "white",
            "gridwidth": 2,
            "linecolor": "white",
            "showbackground": true,
            "ticks": "",
            "zerolinecolor": "white"
           },
           "zaxis": {
            "backgroundcolor": "#E5ECF6",
            "gridcolor": "white",
            "gridwidth": 2,
            "linecolor": "white",
            "showbackground": true,
            "ticks": "",
            "zerolinecolor": "white"
           }
          },
          "shapedefaults": {
           "line": {
            "color": "#2a3f5f"
           }
          },
          "ternary": {
           "aaxis": {
            "gridcolor": "white",
            "linecolor": "white",
            "ticks": ""
           },
           "baxis": {
            "gridcolor": "white",
            "linecolor": "white",
            "ticks": ""
           },
           "bgcolor": "#E5ECF6",
           "caxis": {
            "gridcolor": "white",
            "linecolor": "white",
            "ticks": ""
           }
          },
          "title": {
           "x": 0.05
          },
          "xaxis": {
           "automargin": true,
           "gridcolor": "white",
           "linecolor": "white",
           "ticks": "",
           "title": {
            "standoff": 15
           },
           "zerolinecolor": "white",
           "zerolinewidth": 2
          },
          "yaxis": {
           "automargin": true,
           "gridcolor": "white",
           "linecolor": "white",
           "ticks": "",
           "title": {
            "standoff": 15
           },
           "zerolinecolor": "white",
           "zerolinewidth": 2
          }
         }
        },
        "title": {
         "text": "Pickup Density by Geographic Zones (10x10 grid)"
        },
        "xaxis": {
         "anchor": "y",
         "domain": [
          0,
          1
         ],
         "title": {
          "text": "Longitude Zone"
         }
        },
        "yaxis": {
         "anchor": "x",
         "domain": [
          0,
          1
         ],
         "title": {
          "text": "Latitude Zone"
         }
        }
       }
      }
     },
     "metadata": {},
     "output_type": "display_data"
    },
    {
     "data": {
      "application/vnd.plotly.v1+json": {
       "config": {
        "plotlyServerURL": "https://plot.ly"
       },
       "data": [
        {
         "hovertemplate": "pickup_grid_id=51.910000000000004_4.45<br>Longitude=%{x}<br>Latitude=%{y}<extra></extra>",
         "legendgroup": "51.910000000000004_4.45",
         "marker": {
          "color": "#636efa",
          "symbol": "circle"
         },
         "mode": "markers",
         "name": "51.910000000000004_4.45",
         "orientation": "v",
         "showlegend": true,
         "type": "scatter",
         "x": {
          "bdata": "UyKJXkbREUBnYU87/NURQBvYKsHi0BFAizIbZJLREUDn49pQMc4RQPYoXI/C1RFA26fjMQPVEUBPkq6ZfNMRQA==",
          "dtype": "f8"
         },
         "xaxis": "x",
         "y": {
          "bdata": "6s9+pIj0SUBq+1dWmvRJQE1KQbeX9ElABthHp670SUBcd/NUh/RJQNTUsrW+9ElA4jsx68X0SUCFlJ9U+/RJQA==",
          "dtype": "f8"
         },
         "yaxis": "y"
        },
        {
         "hovertemplate": "pickup_grid_id=52.38_4.8500000000000005<br>Longitude=%{x}<br>Latitude=%{y}<extra></extra>",
         "legendgroup": "52.38_4.8500000000000005",
         "marker": {
          "color": "#EF553B",
          "symbol": "circle"
         },
         "mode": "markers",
         "name": "52.38_4.8500000000000005",
         "orientation": "v",
         "showlegend": true,
         "type": "scatter",
         "x": {
          "bdata": "qwmi7gNwE0Cy17s/3msTQOQPBp57bxNAzR5oBYZsE0CwG7YtymwTQOQxA5XxbxNAmWTkLOxpE0DT3uALk2kTQOZ5cHfWbhNAQ8U4fxNqE0AeigJ9Im8TQFtCPujZbBNAkKD4MeZuE0AhPNo4Ym0TQGEyVTAqaRNAswdagSFrE0AhAg6hSm0TQJIiMqzibRNAcxHfiVlvE0A=",
          "dtype": "f8"
         },
         "xaxis": "x",
         "y": {
          "bdata": "9iNFZFgxSkAMk6mCUTFKQOFdLuI7MUpAd76fGi8xSkCif4KLFTFKQFORCmMLMUpAsCDNWDQxSkBvu9BcpzFKQMy0/SsrMUpANh/XhooxSkBTswdagTFKQGk6OxkcMUpA2uGvyRoxSkAwTKYKRjFKQPZdEfxvMUpA8DMuHAgxSkAo8iTpmjFKQFpkO99PMUpA/U0oRMAxSkA=",
          "dtype": "f8"
         },
         "yaxis": "y"
        },
        {
         "hovertemplate": "pickup_grid_id=51.4_5.44<br>Longitude=%{x}<br>Latitude=%{y}<extra></extra>",
         "legendgroup": "51.4_5.44",
         "marker": {
          "color": "#00cc96",
          "symbol": "circle"
         },
         "mode": "markers",
         "name": "51.4_5.44",
         "orientation": "v",
         "showlegend": true,
         "type": "scatter",
         "x": {
          "bdata": "F58CYDzDFUAIyQImcMsVQJZ4QNmUyxVAFLNeDOXEFUD4ja89s8QVQJq2f2WlyRVAluzYCMTLFUAsvMtFfMcVQO4ljdE6yhVAvyuC/63EFUAJ+aBns8oVQBL3WPrQxRVAJVgczvzKFUDsF+yGbcsVQAclzLT9yxVA9dvXgXPGFUAuHAjJAsYVQJ/Ik6RrxhVARl9BmrHIFUBCW86luMoVQDHO34RCxBVAf/s6cM7IFUAIyQImcMsVQAnh0cYRyxVAQ/8EFyvKFUCI1/ULdsMVQKJ6a2CrxBVAob5lTpfFFUAr3sg88scVQLRZ9bnayhVA",
          "dtype": "f8"
         },
         "xaxis": "x",
         "y": {
          "bdata": "ea9amfCzSUAO+PwwQrRJQIcW2c73s0lAgEi/fR20SUCOBvAWSLRJQCrG+ZtQtElAwJXs2Ai0SUBxVdl3RbRJQBYYsrrVs0lAlQ7W/zm0SUByUMJM27NJQIf58gLss0lADmd+NQe0SUAVxhaCHLRJQMe6uI0GtElAwJXs2Ai0SUBrDhDM0bNJQNV46SYxtElAnKc65Ga0SUA5nPnVHLRJQCuk/KTas0lAlZo90Aq0SUBHPUSjO7RJQI/k8h/Ss0lABirj32e0SUD4wmSqYLRJQM6qz9VWtElAqrcGtkq0SUBOtKuQ8rNJQPIMGvontElA",
          "dtype": "f8"
         },
         "yaxis": "y"
        },
        {
         "hovertemplate": "pickup_grid_id=52.32_4.9<br>Longitude=%{x}<br>Latitude=%{y}<extra></extra>",
         "legendgroup": "52.32_4.9",
         "marker": {
          "color": "#ab63fa",
          "symbol": "circle"
         },
         "mode": "markers",
         "name": "52.32_4.9",
         "orientation": "v",
         "showlegend": true,
         "type": "scatter",
         "x": {
          "bdata": "dNL7xteeE0CTb7a5MZ0TQOuoaoKomxNAVisTfqmfE0A=",
          "dtype": "f8"
         },
         "xaxis": "x",
         "y": {
          "bdata": "BMqmXOEpSkD1udqK/SlKQDz3Hi45KkpAL6hvmdMpSkA=",
          "dtype": "f8"
         },
         "yaxis": "y"
        },
        {
         "hovertemplate": "pickup_grid_id=51.94_4.51<br>Longitude=%{x}<br>Latitude=%{y}<extra></extra>",
         "legendgroup": "51.94_4.51",
         "marker": {
          "color": "#FFA15A",
          "symbol": "circle"
         },
         "mode": "markers",
         "name": "51.94_4.51",
         "orientation": "v",
         "showlegend": true,
         "type": "scatter",
         "x": {
          "bdata": "lYJuL2kMEkDfiVkvhhISQIguqG+ZExJAWipvRzgNEkBWmpSCbg8SQD1hiQeUDRJAb0c4LXgREkDqIRrdQQwSQAjJAiZwCxJAqYdodAcREkCI9NvXgRMSQOYF2EenDhJAqfsApDYREkB2Tx4Wag0SQJLoZRTLDRJAzxQ6r7ELEkD6fmq8dBMSQGvxKQDGExJAwD46deUTEkAXDoRkARMSQB2s/3OYDxJA5SfVPh0PEkA=",
          "dtype": "f8"
         },
         "xaxis": "x",
         "y": {
          "bdata": "VHQkl//4SUCpwTQMH/lJQBQF+kSe+ElAqFKzB1r5SUBhpu1fWflJQHicoiO5+ElABRcrajD5SUBi+IiYEvlJQM0GmWTk+ElAjBAebRz5SUAMWd3qOflJQFoNiXss+UlAza/mAMH4SUA429yYnvhJQLfu5qkO+UlAzCiWW1r5SUB3+GuyRvlJQKmHaHQH+UlAG2SSkbP4SUA+IqZEEvlJQEzD8BEx+UlAlPsdigL5SUA=",
          "dtype": "f8"
         },
         "yaxis": "y"
        },
        {
         "hovertemplate": "pickup_grid_id=52.36_4.9<br>Longitude=%{x}<br>Latitude=%{y}<extra></extra>",
         "legendgroup": "52.36_4.9",
         "marker": {
          "color": "#19d3f3",
          "symbol": "circle"
         },
         "mode": "markers",
         "name": "52.36_4.9",
         "orientation": "v",
         "showlegend": true,
         "type": "scatter",
         "x": {
          "bdata": "IQclzLSdE0CamZmZmZkTQLTIdr6fmhNAdEaU9gafE0A=",
          "dtype": "f8"
         },
         "xaxis": "x",
         "y": {
          "bdata": "EXAIVWouSkCY3ZOHhS5KQDvCacGLLkpAJ8KGp1cuSkA=",
          "dtype": "f8"
         },
         "yaxis": "y"
        },
        {
         "hovertemplate": "pickup_grid_id=52.1_5.13<br>Longitude=%{x}<br>Latitude=%{y}<extra></extra>",
         "legendgroup": "52.1_5.13",
         "marker": {
          "color": "#FF6692",
          "symbol": "circle"
         },
         "mode": "markers",
         "name": "52.1_5.13",
         "orientation": "v",
         "showlegend": true,
         "type": "scatter",
         "x": {
          "bdata": "nKIjufyHFEAvNNdppIUUQBA7U+i8hhRA6s9+pIiMFECg4GJFDYYUQEOtad5xihRAtHHEWnyKFEDxY8xdS4gUQCzUmuYdhxRAveMUHcmFFECZEkn0MooUQF8ktOVcihRAXRYTm4+LFEC1iZP7HYoUQA034PPDiBRAzeSbbW6MFEBkBirj34cUQGSSkbOwhxRABDkoYaaNFEDpt68D54wUQEbrqGqCiBRAKPIk6ZqJFEAHsTOFzosUQEDBxYoajBRAX5hMFYyKFEBEUaBP5IkUQA8LtaZ5hxRA07zjFB2JFECcFrzoK4gUQLBVgsXhjBRA8KfGSzeJFEA=",
          "dtype": "f8"
         },
         "xaxis": "x",
         "y": {
          "bdata": "WvW52ooNSkBLzR5oBQ5KQJkqGJXUDUpAoBUYsroNSkDSb18Hzg1KQOAQqtTsDUpA0hito6oNSkBL6gQ0EQ5KQP0TXKyoDUpAfZHQlnMNSkD2KFyPwg1KQCcUIuAQDkpArg0V4/wNSkCZKhiV1A1KQEtZhjjWDUpAtWytLxIOSkATSfQyig1KQKfoSC7/DUpA9Zz0vvENSkDaIJOMnA1KQFLVBFH3DUpANSTusfQNSkDgufdwyQ1KQMtneR7cDUpA/bypSIUNSkDLhF/q5w1KQAu1pnnHDUpAZ0Rpb/ANSkASMSWS6A1KQG8Sg8DKDUpA9Zz0vvENSkA=",
          "dtype": "f8"
         },
         "yaxis": "y"
        },
        {
         "hovertemplate": "pickup_grid_id=52.33_4.84<br>Longitude=%{x}<br>Latitude=%{y}<extra></extra>",
         "legendgroup": "52.33_4.84",
         "marker": {
          "color": "#B6E880",
          "symbol": "circle"
         },
         "mode": "markers",
         "name": "52.33_4.84",
         "orientation": "v",
         "showlegend": true,
         "type": "scatter",
         "x": {
          "bdata": "UBn/PuNiE0D9n8N8eWETQN3SakjcYxNA4Sh5dY5hE0COO6WD9V8TQBTLLa2GZBNAAkht4uReE0A=",
          "dtype": "f8"
         },
         "xaxis": "x",
         "y": {
          "bdata": "bCbfbHMrSkBkHvmDgStKQIGVQ4tsK0pA3rBtUWYrSkD6m1CIgCtKQPM8uDtrK0pAlgSoqWUrSkA=",
          "dtype": "f8"
         },
         "yaxis": "y"
        },
        {
         "hovertemplate": "pickup_grid_id=52.07_4.28<br>Longitude=%{x}<br>Latitude=%{y}<extra></extra>",
         "legendgroup": "52.07_4.28",
         "marker": {
          "color": "#FF97FF",
          "symbol": "circle"
         },
         "mode": "markers",
         "name": "52.07_4.28",
         "orientation": "v",
         "showlegend": true,
         "type": "scatter",
         "x": {
          "bdata": "gH106sonEUAZ/z7jwiERQPYLdsO2JRFAVcGopE4gEUBUNUHUfSARQC6QoPgxJhFAwXPv4ZIjEUA=",
          "dtype": "f8"
         },
         "xaxis": "x",
         "y": {
          "bdata": "S1mGONYJSkBRZoNMMgpKQATKplzhCUpA0sYRa/EJSkDKT6p9OgpKQNIA3gIJCkpAyjLEsS4KSkA=",
          "dtype": "f8"
         },
         "yaxis": "y"
        },
        {
         "hovertemplate": "pickup_grid_id=51.4_5.45<br>Longitude=%{x}<br>Latitude=%{y}<extra></extra>",
         "legendgroup": "51.4_5.45",
         "marker": {
          "color": "#FECB52",
          "symbol": "circle"
         },
         "mode": "markers",
         "name": "51.4_5.45",
         "orientation": "v",
         "showlegend": true,
         "type": "scatter",
         "x": {
          "bdata": "AYdQpWbPFUDn+6nx0s0VQJJc/kP6zRVAkKD4MebOFUAZBFYOLdIVQKg1zTtO0RVAi+B/K9nRFUDnb0IhAs4VQAXFjzF3zRVAd6G5TiPNFUAe/pqsUc8VQDl/EwoR0BVAAYdQpWbPFUCN7iB2ptAVQD1JumbyzRVA5ZttbkzPFUBPWOIBZdMVQA==",
          "dtype": "f8"
         },
         "xaxis": "x",
         "y": {
          "bdata": "Tn/2I0W0SUAczvxqDrRJQOviNhrAs0lAMc7fhEK0SUAjoS3nUrRJQIDxDBr6s0lAAG+BBMWzSUA5Yi0+BbRJQD9vKlJhtElAlrIMcayzSUBHyatzDLRJQM6N6QlLtElAMsnIWdizSUCc3O9QFLRJQCqMLQQ5tElA44i1+BS0SUCOklfnGLRJQA==",
          "dtype": "f8"
         },
         "yaxis": "y"
        },
        {
         "hovertemplate": "pickup_grid_id=51.88_4.43<br>Longitude=%{x}<br>Latitude=%{y}<extra></extra>",
         "legendgroup": "51.88_4.43",
         "marker": {
          "color": "#636efa",
          "symbol": "circle"
         },
         "mode": "markers",
         "name": "51.88_4.43",
         "orientation": "v",
         "showlegend": true,
         "type": "scatter",
         "x": {
          "bdata": "fnTqyme5EUDnOo20VL4RQB+duvJZvhFAYM0Bgjm6EUAnvW987bkRQO5aQj7ouRFA0ZFc/kO6EUA=",
          "dtype": "f8"
         },
         "xaxis": "x",
         "y": {
          "bdata": "IbByaJHxSUBa2NMOf/FJQNlaXyS08UlAvt798V7xSUBolgSoqfFJQLZnlgSo8UlAPSe9b3zxSUA=",
          "dtype": "f8"
         },
         "yaxis": "y"
        },
        {
         "hovertemplate": "pickup_grid_id=52.09_5.17<br>Longitude=%{x}<br>Latitude=%{y}<extra></extra>",
         "legendgroup": "52.09_5.17",
         "marker": {
          "color": "#EF553B",
          "symbol": "circle"
         },
         "mode": "markers",
         "name": "52.09_5.17",
         "orientation": "v",
         "showlegend": true,
         "type": "scatter",
         "x": {
          "bdata": "nDOitDe4FEAZBFYOLbIUQKMBvAUStBRAwZDVrZ6zFEBxGw3gLbAUQNobfGEytRRAptWQuMeyFEBQ/Bhz17IUQItUGFsIshRAisiwijeyFEAU0ETY8LQUQONTAIxnsBRAOnXlszyvFED2Yign2rUUQKBP5EnStRRAOQt72uGvFECcbW5MT7gUQK0vEtpyrhRAOKEQAYewFEC5wrtcxLcUQK1RD9HorhRA2lVI+Um1FEBO7ncoCrQUQGRd3EYDuBRAWFaalIKuFEA7x4Ds9a4UQIqw4emVshRAHPD5YYSwFEA50a5Cyq8UQA==",
          "dtype": "f8"
         },
         "xaxis": "x",
         "y": {
          "bdata": "a/EpAMYLSkCOdXEbDQxKQPGdmPViDEpAo1huaTUMSkA5ud+hKAxKQDkoYabtC0pAsdzSakgMSkAj+N9KdgxKQH8TChFwDEpAQIf58gIMSkC4kh0bgQxKQKuVCb/UC0pAKxiV1AkMSkAOSphp+wtKQHnpJjEIDEpAowbTMHwMSkA/NV66SQxKQEBqEyf3C0pAXKyowTQMSkDV7IFWYAxKQE6c3O9QDEpAhxbZzvcLSkAj2/l+agxKQHlA2ZQrDEpAv2A3bFsMSkBjf9k9eQxKQCPzyB8MDEpARzgteNELSkDOGVHaGwxKQA==",
          "dtype": "f8"
         },
         "yaxis": "y"
        },
        {
         "hovertemplate": "pickup_grid_id=51.47_5.45<br>Longitude=%{x}<br>Latitude=%{y}<extra></extra>",
         "legendgroup": "51.47_5.45",
         "marker": {
          "color": "#00cc96",
          "symbol": "circle"
         },
         "mode": "markers",
         "name": "51.47_5.45",
         "orientation": "v",
         "showlegend": true,
         "type": "scatter",
         "x": {
          "bdata": "k8ZoHVXNFUA8MevFUM4VQMhe7/54zxVAGoaPiCnRFUBZTGw+rs0VQA==",
          "dtype": "f8"
         },
         "xaxis": "x",
         "y": {
          "bdata": "9wZfmEy9SUBhw9MrZb1JQCHIQQkzvUlABTQRNjy9SUB+AFKbOL1JQA==",
          "dtype": "f8"
         },
         "yaxis": "y"
        },
        {
         "hovertemplate": "pickup_grid_id=51.410000000000004_5.5<br>Longitude=%{x}<br>Latitude=%{y}<extra></extra>",
         "legendgroup": "51.410000000000004_5.5",
         "marker": {
          "color": "#ab63fa",
          "symbol": "circle"
         },
         "mode": "markers",
         "name": "51.410000000000004_5.5",
         "orientation": "v",
         "showlegend": true,
         "type": "scatter",
         "x": {
          "bdata": "FLNeDOUEFkBxWvCirwAWQA4tsp3vBxZAw7tcxHcCFkBhMlUwKgkWQA==",
          "dtype": "f8"
         },
         "xaxis": "x",
         "y": {
          "bdata": "qKlla321SUBh/Z/DfLVJQFovhnKitUlAob5lTpe1SUCERxtHrLVJQA==",
          "dtype": "f8"
         },
         "yaxis": "y"
        },
        {
         "hovertemplate": "pickup_grid_id=52.36_4.93<br>Longitude=%{x}<br>Latitude=%{y}<extra></extra>",
         "legendgroup": "52.36_4.93",
         "marker": {
          "color": "#FFA15A",
          "symbol": "circle"
         },
         "mode": "markers",
         "name": "52.36_4.93",
         "orientation": "v",
         "showlegend": true,
         "type": "scatter",
         "x": {
          "bdata": "lPsdigK9E0CWz/I8uLsTQHam0HmNvRNAXtcv2A27E0C1GhL3WLoTQAWoqWVrvRNA6DBfXoC9E0C2vkhoy7kTQERuhhvwuRNAKGGm7V+5E0A=",
          "dtype": "f8"
         },
         "xaxis": "x",
         "y": {
          "bdata": "WK1M+KUuSkCmYfiImC5KQJj6eVORLkpAWJBmLJouSkB0e0ljtC5KQGYxsfm4LkpAAtTUsrUuSkBeukkMAi9KQB+i0R3ELkpA9BWkGYsuSkA=",
          "dtype": "f8"
         },
         "yaxis": "y"
        },
        {
         "hovertemplate": "pickup_grid_id=52.09_4.3<br>Longitude=%{x}<br>Latitude=%{y}<extra></extra>",
         "legendgroup": "52.09_4.3",
         "marker": {
          "color": "#19d3f3",
          "symbol": "circle"
         },
         "mode": "markers",
         "name": "52.09_4.3",
         "orientation": "v",
         "showlegend": true,
         "type": "scatter",
         "x": {
          "bdata": "Ke0NvjA5EUBIisiwijcRQLEWnwJgPBFAeCgK9Ik8EUAP1v85zDcRQNXPm4pUOBFAza/mAME8EUAqb0c4LTgRQJf/kH77OhFAlE25wrs8EUAnpaDbSzoRQA==",
          "dtype": "f8"
         },
         "xaxis": "x",
         "y": {
          "bdata": "lWBxOPMLSkBHOC140QtKQOrnTUUqDEpAsRafAmAMSkAGDf0TXAxKQDJVMCqpC0pAMuauJeQLSkDdDDfg8wtKQHLEWnwKDEpA1jkGZK8LSkAWNZiG4QtKQA==",
          "dtype": "f8"
         },
         "yaxis": "y"
        },
        {
         "hovertemplate": "pickup_grid_id=51.42_5.5<br>Longitude=%{x}<br>Latitude=%{y}<extra></extra>",
         "legendgroup": "51.42_5.5",
         "marker": {
          "color": "#FF6692",
          "symbol": "circle"
         },
         "mode": "markers",
         "name": "51.42_5.5",
         "orientation": "v",
         "showlegend": true,
         "type": "scatter",
         "x": {
          "bdata": "Zk6XxcQGFkB+qZ83FQkWQPfHe9XKBBZA7xtfe2YJFkC8eapDbgYWQKgAGM+gARZAi8OZX80BFkAxCKwcWgQWQIgRwqONAxZAn8iTpGsGFkBIG0esxQcWQDUMHxFTAhZANuohGt0BFkA=",
          "dtype": "f8"
         },
         "xaxis": "x",
         "y": {
          "bdata": "pwUv+gq2SUBuaTUk7rVJQOfj2lAxtklAiqvKviu2SUB9XBsqxrVJQESLbOf7tUlANQcI5ui1SUBvL2mM1rVJQPZiKCfatUlARFGgT+S1SUBuaTUk7rVJQGCwG7YttklA/Bhz1xK2SUA=",
          "dtype": "f8"
         },
         "yaxis": "y"
        },
        {
         "hovertemplate": "pickup_grid_id=51.9_4.43<br>Longitude=%{x}<br>Latitude=%{y}<extra></extra>",
         "legendgroup": "51.9_4.43",
         "marker": {
          "color": "#B6E880",
          "symbol": "circle"
         },
         "mode": "markers",
         "name": "51.9_4.43",
         "orientation": "v",
         "showlegend": true,
         "type": "scatter",
         "x": {
          "bdata": "rrZif9m9EUDoaiv2l70RQB09fm/TvxFA6+I2GsC7EUBgzQGCOboRQEJg5dAiuxFA/Knx0k3CEUAB9tGpK78RQK4SLA5nvhFAjPM3oRDBEUA=",
          "dtype": "f8"
         },
         "xaxis": "x",
         "y": {
          "bdata": "DtsWZTb0SUDVCWgibPRJQPGdmPVi9ElAKh2s/3P0SUAj+N9KdvRJQE5iEFg59ElAsTOFzmv0SUCjryDNWPRJQE4LXvQV9ElAB1+YTBX0SUA=",
          "dtype": "f8"
         },
         "yaxis": "y"
        },
        {
         "hovertemplate": "pickup_grid_id=52.04_4.28<br>Longitude=%{x}<br>Latitude=%{y}<extra></extra>",
         "legendgroup": "52.04_4.28",
         "marker": {
          "color": "#FF97FF",
          "symbol": "circle"
         },
         "mode": "markers",
         "name": "52.04_4.28",
         "orientation": "v",
         "showlegend": true,
         "type": "scatter",
         "x": {
          "bdata": "8u8zLhwoEUDWVuwvuycRQCwOZ341JxFA1/oioS0nEUDUSEvl7SgRQA==",
          "dtype": "f8"
         },
         "xaxis": "x",
         "y": {
          "bdata": "WUxsPq4FSkBLWYY41gVKQMstrYbEBUpATFRvDWwFSkDhfyvZsQVKQA==",
          "dtype": "f8"
         },
         "yaxis": "y"
        },
        {
         "hovertemplate": "pickup_grid_id=51.910000000000004_4.43<br>Longitude=%{x}<br>Latitude=%{y}<extra></extra>",
         "legendgroup": "51.910000000000004_4.43",
         "marker": {
          "color": "#FECB52",
          "symbol": "circle"
         },
         "mode": "markers",
         "name": "51.910000000000004_4.43",
         "orientation": "v",
         "showlegend": true,
         "type": "scatter",
         "x": {
          "bdata": "zEV8J2a9EUDHndLB+r8RQFhzgGCOvhFAQ1a3ek66EUCxxAPKprwRQHNoke18vxFAe6AVGLK6EUAep+hILr8RQAn+t5IduxFA",
          "dtype": "f8"
         },
         "xaxis": "x",
         "y": {
          "bdata": "otEdxM70SUB/Tdaoh/RJQMYzaOif9ElA6X3ja8/0SUBwd9Zuu/RJQEbrqGqC9ElAahg+Iqb0SUC/DpwzovRJQM1YNJ2d9ElA",
          "dtype": "f8"
         },
         "yaxis": "y"
        },
        {
         "hovertemplate": "pickup_grid_id=51.89_4.49<br>Longitude=%{x}<br>Latitude=%{y}<extra></extra>",
         "legendgroup": "51.89_4.49",
         "marker": {
          "color": "#636efa",
          "symbol": "circle"
         },
         "mode": "markers",
         "name": "51.89_4.49",
         "orientation": "v",
         "showlegend": true,
         "type": "scatter",
         "x": {
          "bdata": "knnkDwb+EUCutmJ/2f0RQHuIRncQ+xFAlfHvMy78EUAfEVMiif4RQJ57D5cc9xFAS7A4nPn1EUBn7bYLzfURQAk4hCo1+xFA",
          "dtype": "f8"
         },
         "xaxis": "x",
         "y": {
          "bdata": "NJ2dDI7ySUAYCW05l/JJQDv8NVmj8klA38Mlx53ySUAebRyxFvNJQB9oBYas8klAEOm3rwPzSUB6whIPKPNJQLth26LM8klA",
          "dtype": "f8"
         },
         "yaxis": "y"
        },
        {
         "hovertemplate": "pickup_grid_id=51.95_4.51<br>Longitude=%{x}<br>Latitude=%{y}<extra></extra>",
         "legendgroup": "51.95_4.51",
         "marker": {
          "color": "#EF553B",
          "symbol": "circle"
         },
         "mode": "markers",
         "name": "51.95_4.51",
         "orientation": "v",
         "showlegend": true,
         "type": "scatter",
         "x": {
          "bdata": "+rg2VIwTEkCOQLyuXxASQMOedvhrEhJA38Mlx50SEkBxj6UPXRASQP5IERlWERJAcY+lD10QEkA=",
          "dtype": "f8"
         },
         "xaxis": "x",
         "y": {
          "bdata": "e0ljtI76SUCCqPsApPpJQNgN2xZl+klAA30iT5L6SUAKur2kMfpJQEMEHEKV+klAmN2Th4X6SUA=",
          "dtype": "f8"
         },
         "yaxis": "y"
        },
        {
         "hovertemplate": "pickup_grid_id=52.4_4.94<br>Longitude=%{x}<br>Latitude=%{y}<extra></extra>",
         "legendgroup": "52.4_4.94",
         "marker": {
          "color": "#00cc96",
          "symbol": "circle"
         },
         "mode": "markers",
         "name": "52.4_4.94",
         "orientation": "v",
         "showlegend": true,
         "type": "scatter",
         "x": {
          "bdata": "QNmUK7zLE0Dt9e6P98oTQBMPKJtyxRNAaK7TSEvFE0Da5sb0hMUTQHzVyoRfyhNA8IXJVMHIE0Dz5QXYR8cTQGowDcNHxBNA0LhwICTLE0CYwK27ecoTQAeZZOQszBNAeekmMQjME0A=",
          "dtype": "f8"
         },
         "xaxis": "x",
         "y": {
          "bdata": "Ol0WE5szSkCdRloqbzNKQIEmwoanM0pAOnXlszwzSkCOHr+36TNKQDkLe9rhM0pACHdn7bYzSkD68gLsozNKQKyt2F92M0pAnfS+8bUzSkDHYwYq4zNKQLNeDOVEM0pA3pOHhVozSkA=",
          "dtype": "f8"
         },
         "yaxis": "y"
        },
        {
         "hovertemplate": "pickup_grid_id=52.09_4.3100000000000005<br>Longitude=%{x}<br>Latitude=%{y}<extra></extra>",
         "legendgroup": "52.09_4.3100000000000005",
         "marker": {
          "color": "#ab63fa",
          "symbol": "circle"
         },
         "mode": "markers",
         "name": "52.09_4.3100000000000005",
         "orientation": "v",
         "showlegend": true,
         "type": "scatter",
         "x": {
          "bdata": "OBCSBUxAEUCqglFJnUARQADGM2joPxFArTQpBd0+EUA75Ga4AT8RQOQUHcnlPxFAO+RmuAE/EUA=",
          "dtype": "f8"
         },
         "xaxis": "x",
         "y": {
          "bdata": "ldQJaCIMSkBcrKjBNAxKQJwzorQ3DEpA4/xNKEQMSkBjC0EOSgxKQLGiBtMwDEpAldQJaCIMSkA=",
          "dtype": "f8"
         },
         "yaxis": "y"
        },
        {
         "hovertemplate": "pickup_grid_id=52.08_4.28<br>Longitude=%{x}<br>Latitude=%{y}<extra></extra>",
         "legendgroup": "52.08_4.28",
         "marker": {
          "color": "#FFA15A",
          "symbol": "circle"
         },
         "mode": "markers",
         "name": "52.08_4.28",
         "orientation": "v",
         "showlegend": true,
         "type": "scatter",
         "x": {
          "bdata": "5pZWQ+IeEUAvhnKiXSURQBxfe2ZJIBFAnYAmwoYnEUCitDf4wiQRQFafq63YHxFAo1huaTUkEUA=",
          "dtype": "f8"
         },
         "xaxis": "x",
         "y": {
          "bdata": "vJaQD3oKSkBmg0wycgpKQIKLFTWYCkpAdVlMbD4KSkD7V1aalApKQLxcxHdiCkpAijxJumYKSkA=",
          "dtype": "f8"
         },
         "yaxis": "y"
        },
        {
         "hovertemplate": "pickup_grid_id=51.480000000000004_5.45<br>Longitude=%{x}<br>Latitude=%{y}<extra></extra>",
         "legendgroup": "51.480000000000004_5.45",
         "marker": {
          "color": "#19d3f3",
          "symbol": "circle"
         },
         "mode": "markers",
         "name": "51.480000000000004_5.45",
         "orientation": "v",
         "showlegend": true,
         "type": "scatter",
         "x": {
          "bdata": "r1+wG7bNFUCLGkzD8NEVQBnKiXYV0hVA",
          "dtype": "f8"
         },
         "xaxis": "x",
         "y": {
          "bdata": "yy2thsS9SUDvA5DaxL1JQL0d4bTgvUlA",
          "dtype": "f8"
         },
         "yaxis": "y"
        },
        {
         "hovertemplate": "pickup_grid_id=52.33_4.8500000000000005<br>Longitude=%{x}<br>Latitude=%{y}<extra></extra>",
         "legendgroup": "52.33_4.8500000000000005",
         "marker": {
          "color": "#FF6692",
          "symbol": "circle"
         },
         "mode": "markers",
         "name": "52.33_4.8500000000000005",
         "orientation": "v",
         "showlegend": true,
         "type": "scatter",
         "x": {
          "bdata": "gsXhzK9mE0A=",
          "dtype": "f8"
         },
         "xaxis": "x",
         "y": {
          "bdata": "M+GX+nkrSkA=",
          "dtype": "f8"
         },
         "yaxis": "y"
        },
        {
         "hovertemplate": "pickup_grid_id=52.050000000000004_5.07<br>Longitude=%{x}<br>Latitude=%{y}<extra></extra>",
         "legendgroup": "52.050000000000004_5.07",
         "marker": {
          "color": "#B6E880",
          "symbol": "circle"
         },
         "mode": "markers",
         "name": "52.050000000000004_5.07",
         "orientation": "v",
         "showlegend": true,
         "type": "scatter",
         "x": {
          "bdata": "ldQJaCJMFEBkBirj30cUQM2SADW1TBRAPu3w12RNFEC28/3UeEkUQH+HokCfSBRABP9byY5NFEC5jQbwFkgUQEgbR6zFRxRAdeWzPA9OFEA=",
          "dtype": "f8"
         },
         "xaxis": "x",
         "y": {
          "bdata": "z6Chf4IHSkA6XRYTmwdKQA9iZwqdB0pAJUBNLVsHSkDB/1ayYwdKQLN78rBQB0pAVn2utmIHSkBdFhObjwdKQFYOLbKdB0pAHVVNEHUHSkA=",
          "dtype": "f8"
         },
         "yaxis": "y"
        },
        {
         "hovertemplate": "pickup_grid_id=52.34_4.84<br>Longitude=%{x}<br>Latitude=%{y}<extra></extra>",
         "legendgroup": "52.34_4.84",
         "marker": {
          "color": "#FF97FF",
          "symbol": "circle"
         },
         "mode": "markers",
         "name": "52.34_4.84",
         "orientation": "v",
         "showlegend": true,
         "type": "scatter",
         "x": {
          "bdata": "vfvjvWplE0AwnkFD/2QTQGjQ0D/BZRNA6N7DJcddE0Cn6Egu/2ETQB+F61G4XhNA3lSkwthiE0AS91j60GUTQPgZFw6EZBNAoYSZtn9lE0AxthDkoGQTQK00KQXdXhNAMXxETIlkE0CJ78SsF2MTQFj/5zBfXhNAGa2jqgliE0DJq3MMyF4TQA==",
          "dtype": "f8"
         },
         "xaxis": "x",
         "y": {
          "bdata": "h1ClZg8sSkBI4XoUritKQKt4I/PIK0pAMnctIR8sSkCrCaLuAyxKQJy/CYUILEpAnbryWZ4rSkDyBwPPvStKQLprCfmgK0pAlgm/1M8rSkBkBirj3ytKQHke3J21K0pAK2owDcMrSkAAjGfQ0CtKQKSqCaLuK0pAeQYN/RMsSkDA54cRwitKQA==",
          "dtype": "f8"
         },
         "yaxis": "y"
        },
        {
         "hovertemplate": "pickup_grid_id=52.03_4.33<br>Longitude=%{x}<br>Latitude=%{y}<extra></extra>",
         "legendgroup": "52.03_4.33",
         "marker": {
          "color": "#FECB52",
          "symbol": "circle"
         },
         "mode": "markers",
         "name": "52.03_4.33",
         "orientation": "v",
         "showlegend": true,
         "type": "scatter",
         "x": {
          "bdata": "LZW3I5xWEUDxaOOItVgRQBeCHJQwUxFA7lpCPuhZEUC/YDdsW1QRQNhHp658VhFA2zNLAtRUEUBpVyHlJ1URQIEExY8xVxFAnOEGfH5YEUCc4QZ8flgRQIleRrHcUhFA",
          "dtype": "f8"
         },
         "xaxis": "x",
         "y": {
          "bdata": "wCFUqdkDSkDdDDfg8wNKQM0Bgjl6BEpAOdbFbTQESkB5r1qZ8ANKQMdoHVVNBEpAB84ZUdoDSkAAqU2c3ANKQAclzLT9A0pAB9MwfEQESkBVMCqpEwRKQFXBqKROBEpA",
          "dtype": "f8"
         },
         "yaxis": "y"
        },
        {
         "hovertemplate": "pickup_grid_id=51.9_4.44<br>Longitude=%{x}<br>Latitude=%{y}<extra></extra>",
         "legendgroup": "51.9_4.44",
         "marker": {
          "color": "#636efa",
          "symbol": "circle"
         },
         "mode": "markers",
         "name": "51.9_4.44",
         "orientation": "v",
         "showlegend": true,
         "type": "scatter",
         "x": {
          "bdata": "iGNd3EbDEUAXt9EA3sIRQA==",
          "dtype": "f8"
         },
         "xaxis": "x",
         "y": {
          "bdata": "FeP8TSj0SUBxOPOrOfRJQA==",
          "dtype": "f8"
         },
         "yaxis": "y"
        },
        {
         "hovertemplate": "pickup_grid_id=52.33_4.9<br>Longitude=%{x}<br>Latitude=%{y}<extra></extra>",
         "legendgroup": "52.33_4.9",
         "marker": {
          "color": "#EF553B",
          "symbol": "circle"
         },
         "mode": "markers",
         "name": "52.33_4.9",
         "orientation": "v",
         "showlegend": true,
         "type": "scatter",
         "x": {
          "bdata": "dhppqbydE0Bb07zjFJ0TQK5kx0YgnhNA5q4l5IOeE0A=",
          "dtype": "f8"
         },
         "xaxis": "x",
         "y": {
          "bdata": "bm5MT1gqSkCRRC+jWCpKQJiG4SNiKkpAn3HhQEgqSkA=",
          "dtype": "f8"
         },
         "yaxis": "y"
        },
        {
         "hovertemplate": "pickup_grid_id=52.050000000000004_4.32<br>Longitude=%{x}<br>Latitude=%{y}<extra></extra>",
         "legendgroup": "52.050000000000004_4.32",
         "marker": {
          "color": "#00cc96",
          "symbol": "circle"
         },
         "mode": "markers",
         "name": "52.050000000000004_4.32",
         "orientation": "v",
         "showlegend": true,
         "type": "scatter",
         "x": {
          "bdata": "6udNRSpMEUCNnIU97VARQDjzqzlAUBFAIQIOoUpNEUDu68A5I0oRQHUfgNQmThFACp3X2CVKEUB4f7xXrUwRQPGdmPViSBFA662BrRJMEUCNKO0NvlARQDyDhv4JThFAJJwWvOhLEUB+b9Of/UgRQOgTeZJ0TRFA",
          "dtype": "f8"
         },
         "xaxis": "x",
         "y": {
          "bdata": "pmH4iJgGSkBfKcsQxwZKQG3KFd7lBkpA7fXuj/cGSkD6sx8pIgdKQAhyUMJMB0pAyjfb3JgGSkD0piIVxgZKQJEPejarBkpAlxx3SgcHSkD60AX1LQdKQJ4MjpJXB0pAis3HtaEGSkDJyFnY0wZKQOY/pN++BkpA",
          "dtype": "f8"
         },
         "yaxis": "y"
        },
        {
         "hovertemplate": "pickup_grid_id=52.050000000000004_5.12<br>Longitude=%{x}<br>Latitude=%{y}<extra></extra>",
         "legendgroup": "52.050000000000004_5.12",
         "marker": {
          "color": "#ab63fa",
          "symbol": "circle"
         },
         "mode": "markers",
         "name": "52.050000000000004_5.12",
         "orientation": "v",
         "showlegend": true,
         "type": "scatter",
         "x": {
          "bdata": "P4wQHm18FEA9fm/Tn30UQOscA7LXexRAIGPuWkJ+FEDKiXYVUn4UQFch5SfVfhRA",
          "dtype": "f8"
         },
         "xaxis": "x",
         "y": {
          "bdata": "tLCnHf4GSkAe3J212wZKQJfiqrLvBkpAJuSDns0GSkCP39v0ZwdKQCy3tBoSB0pA",
          "dtype": "f8"
         },
         "yaxis": "y"
        },
        {
         "hovertemplate": "pickup_grid_id=52.06_5.07<br>Longitude=%{x}<br>Latitude=%{y}<extra></extra>",
         "legendgroup": "52.06_5.07",
         "marker": {
          "color": "#FFA15A",
          "symbol": "circle"
         },
         "mode": "markers",
         "name": "52.06_5.07",
         "orientation": "v",
         "showlegend": true,
         "type": "scatter",
         "x": {
          "bdata": "XYqryr5LFEBE3QcgtUkUQHUfgNQmThRAKgDGM2hIFEBblNkgk0wUQEJD/wQXSxRA",
          "dtype": "f8"
         },
         "xaxis": "x",
         "y": {
          "bdata": "nWhXIeUHSkB5knTN5AdKQA5KmGn7B0pA5E7pYP0HSkCH+fIC7AdKQHmvWpnwB0pA",
          "dtype": "f8"
         },
         "yaxis": "y"
        },
        {
         "hovertemplate": "pickup_grid_id=52.050000000000004_5.11<br>Longitude=%{x}<br>Latitude=%{y}<extra></extra>",
         "legendgroup": "52.050000000000004_5.11",
         "marker": {
          "color": "#19d3f3",
          "symbol": "circle"
         },
         "mode": "markers",
         "name": "52.050000000000004_5.11",
         "orientation": "v",
         "showlegend": true,
         "type": "scatter",
         "x": {
          "bdata": "ZRniWBd3FEBHrMWnAHgUQAouVtRgehRAEJIFTOB2FEBMjjulg3UUQE34pX7edBRAYJM16iF6FECDNGPRdHYUQEku/yH9dhRA",
          "dtype": "f8"
         },
         "xaxis": "x",
         "y": {
          "bdata": "8wLso1MHSkDBi76CNAdKQKW9wRcmB0pAwmnBi74GSkB6GcVySwdKQPNxbagYB0pA10y+2eYGSkDzyB8MPAdKQG2tLxLaBkpA",
          "dtype": "f8"
         },
         "yaxis": "y"
        },
        {
         "hovertemplate": "pickup_grid_id=52.36_4.89<br>Longitude=%{x}<br>Latitude=%{y}<extra></extra>",
         "legendgroup": "52.36_4.89",
         "marker": {
          "color": "#FF6692",
          "symbol": "circle"
         },
         "mode": "markers",
         "name": "52.36_4.89",
         "orientation": "v",
         "showlegend": true,
         "type": "scatter",
         "x": {
          "bdata": "fgBSmziZE0DxLhfxnZgTQEhQ/BhzlxNA001iEFiZE0A=",
          "dtype": "f8"
         },
         "xaxis": "x",
         "y": {
          "bdata": "7l9ZaVIuSkDL+PcZFy5KQJ88LNSaLkpAEd+JWS8uSkA=",
          "dtype": "f8"
         },
         "yaxis": "y"
        },
        {
         "hovertemplate": "pickup_grid_id=52.34_4.8500000000000005<br>Longitude=%{x}<br>Latitude=%{y}<extra></extra>",
         "legendgroup": "52.34_4.8500000000000005",
         "marker": {
          "color": "#B6E880",
          "symbol": "circle"
         },
         "mode": "markers",
         "name": "52.34_4.8500000000000005",
         "orientation": "v",
         "showlegend": true,
         "type": "scatter",
         "x": {
          "bdata": "ECOERxtnE0A=",
          "dtype": "f8"
         },
         "xaxis": "x",
         "y": {
          "bdata": "AKlNnNwrSkA=",
          "dtype": "f8"
         },
         "yaxis": "y"
        },
        {
         "hovertemplate": "pickup_grid_id=52.02_4.32<br>Longitude=%{x}<br>Latitude=%{y}<extra></extra>",
         "legendgroup": "52.02_4.32",
         "marker": {
          "color": "#FF97FF",
          "symbol": "circle"
         },
         "mode": "markers",
         "name": "52.02_4.32",
         "orientation": "v",
         "showlegend": true,
         "type": "scatter",
         "x": {
          "bdata": "NpNvtrlREUA=",
          "dtype": "f8"
         },
         "xaxis": "x",
         "y": {
          "bdata": "MqzijcwDSkA=",
          "dtype": "f8"
         },
         "yaxis": "y"
        },
        {
         "hovertemplate": "pickup_grid_id=51.480000000000004_5.44<br>Longitude=%{x}<br>Latitude=%{y}<extra></extra>",
         "legendgroup": "51.480000000000004_5.44",
         "marker": {
          "color": "#FECB52",
          "symbol": "circle"
         },
         "mode": "markers",
         "name": "51.480000000000004_5.44",
         "orientation": "v",
         "showlegend": true,
         "type": "scatter",
         "x": {
          "bdata": "BvUtc7rMFUBClZo90MoVQA==",
          "dtype": "f8"
         },
         "xaxis": "x",
         "y": {
          "bdata": "PfIHA8+9SUAE4nX9gr1JQA==",
          "dtype": "f8"
         },
         "yaxis": "y"
        },
        {
         "hovertemplate": "pickup_grid_id=51.9_4.49<br>Longitude=%{x}<br>Latitude=%{y}<extra></extra>",
         "legendgroup": "51.9_4.49",
         "marker": {
          "color": "#636efa",
          "symbol": "circle"
         },
         "mode": "markers",
         "name": "51.9_4.49",
         "orientation": "v",
         "showlegend": true,
         "type": "scatter",
         "x": {
          "bdata": "krOwpx3+EUA=",
          "dtype": "f8"
         },
         "xaxis": "x",
         "y": {
          "bdata": "yM1wAz7zSUA=",
          "dtype": "f8"
         },
         "yaxis": "y"
        },
        {
         "hovertemplate": "pickup_grid_id=52.11_5.13<br>Longitude=%{x}<br>Latitude=%{y}<extra></extra>",
         "legendgroup": "52.11_5.13",
         "marker": {
          "color": "#EF553B",
          "symbol": "circle"
         },
         "mode": "markers",
         "name": "52.11_5.13",
         "orientation": "v",
         "showlegend": true,
         "type": "scatter",
         "x": {
          "bdata": "9bnaiv2FFEDuPVxy3IkUQNBE2PD0ihRACAPPvYeLFEBiEFg5tIgUQA==",
          "dtype": "f8"
         },
         "xaxis": "x",
         "y": {
          "bdata": "/FI/byoOSkDSHcTOFA5KQOCEQgQcDkpAUWaDTDIOSkBgdk8eFg5KQA==",
          "dtype": "f8"
         },
         "yaxis": "y"
        },
        {
         "hovertemplate": "pickup_grid_id=52.08_5.16<br>Longitude=%{x}<br>Latitude=%{y}<extra></extra>",
         "legendgroup": "52.08_5.16",
         "marker": {
          "color": "#00cc96",
          "symbol": "circle"
         },
         "mode": "markers",
         "name": "52.08_5.16",
         "orientation": "v",
         "showlegend": true,
         "type": "scatter",
         "x": {
          "bdata": "KgDGM2ioFEDxY8xdS6gUQLcLzXUaqRRAob5lTpelFEDVBFH3AagUQO+P96qVqRRAe737472qFEAniLoPQKoUQKDgYkUNphRAv/G1Z5akFEDZlCu8y6UUQA==",
          "dtype": "f8"
         },
         "xaxis": "x",
         "y": {
          "bdata": "mN2Th4UKSkDQJ/Ik6QpKQLtE9dbACkpAUb01sFUKSkDmXIqrygpKQHTv4ZLjCkpArVEP0egKSkCYbhKDwApKQINuL2mMCkpA7Q2+MJkKSkAtCVBTywpKQA==",
          "dtype": "f8"
         },
         "yaxis": "y"
        },
        {
         "hovertemplate": "pickup_grid_id=52.08_4.25<br>Longitude=%{x}<br>Latitude=%{y}<extra></extra>",
         "legendgroup": "52.08_4.25",
         "marker": {
          "color": "#ab63fa",
          "symbol": "circle"
         },
         "mode": "markers",
         "name": "52.08_4.25",
         "orientation": "v",
         "showlegend": true,
         "type": "scatter",
         "x": {
          "bdata": "VYfcDDcAEUAXt9EA3gIRQIwVNZiGARFAxY8xdy0BEUAXK2owDQMRQG3KFd7lAhFAU7MHWoEBEUBsPq4NFQMRQA==",
          "dtype": "f8"
         },
         "xaxis": "x",
         "y": {
          "bdata": "HXIz3IALSkDJk6RrJgtKQM+goX+CC0pApKXydoQLSkAPC7WmeQtKQAnh0cYRC0pAVwkWhzMLSkBBt5c0RgtKQA==",
          "dtype": "f8"
         },
         "yaxis": "y"
        },
        {
         "hovertemplate": "pickup_grid_id=52.02_4.33<br>Longitude=%{x}<br>Latitude=%{y}<extra></extra>",
         "legendgroup": "52.02_4.33",
         "marker": {
          "color": "#FFA15A",
          "symbol": "circle"
         },
         "mode": "markers",
         "name": "52.02_4.33",
         "orientation": "v",
         "showlegend": true,
         "type": "scatter",
         "x": {
          "bdata": "4Nv0Zz9SEUBNvtnmxlQRQA==",
          "dtype": "f8"
         },
         "xaxis": "x",
         "y": {
          "bdata": "HSCYo8cDSkBk6UMX1ANKQA==",
          "dtype": "f8"
         },
         "yaxis": "y"
        },
        {
         "hovertemplate": "pickup_grid_id=51.46_5.5200000000000005<br>Longitude=%{x}<br>Latitude=%{y}<extra></extra>",
         "legendgroup": "51.46_5.5200000000000005",
         "marker": {
          "color": "#19d3f3",
          "symbol": "circle"
         },
         "mode": "markers",
         "name": "51.46_5.5200000000000005",
         "orientation": "v",
         "showlegend": true,
         "type": "scatter",
         "x": {
          "bdata": "vw6cM6IUFkBk6UMX1BcWQGnjiLX4FBZA+HDJcacUFkCEKjV7oBUWQA==",
          "dtype": "f8"
         },
         "xaxis": "x",
         "y": {
          "bdata": "cvkP6be7SUArajANw7tJQHPXEvJBu0lAnrXbLjS7SUCyutVz0rtJQA==",
          "dtype": "f8"
         },
         "yaxis": "y"
        },
        {
         "hovertemplate": "pickup_grid_id=52.08_4.24<br>Longitude=%{x}<br>Latitude=%{y}<extra></extra>",
         "legendgroup": "52.08_4.24",
         "marker": {
          "color": "#FF6692",
          "symbol": "circle"
         },
         "mode": "markers",
         "name": "52.08_4.24",
         "orientation": "v",
         "showlegend": true,
         "type": "scatter",
         "x": {
          "bdata": "d/hrskb9EECvfJbnwf0QQCZTBaOS+hBAJ/c7FAX6EEDluFM6WP8QQFmjHqLR/RBAchb2tMP/EEDJk6RrJv8QQCjVPh2P+RBA",
          "dtype": "f8"
         },
         "xaxis": "x",
         "y": {
          "bdata": "ArwFEhQLSkCP/MHAcwtKQDoeM1AZC0pAesISDygLSkAlehnFcgtKQF3cRgN4C0pA7DTSUnkLSkCQ96qVCQtKQElL5e0IC0pA",
          "dtype": "f8"
         },
         "yaxis": "y"
        },
        {
         "hovertemplate": "pickup_grid_id=51.46_5.51<br>Longitude=%{x}<br>Latitude=%{y}<extra></extra>",
         "legendgroup": "51.46_5.51",
         "marker": {
          "color": "#B6E880",
          "symbol": "circle"
         },
         "mode": "markers",
         "name": "51.46_5.51",
         "orientation": "v",
         "showlegend": true,
         "type": "scatter",
         "x": {
          "bdata": "+MJkqmAUFkDcY+lDFxQWQHNLqyFxDxZAdAexM4UOFkBZbmk1JA4WQHLhQEgWEBZAiPTb14ETFkA0SwLU1BIWQOPfZ1w4EBZAxJRIopcRFkBV3o5wWhAWQGwhyEEJExZAby9pjNYRFkA=",
          "dtype": "f8"
         },
         "xaxis": "x",
         "y": {
          "bdata": "wW7Ytii7SUBBmrFoOrtJQLml1ZC4u0lASKeufJa7SUB6whIPKLtJQCXpmsk3u0lAngyOkle7SUBPdcjNcLtJQDp6/N6mu0lAliGOdXG7SUAkKH6MubtJQPJBz2bVu0lAgc8PI4S7SUA=",
          "dtype": "f8"
         },
         "yaxis": "y"
        },
        {
         "hovertemplate": "pickup_grid_id=51.95_4.5200000000000005<br>Longitude=%{x}<br>Latitude=%{y}<extra></extra>",
         "legendgroup": "51.95_4.5200000000000005",
         "marker": {
          "color": "#FF97FF",
          "symbol": "circle"
         },
         "mode": "markers",
         "name": "51.95_4.5200000000000005",
         "orientation": "v",
         "showlegend": true,
         "type": "scatter",
         "x": {
          "bdata": "g0wychYWEkDzAuyjUxcSQPGAsilXGBJAD9b/OcwXEkDZ690f7xUSQA==",
          "dtype": "f8"
         },
         "xaxis": "x",
         "y": {
          "bdata": "X16AfXT6SUDtR4rIsPpJQN/42jNL+klAg6Pk1Tn6SUBK0jWTb/pJQA==",
          "dtype": "f8"
         },
         "yaxis": "y"
        },
        {
         "hovertemplate": "pickup_grid_id=52.04_4.29<br>Longitude=%{x}<br>Latitude=%{y}<extra></extra>",
         "legendgroup": "52.04_4.29",
         "marker": {
          "color": "#FECB52",
          "symbol": "circle"
         },
         "mode": "markers",
         "name": "52.04_4.29",
         "orientation": "v",
         "showlegend": true,
         "type": "scatter",
         "x": {
          "bdata": "Bg39E1wsEUCuga0SLC4RQDsZHCWvLhFA0gDeAgkqEUDOiNLe4CsRQA==",
          "dtype": "f8"
         },
         "xaxis": "x",
         "y": {
          "bdata": "/bypSIUFSkCgibDh6QVKQGEaho+IBUpARBfUt8wFSkCo4zEDlQVKQA==",
          "dtype": "f8"
         },
         "yaxis": "y"
        },
        {
         "hovertemplate": "pickup_grid_id=51.94_4.5200000000000005<br>Longitude=%{x}<br>Latitude=%{y}<extra></extra>",
         "legendgroup": "51.94_4.5200000000000005",
         "marker": {
          "color": "#636efa",
          "symbol": "circle"
         },
         "mode": "markers",
         "name": "51.94_4.5200000000000005",
         "orientation": "v",
         "showlegend": true,
         "type": "scatter",
         "x": {
          "bdata": "E7h1N08VEkBM4NbdPBUSQBN+qZ83FRJA",
          "dtype": "f8"
         },
         "xaxis": "x",
         "y": {
          "bdata": "KXl1jgH5SUBpjNZR1fhJQGLboswG+UlA",
          "dtype": "f8"
         },
         "yaxis": "y"
        },
        {
         "hovertemplate": "pickup_grid_id=52.4_4.95<br>Longitude=%{x}<br>Latitude=%{y}<extra></extra>",
         "legendgroup": "52.4_4.95",
         "marker": {
          "color": "#EF553B",
          "symbol": "circle"
         },
         "mode": "markers",
         "name": "52.4_4.95",
         "orientation": "v",
         "showlegend": true,
         "type": "scatter",
         "x": {
          "bdata": "IhrdQezME0AgJAuYwM0TQA==",
          "dtype": "f8"
         },
         "xaxis": "x",
         "y": {
          "bdata": "HThnRGkzSkA5KGGm7TNKQA==",
          "dtype": "f8"
         },
         "yaxis": "y"
        },
        {
         "hovertemplate": "pickup_grid_id=52.36_4.92<br>Longitude=%{x}<br>Latitude=%{y}<extra></extra>",
         "legendgroup": "52.36_4.92",
         "marker": {
          "color": "#00cc96",
          "symbol": "circle"
         },
         "mode": "markers",
         "name": "52.36_4.92",
         "orientation": "v",
         "showlegend": true,
         "type": "scatter",
         "x": {
          "bdata": "v4I0Y9G0E0CdhT3t8LcTQPIMGvonuBNAZDvfT423E0Ar2bERiLcTQPdY+tAFtRNA3BFOC160E0BoP1JEhrUTQA==",
          "dtype": "f8"
         },
         "xaxis": "x",
         "y": {
          "bdata": "gnNGlPYuSkCDNGPRdC5KQBcrajANL0pAl8XE5uMuSkDl7QinBS9KQF8M5US7LkpAbcoV3uUuSkBtrS8S2i5KQA==",
          "dtype": "f8"
         },
         "yaxis": "y"
        },
        {
         "hovertemplate": "pickup_grid_id=52.07_5.16<br>Longitude=%{x}<br>Latitude=%{y}<extra></extra>",
         "legendgroup": "52.07_5.16",
         "marker": {
          "color": "#ab63fa",
          "symbol": "circle"
         },
         "mode": "markers",
         "name": "52.07_5.16",
         "orientation": "v",
         "showlegend": true,
         "type": "scatter",
         "x": {
          "bdata": "uycPC7WmFEA=",
          "dtype": "f8"
         },
         "xaxis": "x",
         "y": {
          "bdata": "7iWN0ToKSkA=",
          "dtype": "f8"
         },
         "yaxis": "y"
        },
        {
         "hovertemplate": "pickup_grid_id=52.03_4.32<br>Longitude=%{x}<br>Latitude=%{y}<extra></extra>",
         "legendgroup": "52.03_4.32",
         "marker": {
          "color": "#FFA15A",
          "symbol": "circle"
         },
         "mode": "markers",
         "name": "52.03_4.32",
         "orientation": "v",
         "showlegend": true,
         "type": "scatter",
         "x": {
          "bdata": "jBAebRxREUA=",
          "dtype": "f8"
         },
         "xaxis": "x",
         "y": {
          "bdata": "nBa86CsESkA=",
          "dtype": "f8"
         },
         "yaxis": "y"
        },
        {
         "hovertemplate": "pickup_grid_id=52.09_4.24<br>Longitude=%{x}<br>Latitude=%{y}<extra></extra>",
         "legendgroup": "52.09_4.24",
         "marker": {
          "color": "#19d3f3",
          "symbol": "circle"
         },
         "mode": "markers",
         "name": "52.09_4.24",
         "orientation": "v",
         "showlegend": true,
         "type": "scatter",
         "x": {
          "bdata": "lE25wrv8EEBzgGCOHv8QQJV9VwT/+xBAfCx96IL6EECu8C4X8f0QQA==",
          "dtype": "f8"
         },
         "xaxis": "x",
         "y": {
          "bdata": "T+lg/Z8LSkCdnQyOkgtKQDm0yHa+C0pACHdn7bYLSkD6uDZUjAtKQA==",
          "dtype": "f8"
         },
         "yaxis": "y"
        },
        {
         "hovertemplate": "pickup_grid_id=52.06_5.0600000000000005<br>Longitude=%{x}<br>Latitude=%{y}<extra></extra>",
         "legendgroup": "52.06_5.0600000000000005",
         "marker": {
          "color": "#FF6692",
          "symbol": "circle"
         },
         "mode": "markers",
         "name": "52.06_5.0600000000000005",
         "orientation": "v",
         "showlegend": true,
         "type": "scatter",
         "x": {
          "bdata": "2QjE6/pFFEBl/PuMC0cUQA==",
          "dtype": "f8"
         },
         "xaxis": "x",
         "y": {
          "bdata": "8gcDz70HSkCdhT3t8AdKQA==",
          "dtype": "f8"
         },
         "yaxis": "y"
        },
        {
         "hovertemplate": "pickup_grid_id=52.35_4.89<br>Longitude=%{x}<br>Latitude=%{y}<extra></extra>",
         "legendgroup": "52.35_4.89",
         "marker": {
          "color": "#B6E880",
          "symbol": "circle"
         },
         "mode": "markers",
         "name": "52.35_4.89",
         "orientation": "v",
         "showlegend": true,
         "type": "scatter",
         "x": {
          "bdata": "Y5eo3hqYE0Ce76fGS5cTQA==",
          "dtype": "f8"
         },
         "xaxis": "x",
         "y": {
          "bdata": "LsVVZd8tSkCZgcr49y1KQA==",
          "dtype": "f8"
         },
         "yaxis": "y"
        },
        {
         "hovertemplate": "pickup_grid_id=51.88_4.42<br>Longitude=%{x}<br>Latitude=%{y}<extra></extra>",
         "legendgroup": "51.88_4.42",
         "marker": {
          "color": "#FF97FF",
          "symbol": "circle"
         },
         "mode": "markers",
         "name": "51.88_4.42",
         "orientation": "v",
         "showlegend": true,
         "type": "scatter",
         "x": {
          "bdata": "S7A4nPm1EUCDbi9pjLYRQBO4dTdPtRFA9KYiFca2EUA=",
          "dtype": "f8"
         },
         "xaxis": "x",
         "y": {
          "bdata": "zHoxlBPxSUAgJAuYwPFJQKG+ZU6X8UlAL4uJzcfxSUA=",
          "dtype": "f8"
         },
         "yaxis": "y"
        },
        {
         "hovertemplate": "pickup_grid_id=52.1_5.12<br>Longitude=%{x}<br>Latitude=%{y}<extra></extra>",
         "legendgroup": "52.1_5.12",
         "marker": {
          "color": "#FECB52",
          "symbol": "circle"
         },
         "mode": "markers",
         "name": "52.1_5.12",
         "orientation": "v",
         "showlegend": true,
         "type": "scatter",
         "x": {
          "bdata": "3C4012mEFEDcRgN4C4QUQA==",
          "dtype": "f8"
         },
         "xaxis": "x",
         "y": {
          "bdata": "YRqGj4gNSkC2+BQA4w1KQA==",
          "dtype": "f8"
         },
         "yaxis": "y"
        },
        {
         "hovertemplate": "pickup_grid_id=51.89_4.48<br>Longitude=%{x}<br>Latitude=%{y}<extra></extra>",
         "legendgroup": "51.89_4.48",
         "marker": {
          "color": "#636efa",
          "symbol": "circle"
         },
         "mode": "markers",
         "name": "51.89_4.48",
         "orientation": "v",
         "showlegend": true,
         "type": "scatter",
         "x": {
          "bdata": "vRjKiXb1EUAwL8A+OvURQGpN845T9BFA",
          "dtype": "f8"
         },
         "xaxis": "x",
         "y": {
          "bdata": "tMh2vp/ySUAJ4dHGEfNJQBAjhEcb80lA",
          "dtype": "f8"
         },
         "yaxis": "y"
        },
        {
         "hovertemplate": "pickup_grid_id=52.33_4.89<br>Longitude=%{x}<br>Latitude=%{y}<extra></extra>",
         "legendgroup": "52.33_4.89",
         "marker": {
          "color": "#EF553B",
          "symbol": "circle"
         },
         "mode": "markers",
         "name": "52.33_4.89",
         "orientation": "v",
         "showlegend": true,
         "type": "scatter",
         "x": {
          "bdata": "D7QCQ1aXE0C3Yn/ZPZkTQA==",
          "dtype": "f8"
         },
         "xaxis": "x",
         "y": {
          "bdata": "XyS05VwqSkB88rBQaypKQA==",
          "dtype": "f8"
         },
         "yaxis": "y"
        },
        {
         "hovertemplate": "pickup_grid_id=52.07_4.2700000000000005<br>Longitude=%{x}<br>Latitude=%{y}<extra></extra>",
         "legendgroup": "52.07_4.2700000000000005",
         "marker": {
          "color": "#00cc96",
          "symbol": "circle"
         },
         "mode": "markers",
         "name": "52.07_4.2700000000000005",
         "orientation": "v",
         "showlegend": true,
         "type": "scatter",
         "x": {
          "bdata": "Az4/jBAeEUB1yM1wAx4RQA==",
          "dtype": "f8"
         },
         "xaxis": "x",
         "y": {
          "bdata": "LlbUYBoKSkDEX5M16glKQA==",
          "dtype": "f8"
         },
         "yaxis": "y"
        },
        {
         "hovertemplate": "pickup_grid_id=52.08_4.2700000000000005<br>Longitude=%{x}<br>Latitude=%{y}<extra></extra>",
         "legendgroup": "52.08_4.2700000000000005",
         "marker": {
          "color": "#ab63fa",
          "symbol": "circle"
         },
         "mode": "markers",
         "name": "52.08_4.2700000000000005",
         "orientation": "v",
         "showlegend": true,
         "type": "scatter",
         "x": {
          "bdata": "PKBsyhUeEUA=",
          "dtype": "f8"
         },
         "xaxis": "x",
         "y": {
          "bdata": "iuWWVkMKSkA=",
          "dtype": "f8"
         },
         "yaxis": "y"
        },
        {
         "hovertemplate": "pickup_grid_id=51.47_5.44<br>Longitude=%{x}<br>Latitude=%{y}<extra></extra>",
         "legendgroup": "51.47_5.44",
         "marker": {
          "color": "#FFA15A",
          "symbol": "circle"
         },
         "mode": "markers",
         "name": "51.47_5.44",
         "orientation": "v",
         "showlegend": true,
         "type": "scatter",
         "x": {
          "bdata": "Qs9m1efKFUDvG197ZskVQA==",
          "dtype": "f8"
         },
         "xaxis": "x",
         "y": {
          "bdata": "8Irgfyu9SUB324XmOr1JQA==",
          "dtype": "f8"
         },
         "yaxis": "y"
        },
        {
         "hovertemplate": "pickup_grid_id=51.9_4.45<br>Longitude=%{x}<br>Latitude=%{y}<extra></extra>",
         "legendgroup": "51.9_4.45",
         "marker": {
          "color": "#19d3f3",
          "symbol": "circle"
         },
         "mode": "markers",
         "name": "51.9_4.45",
         "orientation": "v",
         "showlegend": true,
         "type": "scatter",
         "x": {
          "bdata": "VDpY/+fQEUA=",
          "dtype": "f8"
         },
         "xaxis": "x",
         "y": {
          "bdata": "zeSbbW70SUA=",
          "dtype": "f8"
         },
         "yaxis": "y"
        },
        {
         "hovertemplate": "pickup_grid_id=52.11_5.12<br>Longitude=%{x}<br>Latitude=%{y}<extra></extra>",
         "legendgroup": "52.11_5.12",
         "marker": {
          "color": "#FF6692",
          "symbol": "circle"
         },
         "mode": "markers",
         "name": "52.11_5.12",
         "orientation": "v",
         "showlegend": true,
         "type": "scatter",
         "x": {
          "bdata": "hslUwaiEFEA=",
          "dtype": "f8"
         },
         "xaxis": "x",
         "y": {
          "bdata": "krOwpx0OSkA=",
          "dtype": "f8"
         },
         "yaxis": "y"
        },
        {
         "hovertemplate": "pickup_grid_id=52.050000000000004_5.0600000000000005<br>Longitude=%{x}<br>Latitude=%{y}<extra></extra>",
         "legendgroup": "52.050000000000004_5.0600000000000005",
         "marker": {
          "color": "#B6E880",
          "symbol": "circle"
         },
         "mode": "markers",
         "name": "52.050000000000004_5.0600000000000005",
         "orientation": "v",
         "showlegend": true,
         "type": "scatter",
         "x": {
          "bdata": "Tn/2I0VEFEA=",
          "dtype": "f8"
         },
         "xaxis": "x",
         "y": {
          "bdata": "c2iR7XwHSkA=",
          "dtype": "f8"
         },
         "yaxis": "y"
        },
        {
         "hovertemplate": "pickup_grid_id=52.08_5.15<br>Longitude=%{x}<br>Latitude=%{y}<extra></extra>",
         "legendgroup": "52.08_5.15",
         "marker": {
          "color": "#FF97FF",
          "symbol": "circle"
         },
         "mode": "markers",
         "name": "52.08_5.15",
         "orientation": "v",
         "showlegend": true,
         "type": "scatter",
         "x": {
          "bdata": "w7tcxHeiFEA=",
          "dtype": "f8"
         },
         "xaxis": "x",
         "y": {
          "bdata": "u2HboswKSkA=",
          "dtype": "f8"
         },
         "yaxis": "y"
        },
        {
         "hovertemplate": "pickup_grid_id=52.39_4.94<br>Longitude=%{x}<br>Latitude=%{y}<extra></extra>",
         "legendgroup": "52.39_4.94",
         "marker": {
          "color": "#FECB52",
          "symbol": "circle"
         },
         "mode": "markers",
         "name": "52.39_4.94",
         "orientation": "v",
         "showlegend": true,
         "type": "scatter",
         "x": {
          "bdata": "gJ9x4UDIE0A=",
          "dtype": "f8"
         },
         "xaxis": "x",
         "y": {
          "bdata": "EF1Q3zIzSkA=",
          "dtype": "f8"
         },
         "yaxis": "y"
        },
        {
         "hovertemplate": "pickup_grid_id=52.32_4.89<br>Longitude=%{x}<br>Latitude=%{y}<extra></extra>",
         "legendgroup": "52.32_4.89",
         "marker": {
          "color": "#636efa",
          "symbol": "circle"
         },
         "mode": "markers",
         "name": "52.32_4.89",
         "orientation": "v",
         "showlegend": true,
         "type": "scatter",
         "x": {
          "bdata": "uhRXlX2XE0A=",
          "dtype": "f8"
         },
         "xaxis": "x",
         "y": {
          "bdata": "7iWN0ToqSkA=",
          "dtype": "f8"
         },
         "yaxis": "y"
        },
        {
         "hovertemplate": "pickup_grid_id=52.09_4.25<br>Longitude=%{x}<br>Latitude=%{y}<extra></extra>",
         "legendgroup": "52.09_4.25",
         "marker": {
          "color": "#EF553B",
          "symbol": "circle"
         },
         "mode": "markers",
         "name": "52.09_4.25",
         "orientation": "v",
         "showlegend": true,
         "type": "scatter",
         "x": {
          "bdata": "cHztmSUBEUA=",
          "dtype": "f8"
         },
         "xaxis": "x",
         "y": {
          "bdata": "5KCEmbYLSkA=",
          "dtype": "f8"
         },
         "yaxis": "y"
        }
       ],
       "layout": {
        "legend": {
         "title": {
          "text": "pickup_grid_id"
         },
         "tracegroupgap": 0
        },
        "showlegend": false,
        "template": {
         "data": {
          "bar": [
           {
            "error_x": {
             "color": "#2a3f5f"
            },
            "error_y": {
             "color": "#2a3f5f"
            },
            "marker": {
             "line": {
              "color": "#E5ECF6",
              "width": 0.5
             },
             "pattern": {
              "fillmode": "overlay",
              "size": 10,
              "solidity": 0.2
             }
            },
            "type": "bar"
           }
          ],
          "barpolar": [
           {
            "marker": {
             "line": {
              "color": "#E5ECF6",
              "width": 0.5
             },
             "pattern": {
              "fillmode": "overlay",
              "size": 10,
              "solidity": 0.2
             }
            },
            "type": "barpolar"
           }
          ],
          "carpet": [
           {
            "aaxis": {
             "endlinecolor": "#2a3f5f",
             "gridcolor": "white",
             "linecolor": "white",
             "minorgridcolor": "white",
             "startlinecolor": "#2a3f5f"
            },
            "baxis": {
             "endlinecolor": "#2a3f5f",
             "gridcolor": "white",
             "linecolor": "white",
             "minorgridcolor": "white",
             "startlinecolor": "#2a3f5f"
            },
            "type": "carpet"
           }
          ],
          "choropleth": [
           {
            "colorbar": {
             "outlinewidth": 0,
             "ticks": ""
            },
            "type": "choropleth"
           }
          ],
          "contour": [
           {
            "colorbar": {
             "outlinewidth": 0,
             "ticks": ""
            },
            "colorscale": [
             [
              0,
              "#0d0887"
             ],
             [
              0.1111111111111111,
              "#46039f"
             ],
             [
              0.2222222222222222,
              "#7201a8"
             ],
             [
              0.3333333333333333,
              "#9c179e"
             ],
             [
              0.4444444444444444,
              "#bd3786"
             ],
             [
              0.5555555555555556,
              "#d8576b"
             ],
             [
              0.6666666666666666,
              "#ed7953"
             ],
             [
              0.7777777777777778,
              "#fb9f3a"
             ],
             [
              0.8888888888888888,
              "#fdca26"
             ],
             [
              1,
              "#f0f921"
             ]
            ],
            "type": "contour"
           }
          ],
          "contourcarpet": [
           {
            "colorbar": {
             "outlinewidth": 0,
             "ticks": ""
            },
            "type": "contourcarpet"
           }
          ],
          "heatmap": [
           {
            "colorbar": {
             "outlinewidth": 0,
             "ticks": ""
            },
            "colorscale": [
             [
              0,
              "#0d0887"
             ],
             [
              0.1111111111111111,
              "#46039f"
             ],
             [
              0.2222222222222222,
              "#7201a8"
             ],
             [
              0.3333333333333333,
              "#9c179e"
             ],
             [
              0.4444444444444444,
              "#bd3786"
             ],
             [
              0.5555555555555556,
              "#d8576b"
             ],
             [
              0.6666666666666666,
              "#ed7953"
             ],
             [
              0.7777777777777778,
              "#fb9f3a"
             ],
             [
              0.8888888888888888,
              "#fdca26"
             ],
             [
              1,
              "#f0f921"
             ]
            ],
            "type": "heatmap"
           }
          ],
          "histogram": [
           {
            "marker": {
             "pattern": {
              "fillmode": "overlay",
              "size": 10,
              "solidity": 0.2
             }
            },
            "type": "histogram"
           }
          ],
          "histogram2d": [
           {
            "colorbar": {
             "outlinewidth": 0,
             "ticks": ""
            },
            "colorscale": [
             [
              0,
              "#0d0887"
             ],
             [
              0.1111111111111111,
              "#46039f"
             ],
             [
              0.2222222222222222,
              "#7201a8"
             ],
             [
              0.3333333333333333,
              "#9c179e"
             ],
             [
              0.4444444444444444,
              "#bd3786"
             ],
             [
              0.5555555555555556,
              "#d8576b"
             ],
             [
              0.6666666666666666,
              "#ed7953"
             ],
             [
              0.7777777777777778,
              "#fb9f3a"
             ],
             [
              0.8888888888888888,
              "#fdca26"
             ],
             [
              1,
              "#f0f921"
             ]
            ],
            "type": "histogram2d"
           }
          ],
          "histogram2dcontour": [
           {
            "colorbar": {
             "outlinewidth": 0,
             "ticks": ""
            },
            "colorscale": [
             [
              0,
              "#0d0887"
             ],
             [
              0.1111111111111111,
              "#46039f"
             ],
             [
              0.2222222222222222,
              "#7201a8"
             ],
             [
              0.3333333333333333,
              "#9c179e"
             ],
             [
              0.4444444444444444,
              "#bd3786"
             ],
             [
              0.5555555555555556,
              "#d8576b"
             ],
             [
              0.6666666666666666,
              "#ed7953"
             ],
             [
              0.7777777777777778,
              "#fb9f3a"
             ],
             [
              0.8888888888888888,
              "#fdca26"
             ],
             [
              1,
              "#f0f921"
             ]
            ],
            "type": "histogram2dcontour"
           }
          ],
          "mesh3d": [
           {
            "colorbar": {
             "outlinewidth": 0,
             "ticks": ""
            },
            "type": "mesh3d"
           }
          ],
          "parcoords": [
           {
            "line": {
             "colorbar": {
              "outlinewidth": 0,
              "ticks": ""
             }
            },
            "type": "parcoords"
           }
          ],
          "pie": [
           {
            "automargin": true,
            "type": "pie"
           }
          ],
          "scatter": [
           {
            "fillpattern": {
             "fillmode": "overlay",
             "size": 10,
             "solidity": 0.2
            },
            "type": "scatter"
           }
          ],
          "scatter3d": [
           {
            "line": {
             "colorbar": {
              "outlinewidth": 0,
              "ticks": ""
             }
            },
            "marker": {
             "colorbar": {
              "outlinewidth": 0,
              "ticks": ""
             }
            },
            "type": "scatter3d"
           }
          ],
          "scattercarpet": [
           {
            "marker": {
             "colorbar": {
              "outlinewidth": 0,
              "ticks": ""
             }
            },
            "type": "scattercarpet"
           }
          ],
          "scattergeo": [
           {
            "marker": {
             "colorbar": {
              "outlinewidth": 0,
              "ticks": ""
             }
            },
            "type": "scattergeo"
           }
          ],
          "scattergl": [
           {
            "marker": {
             "colorbar": {
              "outlinewidth": 0,
              "ticks": ""
             }
            },
            "type": "scattergl"
           }
          ],
          "scattermap": [
           {
            "marker": {
             "colorbar": {
              "outlinewidth": 0,
              "ticks": ""
             }
            },
            "type": "scattermap"
           }
          ],
          "scattermapbox": [
           {
            "marker": {
             "colorbar": {
              "outlinewidth": 0,
              "ticks": ""
             }
            },
            "type": "scattermapbox"
           }
          ],
          "scatterpolar": [
           {
            "marker": {
             "colorbar": {
              "outlinewidth": 0,
              "ticks": ""
             }
            },
            "type": "scatterpolar"
           }
          ],
          "scatterpolargl": [
           {
            "marker": {
             "colorbar": {
              "outlinewidth": 0,
              "ticks": ""
             }
            },
            "type": "scatterpolargl"
           }
          ],
          "scatterternary": [
           {
            "marker": {
             "colorbar": {
              "outlinewidth": 0,
              "ticks": ""
             }
            },
            "type": "scatterternary"
           }
          ],
          "surface": [
           {
            "colorbar": {
             "outlinewidth": 0,
             "ticks": ""
            },
            "colorscale": [
             [
              0,
              "#0d0887"
             ],
             [
              0.1111111111111111,
              "#46039f"
             ],
             [
              0.2222222222222222,
              "#7201a8"
             ],
             [
              0.3333333333333333,
              "#9c179e"
             ],
             [
              0.4444444444444444,
              "#bd3786"
             ],
             [
              0.5555555555555556,
              "#d8576b"
             ],
             [
              0.6666666666666666,
              "#ed7953"
             ],
             [
              0.7777777777777778,
              "#fb9f3a"
             ],
             [
              0.8888888888888888,
              "#fdca26"
             ],
             [
              1,
              "#f0f921"
             ]
            ],
            "type": "surface"
           }
          ],
          "table": [
           {
            "cells": {
             "fill": {
              "color": "#EBF0F8"
             },
             "line": {
              "color": "white"
             }
            },
            "header": {
             "fill": {
              "color": "#C8D4E3"
             },
             "line": {
              "color": "white"
             }
            },
            "type": "table"
           }
          ]
         },
         "layout": {
          "annotationdefaults": {
           "arrowcolor": "#2a3f5f",
           "arrowhead": 0,
           "arrowwidth": 1
          },
          "autotypenumbers": "strict",
          "coloraxis": {
           "colorbar": {
            "outlinewidth": 0,
            "ticks": ""
           }
          },
          "colorscale": {
           "diverging": [
            [
             0,
             "#8e0152"
            ],
            [
             0.1,
             "#c51b7d"
            ],
            [
             0.2,
             "#de77ae"
            ],
            [
             0.3,
             "#f1b6da"
            ],
            [
             0.4,
             "#fde0ef"
            ],
            [
             0.5,
             "#f7f7f7"
            ],
            [
             0.6,
             "#e6f5d0"
            ],
            [
             0.7,
             "#b8e186"
            ],
            [
             0.8,
             "#7fbc41"
            ],
            [
             0.9,
             "#4d9221"
            ],
            [
             1,
             "#276419"
            ]
           ],
           "sequential": [
            [
             0,
             "#0d0887"
            ],
            [
             0.1111111111111111,
             "#46039f"
            ],
            [
             0.2222222222222222,
             "#7201a8"
            ],
            [
             0.3333333333333333,
             "#9c179e"
            ],
            [
             0.4444444444444444,
             "#bd3786"
            ],
            [
             0.5555555555555556,
             "#d8576b"
            ],
            [
             0.6666666666666666,
             "#ed7953"
            ],
            [
             0.7777777777777778,
             "#fb9f3a"
            ],
            [
             0.8888888888888888,
             "#fdca26"
            ],
            [
             1,
             "#f0f921"
            ]
           ],
           "sequentialminus": [
            [
             0,
             "#0d0887"
            ],
            [
             0.1111111111111111,
             "#46039f"
            ],
            [
             0.2222222222222222,
             "#7201a8"
            ],
            [
             0.3333333333333333,
             "#9c179e"
            ],
            [
             0.4444444444444444,
             "#bd3786"
            ],
            [
             0.5555555555555556,
             "#d8576b"
            ],
            [
             0.6666666666666666,
             "#ed7953"
            ],
            [
             0.7777777777777778,
             "#fb9f3a"
            ],
            [
             0.8888888888888888,
             "#fdca26"
            ],
            [
             1,
             "#f0f921"
            ]
           ]
          },
          "colorway": [
           "#636efa",
           "#EF553B",
           "#00cc96",
           "#ab63fa",
           "#FFA15A",
           "#19d3f3",
           "#FF6692",
           "#B6E880",
           "#FF97FF",
           "#FECB52"
          ],
          "font": {
           "color": "#2a3f5f"
          },
          "geo": {
           "bgcolor": "white",
           "lakecolor": "white",
           "landcolor": "#E5ECF6",
           "showlakes": true,
           "showland": true,
           "subunitcolor": "white"
          },
          "hoverlabel": {
           "align": "left"
          },
          "hovermode": "closest",
          "mapbox": {
           "style": "light"
          },
          "paper_bgcolor": "white",
          "plot_bgcolor": "#E5ECF6",
          "polar": {
           "angularaxis": {
            "gridcolor": "white",
            "linecolor": "white",
            "ticks": ""
           },
           "bgcolor": "#E5ECF6",
           "radialaxis": {
            "gridcolor": "white",
            "linecolor": "white",
            "ticks": ""
           }
          },
          "scene": {
           "xaxis": {
            "backgroundcolor": "#E5ECF6",
            "gridcolor": "white",
            "gridwidth": 2,
            "linecolor": "white",
            "showbackground": true,
            "ticks": "",
            "zerolinecolor": "white"
           },
           "yaxis": {
            "backgroundcolor": "#E5ECF6",
            "gridcolor": "white",
            "gridwidth": 2,
            "linecolor": "white",
            "showbackground": true,
            "ticks": "",
            "zerolinecolor": "white"
           },
           "zaxis": {
            "backgroundcolor": "#E5ECF6",
            "gridcolor": "white",
            "gridwidth": 2,
            "linecolor": "white",
            "showbackground": true,
            "ticks": "",
            "zerolinecolor": "white"
           }
          },
          "shapedefaults": {
           "line": {
            "color": "#2a3f5f"
           }
          },
          "ternary": {
           "aaxis": {
            "gridcolor": "white",
            "linecolor": "white",
            "ticks": ""
           },
           "baxis": {
            "gridcolor": "white",
            "linecolor": "white",
            "ticks": ""
           },
           "bgcolor": "#E5ECF6",
           "caxis": {
            "gridcolor": "white",
            "linecolor": "white",
            "ticks": ""
           }
          },
          "title": {
           "x": 0.05
          },
          "xaxis": {
           "automargin": true,
           "gridcolor": "white",
           "linecolor": "white",
           "ticks": "",
           "title": {
            "standoff": 15
           },
           "zerolinecolor": "white",
           "zerolinewidth": 2
          },
          "yaxis": {
           "automargin": true,
           "gridcolor": "white",
           "linecolor": "white",
           "ticks": "",
           "title": {
            "standoff": 15
           },
           "zerolinecolor": "white",
           "zerolinewidth": 2
          }
         }
        },
        "title": {
         "text": "Pickup Locations Colored by Grid Cell (Sample of 500)"
        },
        "xaxis": {
         "anchor": "y",
         "domain": [
          0,
          1
         ],
         "title": {
          "text": "Longitude"
         }
        },
        "yaxis": {
         "anchor": "x",
         "domain": [
          0,
          1
         ],
         "title": {
          "text": "Latitude"
         }
        }
       }
      }
     },
     "metadata": {},
     "output_type": "display_data"
    },
    {
     "data": {
      "application/vnd.plotly.v1+json": {
       "config": {
        "plotlyServerURL": "https://plot.ly"
       },
       "data": [
        {
         "hovertemplate": "pickup_zone_id=5_1<br>Longitude=%{x}<br>Latitude=%{y}<extra></extra>",
         "legendgroup": "5_1",
         "marker": {
          "color": "#636efa",
          "symbol": "circle"
         },
         "mode": "markers",
         "name": "5_1",
         "orientation": "v",
         "showlegend": true,
         "type": "scatter",
         "x": {
          "bdata": "UyKJXkbREUCutmJ/2b0RQGdhTzv81RFAzEV8J2a9EUDHndLB+r8RQBvYKsHi0BFAWHOAYI6+EUDoaiv2l70RQIhjXdxGwxFAQ1a3ek66EUCLMhtkktERQOfj2lAxzhFAscQDyqa8EUAXt9EA3sIRQB09fm/TvxFA9ihcj8LVEUDr4jYawLsRQGDNAYI5uhFA26fjMQPVEUBCYOXQIrsRQE+Srpl80xFAVDpY/+fQEUBzaJHtfL8RQHugFRiyuhFAHqfoSC6/EUD8qfHSTcIRQAH20akrvxFACf63kh27EUCuEiwOZ74RQIzzN6EQwRFA",
          "dtype": "f8"
         },
         "xaxis": "x",
         "y": {
          "bdata": "6s9+pIj0SUAO2xZlNvRJQGr7V1aa9ElAotEdxM70SUB/Tdaoh/RJQE1KQbeX9ElAxjNo6J/0SUDVCWgibPRJQBXj/E0o9ElA6X3ja8/0SUAG2EenrvRJQFx381SH9ElAcHfWbrv0SUBxOPOrOfRJQPGdmPVi9ElA1NSytb70SUAqHaz/c/RJQCP430p29ElA4jsx68X0SUBOYhBYOfRJQIWUn1T79ElAzeSbbW70SUBG66hqgvRJQGoYPiKm9ElAvw6cM6L0SUCxM4XOa/RJQKOvIM1Y9ElAzVg0nZ30SUBOC170FfRJQAdfmEwV9ElA",
          "dtype": "f8"
         },
         "yaxis": "y"
        },
        {
         "hovertemplate": "pickup_zone_id=9_4<br>Longitude=%{x}<br>Latitude=%{y}<extra></extra>",
         "legendgroup": "9_4",
         "marker": {
          "color": "#EF553B",
          "symbol": "circle"
         },
         "mode": "markers",
         "name": "9_4",
         "orientation": "v",
         "showlegend": true,
         "type": "scatter",
         "x": {
          "bdata": "qwmi7gNwE0BQGf8+42ITQLLXuz/eaxNA/Z/DfHlhE0Dd0mpI3GMTQILF4cyvZhNAvfvjvWplE0AQI4RHG2cTQOQPBp57bxNAzR5oBYZsE0CwG7YtymwTQOQxA5XxbxNAMJ5BQ/9kE0CZZOQs7GkTQGjQ0D/BZRNA097gC5NpE0DmeXB31m4TQOjewyXHXRNAp+hILv9hE0AfhetRuF4TQOEoeXWOYRNAjjulg/VfE0DeVKTC2GITQBL3WPrQZRNA+BkXDoRkE0BDxTh/E2oTQKGEmbZ/ZRNAHooCfSJvE0BbQj7o2WwTQJCg+DHmbhNAITzaOGJtE0AUyy2thmQTQDG2EOSgZBNAYTJVMCppE0CtNCkF3V4TQLMHWoEhaxNAIQIOoUptE0AxfERMiWQTQInvxKwXYxNAkiIyrOJtE0BY/+cwX14TQBmto6oJYhNAyatzDMheE0BzEd+JWW8TQAJIbeLkXhNA",
          "dtype": "f8"
         },
         "xaxis": "x",
         "y": {
          "bdata": "9iNFZFgxSkBsJt9scytKQAyTqYJRMUpAZB75g4ErSkCBlUOLbCtKQDPhl/p5K0pAh1ClZg8sSkAAqU2c3CtKQOFdLuI7MUpAd76fGi8xSkCif4KLFTFKQFORCmMLMUpASOF6FK4rSkCwIM1YNDFKQKt4I/PIK0pAb7vQXKcxSkDMtP0rKzFKQDJ3LSEfLEpAqwmi7gMsSkCcvwmFCCxKQN6wbVFmK0pA+ptQiIArSkCduvJZnitKQPIHA8+9K0pAumsJ+aArSkA2H9eGijFKQJYJv9TPK0pAU7MHWoExSkBpOjsZHDFKQNrhr8kaMUpAMEymCkYxSkDzPLg7aytKQGQGKuPfK0pA9l0R/G8xSkB5HtydtStKQPAzLhwIMUpAKPIk6ZoxSkArajANwytKQACMZ9DQK0pAWmQ7308xSkCkqgmi7itKQHkGDf0TLEpAwOeHEcIrSkD9TShEwDFKQJYEqKllK0pA",
          "dtype": "f8"
         },
         "yaxis": "y"
        },
        {
         "hovertemplate": "pickup_zone_id=0_9<br>Longitude=%{x}<br>Latitude=%{y}<extra></extra>",
         "legendgroup": "0_9",
         "marker": {
          "color": "#00cc96",
          "symbol": "circle"
         },
         "mode": "markers",
         "name": "0_9",
         "orientation": "v",
         "showlegend": true,
         "type": "scatter",
         "x": {
          "bdata": "F58CYDzDFUABh1ClZs8VQJPGaB1VzRVAFLNeDOUEFkAIyQImcMsVQJZ4QNmUyxVAZk6XxcQGFkAUs14M5cQVQPiNrz2zxBVA5/up8dLNFUCatn9lpckVQJbs2AjEyxVAr1+wG7bNFUCSXP5D+s0VQIsaTMPw0RVALLzLRXzHFUDuJY3ROsoVQJCg+DHmzhVAvyuC/63EFUAZBFYOLdIVQAb1LXO6zBVAqDXNO07RFUBxWvCirwAWQAn5oGezyhVAfqmfNxUJFkD3x3vVygQWQL8OnDOiFBZAEvdY+tDFFUCL4H8r2dEVQOdvQiECzhVA+MJkqmAUFkAOLbKd7wcWQGTpQxfUFxZA3GPpQxcUFkAlWBzO/MoVQHNLqyFxDxZABcWPMXfNFUB3oblOI80VQHQHsTOFDhZAWW5pNSQOFkDvG197ZgkWQEKVmj3QyhVAvHmqQ24GFkAe/pqsUc8VQOwX7IZtyxVAcuFASBYQFkAHJcy0/csVQIj029eBExZAaeOItfgUFkA0SwLU1BIWQPhwyXGnFBZA9dvXgXPGFUA5fxMKEdAVQKgAGM+gARZALhwIyQLGFUCfyJOka8YVQAGHUKVmzxVA499nXDgQFkCLw5lfzQEWQMSUSKKXERZARl9BmrHIFUDDu1zEdwIWQEJbzqW4yhVAQs9m1efKFUAxzt+EQsQVQH/7OnDOyBVAje4gdqbQFUAZyol2FdIVQDEIrBxaBBZACMkCJnDLFUCIEcKjjQMWQAnh0cYRyxVAPUm6ZvLNFUBD/wQXK8oVQO8bX3tmyRVAPDHrxVDOFUCI1/ULdsMVQIQqNXugFRZAyF7v/njPFUCfyJOkawYWQFXejnBaEBZA5ZttbkzPFUCiemtgq8QVQKG+ZU6XxRVAK97IPPLHFUC0WfW52soVQBqGj4gp0RVAWUxsPq7NFUBIG0esxQcWQE9Y4gFl0xVAbCHIQQkTFkA1DB8RUwIWQGEyVTAqCRZANuohGt0BFkBvL2mM1hEWQA==",
          "dtype": "f8"
         },
         "xaxis": "x",
         "y": {
          "bdata": "ea9amfCzSUBOf/YjRbRJQPcGX5hMvUlAqKlla321SUAO+PwwQrRJQIcW2c73s0lApwUv+gq2SUCASL99HbRJQI4G8BZItElAHM78ag60SUAqxvmbULRJQMCV7NgItElAyy2thsS9SUDr4jYawLNJQO8DkNrEvUlAcVXZd0W0SUAWGLK61bNJQDHO34RCtElAlQ7W/zm0SUAjoS3nUrRJQD3yBwPPvUlAgPEMGvqzSUBh/Z/DfLVJQHJQwkzbs0lAbmk1JO61SUDn49pQMbZJQHL5D+m3u0lAh/nyAuyzSUAAb4EExbNJQDliLT4FtElAwW7Ytii7SUBaL4ZyorVJQCtqMA3Du0lAQZqxaDq7SUAOZ341B7RJQLml1ZC4u0lAP28qUmG0SUCWsgxxrLNJQEinrnyWu0lAesISDyi7SUCKq8q+K7ZJQATidf2CvUlAfVwbKsa1SUBHyatzDLRJQBXGFoIctElAJemayTe7SUDHuriNBrRJQJ4MjpJXu0lAc9cS8kG7SUBPdcjNcLtJQJ612y40u0lAwJXs2Ai0SUDOjekJS7RJQESLbOf7tUlAaw4QzNGzSUDVeOkmMbRJQDLJyFnYs0lAOnr83qa7SUA1Bwjm6LVJQJYhjnVxu0lAnKc65Ga0SUChvmVOl7VJQDmc+dUctElA8Irgfyu9SUArpPyk2rNJQJWaPdAKtElAnNzvUBS0SUC9HeG04L1JQG8vaYzWtUlARz1Eozu0SUD2Yign2rVJQI/k8h/Ss0lAKowtBDm0SUAGKuPfZ7RJQHfbheY6vUlAYcPTK2W9SUD4wmSqYLRJQLK61XPSu0lAIchBCTO9SUBEUaBP5LVJQCQofoy5u0lA44i1+BS0SUDOqs/VVrRJQKq3BrZKtElATrSrkPKzSUDyDBr6J7RJQAU0ETY8vUlAfgBSmzi9SUBuaTUk7rVJQI6SV+cYtElA8kHPZtW7SUBgsBu2LbZJQIRHG0estUlA/Bhz1xK2SUCBzw8jhLtJQA==",
          "dtype": "f8"
         },
         "yaxis": "y"
        },
        {
         "hovertemplate": "pickup_zone_id=9_5<br>Longitude=%{x}<br>Latitude=%{y}<extra></extra>",
         "legendgroup": "9_5",
         "marker": {
          "color": "#ab63fa",
          "symbol": "circle"
         },
         "mode": "markers",
         "name": "9_5",
         "orientation": "v",
         "showlegend": true,
         "type": "scatter",
         "x": {
          "bdata": "dNL7xteeE0AhByXMtJ0TQJT7HYoCvRNAmpmZmZmZE0BA2ZQrvMsTQJNvtrkxnRNAdhppqbydE0B+AFKbOJkTQPEuF/GdmBNA7fXuj/fKE0ATDyibcsUTQCIa3UHszBNA66hqgqibE0C0yHa+n5oTQL+CNGPRtBNAls/yPLi7E0B2ptB5jb0TQGiu00hLxRNA2ubG9ITFE0Bjl6jeGpgTQF7XL9gNuxNAW9O84xSdE0C1GhL3WLoTQCAkC5jAzRNABaipZWu9E0CdhT3t8LcTQA+0AkNWlxNA8gwa+ie4E0BWKxN+qZ8TQOgwX16AvRNAnu+nxkuXE0B81cqEX8oTQPCFyVTByBNA8+UF2EfHE0BIUPwYc5cTQHRGlPYGnxNAajANw0fEE0DQuHAgJMsTQNNNYhBYmRNArmTHRiCeE0C2vkhoy7kTQGQ730+NtxNAmMCtu3nKE0AHmWTkLMwTQHnpJjEIzBNAK9mxEYi3E0BEboYb8LkTQOauJeSDnhNAKGGm7V+5E0D3WPrQBbUTQICfceFAyBNA3BFOC160E0BoP1JEhrUTQLoUV5V9lxNAt2J/2T2ZE0A=",
          "dtype": "f8"
         },
         "xaxis": "x",
         "y": {
          "bdata": "BMqmXOEpSkARcAhVai5KQFitTPilLkpAmN2Th4UuSkA6XRYTmzNKQPW52or9KUpAbm5MT1gqSkDuX1lpUi5KQMv49xkXLkpAnUZaKm8zSkCBJsKGpzNKQB04Z0RpM0pAPPceLjkqSkA7wmnBiy5KQIJzRpT2LkpApmH4iJguSkCY+nlTkS5KQDp15bM8M0pAjh6/t+kzSkAuxVVl3y1KQFiQZiyaLkpAkUQvo1gqSkB0e0ljtC5KQDkoYabtM0pAZjGx+bguSkCDNGPRdC5KQF8ktOVcKkpAFytqMA0vSkAvqG+Z0ylKQALU1LK1LkpAmYHK+PctSkA5C3va4TNKQAh3Z+22M0pA+vIC7KMzSkCfPCzUmi5KQCfChqdXLkpArK3YX3YzSkCd9L7xtTNKQBHfiVkvLkpAmIbhI2IqSkBeukkMAi9KQJfFxObjLkpAx2MGKuMzSkCzXgzlRDNKQN6Th4VaM0pA5e0IpwUvSkAfotEdxC5KQJ9x4UBIKkpA9BWkGYsuSkBfDOVEuy5KQBBdUN8yM0pAbcoV3uUuSkBtrS8S2i5KQO4ljdE6KkpAfPKwUGsqSkA=",
          "dtype": "f8"
         },
         "yaxis": "y"
        },
        {
         "hovertemplate": "pickup_zone_id=5_2<br>Longitude=%{x}<br>Latitude=%{y}<extra></extra>",
         "legendgroup": "5_2",
         "marker": {
          "color": "#FFA15A",
          "symbol": "circle"
         },
         "mode": "markers",
         "name": "5_2",
         "orientation": "v",
         "showlegend": true,
         "type": "scatter",
         "x": {
          "bdata": "lYJuL2kMEkDfiVkvhhISQIguqG+ZExJAWipvRzgNEkD6uDZUjBMSQI5AvK5fEBJAVpqUgm4PEkA9YYkHlA0SQG9HOC14ERJAw552+GsSEkCDTDJyFhYSQBO4dTdPFRJA6iEa3UEMEkDzAuyjUxcSQAjJAiZwCxJAqYdodAcREkDfwyXHnRISQIj029eBExJA5gXYR6cOEkCp+wCkNhESQHZPHhZqDRJA8YCyKVcYEkBxj6UPXRASQP5IERlWERJAD9b/OcwXEkCS6GUUyw0SQM8UOq+xCxJA+n5qvHQTEkBr8SkAxhMSQNnr3R/vFRJATODW3TwVEkDAPjp15RMSQBN+qZ83FRJAFw6EZAETEkAdrP9zmA8SQOUn1T4dDxJAcY+lD10QEkA=",
          "dtype": "f8"
         },
         "xaxis": "x",
         "y": {
          "bdata": "VHQkl//4SUCpwTQMH/lJQBQF+kSe+ElAqFKzB1r5SUB7SWO0jvpJQIKo+wCk+klAYabtX1n5SUB4nKIjufhJQAUXK2ow+UlA2A3bFmX6SUBfXoB9dPpJQCl5dY4B+UlAYviImBL5SUDtR4rIsPpJQM0GmWTk+ElAjBAebRz5SUADfSJPkvpJQAxZ3eo5+UlAWg2Jeyz5SUDNr+YAwfhJQDjb3Jie+ElA3/jaM0v6SUAKur2kMfpJQEMEHEKV+klAg6Pk1Tn6SUC37uapDvlJQMwollta+UlAd/hrskb5SUCph2h0B/lJQErSNZNv+klAaYzWUdX4SUAbZJKRs/hJQGLboswG+UlAPiKmRBL5SUBMw/ARMflJQJT7HYoC+UlAmN2Th4X6SUA=",
          "dtype": "f8"
         },
         "yaxis": "y"
        },
        {
         "hovertemplate": "pickup_zone_id=7_6<br>Longitude=%{x}<br>Latitude=%{y}<extra></extra>",
         "legendgroup": "7_6",
         "marker": {
          "color": "#19d3f3",
          "symbol": "circle"
         },
         "mode": "markers",
         "name": "7_6",
         "orientation": "v",
         "showlegend": true,
         "type": "scatter",
         "x": {
          "bdata": "nKIjufyHFEAvNNdppIUUQPW52or9hRRA7j1cctyJFEAQO1PovIYUQNBE2PD0ihRA6s9+pIiMFECg4GJFDYYUQEOtad5xihRAtHHEWnyKFEDxY8xdS4gUQCzUmuYdhxRAmRJJ9DKKFEDcLjTXaYQUQF8ktOVcihRAXRYTm4+LFEC1iZP7HYoUQA034PPDiBRAzeSbbW6MFEBkBirj34cUQIbJVMGohBRAZJKRs7CHFEAEOShhpo0UQOm3rwPnjBRARuuoaoKIFEAo8iTpmokUQAexM4XOixRAQMHFihqMFEBfmEwVjIoUQAgDz72HixRARFGgT+SJFEDcRgN4C4QUQA8LtaZ5hxRAYhBYObSIFEDTvOMUHYkUQJwWvOgriBRAsFWCxeGMFEDwp8ZLN4kUQA==",
          "dtype": "f8"
         },
         "xaxis": "x",
         "y": {
          "bdata": "WvW52ooNSkBLzR5oBQ5KQPxSP28qDkpA0h3EzhQOSkCZKhiV1A1KQOCEQgQcDkpAoBUYsroNSkDSb18Hzg1KQOAQqtTsDUpA0hito6oNSkBL6gQ0EQ5KQP0TXKyoDUpA9ihcj8INSkBhGoaPiA1KQCcUIuAQDkpArg0V4/wNSkCZKhiV1A1KQEtZhjjWDUpAtWytLxIOSkATSfQyig1KQJKzsKcdDkpAp+hILv8NSkD1nPS+8Q1KQNogk4ycDUpAUtUEUfcNSkA1JO6x9A1KQOC593DJDUpAy2d5HtwNSkD9vKlIhQ1KQFFmg0wyDkpAy4Rf6ucNSkC2+BQA4w1KQAu1pnnHDUpAYHZPHhYOSkBnRGlv8A1KQBIxJZLoDUpAbxKDwMoNSkD1nPS+8Q1KQA==",
          "dtype": "f8"
         },
         "yaxis": "y"
        },
        {
         "hovertemplate": "pickup_zone_id=6_0<br>Longitude=%{x}<br>Latitude=%{y}<extra></extra>",
         "legendgroup": "6_0",
         "marker": {
          "color": "#FF6692",
          "symbol": "circle"
         },
         "mode": "markers",
         "name": "6_0",
         "orientation": "v",
         "showlegend": true,
         "type": "scatter",
         "x": {
          "bdata": "gH106sonEUAp7Q2+MDkRQPLvMy4cKBFASIrIsIo3EUAZ/z7jwiERQDgQkgVMQBFA5pZWQ+IeEUAtlbcjnFYRQOrnTUUqTBFAL4Zyol0lEUCNnIU97VARQBxfe2ZJIBFAOPOrOUBQEUA2k2+2uVERQKqCUUmdQBFAVYfcDDcAEUDg2/RnP1IRQJ2AJsKGJxFAIQIOoUpNEUDu68A5I0oRQHf4a7JG/RBA8WjjiLVYEUCxFp8CYDwRQAYN/RNcLBFAeCgK9Ik8EUB1H4DUJk4RQAqd19glShFAeH+8V61MEUCvfJbnwf0QQADGM2joPxFA9gt2w7YlEUAP1v85zDcRQCZTBaOS+hBAJ/c7FAX6EEAXghyUMFMRQIwQHm0cURFA7lpCPuhZEUCUTbnCu/wQQHOAYI4e/xBA5bhTOlj/EEAXt9EA3gIRQL9gN2xbVBFAlX1XBP/7EEDYR6eufFYRQFmjHqLR/RBAjBU1mIYBEUDxnZj1YkgRQK6BrRIsLhFAxY8xdy0BEUAXK2owDQMRQAM+P4wQHhFA1lbsL7snEUDrrYGtEkwRQDygbMoVHhFAchb2tMP/EEAsDmd+NScRQDsZHCWvLhFA1c+bilQ4EUCNKO0NvlARQK00KQXdPhFAza/mAME8EUDSAN4CCSoRQDvkZrgBPxFAyZOkayb/EEAqb0c4LTgRQG3KFd7lAhFA2zNLAtRUEUB1yM1wAx4RQGlXIeUnVRFA5BQdyeU/EUBVwaikTiARQDyDhv4JThFAorQ3+MIkEUBUNUHUfSARQCScFrzoSxFA1/oioS0nEUBWn6ut2B8RQCjVPh2P+RBA1EhL5e0oEUB8LH3ogvoQQIEExY8xVxFAo1huaTUkEUBNvtnmxlQRQH5v05/9SBFA6BN5knRNEUAukKD4MSYRQJf/kH77OhFAzojS3uArEUCc4QZ8flgRQJzhBnx+WBFAwXPv4ZIjEUCUTbnCuzwRQFOzB1qBARFAbD6uDRUDEUA75Ga4AT8RQIleRrHcUhFArvAuF/H9EEAnpaDbSzoRQHB87ZklARFA",
          "dtype": "f8"
         },
         "xaxis": "x",
         "y": {
          "bdata": "S1mGONYJSkCVYHE48wtKQFlMbD6uBUpARzgteNELSkBRZoNMMgpKQJXUCWgiDEpAvJaQD3oKSkDAIVSp2QNKQKZh+IiYBkpAZoNMMnIKSkBfKcsQxwZKQIKLFTWYCkpAbcoV3uUGSkAyrOKNzANKQFysqME0DEpAHXIz3IALSkAdIJijxwNKQHVZTGw+CkpA7fXuj/cGSkD6sx8pIgdKQAK8BRIUC0pA3Qw34PMDSkDq501FKgxKQP28qUiFBUpAsRafAmAMSkAIclDCTAdKQMo329yYBkpA9KYiFcYGSkCP/MHAcwtKQJwzorQ3DEpABMqmXOEJSkAGDf0TXAxKQDoeM1AZC0pAesISDygLSkDNAYI5egRKQJwWvOgrBEpAOdbFbTQESkBP6WD9nwtKQJ2dDI6SC0pAJXoZxXILSkDJk6RrJgtKQHmvWpnwA0pAObTIdr4LSkDHaB1VTQRKQF3cRgN4C0pAz6Chf4ILSkCRD3o2qwZKQKCJsOHpBUpApKXydoQLSkAPC7WmeQtKQC5W1GAaCkpAS1mGONYFSkCXHHdKBwdKQIrlllZDCkpA7DTSUnkLSkDLLa2GxAVKQGEaho+IBUpAMlUwKqkLSkD60AX1LQdKQOP8TShEDEpAMuauJeQLSkBEF9S3zAVKQGMLQQ5KDEpAkPeqlQkLSkDdDDfg8wtKQAnh0cYRC0pAB84ZUdoDSkDEX5M16glKQACpTZzcA0pAsaIG0zAMSkDSxhFr8QlKQJ4MjpJXB0pA+1dWmpQKSkDKT6p9OgpKQIrNx7WhBkpATFRvDWwFSkC8XMR3YgpKQElL5e0IC0pA4X8r2bEFSkAId2fttgtKQAclzLT9A0pAijxJumYKSkBk6UMX1ANKQMnIWdjTBkpA5j+k374GSkDSAN4CCQpKQHLEWnwKDEpAqOMxA5UFSkAH0zB8RARKQFUwKqkTBEpAyjLEsS4KSkDWOQZkrwtKQFcJFoczC0pAQbeXNEYLSkCV1AloIgxKQFXBqKROBEpA+rg2VIwLSkAWNZiG4QtKQOSghJm2C0pA",
          "dtype": "f8"
         },
         "yaxis": "y"
        },
        {
         "hovertemplate": "pickup_zone_id=4_1<br>Longitude=%{x}<br>Latitude=%{y}<extra></extra>",
         "legendgroup": "4_1",
         "marker": {
          "color": "#B6E880",
          "symbol": "circle"
         },
         "mode": "markers",
         "name": "4_1",
         "orientation": "v",
         "showlegend": true,
         "type": "scatter",
         "x": {
          "bdata": "fnTqyme5EUCSeeQPBv4RQK62Yn/Z/RFAe4hGdxD7EUCSs7CnHf4RQJXx7zMu/BFAHxFTIon+EUBLsDic+bURQJ57D5cc9xFAvRjKiXb1EUDnOo20VL4RQINuL2mMthFAS7A4nPn1EUATuHU3T7URQB+duvJZvhFA9KYiFca2EUBgzQGCOboRQGfttgvN9RFACTiEKjX7EUAwL8A+OvURQGpN845T9BFAJ71vfO25EUDuWkI+6LkRQNGRXP5DuhFA",
          "dtype": "f8"
         },
         "xaxis": "x",
         "y": {
          "bdata": "IbByaJHxSUA0nZ0MjvJJQBgJbTmX8klAO/w1WaPySUDIzXADPvNJQN/DJced8klAHm0csRbzSUDMejGUE/FJQB9oBYas8klAtMh2vp/ySUBa2NMOf/FJQCAkC5jA8UlAEOm3rwPzSUChvmVOl/FJQNlaXyS08UlAL4uJzcfxSUC+3v3xXvFJQHrCEg8o80lAu2HboszySUAJ4dHGEfNJQBAjhEcb80lAaJYEqKnxSUC2Z5YEqPFJQD0nvW988UlA",
          "dtype": "f8"
         },
         "yaxis": "y"
        },
        {
         "hovertemplate": "pickup_zone_id=6_7<br>Longitude=%{x}<br>Latitude=%{y}<extra></extra>",
         "legendgroup": "6_7",
         "marker": {
          "color": "#FF97FF",
          "symbol": "circle"
         },
         "mode": "markers",
         "name": "6_7",
         "orientation": "v",
         "showlegend": true,
         "type": "scatter",
         "x": {
          "bdata": "nDOitDe4FEAZBFYOLbIUQKMBvAUStBRAwZDVrZ6zFEBxGw3gLbAUQCoAxjNoqBRA2ht8YTK1FECm1ZC4x7IUQFD8GHPXshRAi1QYWwiyFECKyLCKN7IUQBTQRNjwtBRAuycPC7WmFEDjUwCMZ7AUQDp15bM8rxRA8WPMXUuoFED2Yign2rUUQKBP5EnStRRAOQt72uGvFEC3C811GqkUQJxtbkxPuBRArS8S2nKuFEA4oRABh7AUQLnCu1zEtxRArVEP0eiuFEChvmVOl6UUQNpVSPlJtRRA1QRR9wGoFEBO7ncoCrQUQO+P96qVqRRAZF3cRgO4FEDDu1zEd6IUQFhWmpSCrhRAO8eA7PWuFEB7vfvjvaoUQCeIug9AqhRAoOBiRQ2mFEC/8bVnlqQUQIqw4emVshRAHPD5YYSwFEA50a5Cyq8UQNmUK7zLpRRA",
          "dtype": "f8"
         },
         "xaxis": "x",
         "y": {
          "bdata": "a/EpAMYLSkCOdXEbDQxKQPGdmPViDEpAo1huaTUMSkA5ud+hKAxKQJjdk4eFCkpAOShhpu0LSkCx3NJqSAxKQCP430p2DEpAfxMKEXAMSkBAh/nyAgxKQLiSHRuBDEpA7iWN0ToKSkCrlQm/1AtKQCsYldQJDEpA0CfyJOkKSkAOSphp+wtKQHnpJjEIDEpAowbTMHwMSkC7RPXWwApKQD81XrpJDEpAQGoTJ/cLSkBcrKjBNAxKQNXsgVZgDEpATpzc71AMSkBRvTWwVQpKQIcW2c73C0pA5lyKq8oKSkAj2/l+agxKQHTv4ZLjCkpAeUDZlCsMSkC7YduizApKQL9gN2xbDEpAY3/ZPXkMSkCtUQ/R6ApKQJhuEoPACkpAg24vaYwKSkDtDb4wmQpKQCPzyB8MDEpARzgteNELSkDOGVHaGwxKQC0JUFPLCkpA",
          "dtype": "f8"
         },
         "yaxis": "y"
        },
        {
         "hovertemplate": "pickup_zone_id=6_6<br>Longitude=%{x}<br>Latitude=%{y}<extra></extra>",
         "legendgroup": "6_6",
         "marker": {
          "color": "#FECB52",
          "symbol": "circle"
         },
         "mode": "markers",
         "name": "6_6",
         "orientation": "v",
         "showlegend": true,
         "type": "scatter",
         "x": {
          "bdata": "ldQJaCJMFEA/jBAebXwUQF2Kq8q+SxRAZRniWBd3FEBHrMWnAHgUQETdByC1SRRAdR+A1CZOFEBkBirj30cUQAouVtRgehRAzZIANbVMFEAqAMYzaEgUQNkIxOv6RRRAEJIFTOB2FEBMjjulg3UUQD7t8NdkTRRAveMUHcmFFEBN+KV+3nQUQD1+b9OffRRAtvP91HhJFEDrHAOy13sUQH+HokCfSBRABP9byY5NFEC5jQbwFkgUQGCTNeohehRASBtHrMVHFECDNGPRdHYUQCBj7lpCfhRAZfz7jAtHFEBOf/YjRUQUQFuU2SCTTBRASS7/If12FEBCQ/8EF0sUQMqJdhVSfhRAVyHlJ9V+FEB15bM8D04UQA==",
          "dtype": "f8"
         },
         "xaxis": "x",
         "y": {
          "bdata": "z6Chf4IHSkC0sKcd/gZKQJ1oVyHlB0pA8wLso1MHSkDBi76CNAdKQHmSdM3kB0pADkqYafsHSkA6XRYTmwdKQKW9wRcmB0pAD2JnCp0HSkDkTulg/QdKQPIHA8+9B0pAwmnBi74GSkB6GcVySwdKQCVATS1bB0pAfZHQlnMNSkDzcW2oGAdKQB7cnbXbBkpAwf9WsmMHSkCX4qqy7wZKQLN78rBQB0pAVn2utmIHSkBdFhObjwdKQNdMvtnmBkpAVg4tsp0HSkDzyB8MPAdKQCbkg57NBkpAnYU97fAHSkBzaJHtfAdKQIf58gLsB0pAba0vEtoGSkB5r1qZ8AdKQI/f2/RnB0pALLe0GhIHSkAdVU0QdQdKQA==",
          "dtype": "f8"
         },
         "yaxis": "y"
        }
       ],
       "layout": {
        "legend": {
         "title": {
          "text": "pickup_zone_id"
         },
         "tracegroupgap": 0
        },
        "template": {
         "data": {
          "bar": [
           {
            "error_x": {
             "color": "#2a3f5f"
            },
            "error_y": {
             "color": "#2a3f5f"
            },
            "marker": {
             "line": {
              "color": "#E5ECF6",
              "width": 0.5
             },
             "pattern": {
              "fillmode": "overlay",
              "size": 10,
              "solidity": 0.2
             }
            },
            "type": "bar"
           }
          ],
          "barpolar": [
           {
            "marker": {
             "line": {
              "color": "#E5ECF6",
              "width": 0.5
             },
             "pattern": {
              "fillmode": "overlay",
              "size": 10,
              "solidity": 0.2
             }
            },
            "type": "barpolar"
           }
          ],
          "carpet": [
           {
            "aaxis": {
             "endlinecolor": "#2a3f5f",
             "gridcolor": "white",
             "linecolor": "white",
             "minorgridcolor": "white",
             "startlinecolor": "#2a3f5f"
            },
            "baxis": {
             "endlinecolor": "#2a3f5f",
             "gridcolor": "white",
             "linecolor": "white",
             "minorgridcolor": "white",
             "startlinecolor": "#2a3f5f"
            },
            "type": "carpet"
           }
          ],
          "choropleth": [
           {
            "colorbar": {
             "outlinewidth": 0,
             "ticks": ""
            },
            "type": "choropleth"
           }
          ],
          "contour": [
           {
            "colorbar": {
             "outlinewidth": 0,
             "ticks": ""
            },
            "colorscale": [
             [
              0,
              "#0d0887"
             ],
             [
              0.1111111111111111,
              "#46039f"
             ],
             [
              0.2222222222222222,
              "#7201a8"
             ],
             [
              0.3333333333333333,
              "#9c179e"
             ],
             [
              0.4444444444444444,
              "#bd3786"
             ],
             [
              0.5555555555555556,
              "#d8576b"
             ],
             [
              0.6666666666666666,
              "#ed7953"
             ],
             [
              0.7777777777777778,
              "#fb9f3a"
             ],
             [
              0.8888888888888888,
              "#fdca26"
             ],
             [
              1,
              "#f0f921"
             ]
            ],
            "type": "contour"
           }
          ],
          "contourcarpet": [
           {
            "colorbar": {
             "outlinewidth": 0,
             "ticks": ""
            },
            "type": "contourcarpet"
           }
          ],
          "heatmap": [
           {
            "colorbar": {
             "outlinewidth": 0,
             "ticks": ""
            },
            "colorscale": [
             [
              0,
              "#0d0887"
             ],
             [
              0.1111111111111111,
              "#46039f"
             ],
             [
              0.2222222222222222,
              "#7201a8"
             ],
             [
              0.3333333333333333,
              "#9c179e"
             ],
             [
              0.4444444444444444,
              "#bd3786"
             ],
             [
              0.5555555555555556,
              "#d8576b"
             ],
             [
              0.6666666666666666,
              "#ed7953"
             ],
             [
              0.7777777777777778,
              "#fb9f3a"
             ],
             [
              0.8888888888888888,
              "#fdca26"
             ],
             [
              1,
              "#f0f921"
             ]
            ],
            "type": "heatmap"
           }
          ],
          "histogram": [
           {
            "marker": {
             "pattern": {
              "fillmode": "overlay",
              "size": 10,
              "solidity": 0.2
             }
            },
            "type": "histogram"
           }
          ],
          "histogram2d": [
           {
            "colorbar": {
             "outlinewidth": 0,
             "ticks": ""
            },
            "colorscale": [
             [
              0,
              "#0d0887"
             ],
             [
              0.1111111111111111,
              "#46039f"
             ],
             [
              0.2222222222222222,
              "#7201a8"
             ],
             [
              0.3333333333333333,
              "#9c179e"
             ],
             [
              0.4444444444444444,
              "#bd3786"
             ],
             [
              0.5555555555555556,
              "#d8576b"
             ],
             [
              0.6666666666666666,
              "#ed7953"
             ],
             [
              0.7777777777777778,
              "#fb9f3a"
             ],
             [
              0.8888888888888888,
              "#fdca26"
             ],
             [
              1,
              "#f0f921"
             ]
            ],
            "type": "histogram2d"
           }
          ],
          "histogram2dcontour": [
           {
            "colorbar": {
             "outlinewidth": 0,
             "ticks": ""
            },
            "colorscale": [
             [
              0,
              "#0d0887"
             ],
             [
              0.1111111111111111,
              "#46039f"
             ],
             [
              0.2222222222222222,
              "#7201a8"
             ],
             [
              0.3333333333333333,
              "#9c179e"
             ],
             [
              0.4444444444444444,
              "#bd3786"
             ],
             [
              0.5555555555555556,
              "#d8576b"
             ],
             [
              0.6666666666666666,
              "#ed7953"
             ],
             [
              0.7777777777777778,
              "#fb9f3a"
             ],
             [
              0.8888888888888888,
              "#fdca26"
             ],
             [
              1,
              "#f0f921"
             ]
            ],
            "type": "histogram2dcontour"
           }
          ],
          "mesh3d": [
           {
            "colorbar": {
             "outlinewidth": 0,
             "ticks": ""
            },
            "type": "mesh3d"
           }
          ],
          "parcoords": [
           {
            "line": {
             "colorbar": {
              "outlinewidth": 0,
              "ticks": ""
             }
            },
            "type": "parcoords"
           }
          ],
          "pie": [
           {
            "automargin": true,
            "type": "pie"
           }
          ],
          "scatter": [
           {
            "fillpattern": {
             "fillmode": "overlay",
             "size": 10,
             "solidity": 0.2
            },
            "type": "scatter"
           }
          ],
          "scatter3d": [
           {
            "line": {
             "colorbar": {
              "outlinewidth": 0,
              "ticks": ""
             }
            },
            "marker": {
             "colorbar": {
              "outlinewidth": 0,
              "ticks": ""
             }
            },
            "type": "scatter3d"
           }
          ],
          "scattercarpet": [
           {
            "marker": {
             "colorbar": {
              "outlinewidth": 0,
              "ticks": ""
             }
            },
            "type": "scattercarpet"
           }
          ],
          "scattergeo": [
           {
            "marker": {
             "colorbar": {
              "outlinewidth": 0,
              "ticks": ""
             }
            },
            "type": "scattergeo"
           }
          ],
          "scattergl": [
           {
            "marker": {
             "colorbar": {
              "outlinewidth": 0,
              "ticks": ""
             }
            },
            "type": "scattergl"
           }
          ],
          "scattermap": [
           {
            "marker": {
             "colorbar": {
              "outlinewidth": 0,
              "ticks": ""
             }
            },
            "type": "scattermap"
           }
          ],
          "scattermapbox": [
           {
            "marker": {
             "colorbar": {
              "outlinewidth": 0,
              "ticks": ""
             }
            },
            "type": "scattermapbox"
           }
          ],
          "scatterpolar": [
           {
            "marker": {
             "colorbar": {
              "outlinewidth": 0,
              "ticks": ""
             }
            },
            "type": "scatterpolar"
           }
          ],
          "scatterpolargl": [
           {
            "marker": {
             "colorbar": {
              "outlinewidth": 0,
              "ticks": ""
             }
            },
            "type": "scatterpolargl"
           }
          ],
          "scatterternary": [
           {
            "marker": {
             "colorbar": {
              "outlinewidth": 0,
              "ticks": ""
             }
            },
            "type": "scatterternary"
           }
          ],
          "surface": [
           {
            "colorbar": {
             "outlinewidth": 0,
             "ticks": ""
            },
            "colorscale": [
             [
              0,
              "#0d0887"
             ],
             [
              0.1111111111111111,
              "#46039f"
             ],
             [
              0.2222222222222222,
              "#7201a8"
             ],
             [
              0.3333333333333333,
              "#9c179e"
             ],
             [
              0.4444444444444444,
              "#bd3786"
             ],
             [
              0.5555555555555556,
              "#d8576b"
             ],
             [
              0.6666666666666666,
              "#ed7953"
             ],
             [
              0.7777777777777778,
              "#fb9f3a"
             ],
             [
              0.8888888888888888,
              "#fdca26"
             ],
             [
              1,
              "#f0f921"
             ]
            ],
            "type": "surface"
           }
          ],
          "table": [
           {
            "cells": {
             "fill": {
              "color": "#EBF0F8"
             },
             "line": {
              "color": "white"
             }
            },
            "header": {
             "fill": {
              "color": "#C8D4E3"
             },
             "line": {
              "color": "white"
             }
            },
            "type": "table"
           }
          ]
         },
         "layout": {
          "annotationdefaults": {
           "arrowcolor": "#2a3f5f",
           "arrowhead": 0,
           "arrowwidth": 1
          },
          "autotypenumbers": "strict",
          "coloraxis": {
           "colorbar": {
            "outlinewidth": 0,
            "ticks": ""
           }
          },
          "colorscale": {
           "diverging": [
            [
             0,
             "#8e0152"
            ],
            [
             0.1,
             "#c51b7d"
            ],
            [
             0.2,
             "#de77ae"
            ],
            [
             0.3,
             "#f1b6da"
            ],
            [
             0.4,
             "#fde0ef"
            ],
            [
             0.5,
             "#f7f7f7"
            ],
            [
             0.6,
             "#e6f5d0"
            ],
            [
             0.7,
             "#b8e186"
            ],
            [
             0.8,
             "#7fbc41"
            ],
            [
             0.9,
             "#4d9221"
            ],
            [
             1,
             "#276419"
            ]
           ],
           "sequential": [
            [
             0,
             "#0d0887"
            ],
            [
             0.1111111111111111,
             "#46039f"
            ],
            [
             0.2222222222222222,
             "#7201a8"
            ],
            [
             0.3333333333333333,
             "#9c179e"
            ],
            [
             0.4444444444444444,
             "#bd3786"
            ],
            [
             0.5555555555555556,
             "#d8576b"
            ],
            [
             0.6666666666666666,
             "#ed7953"
            ],
            [
             0.7777777777777778,
             "#fb9f3a"
            ],
            [
             0.8888888888888888,
             "#fdca26"
            ],
            [
             1,
             "#f0f921"
            ]
           ],
           "sequentialminus": [
            [
             0,
             "#0d0887"
            ],
            [
             0.1111111111111111,
             "#46039f"
            ],
            [
             0.2222222222222222,
             "#7201a8"
            ],
            [
             0.3333333333333333,
             "#9c179e"
            ],
            [
             0.4444444444444444,
             "#bd3786"
            ],
            [
             0.5555555555555556,
             "#d8576b"
            ],
            [
             0.6666666666666666,
             "#ed7953"
            ],
            [
             0.7777777777777778,
             "#fb9f3a"
            ],
            [
             0.8888888888888888,
             "#fdca26"
            ],
            [
             1,
             "#f0f921"
            ]
           ]
          },
          "colorway": [
           "#636efa",
           "#EF553B",
           "#00cc96",
           "#ab63fa",
           "#FFA15A",
           "#19d3f3",
           "#FF6692",
           "#B6E880",
           "#FF97FF",
           "#FECB52"
          ],
          "font": {
           "color": "#2a3f5f"
          },
          "geo": {
           "bgcolor": "white",
           "lakecolor": "white",
           "landcolor": "#E5ECF6",
           "showlakes": true,
           "showland": true,
           "subunitcolor": "white"
          },
          "hoverlabel": {
           "align": "left"
          },
          "hovermode": "closest",
          "mapbox": {
           "style": "light"
          },
          "paper_bgcolor": "white",
          "plot_bgcolor": "#E5ECF6",
          "polar": {
           "angularaxis": {
            "gridcolor": "white",
            "linecolor": "white",
            "ticks": ""
           },
           "bgcolor": "#E5ECF6",
           "radialaxis": {
            "gridcolor": "white",
            "linecolor": "white",
            "ticks": ""
           }
          },
          "scene": {
           "xaxis": {
            "backgroundcolor": "#E5ECF6",
            "gridcolor": "white",
            "gridwidth": 2,
            "linecolor": "white",
            "showbackground": true,
            "ticks": "",
            "zerolinecolor": "white"
           },
           "yaxis": {
            "backgroundcolor": "#E5ECF6",
            "gridcolor": "white",
            "gridwidth": 2,
            "linecolor": "white",
            "showbackground": true,
            "ticks": "",
            "zerolinecolor": "white"
           },
           "zaxis": {
            "backgroundcolor": "#E5ECF6",
            "gridcolor": "white",
            "gridwidth": 2,
            "linecolor": "white",
            "showbackground": true,
            "ticks": "",
            "zerolinecolor": "white"
           }
          },
          "shapedefaults": {
           "line": {
            "color": "#2a3f5f"
           }
          },
          "ternary": {
           "aaxis": {
            "gridcolor": "white",
            "linecolor": "white",
            "ticks": ""
           },
           "baxis": {
            "gridcolor": "white",
            "linecolor": "white",
            "ticks": ""
           },
           "bgcolor": "#E5ECF6",
           "caxis": {
            "gridcolor": "white",
            "linecolor": "white",
            "ticks": ""
           }
          },
          "title": {
           "x": 0.05
          },
          "xaxis": {
           "automargin": true,
           "gridcolor": "white",
           "linecolor": "white",
           "ticks": "",
           "title": {
            "standoff": 15
           },
           "zerolinecolor": "white",
           "zerolinewidth": 2
          },
          "yaxis": {
           "automargin": true,
           "gridcolor": "white",
           "linecolor": "white",
           "ticks": "",
           "title": {
            "standoff": 15
           },
           "zerolinecolor": "white",
           "zerolinewidth": 2
          }
         }
        },
        "title": {
         "text": "Pickup Locations Colored by Geographic Zone (Sample of 500)"
        },
        "xaxis": {
         "anchor": "y",
         "domain": [
          0,
          1
         ],
         "title": {
          "text": "Longitude"
         }
        },
        "yaxis": {
         "anchor": "x",
         "domain": [
          0,
          1
         ],
         "title": {
          "text": "Latitude"
         }
        }
       }
      }
     },
     "metadata": {},
     "output_type": "display_data"
    },
    {
     "data": {
      "application/vnd.plotly.v1+json": {
       "config": {
        "plotlyServerURL": "https://plot.ly"
       },
       "data": [
        {
         "hovertemplate": "Number of Trips=%{x}<br>Pickup Zone → Drop Zone=%{y}<extra></extra>",
         "legendgroup": "",
         "marker": {
          "color": "#636efa",
          "pattern": {
           "shape": ""
          }
         },
         "name": "",
         "orientation": "h",
         "showlegend": false,
         "textposition": "auto",
         "type": "bar",
         "x": {
          "bdata": "cgItAukAhQCEAF0AVwBVAEoASABHAEcARwBGAEQARABDAEAAQAA/AA==",
          "dtype": "i2"
         },
         "xaxis": "x",
         "y": [
          "6_0 → 6_0",
          "0_9 → 0_9",
          "9_5 → 9_5",
          "9_5 → 9_4",
          "9_4 → 9_5",
          "6_6 → 6_6",
          "9_4 → 9_4",
          "7_6 → 6_6",
          "5_2 → 5_2",
          "6_7 → 6_6",
          "4_1 → 5_2",
          "5_2 → 5_1",
          "6_7 → 6_7",
          "5_2 → 4_1",
          "7_6 → 7_6",
          "5_1 → 4_1",
          "6_6 → 6_7",
          "7_6 → 6_7",
          "5_1 → 5_1",
          "6_6 → 7_6"
         ],
         "yaxis": "y"
        }
       ],
       "layout": {
        "barmode": "relative",
        "height": 600,
        "legend": {
         "tracegroupgap": 0
        },
        "template": {
         "data": {
          "bar": [
           {
            "error_x": {
             "color": "#2a3f5f"
            },
            "error_y": {
             "color": "#2a3f5f"
            },
            "marker": {
             "line": {
              "color": "#E5ECF6",
              "width": 0.5
             },
             "pattern": {
              "fillmode": "overlay",
              "size": 10,
              "solidity": 0.2
             }
            },
            "type": "bar"
           }
          ],
          "barpolar": [
           {
            "marker": {
             "line": {
              "color": "#E5ECF6",
              "width": 0.5
             },
             "pattern": {
              "fillmode": "overlay",
              "size": 10,
              "solidity": 0.2
             }
            },
            "type": "barpolar"
           }
          ],
          "carpet": [
           {
            "aaxis": {
             "endlinecolor": "#2a3f5f",
             "gridcolor": "white",
             "linecolor": "white",
             "minorgridcolor": "white",
             "startlinecolor": "#2a3f5f"
            },
            "baxis": {
             "endlinecolor": "#2a3f5f",
             "gridcolor": "white",
             "linecolor": "white",
             "minorgridcolor": "white",
             "startlinecolor": "#2a3f5f"
            },
            "type": "carpet"
           }
          ],
          "choropleth": [
           {
            "colorbar": {
             "outlinewidth": 0,
             "ticks": ""
            },
            "type": "choropleth"
           }
          ],
          "contour": [
           {
            "colorbar": {
             "outlinewidth": 0,
             "ticks": ""
            },
            "colorscale": [
             [
              0,
              "#0d0887"
             ],
             [
              0.1111111111111111,
              "#46039f"
             ],
             [
              0.2222222222222222,
              "#7201a8"
             ],
             [
              0.3333333333333333,
              "#9c179e"
             ],
             [
              0.4444444444444444,
              "#bd3786"
             ],
             [
              0.5555555555555556,
              "#d8576b"
             ],
             [
              0.6666666666666666,
              "#ed7953"
             ],
             [
              0.7777777777777778,
              "#fb9f3a"
             ],
             [
              0.8888888888888888,
              "#fdca26"
             ],
             [
              1,
              "#f0f921"
             ]
            ],
            "type": "contour"
           }
          ],
          "contourcarpet": [
           {
            "colorbar": {
             "outlinewidth": 0,
             "ticks": ""
            },
            "type": "contourcarpet"
           }
          ],
          "heatmap": [
           {
            "colorbar": {
             "outlinewidth": 0,
             "ticks": ""
            },
            "colorscale": [
             [
              0,
              "#0d0887"
             ],
             [
              0.1111111111111111,
              "#46039f"
             ],
             [
              0.2222222222222222,
              "#7201a8"
             ],
             [
              0.3333333333333333,
              "#9c179e"
             ],
             [
              0.4444444444444444,
              "#bd3786"
             ],
             [
              0.5555555555555556,
              "#d8576b"
             ],
             [
              0.6666666666666666,
              "#ed7953"
             ],
             [
              0.7777777777777778,
              "#fb9f3a"
             ],
             [
              0.8888888888888888,
              "#fdca26"
             ],
             [
              1,
              "#f0f921"
             ]
            ],
            "type": "heatmap"
           }
          ],
          "histogram": [
           {
            "marker": {
             "pattern": {
              "fillmode": "overlay",
              "size": 10,
              "solidity": 0.2
             }
            },
            "type": "histogram"
           }
          ],
          "histogram2d": [
           {
            "colorbar": {
             "outlinewidth": 0,
             "ticks": ""
            },
            "colorscale": [
             [
              0,
              "#0d0887"
             ],
             [
              0.1111111111111111,
              "#46039f"
             ],
             [
              0.2222222222222222,
              "#7201a8"
             ],
             [
              0.3333333333333333,
              "#9c179e"
             ],
             [
              0.4444444444444444,
              "#bd3786"
             ],
             [
              0.5555555555555556,
              "#d8576b"
             ],
             [
              0.6666666666666666,
              "#ed7953"
             ],
             [
              0.7777777777777778,
              "#fb9f3a"
             ],
             [
              0.8888888888888888,
              "#fdca26"
             ],
             [
              1,
              "#f0f921"
             ]
            ],
            "type": "histogram2d"
           }
          ],
          "histogram2dcontour": [
           {
            "colorbar": {
             "outlinewidth": 0,
             "ticks": ""
            },
            "colorscale": [
             [
              0,
              "#0d0887"
             ],
             [
              0.1111111111111111,
              "#46039f"
             ],
             [
              0.2222222222222222,
              "#7201a8"
             ],
             [
              0.3333333333333333,
              "#9c179e"
             ],
             [
              0.4444444444444444,
              "#bd3786"
             ],
             [
              0.5555555555555556,
              "#d8576b"
             ],
             [
              0.6666666666666666,
              "#ed7953"
             ],
             [
              0.7777777777777778,
              "#fb9f3a"
             ],
             [
              0.8888888888888888,
              "#fdca26"
             ],
             [
              1,
              "#f0f921"
             ]
            ],
            "type": "histogram2dcontour"
           }
          ],
          "mesh3d": [
           {
            "colorbar": {
             "outlinewidth": 0,
             "ticks": ""
            },
            "type": "mesh3d"
           }
          ],
          "parcoords": [
           {
            "line": {
             "colorbar": {
              "outlinewidth": 0,
              "ticks": ""
             }
            },
            "type": "parcoords"
           }
          ],
          "pie": [
           {
            "automargin": true,
            "type": "pie"
           }
          ],
          "scatter": [
           {
            "fillpattern": {
             "fillmode": "overlay",
             "size": 10,
             "solidity": 0.2
            },
            "type": "scatter"
           }
          ],
          "scatter3d": [
           {
            "line": {
             "colorbar": {
              "outlinewidth": 0,
              "ticks": ""
             }
            },
            "marker": {
             "colorbar": {
              "outlinewidth": 0,
              "ticks": ""
             }
            },
            "type": "scatter3d"
           }
          ],
          "scattercarpet": [
           {
            "marker": {
             "colorbar": {
              "outlinewidth": 0,
              "ticks": ""
             }
            },
            "type": "scattercarpet"
           }
          ],
          "scattergeo": [
           {
            "marker": {
             "colorbar": {
              "outlinewidth": 0,
              "ticks": ""
             }
            },
            "type": "scattergeo"
           }
          ],
          "scattergl": [
           {
            "marker": {
             "colorbar": {
              "outlinewidth": 0,
              "ticks": ""
             }
            },
            "type": "scattergl"
           }
          ],
          "scattermap": [
           {
            "marker": {
             "colorbar": {
              "outlinewidth": 0,
              "ticks": ""
             }
            },
            "type": "scattermap"
           }
          ],
          "scattermapbox": [
           {
            "marker": {
             "colorbar": {
              "outlinewidth": 0,
              "ticks": ""
             }
            },
            "type": "scattermapbox"
           }
          ],
          "scatterpolar": [
           {
            "marker": {
             "colorbar": {
              "outlinewidth": 0,
              "ticks": ""
             }
            },
            "type": "scatterpolar"
           }
          ],
          "scatterpolargl": [
           {
            "marker": {
             "colorbar": {
              "outlinewidth": 0,
              "ticks": ""
             }
            },
            "type": "scatterpolargl"
           }
          ],
          "scatterternary": [
           {
            "marker": {
             "colorbar": {
              "outlinewidth": 0,
              "ticks": ""
             }
            },
            "type": "scatterternary"
           }
          ],
          "surface": [
           {
            "colorbar": {
             "outlinewidth": 0,
             "ticks": ""
            },
            "colorscale": [
             [
              0,
              "#0d0887"
             ],
             [
              0.1111111111111111,
              "#46039f"
             ],
             [
              0.2222222222222222,
              "#7201a8"
             ],
             [
              0.3333333333333333,
              "#9c179e"
             ],
             [
              0.4444444444444444,
              "#bd3786"
             ],
             [
              0.5555555555555556,
              "#d8576b"
             ],
             [
              0.6666666666666666,
              "#ed7953"
             ],
             [
              0.7777777777777778,
              "#fb9f3a"
             ],
             [
              0.8888888888888888,
              "#fdca26"
             ],
             [
              1,
              "#f0f921"
             ]
            ],
            "type": "surface"
           }
          ],
          "table": [
           {
            "cells": {
             "fill": {
              "color": "#EBF0F8"
             },
             "line": {
              "color": "white"
             }
            },
            "header": {
             "fill": {
              "color": "#C8D4E3"
             },
             "line": {
              "color": "white"
             }
            },
            "type": "table"
           }
          ]
         },
         "layout": {
          "annotationdefaults": {
           "arrowcolor": "#2a3f5f",
           "arrowhead": 0,
           "arrowwidth": 1
          },
          "autotypenumbers": "strict",
          "coloraxis": {
           "colorbar": {
            "outlinewidth": 0,
            "ticks": ""
           }
          },
          "colorscale": {
           "diverging": [
            [
             0,
             "#8e0152"
            ],
            [
             0.1,
             "#c51b7d"
            ],
            [
             0.2,
             "#de77ae"
            ],
            [
             0.3,
             "#f1b6da"
            ],
            [
             0.4,
             "#fde0ef"
            ],
            [
             0.5,
             "#f7f7f7"
            ],
            [
             0.6,
             "#e6f5d0"
            ],
            [
             0.7,
             "#b8e186"
            ],
            [
             0.8,
             "#7fbc41"
            ],
            [
             0.9,
             "#4d9221"
            ],
            [
             1,
             "#276419"
            ]
           ],
           "sequential": [
            [
             0,
             "#0d0887"
            ],
            [
             0.1111111111111111,
             "#46039f"
            ],
            [
             0.2222222222222222,
             "#7201a8"
            ],
            [
             0.3333333333333333,
             "#9c179e"
            ],
            [
             0.4444444444444444,
             "#bd3786"
            ],
            [
             0.5555555555555556,
             "#d8576b"
            ],
            [
             0.6666666666666666,
             "#ed7953"
            ],
            [
             0.7777777777777778,
             "#fb9f3a"
            ],
            [
             0.8888888888888888,
             "#fdca26"
            ],
            [
             1,
             "#f0f921"
            ]
           ],
           "sequentialminus": [
            [
             0,
             "#0d0887"
            ],
            [
             0.1111111111111111,
             "#46039f"
            ],
            [
             0.2222222222222222,
             "#7201a8"
            ],
            [
             0.3333333333333333,
             "#9c179e"
            ],
            [
             0.4444444444444444,
             "#bd3786"
            ],
            [
             0.5555555555555556,
             "#d8576b"
            ],
            [
             0.6666666666666666,
             "#ed7953"
            ],
            [
             0.7777777777777778,
             "#fb9f3a"
            ],
            [
             0.8888888888888888,
             "#fdca26"
            ],
            [
             1,
             "#f0f921"
            ]
           ]
          },
          "colorway": [
           "#636efa",
           "#EF553B",
           "#00cc96",
           "#ab63fa",
           "#FFA15A",
           "#19d3f3",
           "#FF6692",
           "#B6E880",
           "#FF97FF",
           "#FECB52"
          ],
          "font": {
           "color": "#2a3f5f"
          },
          "geo": {
           "bgcolor": "white",
           "lakecolor": "white",
           "landcolor": "#E5ECF6",
           "showlakes": true,
           "showland": true,
           "subunitcolor": "white"
          },
          "hoverlabel": {
           "align": "left"
          },
          "hovermode": "closest",
          "mapbox": {
           "style": "light"
          },
          "paper_bgcolor": "white",
          "plot_bgcolor": "#E5ECF6",
          "polar": {
           "angularaxis": {
            "gridcolor": "white",
            "linecolor": "white",
            "ticks": ""
           },
           "bgcolor": "#E5ECF6",
           "radialaxis": {
            "gridcolor": "white",
            "linecolor": "white",
            "ticks": ""
           }
          },
          "scene": {
           "xaxis": {
            "backgroundcolor": "#E5ECF6",
            "gridcolor": "white",
            "gridwidth": 2,
            "linecolor": "white",
            "showbackground": true,
            "ticks": "",
            "zerolinecolor": "white"
           },
           "yaxis": {
            "backgroundcolor": "#E5ECF6",
            "gridcolor": "white",
            "gridwidth": 2,
            "linecolor": "white",
            "showbackground": true,
            "ticks": "",
            "zerolinecolor": "white"
           },
           "zaxis": {
            "backgroundcolor": "#E5ECF6",
            "gridcolor": "white",
            "gridwidth": 2,
            "linecolor": "white",
            "showbackground": true,
            "ticks": "",
            "zerolinecolor": "white"
           }
          },
          "shapedefaults": {
           "line": {
            "color": "#2a3f5f"
           }
          },
          "ternary": {
           "aaxis": {
            "gridcolor": "white",
            "linecolor": "white",
            "ticks": ""
           },
           "baxis": {
            "gridcolor": "white",
            "linecolor": "white",
            "ticks": ""
           },
           "bgcolor": "#E5ECF6",
           "caxis": {
            "gridcolor": "white",
            "linecolor": "white",
            "ticks": ""
           }
          },
          "title": {
           "x": 0.05
          },
          "xaxis": {
           "automargin": true,
           "gridcolor": "white",
           "linecolor": "white",
           "ticks": "",
           "title": {
            "standoff": 15
           },
           "zerolinecolor": "white",
           "zerolinewidth": 2
          },
          "yaxis": {
           "automargin": true,
           "gridcolor": "white",
           "linecolor": "white",
           "ticks": "",
           "title": {
            "standoff": 15
           },
           "zerolinecolor": "white",
           "zerolinewidth": 2
          }
         }
        },
        "title": {
         "text": "Top 20 Zone-to-Zone Trip Flows"
        },
        "xaxis": {
         "anchor": "y",
         "domain": [
          0,
          1
         ],
         "title": {
          "text": "Number of Trips"
         }
        },
        "yaxis": {
         "anchor": "x",
         "domain": [
          0,
          1
         ],
         "title": {
          "text": "Pickup Zone → Drop Zone"
         }
        }
       }
      }
     },
     "metadata": {},
     "output_type": "display_data"
    },
    {
     "name": "stdout",
     "output_type": "stream",
     "text": [
      "\n",
      "============================================================\n",
      "ACTIVITY ANALYSIS BY GROUPING METHOD\n",
      "============================================================\n",
      "Grid method - Most active cell: 342.0 trips\n",
      "Grid method - Average trips per cell: 70.6\n",
      "Zone method - Most active zone: 1252 trips\n",
      "Zone method - Average trips per zone: 600.0\n",
      "\n",
      "Top 5 most active grid cells:\n",
      "                         pickup  dropoff  total\n",
      "51.4_5.44                 174.0    168.0  342.0\n",
      "52.1_5.13                 162.0    149.0  311.0\n",
      "52.09_5.17                106.0    106.0  212.0\n",
      "51.4_5.45                  94.0    103.0  197.0\n",
      "52.050000000000004_4.32    92.0    105.0  197.0\n",
      "\n",
      "Top 5 most active zones:\n",
      "     pickup  dropoff  total\n",
      "6_0     626      626   1252\n",
      "0_9     557      557   1114\n",
      "9_5     366      365    731\n",
      "6_6     223      250    473\n",
      "9_4     219      220    439\n"
     ]
    }
   ],
   "source": [
    "# VISUALIZATIONS FOR DIFFERENT GROUPING METHODS\n",
    "\n",
    "# 1. Grid-based analysis\n",
    "print(\"Creating visualizations for coordinate groupings...\")\n",
    "\n",
    "# Grid-based pickup analysis\n",
    "grid_pickup_counts = df['pickup_grid_id'].value_counts().head(15)\n",
    "fig_grid = px.bar(\n",
    "    x=grid_pickup_counts.index,\n",
    "    y=grid_pickup_counts.values,\n",
    "    title=\"Top 15 Pickup Grid Cells (0.01° grid)\",\n",
    "    labels={'x': 'Grid Cell ID', 'y': 'Number of Pickups'}\n",
    ")\n",
    "fig_grid.update_layout(xaxis_tickangle=45, height=500)\n",
    "fig_grid.show()\n",
    "\n",
    "# 2. Geographic zones heatmap\n",
    "zone_pickup_counts = df.groupby(['pickup_lat_zone', 'pickup_lon_zone']).size().reset_index(name='count')\n",
    "fig_heatmap = px.density_heatmap(\n",
    "    zone_pickup_counts,\n",
    "    x='pickup_lon_zone',\n",
    "    y='pickup_lat_zone',\n",
    "    z='count',\n",
    "    title='Pickup Density by Geographic Zones (10x10 grid)',\n",
    "    labels={'pickup_lon_zone': 'Longitude Zone', 'pickup_lat_zone': 'Latitude Zone'}\n",
    ")\n",
    "fig_heatmap.show()\n",
    "\n",
    "# 3. Scatter plot with different grouping overlays\n",
    "sample_df = df.sample(n=500, random_state=42)\n",
    "\n",
    "# Grid-based scatter\n",
    "fig_scatter_grid = px.scatter(\n",
    "    sample_df,\n",
    "    x='pickup_lon',\n",
    "    y='pickup_lat',\n",
    "    color='pickup_grid_id',\n",
    "    title='Pickup Locations Colored by Grid Cell (Sample of 500)',\n",
    "    labels={'pickup_lon': 'Longitude', 'pickup_lat': 'Latitude'}\n",
    ")\n",
    "fig_scatter_grid.update_layout(showlegend=False)  # Too many categories for legend\n",
    "fig_scatter_grid.show()\n",
    "\n",
    "# Zone-based scatter\n",
    "fig_scatter_zone = px.scatter(\n",
    "    sample_df,\n",
    "    x='pickup_lon',\n",
    "    y='pickup_lat',\n",
    "    color='pickup_zone_id',\n",
    "    title='Pickup Locations Colored by Geographic Zone (Sample of 500)',\n",
    "    labels={'pickup_lon': 'Longitude', 'pickup_lat': 'Latitude'}\n",
    ")\n",
    "fig_scatter_zone.show()\n",
    "\n",
    "# 4. Flow analysis between zones\n",
    "flow_data = df.groupby(['pickup_zone_id', 'drop_zone_id']).size().reset_index(name='trip_count')\n",
    "flow_data = flow_data.sort_values('trip_count', ascending=False).head(20)\n",
    "\n",
    "fig_flow = px.bar(\n",
    "    flow_data,\n",
    "    x='trip_count',\n",
    "    y=flow_data['pickup_zone_id'] + ' → ' + flow_data['drop_zone_id'],\n",
    "    orientation='h',\n",
    "    title='Top 20 Zone-to-Zone Trip Flows',\n",
    "    labels={'trip_count': 'Number of Trips', 'y': 'Pickup Zone → Drop Zone'}\n",
    ")\n",
    "fig_flow.update_layout(height=600)\n",
    "fig_flow.show()\n",
    "\n",
    "# 5. Activity summary by different grouping methods\n",
    "print(\"\\n\" + \"=\"*60)\n",
    "print(\"ACTIVITY ANALYSIS BY GROUPING METHOD\")\n",
    "print(\"=\"*60)\n",
    "\n",
    "# Grid method activity\n",
    "grid_activity = pd.concat([\n",
    "    df['pickup_grid_id'].value_counts().rename('pickup'),\n",
    "    df['drop_grid_id'].value_counts().rename('dropoff')\n",
    "], axis=1).fillna(0)\n",
    "grid_activity['total'] = grid_activity['pickup'] + grid_activity['dropoff']\n",
    "print(f\"Grid method - Most active cell: {grid_activity['total'].max()} trips\")\n",
    "print(f\"Grid method - Average trips per cell: {grid_activity['total'].mean():.1f}\")\n",
    "\n",
    "# Zone method activity  \n",
    "zone_activity = pd.concat([\n",
    "    df['pickup_zone_id'].value_counts().rename('pickup'),\n",
    "    df['drop_zone_id'].value_counts().rename('dropoff')\n",
    "], axis=1).fillna(0)\n",
    "zone_activity['total'] = zone_activity['pickup'] + zone_activity['dropoff']\n",
    "print(f\"Zone method - Most active zone: {zone_activity['total'].max()} trips\")\n",
    "print(f\"Zone method - Average trips per zone: {zone_activity['total'].mean():.1f}\")\n",
    "\n",
    "print(f\"\\nTop 5 most active grid cells:\")\n",
    "print(grid_activity.sort_values('total', ascending=False).head().round(1))\n",
    "print(f\"\\nTop 5 most active zones:\")\n",
    "print(zone_activity.sort_values('total', ascending=False).head().round(1))"
   ]
  },
  {
   "cell_type": "code",
   "execution_count": 6,
   "id": "2bc75dab",
   "metadata": {},
   "outputs": [
    {
     "name": "stdout",
     "output_type": "stream",
     "text": [
      "============================================================\n",
      "COORDINATE GROUPING RECOMMENDATIONS\n",
      "============================================================\n",
      "GROUPING METHOD COMPARISON:\n",
      "----------------------------------------\n",
      "\n",
      "Original Hex IDs:\n",
      "  Groups: 2970 pickup, 2969 dropoff\n",
      "  Pros: Most precise, preserves original data structure\n",
      "  Cons: Too granular for analysis (2970 groups)\n",
      "  Best for: Exact location analysis, matching with external hex systems\n",
      "\n",
      "Grid-based (0.01°):\n",
      "  Groups: 84 pickup, 83 dropoff\n",
      "  Pros: Good balance of precision and grouping (~1km cells)\n",
      "  Cons: Arbitrary grid boundaries\n",
      "  Best for: Density analysis, hotspot identification\n",
      "\n",
      "Rounded coordinates:\n",
      "  Groups: 88 pickup, 86 dropoff\n",
      "  Pros: Simple to understand and implement\n",
      "  Cons: Less systematic than grid approach\n",
      "  Best for: Quick analysis, approximate location grouping\n",
      "\n",
      "Geographic zones:\n",
      "  Groups: 10 pickup, 10 dropoff\n",
      "  Pros: Perfect for high-level analysis, manageable number of groups\n",
      "  Cons: May lose local patterns\n",
      "  Best for: Regional analysis, city-wide patterns, strategic planning\n",
      "\n",
      "============================================================\n",
      "EXAMPLE ANALYSES YOU CAN CREATE\n",
      "============================================================\n",
      "\n",
      "1. PEAK HOURS BY ZONE (using geographic zones):\n",
      "  Zone 0_9: Peak at 23:00 with 31 trips\n",
      "  Zone 4_1: Peak at 18:00 with 14 trips\n",
      "  Zone 5_1: Peak at 13:00 with 13 trips\n",
      "  Zone 5_2: Peak at 9:00 with 14 trips\n",
      "  Zone 6_0: Peak at 9:00 with 39 trips\n",
      "  Zone 6_6: Peak at 1:00 with 13 trips\n",
      "  Zone 6_7: Peak at 20:00 with 19 trips\n",
      "  Zone 7_6: Peak at 15:00 with 14 trips\n",
      "  Zone 9_4: Peak at 10:00 with 16 trips\n",
      "  Zone 9_5: Peak at 6:00 with 25 trips\n",
      "\n",
      "2. AVERAGE TRIP DISTANCE BY GROUPING METHOD:\n",
      "  Grid method:\n",
      "    Same-area trips: 380 (12.7%)\n",
      "    Cross-area trips: 2620 (87.3%)\n",
      "    Avg distance same-area: 6.04 km\n",
      "    Avg distance cross-area: 6.08 km\n",
      "  Zone method:\n",
      "    Same-area trips: 1934 (64.5%)\n",
      "    Cross-area trips: 1066 (35.5%)\n",
      "    Avg distance same-area: 6.07 km\n",
      "    Avg distance cross-area: 6.10 km\n",
      "\n",
      "3. USING THE OPTIMAL GROUPING FUNCTION:\n",
      "You can now use create_optimal_coordinate_groups() to group coordinates\n",
      "Example: grouped_df = create_optimal_coordinate_groups(df, method='grid', grid_size=0.005)\n",
      "Demo: 100 rides grouped into 6 pickup zones and 6 drop zones\n"
     ]
    }
   ],
   "source": [
    "# PRACTICAL COORDINATE GROUPING RECOMMENDATIONS\n",
    "\n",
    "print(\"=\"*60)\n",
    "print(\"COORDINATE GROUPING RECOMMENDATIONS\")\n",
    "print(\"=\"*60)\n",
    "\n",
    "# Create a summary of the different methods and their use cases\n",
    "print(\"GROUPING METHOD COMPARISON:\")\n",
    "print(\"-\" * 40)\n",
    "\n",
    "methods = {\n",
    "    'Original Hex IDs': {\n",
    "        'groups': (df['pickup_hex_id9'].nunique(), df['drop_hex_id9'].nunique()),\n",
    "        'pros': 'Most precise, preserves original data structure',\n",
    "        'cons': 'Too granular for analysis (2970 groups)',\n",
    "        'use_case': 'Exact location analysis, matching with external hex systems'\n",
    "    },\n",
    "    'Grid-based (0.01°)': {\n",
    "        'groups': (df['pickup_grid_id'].nunique(), df['drop_grid_id'].nunique()),\n",
    "        'pros': 'Good balance of precision and grouping (~1km cells)',\n",
    "        'cons': 'Arbitrary grid boundaries',\n",
    "        'use_case': 'Density analysis, hotspot identification'\n",
    "    },\n",
    "    'Rounded coordinates': {\n",
    "        'groups': (df['pickup_rounded_id'].nunique(), df['drop_rounded_id'].nunique()),\n",
    "        'pros': 'Simple to understand and implement',\n",
    "        'cons': 'Less systematic than grid approach',\n",
    "        'use_case': 'Quick analysis, approximate location grouping'\n",
    "    },\n",
    "    'Geographic zones': {\n",
    "        'groups': (df['pickup_zone_id'].nunique(), df['drop_zone_id'].nunique()),\n",
    "        'pros': 'Perfect for high-level analysis, manageable number of groups',\n",
    "        'cons': 'May lose local patterns',\n",
    "        'use_case': 'Regional analysis, city-wide patterns, strategic planning'\n",
    "    }\n",
    "}\n",
    "\n",
    "for method, info in methods.items():\n",
    "    print(f\"\\n{method}:\")\n",
    "    print(f\"  Groups: {info['groups'][0]} pickup, {info['groups'][1]} dropoff\")\n",
    "    print(f\"  Pros: {info['pros']}\")\n",
    "    print(f\"  Cons: {info['cons']}\")\n",
    "    print(f\"  Best for: {info['use_case']}\")\n",
    "\n",
    "# Demonstrate how to create different analyses based on your needs\n",
    "\n",
    "print(f\"\\n\" + \"=\"*60)\n",
    "print(\"EXAMPLE ANALYSES YOU CAN CREATE\")\n",
    "print(\"=\"*60)\n",
    "\n",
    "# Example 1: Peak hour analysis by zone\n",
    "df['hour'] = pd.to_datetime(df['start_time']).dt.hour\n",
    "hourly_zone_data = df.groupby(['hour', 'pickup_zone_id']).size().reset_index(name='trips')\n",
    "\n",
    "print(\"\\n1. PEAK HOURS BY ZONE (using geographic zones):\")\n",
    "peak_hours = hourly_zone_data.groupby('pickup_zone_id')['trips'].idxmax()\n",
    "for zone in sorted(df['pickup_zone_id'].unique()):\n",
    "    if not pd.isna(zone):\n",
    "        zone_data = hourly_zone_data[hourly_zone_data['pickup_zone_id'] == zone]\n",
    "        if not zone_data.empty:\n",
    "            peak_hour = zone_data.loc[zone_data['trips'].idxmax(), 'hour']\n",
    "            peak_trips = zone_data['trips'].max()\n",
    "            print(f\"  Zone {zone}: Peak at {peak_hour}:00 with {peak_trips} trips\")\n",
    "\n",
    "# Example 2: Distance analysis by grouping method\n",
    "print(f\"\\n2. AVERAGE TRIP DISTANCE BY GROUPING METHOD:\")\n",
    "for method_name, col_prefix in [('Grid', 'grid'), ('Zone', 'zone')]:\n",
    "    pickup_col = f'pickup_{col_prefix}_id'\n",
    "    drop_col = f'drop_{col_prefix}_id'\n",
    "    \n",
    "    # Same area trips (within same grid/zone)\n",
    "    same_area = df[df[pickup_col] == df[drop_col]]\n",
    "    cross_area = df[df[pickup_col] != df[drop_col]]\n",
    "    \n",
    "    print(f\"  {method_name} method:\")\n",
    "    print(f\"    Same-area trips: {len(same_area)} ({len(same_area)/len(df)*100:.1f}%)\")\n",
    "    print(f\"    Cross-area trips: {len(cross_area)} ({len(cross_area)/len(df)*100:.1f}%)\")\n",
    "    print(f\"    Avg distance same-area: {same_area['distance_km'].mean():.2f} km\")\n",
    "    print(f\"    Avg distance cross-area: {cross_area['distance_km'].mean():.2f} km\")\n",
    "\n",
    "# Example 3: Create a practical grouping function\n",
    "def create_optimal_coordinate_groups(df, method='grid', grid_size=0.01, zones=(10,10)):\n",
    "    \"\"\"\n",
    "    Create coordinate groups based on specified method\n",
    "    \n",
    "    Parameters:\n",
    "    - method: 'grid', 'rounded', or 'zones'\n",
    "    - grid_size: size of grid cells in degrees (for grid method)\n",
    "    - zones: tuple of (lat_zones, lon_zones) for zone method\n",
    "    \"\"\"\n",
    "    \n",
    "    result_df = df.copy()\n",
    "    \n",
    "    if method == 'grid':\n",
    "        # Grid-based grouping\n",
    "        result_df['pickup_lat_group'] = np.floor(df['pickup_lat'] / grid_size) * grid_size\n",
    "        result_df['pickup_lon_group'] = np.floor(df['pickup_lon'] / grid_size) * grid_size\n",
    "        result_df['pickup_group_id'] = (result_df['pickup_lat_group'].astype(str) + '_' + \n",
    "                                       result_df['pickup_lon_group'].astype(str))\n",
    "        \n",
    "        result_df['drop_lat_group'] = np.floor(df['drop_lat'] / grid_size) * grid_size\n",
    "        result_df['drop_lon_group'] = np.floor(df['drop_lon'] / grid_size) * grid_size\n",
    "        result_df['drop_group_id'] = (result_df['drop_lat_group'].astype(str) + '_' + \n",
    "                                     result_df['drop_lon_group'].astype(str))\n",
    "        \n",
    "    elif method == 'zones':\n",
    "        # Zone-based grouping\n",
    "        lat_zones, lon_zones = zones\n",
    "        \n",
    "        lat_bins = np.linspace(df['pickup_lat'].min(), df['pickup_lat'].max(), lat_zones + 1)\n",
    "        lon_bins = np.linspace(df['pickup_lon'].min(), df['pickup_lon'].max(), lon_zones + 1)\n",
    "        \n",
    "        result_df['pickup_lat_group'] = pd.cut(df['pickup_lat'], bins=lat_bins, labels=False, include_lowest=True)\n",
    "        result_df['pickup_lon_group'] = pd.cut(df['pickup_lon'], bins=lon_bins, labels=False, include_lowest=True)\n",
    "        result_df['pickup_group_id'] = (result_df['pickup_lat_group'].astype(str) + '_' + \n",
    "                                       result_df['pickup_lon_group'].astype(str))\n",
    "        \n",
    "        lat_bins = np.linspace(df['drop_lat'].min(), df['drop_lat'].max(), lat_zones + 1)\n",
    "        lon_bins = np.linspace(df['drop_lon'].min(), df['drop_lon'].max(), lon_zones + 1)\n",
    "        \n",
    "        result_df['drop_lat_group'] = pd.cut(df['drop_lat'], bins=lat_bins, labels=False, include_lowest=True)\n",
    "        result_df['drop_lon_group'] = pd.cut(df['drop_lon'], bins=lon_bins, labels=False, include_lowest=True)\n",
    "        result_df['drop_group_id'] = (result_df['drop_lat_group'].astype(str) + '_' + \n",
    "                                     result_df['drop_lon_group'].astype(str))\n",
    "    \n",
    "    return result_df\n",
    "\n",
    "print(f\"\\n3. USING THE OPTIMAL GROUPING FUNCTION:\")\n",
    "print(\"You can now use create_optimal_coordinate_groups() to group coordinates\")\n",
    "print(\"Example: grouped_df = create_optimal_coordinate_groups(df, method='grid', grid_size=0.005)\")\n",
    "\n",
    "# Quick demonstration\n",
    "demo_df = create_optimal_coordinate_groups(df.head(100), method='zones', zones=(5,5))\n",
    "print(f\"Demo: 100 rides grouped into {demo_df['pickup_group_id'].nunique()} pickup zones and {demo_df['drop_group_id'].nunique()} drop zones\")"
   ]
  },
  {
   "cell_type": "code",
   "execution_count": 7,
   "id": "8b70e79f",
   "metadata": {},
   "outputs": [
    {
     "name": "stdout",
     "output_type": "stream",
     "text": [
      "============================================================\n",
      "COMPARING DIFFERENT GRID SIZES\n",
      "============================================================\n",
      "\n",
      "Testing grid size: 0.01 degrees\n",
      "------------------------------\n",
      "Pickup groups: 84\n",
      "Dropoff groups: 83\n",
      "Most active cell: 342 trips\n",
      "Average activity: 70.6 trips per cell\n",
      "Activity range: 1 - 342 trips\n",
      "Activity std dev: 68.7\n",
      "\n",
      "Testing grid size: 0.02 degrees\n",
      "------------------------------\n",
      "Pickup groups: 49\n",
      "Dropoff groups: 47\n",
      "Most active cell: 544 trips\n",
      "Average activity: 122.4 trips per cell\n",
      "Activity range: 1 - 544 trips\n",
      "Activity std dev: 114.4\n",
      "\n",
      "Testing grid size: 0.03 degrees\n",
      "------------------------------\n",
      "Pickup groups: 40\n",
      "Dropoff groups: 40\n",
      "Most active cell: 554 trips\n",
      "Average activity: 150.0 trips per cell\n",
      "Activity range: 2 - 554 trips\n",
      "Activity std dev: 118.7\n",
      "\n",
      "============================================================\n",
      "GRID SIZE COMPARISON SUMMARY\n",
      "============================================================\n",
      " Grid Size (degrees) Approx Cell Size  Pickup Groups  Dropoff Groups Max Activity Avg Activity Activity Std Dev\n",
      "                0.01         ~1m x 1m             84              83          342         70.6             68.7\n",
      "                0.02         ~2m x 2m             49              47          544        122.4            114.4\n",
      "                0.03         ~3m x 3m             40              40          554        150.0            118.7\n"
     ]
    },
    {
     "data": {
      "application/vnd.plotly.v1+json": {
       "config": {
        "plotlyServerURL": "https://plot.ly"
       },
       "data": [
        {
         "alignmentgroup": "True",
         "hovertemplate": "variable=Pickup Groups<br>Grid Size (degrees)=%{x}<br>value=%{y}<extra></extra>",
         "legendgroup": "Pickup Groups",
         "marker": {
          "color": "#636efa",
          "pattern": {
           "shape": ""
          }
         },
         "name": "Pickup Groups",
         "offsetgroup": "Pickup Groups",
         "orientation": "v",
         "showlegend": true,
         "textposition": "auto",
         "type": "bar",
         "x": {
          "bdata": "exSuR+F6hD97FK5H4XqUP7gehetRuJ4/",
          "dtype": "f8"
         },
         "xaxis": "x",
         "y": {
          "bdata": "VDEo",
          "dtype": "i1"
         },
         "yaxis": "y"
        },
        {
         "alignmentgroup": "True",
         "hovertemplate": "variable=Dropoff Groups<br>Grid Size (degrees)=%{x}<br>value=%{y}<extra></extra>",
         "legendgroup": "Dropoff Groups",
         "marker": {
          "color": "#EF553B",
          "pattern": {
           "shape": ""
          }
         },
         "name": "Dropoff Groups",
         "offsetgroup": "Dropoff Groups",
         "orientation": "v",
         "showlegend": true,
         "textposition": "auto",
         "type": "bar",
         "x": {
          "bdata": "exSuR+F6hD97FK5H4XqUP7gehetRuJ4/",
          "dtype": "f8"
         },
         "xaxis": "x",
         "y": {
          "bdata": "Uy8o",
          "dtype": "i1"
         },
         "yaxis": "y"
        }
       ],
       "layout": {
        "barmode": "group",
        "legend": {
         "title": {
          "text": "variable"
         },
         "tracegroupgap": 0
        },
        "template": {
         "data": {
          "bar": [
           {
            "error_x": {
             "color": "#2a3f5f"
            },
            "error_y": {
             "color": "#2a3f5f"
            },
            "marker": {
             "line": {
              "color": "#E5ECF6",
              "width": 0.5
             },
             "pattern": {
              "fillmode": "overlay",
              "size": 10,
              "solidity": 0.2
             }
            },
            "type": "bar"
           }
          ],
          "barpolar": [
           {
            "marker": {
             "line": {
              "color": "#E5ECF6",
              "width": 0.5
             },
             "pattern": {
              "fillmode": "overlay",
              "size": 10,
              "solidity": 0.2
             }
            },
            "type": "barpolar"
           }
          ],
          "carpet": [
           {
            "aaxis": {
             "endlinecolor": "#2a3f5f",
             "gridcolor": "white",
             "linecolor": "white",
             "minorgridcolor": "white",
             "startlinecolor": "#2a3f5f"
            },
            "baxis": {
             "endlinecolor": "#2a3f5f",
             "gridcolor": "white",
             "linecolor": "white",
             "minorgridcolor": "white",
             "startlinecolor": "#2a3f5f"
            },
            "type": "carpet"
           }
          ],
          "choropleth": [
           {
            "colorbar": {
             "outlinewidth": 0,
             "ticks": ""
            },
            "type": "choropleth"
           }
          ],
          "contour": [
           {
            "colorbar": {
             "outlinewidth": 0,
             "ticks": ""
            },
            "colorscale": [
             [
              0,
              "#0d0887"
             ],
             [
              0.1111111111111111,
              "#46039f"
             ],
             [
              0.2222222222222222,
              "#7201a8"
             ],
             [
              0.3333333333333333,
              "#9c179e"
             ],
             [
              0.4444444444444444,
              "#bd3786"
             ],
             [
              0.5555555555555556,
              "#d8576b"
             ],
             [
              0.6666666666666666,
              "#ed7953"
             ],
             [
              0.7777777777777778,
              "#fb9f3a"
             ],
             [
              0.8888888888888888,
              "#fdca26"
             ],
             [
              1,
              "#f0f921"
             ]
            ],
            "type": "contour"
           }
          ],
          "contourcarpet": [
           {
            "colorbar": {
             "outlinewidth": 0,
             "ticks": ""
            },
            "type": "contourcarpet"
           }
          ],
          "heatmap": [
           {
            "colorbar": {
             "outlinewidth": 0,
             "ticks": ""
            },
            "colorscale": [
             [
              0,
              "#0d0887"
             ],
             [
              0.1111111111111111,
              "#46039f"
             ],
             [
              0.2222222222222222,
              "#7201a8"
             ],
             [
              0.3333333333333333,
              "#9c179e"
             ],
             [
              0.4444444444444444,
              "#bd3786"
             ],
             [
              0.5555555555555556,
              "#d8576b"
             ],
             [
              0.6666666666666666,
              "#ed7953"
             ],
             [
              0.7777777777777778,
              "#fb9f3a"
             ],
             [
              0.8888888888888888,
              "#fdca26"
             ],
             [
              1,
              "#f0f921"
             ]
            ],
            "type": "heatmap"
           }
          ],
          "histogram": [
           {
            "marker": {
             "pattern": {
              "fillmode": "overlay",
              "size": 10,
              "solidity": 0.2
             }
            },
            "type": "histogram"
           }
          ],
          "histogram2d": [
           {
            "colorbar": {
             "outlinewidth": 0,
             "ticks": ""
            },
            "colorscale": [
             [
              0,
              "#0d0887"
             ],
             [
              0.1111111111111111,
              "#46039f"
             ],
             [
              0.2222222222222222,
              "#7201a8"
             ],
             [
              0.3333333333333333,
              "#9c179e"
             ],
             [
              0.4444444444444444,
              "#bd3786"
             ],
             [
              0.5555555555555556,
              "#d8576b"
             ],
             [
              0.6666666666666666,
              "#ed7953"
             ],
             [
              0.7777777777777778,
              "#fb9f3a"
             ],
             [
              0.8888888888888888,
              "#fdca26"
             ],
             [
              1,
              "#f0f921"
             ]
            ],
            "type": "histogram2d"
           }
          ],
          "histogram2dcontour": [
           {
            "colorbar": {
             "outlinewidth": 0,
             "ticks": ""
            },
            "colorscale": [
             [
              0,
              "#0d0887"
             ],
             [
              0.1111111111111111,
              "#46039f"
             ],
             [
              0.2222222222222222,
              "#7201a8"
             ],
             [
              0.3333333333333333,
              "#9c179e"
             ],
             [
              0.4444444444444444,
              "#bd3786"
             ],
             [
              0.5555555555555556,
              "#d8576b"
             ],
             [
              0.6666666666666666,
              "#ed7953"
             ],
             [
              0.7777777777777778,
              "#fb9f3a"
             ],
             [
              0.8888888888888888,
              "#fdca26"
             ],
             [
              1,
              "#f0f921"
             ]
            ],
            "type": "histogram2dcontour"
           }
          ],
          "mesh3d": [
           {
            "colorbar": {
             "outlinewidth": 0,
             "ticks": ""
            },
            "type": "mesh3d"
           }
          ],
          "parcoords": [
           {
            "line": {
             "colorbar": {
              "outlinewidth": 0,
              "ticks": ""
             }
            },
            "type": "parcoords"
           }
          ],
          "pie": [
           {
            "automargin": true,
            "type": "pie"
           }
          ],
          "scatter": [
           {
            "fillpattern": {
             "fillmode": "overlay",
             "size": 10,
             "solidity": 0.2
            },
            "type": "scatter"
           }
          ],
          "scatter3d": [
           {
            "line": {
             "colorbar": {
              "outlinewidth": 0,
              "ticks": ""
             }
            },
            "marker": {
             "colorbar": {
              "outlinewidth": 0,
              "ticks": ""
             }
            },
            "type": "scatter3d"
           }
          ],
          "scattercarpet": [
           {
            "marker": {
             "colorbar": {
              "outlinewidth": 0,
              "ticks": ""
             }
            },
            "type": "scattercarpet"
           }
          ],
          "scattergeo": [
           {
            "marker": {
             "colorbar": {
              "outlinewidth": 0,
              "ticks": ""
             }
            },
            "type": "scattergeo"
           }
          ],
          "scattergl": [
           {
            "marker": {
             "colorbar": {
              "outlinewidth": 0,
              "ticks": ""
             }
            },
            "type": "scattergl"
           }
          ],
          "scattermap": [
           {
            "marker": {
             "colorbar": {
              "outlinewidth": 0,
              "ticks": ""
             }
            },
            "type": "scattermap"
           }
          ],
          "scattermapbox": [
           {
            "marker": {
             "colorbar": {
              "outlinewidth": 0,
              "ticks": ""
             }
            },
            "type": "scattermapbox"
           }
          ],
          "scatterpolar": [
           {
            "marker": {
             "colorbar": {
              "outlinewidth": 0,
              "ticks": ""
             }
            },
            "type": "scatterpolar"
           }
          ],
          "scatterpolargl": [
           {
            "marker": {
             "colorbar": {
              "outlinewidth": 0,
              "ticks": ""
             }
            },
            "type": "scatterpolargl"
           }
          ],
          "scatterternary": [
           {
            "marker": {
             "colorbar": {
              "outlinewidth": 0,
              "ticks": ""
             }
            },
            "type": "scatterternary"
           }
          ],
          "surface": [
           {
            "colorbar": {
             "outlinewidth": 0,
             "ticks": ""
            },
            "colorscale": [
             [
              0,
              "#0d0887"
             ],
             [
              0.1111111111111111,
              "#46039f"
             ],
             [
              0.2222222222222222,
              "#7201a8"
             ],
             [
              0.3333333333333333,
              "#9c179e"
             ],
             [
              0.4444444444444444,
              "#bd3786"
             ],
             [
              0.5555555555555556,
              "#d8576b"
             ],
             [
              0.6666666666666666,
              "#ed7953"
             ],
             [
              0.7777777777777778,
              "#fb9f3a"
             ],
             [
              0.8888888888888888,
              "#fdca26"
             ],
             [
              1,
              "#f0f921"
             ]
            ],
            "type": "surface"
           }
          ],
          "table": [
           {
            "cells": {
             "fill": {
              "color": "#EBF0F8"
             },
             "line": {
              "color": "white"
             }
            },
            "header": {
             "fill": {
              "color": "#C8D4E3"
             },
             "line": {
              "color": "white"
             }
            },
            "type": "table"
           }
          ]
         },
         "layout": {
          "annotationdefaults": {
           "arrowcolor": "#2a3f5f",
           "arrowhead": 0,
           "arrowwidth": 1
          },
          "autotypenumbers": "strict",
          "coloraxis": {
           "colorbar": {
            "outlinewidth": 0,
            "ticks": ""
           }
          },
          "colorscale": {
           "diverging": [
            [
             0,
             "#8e0152"
            ],
            [
             0.1,
             "#c51b7d"
            ],
            [
             0.2,
             "#de77ae"
            ],
            [
             0.3,
             "#f1b6da"
            ],
            [
             0.4,
             "#fde0ef"
            ],
            [
             0.5,
             "#f7f7f7"
            ],
            [
             0.6,
             "#e6f5d0"
            ],
            [
             0.7,
             "#b8e186"
            ],
            [
             0.8,
             "#7fbc41"
            ],
            [
             0.9,
             "#4d9221"
            ],
            [
             1,
             "#276419"
            ]
           ],
           "sequential": [
            [
             0,
             "#0d0887"
            ],
            [
             0.1111111111111111,
             "#46039f"
            ],
            [
             0.2222222222222222,
             "#7201a8"
            ],
            [
             0.3333333333333333,
             "#9c179e"
            ],
            [
             0.4444444444444444,
             "#bd3786"
            ],
            [
             0.5555555555555556,
             "#d8576b"
            ],
            [
             0.6666666666666666,
             "#ed7953"
            ],
            [
             0.7777777777777778,
             "#fb9f3a"
            ],
            [
             0.8888888888888888,
             "#fdca26"
            ],
            [
             1,
             "#f0f921"
            ]
           ],
           "sequentialminus": [
            [
             0,
             "#0d0887"
            ],
            [
             0.1111111111111111,
             "#46039f"
            ],
            [
             0.2222222222222222,
             "#7201a8"
            ],
            [
             0.3333333333333333,
             "#9c179e"
            ],
            [
             0.4444444444444444,
             "#bd3786"
            ],
            [
             0.5555555555555556,
             "#d8576b"
            ],
            [
             0.6666666666666666,
             "#ed7953"
            ],
            [
             0.7777777777777778,
             "#fb9f3a"
            ],
            [
             0.8888888888888888,
             "#fdca26"
            ],
            [
             1,
             "#f0f921"
            ]
           ]
          },
          "colorway": [
           "#636efa",
           "#EF553B",
           "#00cc96",
           "#ab63fa",
           "#FFA15A",
           "#19d3f3",
           "#FF6692",
           "#B6E880",
           "#FF97FF",
           "#FECB52"
          ],
          "font": {
           "color": "#2a3f5f"
          },
          "geo": {
           "bgcolor": "white",
           "lakecolor": "white",
           "landcolor": "#E5ECF6",
           "showlakes": true,
           "showland": true,
           "subunitcolor": "white"
          },
          "hoverlabel": {
           "align": "left"
          },
          "hovermode": "closest",
          "mapbox": {
           "style": "light"
          },
          "paper_bgcolor": "white",
          "plot_bgcolor": "#E5ECF6",
          "polar": {
           "angularaxis": {
            "gridcolor": "white",
            "linecolor": "white",
            "ticks": ""
           },
           "bgcolor": "#E5ECF6",
           "radialaxis": {
            "gridcolor": "white",
            "linecolor": "white",
            "ticks": ""
           }
          },
          "scene": {
           "xaxis": {
            "backgroundcolor": "#E5ECF6",
            "gridcolor": "white",
            "gridwidth": 2,
            "linecolor": "white",
            "showbackground": true,
            "ticks": "",
            "zerolinecolor": "white"
           },
           "yaxis": {
            "backgroundcolor": "#E5ECF6",
            "gridcolor": "white",
            "gridwidth": 2,
            "linecolor": "white",
            "showbackground": true,
            "ticks": "",
            "zerolinecolor": "white"
           },
           "zaxis": {
            "backgroundcolor": "#E5ECF6",
            "gridcolor": "white",
            "gridwidth": 2,
            "linecolor": "white",
            "showbackground": true,
            "ticks": "",
            "zerolinecolor": "white"
           }
          },
          "shapedefaults": {
           "line": {
            "color": "#2a3f5f"
           }
          },
          "ternary": {
           "aaxis": {
            "gridcolor": "white",
            "linecolor": "white",
            "ticks": ""
           },
           "baxis": {
            "gridcolor": "white",
            "linecolor": "white",
            "ticks": ""
           },
           "bgcolor": "#E5ECF6",
           "caxis": {
            "gridcolor": "white",
            "linecolor": "white",
            "ticks": ""
           }
          },
          "title": {
           "x": 0.05
          },
          "xaxis": {
           "automargin": true,
           "gridcolor": "white",
           "linecolor": "white",
           "ticks": "",
           "title": {
            "standoff": 15
           },
           "zerolinecolor": "white",
           "zerolinewidth": 2
          },
          "yaxis": {
           "automargin": true,
           "gridcolor": "white",
           "linecolor": "white",
           "ticks": "",
           "title": {
            "standoff": 15
           },
           "zerolinecolor": "white",
           "zerolinewidth": 2
          }
         }
        },
        "title": {
         "text": "Number of Groups by Grid Size"
        },
        "xaxis": {
         "anchor": "y",
         "domain": [
          0,
          1
         ],
         "title": {
          "text": "Grid Size (degrees)"
         }
        },
        "yaxis": {
         "anchor": "x",
         "domain": [
          0,
          1
         ],
         "title": {
          "text": "value"
         }
        }
       }
      }
     },
     "metadata": {},
     "output_type": "display_data"
    },
    {
     "data": {
      "application/vnd.plotly.v1+json": {
       "config": {
        "plotlyServerURL": "https://plot.ly"
       },
       "data": [
        {
         "line": {
          "width": 2
         },
         "mode": "lines+markers",
         "name": "0.01° grid",
         "type": "scatter",
         "x": {
          "bdata": "AAAAAAAA8D8AAAAAAAAAQAAAAAAAAAhAAAAAAAAAEEAAAAAAAAAUQAAAAAAAABhAAAAAAAAAIkAAAAAAAAAkQAAAAAAAAChAAAAAAAAAKkAAAAAAAAAwQAAAAAAAADFAAAAAAAAAMkAAAAAAAAA1QAAAAAAAADdAAAAAAAAAOUAAAAAAAAA8QAAAAAAAAD1AAAAAAAAAQEAAAAAAAABBQAAAAAAAgEFAAAAAAACAQkAAAAAAAIBDQAAAAAAAgEVAAAAAAAAAR0AAAAAAAIBHQAAAAAAAAEhAAAAAAAAASUAAAAAAAIBLQAAAAAAAAExAAAAAAAAATkAAAAAAAEBQQAAAAAAAQFJAAAAAAADAUkAAAAAAAABTQAAAAAAAQFNAAAAAAACAU0AAAAAAAABUQAAAAAAAQFRAAAAAAAAAVUAAAAAAAMBVQAAAAAAAgFZAAAAAAACAV0AAAAAAAABZQAAAAAAAwFlAAAAAAADAWkAAAAAAAMBbQAAAAAAAAFxAAAAAAAAAXUAAAAAAAIBeQAAAAAAAoGBAAAAAAADAYEAAAAAAAIBhQAAAAAAAIGJAAAAAAADgYkAAAAAAAIBjQAAAAAAAIGRAAAAAAABAZEAAAAAAAEBlQAAAAAAAoGZAAAAAAACgaEAAAAAAAIBqQAAAAAAAcHNAAAAAAABgdUA=",
          "dtype": "f8"
         },
         "y": {
          "bdata": "AgIBAgMCAgMBAQEBAQMBAgEBAQIBAgEBAgECAQEDAQEBAQEBAQEBAQIBAQEBAQEBAQEBAQEBAQEBAQIBAgEBAQ==",
          "dtype": "i1"
         }
        },
        {
         "line": {
          "width": 2
         },
         "mode": "lines+markers",
         "name": "0.02° grid",
         "type": "scatter",
         "x": {
          "bdata": "AAAAAAAA8D8AAAAAAAAAQAAAAAAAABBAAAAAAAAAFEAAAAAAAAAYQAAAAAAAACRAAAAAAAAALEAAAAAAAAAwQAAAAAAAADFAAAAAAAAAN0AAAAAAAAA9QAAAAAAAgENAAAAAAACAREAAAAAAAIBHQAAAAAAAAEhAAAAAAABAUEAAAAAAAEBRQAAAAAAAgFRAAAAAAAAAVUAAAAAAAMBVQAAAAAAAgFZAAAAAAACAW0AAAAAAAABcQAAAAAAAAF1AAAAAAACAXkAAAAAAAIBfQAAAAAAAgGBAAAAAAACgYEAAAAAAAMBgQAAAAAAAgGJAAAAAAACAY0AAAAAAAMBmQAAAAAAAgGdAAAAAAACgZ0AAAAAAAOBnQAAAAAAAAGhAAAAAAABAaEAAAAAAAKBoQAAAAAAAAGpAAAAAAACgakAAAAAAAKBrQAAAAAAAwGxAAAAAAADAcUAAAAAAAFB3QAAAAAAAYHpAAAAAAAAAgUA=",
          "dtype": "f8"
         },
         "y": {
          "bdata": "AgEBAQEBAQIBAQEBAQEBAQEBAQIBAQEBAQEBAQEBAQEBAQEBAQEBAQEBAQEBAQ==",
          "dtype": "i1"
         }
        },
        {
         "line": {
          "width": 2
         },
         "mode": "lines+markers",
         "name": "0.03° grid",
         "type": "scatter",
         "x": {
          "bdata": "AgAEAAYACQAOABUALgAvADAANwBBAEUAUgBTAFwAagBuAHAAegCUAJwAnwCiAKsArACvALYAvQDAAMIAxQDZAN0A5QDmAOsATgF2AaABKgI=",
          "dtype": "i2"
         },
         "y": {
          "bdata": "AQEBAQEBAQEBAQEBAQEBAQEBAQEBAQEBAQEBAQEBAQEBAQEBAQEBAQ==",
          "dtype": "i1"
         }
        }
       ],
       "layout": {
        "height": 500,
        "template": {
         "data": {
          "bar": [
           {
            "error_x": {
             "color": "#2a3f5f"
            },
            "error_y": {
             "color": "#2a3f5f"
            },
            "marker": {
             "line": {
              "color": "#E5ECF6",
              "width": 0.5
             },
             "pattern": {
              "fillmode": "overlay",
              "size": 10,
              "solidity": 0.2
             }
            },
            "type": "bar"
           }
          ],
          "barpolar": [
           {
            "marker": {
             "line": {
              "color": "#E5ECF6",
              "width": 0.5
             },
             "pattern": {
              "fillmode": "overlay",
              "size": 10,
              "solidity": 0.2
             }
            },
            "type": "barpolar"
           }
          ],
          "carpet": [
           {
            "aaxis": {
             "endlinecolor": "#2a3f5f",
             "gridcolor": "white",
             "linecolor": "white",
             "minorgridcolor": "white",
             "startlinecolor": "#2a3f5f"
            },
            "baxis": {
             "endlinecolor": "#2a3f5f",
             "gridcolor": "white",
             "linecolor": "white",
             "minorgridcolor": "white",
             "startlinecolor": "#2a3f5f"
            },
            "type": "carpet"
           }
          ],
          "choropleth": [
           {
            "colorbar": {
             "outlinewidth": 0,
             "ticks": ""
            },
            "type": "choropleth"
           }
          ],
          "contour": [
           {
            "colorbar": {
             "outlinewidth": 0,
             "ticks": ""
            },
            "colorscale": [
             [
              0,
              "#0d0887"
             ],
             [
              0.1111111111111111,
              "#46039f"
             ],
             [
              0.2222222222222222,
              "#7201a8"
             ],
             [
              0.3333333333333333,
              "#9c179e"
             ],
             [
              0.4444444444444444,
              "#bd3786"
             ],
             [
              0.5555555555555556,
              "#d8576b"
             ],
             [
              0.6666666666666666,
              "#ed7953"
             ],
             [
              0.7777777777777778,
              "#fb9f3a"
             ],
             [
              0.8888888888888888,
              "#fdca26"
             ],
             [
              1,
              "#f0f921"
             ]
            ],
            "type": "contour"
           }
          ],
          "contourcarpet": [
           {
            "colorbar": {
             "outlinewidth": 0,
             "ticks": ""
            },
            "type": "contourcarpet"
           }
          ],
          "heatmap": [
           {
            "colorbar": {
             "outlinewidth": 0,
             "ticks": ""
            },
            "colorscale": [
             [
              0,
              "#0d0887"
             ],
             [
              0.1111111111111111,
              "#46039f"
             ],
             [
              0.2222222222222222,
              "#7201a8"
             ],
             [
              0.3333333333333333,
              "#9c179e"
             ],
             [
              0.4444444444444444,
              "#bd3786"
             ],
             [
              0.5555555555555556,
              "#d8576b"
             ],
             [
              0.6666666666666666,
              "#ed7953"
             ],
             [
              0.7777777777777778,
              "#fb9f3a"
             ],
             [
              0.8888888888888888,
              "#fdca26"
             ],
             [
              1,
              "#f0f921"
             ]
            ],
            "type": "heatmap"
           }
          ],
          "histogram": [
           {
            "marker": {
             "pattern": {
              "fillmode": "overlay",
              "size": 10,
              "solidity": 0.2
             }
            },
            "type": "histogram"
           }
          ],
          "histogram2d": [
           {
            "colorbar": {
             "outlinewidth": 0,
             "ticks": ""
            },
            "colorscale": [
             [
              0,
              "#0d0887"
             ],
             [
              0.1111111111111111,
              "#46039f"
             ],
             [
              0.2222222222222222,
              "#7201a8"
             ],
             [
              0.3333333333333333,
              "#9c179e"
             ],
             [
              0.4444444444444444,
              "#bd3786"
             ],
             [
              0.5555555555555556,
              "#d8576b"
             ],
             [
              0.6666666666666666,
              "#ed7953"
             ],
             [
              0.7777777777777778,
              "#fb9f3a"
             ],
             [
              0.8888888888888888,
              "#fdca26"
             ],
             [
              1,
              "#f0f921"
             ]
            ],
            "type": "histogram2d"
           }
          ],
          "histogram2dcontour": [
           {
            "colorbar": {
             "outlinewidth": 0,
             "ticks": ""
            },
            "colorscale": [
             [
              0,
              "#0d0887"
             ],
             [
              0.1111111111111111,
              "#46039f"
             ],
             [
              0.2222222222222222,
              "#7201a8"
             ],
             [
              0.3333333333333333,
              "#9c179e"
             ],
             [
              0.4444444444444444,
              "#bd3786"
             ],
             [
              0.5555555555555556,
              "#d8576b"
             ],
             [
              0.6666666666666666,
              "#ed7953"
             ],
             [
              0.7777777777777778,
              "#fb9f3a"
             ],
             [
              0.8888888888888888,
              "#fdca26"
             ],
             [
              1,
              "#f0f921"
             ]
            ],
            "type": "histogram2dcontour"
           }
          ],
          "mesh3d": [
           {
            "colorbar": {
             "outlinewidth": 0,
             "ticks": ""
            },
            "type": "mesh3d"
           }
          ],
          "parcoords": [
           {
            "line": {
             "colorbar": {
              "outlinewidth": 0,
              "ticks": ""
             }
            },
            "type": "parcoords"
           }
          ],
          "pie": [
           {
            "automargin": true,
            "type": "pie"
           }
          ],
          "scatter": [
           {
            "fillpattern": {
             "fillmode": "overlay",
             "size": 10,
             "solidity": 0.2
            },
            "type": "scatter"
           }
          ],
          "scatter3d": [
           {
            "line": {
             "colorbar": {
              "outlinewidth": 0,
              "ticks": ""
             }
            },
            "marker": {
             "colorbar": {
              "outlinewidth": 0,
              "ticks": ""
             }
            },
            "type": "scatter3d"
           }
          ],
          "scattercarpet": [
           {
            "marker": {
             "colorbar": {
              "outlinewidth": 0,
              "ticks": ""
             }
            },
            "type": "scattercarpet"
           }
          ],
          "scattergeo": [
           {
            "marker": {
             "colorbar": {
              "outlinewidth": 0,
              "ticks": ""
             }
            },
            "type": "scattergeo"
           }
          ],
          "scattergl": [
           {
            "marker": {
             "colorbar": {
              "outlinewidth": 0,
              "ticks": ""
             }
            },
            "type": "scattergl"
           }
          ],
          "scattermap": [
           {
            "marker": {
             "colorbar": {
              "outlinewidth": 0,
              "ticks": ""
             }
            },
            "type": "scattermap"
           }
          ],
          "scattermapbox": [
           {
            "marker": {
             "colorbar": {
              "outlinewidth": 0,
              "ticks": ""
             }
            },
            "type": "scattermapbox"
           }
          ],
          "scatterpolar": [
           {
            "marker": {
             "colorbar": {
              "outlinewidth": 0,
              "ticks": ""
             }
            },
            "type": "scatterpolar"
           }
          ],
          "scatterpolargl": [
           {
            "marker": {
             "colorbar": {
              "outlinewidth": 0,
              "ticks": ""
             }
            },
            "type": "scatterpolargl"
           }
          ],
          "scatterternary": [
           {
            "marker": {
             "colorbar": {
              "outlinewidth": 0,
              "ticks": ""
             }
            },
            "type": "scatterternary"
           }
          ],
          "surface": [
           {
            "colorbar": {
             "outlinewidth": 0,
             "ticks": ""
            },
            "colorscale": [
             [
              0,
              "#0d0887"
             ],
             [
              0.1111111111111111,
              "#46039f"
             ],
             [
              0.2222222222222222,
              "#7201a8"
             ],
             [
              0.3333333333333333,
              "#9c179e"
             ],
             [
              0.4444444444444444,
              "#bd3786"
             ],
             [
              0.5555555555555556,
              "#d8576b"
             ],
             [
              0.6666666666666666,
              "#ed7953"
             ],
             [
              0.7777777777777778,
              "#fb9f3a"
             ],
             [
              0.8888888888888888,
              "#fdca26"
             ],
             [
              1,
              "#f0f921"
             ]
            ],
            "type": "surface"
           }
          ],
          "table": [
           {
            "cells": {
             "fill": {
              "color": "#EBF0F8"
             },
             "line": {
              "color": "white"
             }
            },
            "header": {
             "fill": {
              "color": "#C8D4E3"
             },
             "line": {
              "color": "white"
             }
            },
            "type": "table"
           }
          ]
         },
         "layout": {
          "annotationdefaults": {
           "arrowcolor": "#2a3f5f",
           "arrowhead": 0,
           "arrowwidth": 1
          },
          "autotypenumbers": "strict",
          "coloraxis": {
           "colorbar": {
            "outlinewidth": 0,
            "ticks": ""
           }
          },
          "colorscale": {
           "diverging": [
            [
             0,
             "#8e0152"
            ],
            [
             0.1,
             "#c51b7d"
            ],
            [
             0.2,
             "#de77ae"
            ],
            [
             0.3,
             "#f1b6da"
            ],
            [
             0.4,
             "#fde0ef"
            ],
            [
             0.5,
             "#f7f7f7"
            ],
            [
             0.6,
             "#e6f5d0"
            ],
            [
             0.7,
             "#b8e186"
            ],
            [
             0.8,
             "#7fbc41"
            ],
            [
             0.9,
             "#4d9221"
            ],
            [
             1,
             "#276419"
            ]
           ],
           "sequential": [
            [
             0,
             "#0d0887"
            ],
            [
             0.1111111111111111,
             "#46039f"
            ],
            [
             0.2222222222222222,
             "#7201a8"
            ],
            [
             0.3333333333333333,
             "#9c179e"
            ],
            [
             0.4444444444444444,
             "#bd3786"
            ],
            [
             0.5555555555555556,
             "#d8576b"
            ],
            [
             0.6666666666666666,
             "#ed7953"
            ],
            [
             0.7777777777777778,
             "#fb9f3a"
            ],
            [
             0.8888888888888888,
             "#fdca26"
            ],
            [
             1,
             "#f0f921"
            ]
           ],
           "sequentialminus": [
            [
             0,
             "#0d0887"
            ],
            [
             0.1111111111111111,
             "#46039f"
            ],
            [
             0.2222222222222222,
             "#7201a8"
            ],
            [
             0.3333333333333333,
             "#9c179e"
            ],
            [
             0.4444444444444444,
             "#bd3786"
            ],
            [
             0.5555555555555556,
             "#d8576b"
            ],
            [
             0.6666666666666666,
             "#ed7953"
            ],
            [
             0.7777777777777778,
             "#fb9f3a"
            ],
            [
             0.8888888888888888,
             "#fdca26"
            ],
            [
             1,
             "#f0f921"
            ]
           ]
          },
          "colorway": [
           "#636efa",
           "#EF553B",
           "#00cc96",
           "#ab63fa",
           "#FFA15A",
           "#19d3f3",
           "#FF6692",
           "#B6E880",
           "#FF97FF",
           "#FECB52"
          ],
          "font": {
           "color": "#2a3f5f"
          },
          "geo": {
           "bgcolor": "white",
           "lakecolor": "white",
           "landcolor": "#E5ECF6",
           "showlakes": true,
           "showland": true,
           "subunitcolor": "white"
          },
          "hoverlabel": {
           "align": "left"
          },
          "hovermode": "closest",
          "mapbox": {
           "style": "light"
          },
          "paper_bgcolor": "white",
          "plot_bgcolor": "#E5ECF6",
          "polar": {
           "angularaxis": {
            "gridcolor": "white",
            "linecolor": "white",
            "ticks": ""
           },
           "bgcolor": "#E5ECF6",
           "radialaxis": {
            "gridcolor": "white",
            "linecolor": "white",
            "ticks": ""
           }
          },
          "scene": {
           "xaxis": {
            "backgroundcolor": "#E5ECF6",
            "gridcolor": "white",
            "gridwidth": 2,
            "linecolor": "white",
            "showbackground": true,
            "ticks": "",
            "zerolinecolor": "white"
           },
           "yaxis": {
            "backgroundcolor": "#E5ECF6",
            "gridcolor": "white",
            "gridwidth": 2,
            "linecolor": "white",
            "showbackground": true,
            "ticks": "",
            "zerolinecolor": "white"
           },
           "zaxis": {
            "backgroundcolor": "#E5ECF6",
            "gridcolor": "white",
            "gridwidth": 2,
            "linecolor": "white",
            "showbackground": true,
            "ticks": "",
            "zerolinecolor": "white"
           }
          },
          "shapedefaults": {
           "line": {
            "color": "#2a3f5f"
           }
          },
          "ternary": {
           "aaxis": {
            "gridcolor": "white",
            "linecolor": "white",
            "ticks": ""
           },
           "baxis": {
            "gridcolor": "white",
            "linecolor": "white",
            "ticks": ""
           },
           "bgcolor": "#E5ECF6",
           "caxis": {
            "gridcolor": "white",
            "linecolor": "white",
            "ticks": ""
           }
          },
          "title": {
           "x": 0.05
          },
          "xaxis": {
           "automargin": true,
           "gridcolor": "white",
           "linecolor": "white",
           "ticks": "",
           "title": {
            "standoff": 15
           },
           "zerolinecolor": "white",
           "zerolinewidth": 2
          },
          "yaxis": {
           "automargin": true,
           "gridcolor": "white",
           "linecolor": "white",
           "ticks": "",
           "title": {
            "standoff": 15
           },
           "zerolinecolor": "white",
           "zerolinewidth": 2
          }
         }
        },
        "title": {
         "text": "Activity Distribution by Grid Size"
        },
        "xaxis": {
         "title": {
          "text": "Number of Trips per Cell"
         }
        },
        "yaxis": {
         "title": {
          "text": "Number of Cells"
         }
        }
       }
      }
     },
     "metadata": {},
     "output_type": "display_data"
    },
    {
     "name": "stdout",
     "output_type": "stream",
     "text": [
      "\n",
      "============================================================\n",
      "RECOMMENDATIONS BY GRID SIZE\n",
      "============================================================\n",
      "\n",
      "0.01° Grid (~1.1km x 1.1km):\n",
      "  Groups: 84 pickup, 83 dropoff\n",
      "  Best for: Detailed local analysis, identifying specific hotspots\n",
      "  Pros: High precision, good for micro-level patterns\n",
      "  Cons: Many groups to manage, may be too granular\n",
      "  Activity range: 1-342 trips per cell\n",
      "\n",
      "0.02° Grid (~2.2km x 2.2km):\n",
      "  Groups: 49 pickup, 47 dropoff\n",
      "  Best for: Neighborhood-level analysis, balanced detail vs simplicity\n",
      "  Pros: Good balance of detail and manageability\n",
      "  Cons: May miss very local patterns\n",
      "  Activity range: 1-544 trips per cell\n",
      "\n",
      "0.03° Grid (~3.3km x 3.3km):\n",
      "  Groups: 40 pickup, 40 dropoff\n",
      "  Best for: District-level analysis, city planning\n",
      "  Pros: Fewer groups, easier to analyze broad patterns\n",
      "  Cons: Lower resolution, may lose important local details\n",
      "  Activity range: 2-554 trips per cell\n"
     ]
    }
   ],
   "source": [
    "# TESTING DIFFERENT GRID SIZES: 0.02 and 0.03 DEGREES\n",
    "\n",
    "print(\"=\"*60)\n",
    "print(\"COMPARING DIFFERENT GRID SIZES\")\n",
    "print(\"=\"*60)\n",
    "\n",
    "# Test different grid sizes\n",
    "grid_sizes = [0.01, 0.02, 0.03]\n",
    "grid_results = []\n",
    "\n",
    "for size in grid_sizes:\n",
    "    print(f\"\\nTesting grid size: {size} degrees\")\n",
    "    print(\"-\" * 30)\n",
    "    \n",
    "    # Create grid grouping for this size\n",
    "    pickup_lat_grid = np.floor(df['pickup_lat'] / size) * size\n",
    "    pickup_lon_grid = np.floor(df['pickup_lon'] / size) * size\n",
    "    pickup_grid_id = pickup_lat_grid.astype(str) + '_' + pickup_lon_grid.astype(str)\n",
    "    \n",
    "    drop_lat_grid = np.floor(df['drop_lat'] / size) * size\n",
    "    drop_lon_grid = np.floor(df['drop_lon'] / size) * size\n",
    "    drop_grid_id = drop_lat_grid.astype(str) + '_' + drop_lon_grid.astype(str)\n",
    "    \n",
    "    # Calculate statistics\n",
    "    pickup_groups = pickup_grid_id.nunique()\n",
    "    dropoff_groups = drop_grid_id.nunique()\n",
    "    \n",
    "    # Calculate activity distribution\n",
    "    pickup_activity = pickup_grid_id.value_counts()\n",
    "    dropoff_activity = drop_grid_id.value_counts()\n",
    "    \n",
    "    # Combined activity\n",
    "    combined_activity = pd.concat([\n",
    "        pickup_activity.rename('pickup'),\n",
    "        dropoff_activity.rename('dropoff')\n",
    "    ], axis=1).fillna(0)\n",
    "    combined_activity['total'] = combined_activity['pickup'] + combined_activity['dropoff']\n",
    "    \n",
    "    # Calculate metrics\n",
    "    max_activity = combined_activity['total'].max()\n",
    "    avg_activity = combined_activity['total'].mean()\n",
    "    min_activity = combined_activity['total'].min()\n",
    "    std_activity = combined_activity['total'].std()\n",
    "    \n",
    "    # Store results\n",
    "    result = {\n",
    "        'grid_size': size,\n",
    "        'pickup_groups': pickup_groups,\n",
    "        'dropoff_groups': dropoff_groups,\n",
    "        'max_activity': max_activity,\n",
    "        'avg_activity': avg_activity,\n",
    "        'min_activity': min_activity,\n",
    "        'std_activity': std_activity,\n",
    "        'activity_data': combined_activity\n",
    "    }\n",
    "    grid_results.append(result)\n",
    "    \n",
    "    print(f\"Pickup groups: {pickup_groups}\")\n",
    "    print(f\"Dropoff groups: {dropoff_groups}\")\n",
    "    print(f\"Most active cell: {max_activity:.0f} trips\")\n",
    "    print(f\"Average activity: {avg_activity:.1f} trips per cell\")\n",
    "    print(f\"Activity range: {min_activity:.0f} - {max_activity:.0f} trips\")\n",
    "    print(f\"Activity std dev: {std_activity:.1f}\")\n",
    "\n",
    "# Create comparison DataFrame\n",
    "comparison_grid_sizes = pd.DataFrame([\n",
    "    {\n",
    "        'Grid Size (degrees)': result['grid_size'],\n",
    "        'Approx Cell Size': f\"~{result['grid_size']*111:.0f}m x {result['grid_size']*111:.0f}m\",\n",
    "        'Pickup Groups': result['pickup_groups'],\n",
    "        'Dropoff Groups': result['dropoff_groups'],\n",
    "        'Max Activity': f\"{result['max_activity']:.0f}\",\n",
    "        'Avg Activity': f\"{result['avg_activity']:.1f}\",\n",
    "        'Activity Std Dev': f\"{result['std_activity']:.1f}\"\n",
    "    }\n",
    "    for result in grid_results\n",
    "])\n",
    "\n",
    "print(f\"\\n\" + \"=\"*60)\n",
    "print(\"GRID SIZE COMPARISON SUMMARY\")\n",
    "print(\"=\"*60)\n",
    "print(comparison_grid_sizes.to_string(index=False))\n",
    "\n",
    "# Visualize the comparison\n",
    "fig_comparison = px.bar(\n",
    "    comparison_grid_sizes,\n",
    "    x='Grid Size (degrees)',\n",
    "    y=['Pickup Groups', 'Dropoff Groups'],\n",
    "    title='Number of Groups by Grid Size',\n",
    "    barmode='group'\n",
    ")\n",
    "fig_comparison.show()\n",
    "\n",
    "# Activity distribution comparison\n",
    "fig_activity = go.Figure()\n",
    "\n",
    "for result in grid_results:\n",
    "    size = result['grid_size']\n",
    "    activity_counts = result['activity_data']['total'].value_counts().sort_index()\n",
    "    \n",
    "    fig_activity.add_trace(go.Scatter(\n",
    "        x=activity_counts.index,\n",
    "        y=activity_counts.values,\n",
    "        mode='lines+markers',\n",
    "        name=f'{size}° grid',\n",
    "        line=dict(width=2)\n",
    "    ))\n",
    "\n",
    "fig_activity.update_layout(\n",
    "    title='Activity Distribution by Grid Size',\n",
    "    xaxis_title='Number of Trips per Cell',\n",
    "    yaxis_title='Number of Cells',\n",
    "    height=500\n",
    ")\n",
    "fig_activity.show()\n",
    "\n",
    "print(f\"\\n\" + \"=\"*60)\n",
    "print(\"RECOMMENDATIONS BY GRID SIZE\")\n",
    "print(\"=\"*60)\n",
    "\n",
    "recommendations = {\n",
    "    0.01: {\n",
    "        'cell_size': '~1.1km x 1.1km',\n",
    "        'best_for': 'Detailed local analysis, identifying specific hotspots',\n",
    "        'pros': 'High precision, good for micro-level patterns',\n",
    "        'cons': 'Many groups to manage, may be too granular'\n",
    "    },\n",
    "    0.02: {\n",
    "        'cell_size': '~2.2km x 2.2km', \n",
    "        'best_for': 'Neighborhood-level analysis, balanced detail vs simplicity',\n",
    "        'pros': 'Good balance of detail and manageability',\n",
    "        'cons': 'May miss very local patterns'\n",
    "    },\n",
    "    0.03: {\n",
    "        'cell_size': '~3.3km x 3.3km',\n",
    "        'best_for': 'District-level analysis, city planning',\n",
    "        'pros': 'Fewer groups, easier to analyze broad patterns',\n",
    "        'cons': 'Lower resolution, may lose important local details'\n",
    "    }\n",
    "}\n",
    "\n",
    "for size, info in recommendations.items():\n",
    "    result = next(r for r in grid_results if r['grid_size'] == size)\n",
    "    print(f\"\\n{size}° Grid ({info['cell_size']}):\")\n",
    "    print(f\"  Groups: {result['pickup_groups']} pickup, {result['dropoff_groups']} dropoff\")\n",
    "    print(f\"  Best for: {info['best_for']}\")\n",
    "    print(f\"  Pros: {info['pros']}\")\n",
    "    print(f\"  Cons: {info['cons']}\")\n",
    "    print(f\"  Activity range: {result['min_activity']:.0f}-{result['max_activity']:.0f} trips per cell\")"
   ]
  },
  {
   "cell_type": "code",
   "execution_count": 8,
   "id": "ecb366b7",
   "metadata": {},
   "outputs": [
    {
     "name": "stdout",
     "output_type": "stream",
     "text": [
      "Creating visual comparisons of different grid sizes...\n"
     ]
    },
    {
     "data": {
      "application/vnd.plotly.v1+json": {
       "config": {
        "plotlyServerURL": "https://plot.ly"
       },
       "data": [
        {
         "marker": {
          "color": "red",
          "opacity": 0.6,
          "size": 4
         },
         "mode": "markers",
         "name": "0.01° grid",
         "type": "scatter",
         "x": {
          "bdata": "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",
          "dtype": "f8"
         },
         "xaxis": "x",
         "y": {
          "bdata": "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",
          "dtype": "f8"
         },
         "yaxis": "y"
        },
        {
         "marker": {
          "color": "blue",
          "opacity": 0.6,
          "size": 4
         },
         "mode": "markers",
         "name": "0.02° grid",
         "type": "scatter",
         "x": {
          "bdata": "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",
          "dtype": "f8"
         },
         "xaxis": "x2",
         "y": {
          "bdata": "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",
          "dtype": "f8"
         },
         "yaxis": "y2"
        },
        {
         "marker": {
          "color": "green",
          "opacity": 0.6,
          "size": 4
         },
         "mode": "markers",
         "name": "0.03° grid",
         "type": "scatter",
         "x": {
          "bdata": "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",
          "dtype": "f8"
         },
         "xaxis": "x3",
         "y": {
          "bdata": "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",
          "dtype": "f8"
         },
         "yaxis": "y3"
        }
       ],
       "layout": {
        "annotations": [
         {
          "font": {
           "size": 16
          },
          "showarrow": false,
          "text": "0.01° Grid (~1.1km)",
          "x": 0.14444444444444446,
          "xanchor": "center",
          "xref": "paper",
          "y": 1,
          "yanchor": "bottom",
          "yref": "paper"
         },
         {
          "font": {
           "size": 16
          },
          "showarrow": false,
          "text": "0.02° Grid (~2.2km)",
          "x": 0.5,
          "xanchor": "center",
          "xref": "paper",
          "y": 1,
          "yanchor": "bottom",
          "yref": "paper"
         },
         {
          "font": {
           "size": 16
          },
          "showarrow": false,
          "text": "0.03° Grid (~3.3km)",
          "x": 0.8555555555555556,
          "xanchor": "center",
          "xref": "paper",
          "y": 1,
          "yanchor": "bottom",
          "yref": "paper"
         }
        ],
        "height": 500,
        "shapes": [
         {
          "line": {
           "color": "gray",
           "dash": "dot",
           "width": 1
          },
          "opacity": 0.3,
          "type": "line",
          "x0": 4.24,
          "x1": 4.24,
          "xref": "x",
          "y0": 0,
          "y1": 1,
          "yref": "y domain"
         },
         {
          "line": {
           "color": "gray",
           "dash": "dot",
           "width": 1
          },
          "opacity": 0.3,
          "type": "line",
          "x0": 4.26,
          "x1": 4.26,
          "xref": "x",
          "y0": 0,
          "y1": 1,
          "yref": "y domain"
         },
         {
          "line": {
           "color": "gray",
           "dash": "dot",
           "width": 1
          },
          "opacity": 0.3,
          "type": "line",
          "x0": 4.279999999999999,
          "x1": 4.279999999999999,
          "xref": "x",
          "y0": 0,
          "y1": 1,
          "yref": "y domain"
         },
         {
          "line": {
           "color": "gray",
           "dash": "dot",
           "width": 1
          },
          "opacity": 0.3,
          "type": "line",
          "x0": 4.299999999999999,
          "x1": 4.299999999999999,
          "xref": "x",
          "y0": 0,
          "y1": 1,
          "yref": "y domain"
         },
         {
          "line": {
           "color": "gray",
           "dash": "dot",
           "width": 1
          },
          "opacity": 0.3,
          "type": "line",
          "x0": 4.3199999999999985,
          "x1": 4.3199999999999985,
          "xref": "x",
          "y0": 0,
          "y1": 1,
          "yref": "y domain"
         },
         {
          "line": {
           "color": "gray",
           "dash": "dot",
           "width": 1
          },
          "opacity": 0.3,
          "type": "line",
          "x0": 4.339999999999998,
          "x1": 4.339999999999998,
          "xref": "x",
          "y0": 0,
          "y1": 1,
          "yref": "y domain"
         },
         {
          "line": {
           "color": "gray",
           "dash": "dot",
           "width": 1
          },
          "opacity": 0.3,
          "type": "line",
          "x0": 4.359999999999998,
          "x1": 4.359999999999998,
          "xref": "x",
          "y0": 0,
          "y1": 1,
          "yref": "y domain"
         },
         {
          "line": {
           "color": "gray",
           "dash": "dot",
           "width": 1
          },
          "opacity": 0.3,
          "type": "line",
          "x0": 4.379999999999997,
          "x1": 4.379999999999997,
          "xref": "x",
          "y0": 0,
          "y1": 1,
          "yref": "y domain"
         },
         {
          "line": {
           "color": "gray",
           "dash": "dot",
           "width": 1
          },
          "opacity": 0.3,
          "type": "line",
          "x0": 4.399999999999997,
          "x1": 4.399999999999997,
          "xref": "x",
          "y0": 0,
          "y1": 1,
          "yref": "y domain"
         },
         {
          "line": {
           "color": "gray",
           "dash": "dot",
           "width": 1
          },
          "opacity": 0.3,
          "type": "line",
          "x0": 4.419999999999996,
          "x1": 4.419999999999996,
          "xref": "x",
          "y0": 0,
          "y1": 1,
          "yref": "y domain"
         },
         {
          "line": {
           "color": "gray",
           "dash": "dot",
           "width": 1
          },
          "opacity": 0.3,
          "type": "line",
          "x0": 4.439999999999996,
          "x1": 4.439999999999996,
          "xref": "x",
          "y0": 0,
          "y1": 1,
          "yref": "y domain"
         },
         {
          "line": {
           "color": "gray",
           "dash": "dot",
           "width": 1
          },
          "opacity": 0.3,
          "type": "line",
          "x0": 4.4599999999999955,
          "x1": 4.4599999999999955,
          "xref": "x",
          "y0": 0,
          "y1": 1,
          "yref": "y domain"
         },
         {
          "line": {
           "color": "gray",
           "dash": "dot",
           "width": 1
          },
          "opacity": 0.3,
          "type": "line",
          "x0": 4.479999999999995,
          "x1": 4.479999999999995,
          "xref": "x",
          "y0": 0,
          "y1": 1,
          "yref": "y domain"
         },
         {
          "line": {
           "color": "gray",
           "dash": "dot",
           "width": 1
          },
          "opacity": 0.3,
          "type": "line",
          "x0": 4.499999999999995,
          "x1": 4.499999999999995,
          "xref": "x",
          "y0": 0,
          "y1": 1,
          "yref": "y domain"
         },
         {
          "line": {
           "color": "gray",
           "dash": "dot",
           "width": 1
          },
          "opacity": 0.3,
          "type": "line",
          "x0": 4.519999999999994,
          "x1": 4.519999999999994,
          "xref": "x",
          "y0": 0,
          "y1": 1,
          "yref": "y domain"
         },
         {
          "line": {
           "color": "gray",
           "dash": "dot",
           "width": 1
          },
          "opacity": 0.3,
          "type": "line",
          "x0": 4.539999999999994,
          "x1": 4.539999999999994,
          "xref": "x",
          "y0": 0,
          "y1": 1,
          "yref": "y domain"
         },
         {
          "line": {
           "color": "gray",
           "dash": "dot",
           "width": 1
          },
          "opacity": 0.3,
          "type": "line",
          "x0": 4.559999999999993,
          "x1": 4.559999999999993,
          "xref": "x",
          "y0": 0,
          "y1": 1,
          "yref": "y domain"
         },
         {
          "line": {
           "color": "gray",
           "dash": "dot",
           "width": 1
          },
          "opacity": 0.3,
          "type": "line",
          "x0": 4.579999999999993,
          "x1": 4.579999999999993,
          "xref": "x",
          "y0": 0,
          "y1": 1,
          "yref": "y domain"
         },
         {
          "line": {
           "color": "gray",
           "dash": "dot",
           "width": 1
          },
          "opacity": 0.3,
          "type": "line",
          "x0": 4.5999999999999925,
          "x1": 4.5999999999999925,
          "xref": "x",
          "y0": 0,
          "y1": 1,
          "yref": "y domain"
         },
         {
          "line": {
           "color": "gray",
           "dash": "dot",
           "width": 1
          },
          "opacity": 0.3,
          "type": "line",
          "x0": 4.619999999999992,
          "x1": 4.619999999999992,
          "xref": "x",
          "y0": 0,
          "y1": 1,
          "yref": "y domain"
         },
         {
          "line": {
           "color": "gray",
           "dash": "dot",
           "width": 1
          },
          "opacity": 0.3,
          "type": "line",
          "x0": 4.639999999999992,
          "x1": 4.639999999999992,
          "xref": "x",
          "y0": 0,
          "y1": 1,
          "yref": "y domain"
         },
         {
          "line": {
           "color": "gray",
           "dash": "dot",
           "width": 1
          },
          "opacity": 0.3,
          "type": "line",
          "x0": 4.659999999999991,
          "x1": 4.659999999999991,
          "xref": "x",
          "y0": 0,
          "y1": 1,
          "yref": "y domain"
         },
         {
          "line": {
           "color": "gray",
           "dash": "dot",
           "width": 1
          },
          "opacity": 0.3,
          "type": "line",
          "x0": 4.679999999999991,
          "x1": 4.679999999999991,
          "xref": "x",
          "y0": 0,
          "y1": 1,
          "yref": "y domain"
         },
         {
          "line": {
           "color": "gray",
           "dash": "dot",
           "width": 1
          },
          "opacity": 0.3,
          "type": "line",
          "x0": 4.69999999999999,
          "x1": 4.69999999999999,
          "xref": "x",
          "y0": 0,
          "y1": 1,
          "yref": "y domain"
         },
         {
          "line": {
           "color": "gray",
           "dash": "dot",
           "width": 1
          },
          "opacity": 0.3,
          "type": "line",
          "x0": 4.71999999999999,
          "x1": 4.71999999999999,
          "xref": "x",
          "y0": 0,
          "y1": 1,
          "yref": "y domain"
         },
         {
          "line": {
           "color": "gray",
           "dash": "dot",
           "width": 1
          },
          "opacity": 0.3,
          "type": "line",
          "x0": 4.7399999999999896,
          "x1": 4.7399999999999896,
          "xref": "x",
          "y0": 0,
          "y1": 1,
          "yref": "y domain"
         },
         {
          "line": {
           "color": "gray",
           "dash": "dot",
           "width": 1
          },
          "opacity": 0.3,
          "type": "line",
          "x0": 4.759999999999989,
          "x1": 4.759999999999989,
          "xref": "x",
          "y0": 0,
          "y1": 1,
          "yref": "y domain"
         },
         {
          "line": {
           "color": "gray",
           "dash": "dot",
           "width": 1
          },
          "opacity": 0.3,
          "type": "line",
          "x0": 4.779999999999989,
          "x1": 4.779999999999989,
          "xref": "x",
          "y0": 0,
          "y1": 1,
          "yref": "y domain"
         },
         {
          "line": {
           "color": "gray",
           "dash": "dot",
           "width": 1
          },
          "opacity": 0.3,
          "type": "line",
          "x0": 4.799999999999988,
          "x1": 4.799999999999988,
          "xref": "x",
          "y0": 0,
          "y1": 1,
          "yref": "y domain"
         },
         {
          "line": {
           "color": "gray",
           "dash": "dot",
           "width": 1
          },
          "opacity": 0.3,
          "type": "line",
          "x0": 4.819999999999988,
          "x1": 4.819999999999988,
          "xref": "x",
          "y0": 0,
          "y1": 1,
          "yref": "y domain"
         },
         {
          "line": {
           "color": "gray",
           "dash": "dot",
           "width": 1
          },
          "opacity": 0.3,
          "type": "line",
          "x0": 4.839999999999987,
          "x1": 4.839999999999987,
          "xref": "x",
          "y0": 0,
          "y1": 1,
          "yref": "y domain"
         },
         {
          "line": {
           "color": "gray",
           "dash": "dot",
           "width": 1
          },
          "opacity": 0.3,
          "type": "line",
          "x0": 4.859999999999987,
          "x1": 4.859999999999987,
          "xref": "x",
          "y0": 0,
          "y1": 1,
          "yref": "y domain"
         },
         {
          "line": {
           "color": "gray",
           "dash": "dot",
           "width": 1
          },
          "opacity": 0.3,
          "type": "line",
          "x0": 4.879999999999987,
          "x1": 4.879999999999987,
          "xref": "x",
          "y0": 0,
          "y1": 1,
          "yref": "y domain"
         },
         {
          "line": {
           "color": "gray",
           "dash": "dot",
           "width": 1
          },
          "opacity": 0.3,
          "type": "line",
          "x0": 4.899999999999986,
          "x1": 4.899999999999986,
          "xref": "x",
          "y0": 0,
          "y1": 1,
          "yref": "y domain"
         },
         {
          "line": {
           "color": "gray",
           "dash": "dot",
           "width": 1
          },
          "opacity": 0.3,
          "type": "line",
          "x0": 4.919999999999986,
          "x1": 4.919999999999986,
          "xref": "x",
          "y0": 0,
          "y1": 1,
          "yref": "y domain"
         },
         {
          "line": {
           "color": "gray",
           "dash": "dot",
           "width": 1
          },
          "opacity": 0.3,
          "type": "line",
          "x0": 4.939999999999985,
          "x1": 4.939999999999985,
          "xref": "x",
          "y0": 0,
          "y1": 1,
          "yref": "y domain"
         },
         {
          "line": {
           "color": "gray",
           "dash": "dot",
           "width": 1
          },
          "opacity": 0.3,
          "type": "line",
          "x0": 4.959999999999985,
          "x1": 4.959999999999985,
          "xref": "x",
          "y0": 0,
          "y1": 1,
          "yref": "y domain"
         },
         {
          "line": {
           "color": "gray",
           "dash": "dot",
           "width": 1
          },
          "opacity": 0.3,
          "type": "line",
          "x0": 4.979999999999984,
          "x1": 4.979999999999984,
          "xref": "x",
          "y0": 0,
          "y1": 1,
          "yref": "y domain"
         },
         {
          "line": {
           "color": "gray",
           "dash": "dot",
           "width": 1
          },
          "opacity": 0.3,
          "type": "line",
          "x0": 4.999999999999984,
          "x1": 4.999999999999984,
          "xref": "x",
          "y0": 0,
          "y1": 1,
          "yref": "y domain"
         },
         {
          "line": {
           "color": "gray",
           "dash": "dot",
           "width": 1
          },
          "opacity": 0.3,
          "type": "line",
          "x0": 5.019999999999984,
          "x1": 5.019999999999984,
          "xref": "x",
          "y0": 0,
          "y1": 1,
          "yref": "y domain"
         },
         {
          "line": {
           "color": "gray",
           "dash": "dot",
           "width": 1
          },
          "opacity": 0.3,
          "type": "line",
          "x0": 5.039999999999983,
          "x1": 5.039999999999983,
          "xref": "x",
          "y0": 0,
          "y1": 1,
          "yref": "y domain"
         },
         {
          "line": {
           "color": "gray",
           "dash": "dot",
           "width": 1
          },
          "opacity": 0.3,
          "type": "line",
          "x0": 5.059999999999983,
          "x1": 5.059999999999983,
          "xref": "x",
          "y0": 0,
          "y1": 1,
          "yref": "y domain"
         },
         {
          "line": {
           "color": "gray",
           "dash": "dot",
           "width": 1
          },
          "opacity": 0.3,
          "type": "line",
          "x0": 5.079999999999982,
          "x1": 5.079999999999982,
          "xref": "x",
          "y0": 0,
          "y1": 1,
          "yref": "y domain"
         },
         {
          "line": {
           "color": "gray",
           "dash": "dot",
           "width": 1
          },
          "opacity": 0.3,
          "type": "line",
          "x0": 5.099999999999982,
          "x1": 5.099999999999982,
          "xref": "x",
          "y0": 0,
          "y1": 1,
          "yref": "y domain"
         },
         {
          "line": {
           "color": "gray",
           "dash": "dot",
           "width": 1
          },
          "opacity": 0.3,
          "type": "line",
          "x0": 5.1199999999999815,
          "x1": 5.1199999999999815,
          "xref": "x",
          "y0": 0,
          "y1": 1,
          "yref": "y domain"
         },
         {
          "line": {
           "color": "gray",
           "dash": "dot",
           "width": 1
          },
          "opacity": 0.3,
          "type": "line",
          "x0": 5.139999999999981,
          "x1": 5.139999999999981,
          "xref": "x",
          "y0": 0,
          "y1": 1,
          "yref": "y domain"
         },
         {
          "line": {
           "color": "gray",
           "dash": "dot",
           "width": 1
          },
          "opacity": 0.3,
          "type": "line",
          "x0": 5.159999999999981,
          "x1": 5.159999999999981,
          "xref": "x",
          "y0": 0,
          "y1": 1,
          "yref": "y domain"
         },
         {
          "line": {
           "color": "gray",
           "dash": "dot",
           "width": 1
          },
          "opacity": 0.3,
          "type": "line",
          "x0": 5.17999999999998,
          "x1": 5.17999999999998,
          "xref": "x",
          "y0": 0,
          "y1": 1,
          "yref": "y domain"
         },
         {
          "line": {
           "color": "gray",
           "dash": "dot",
           "width": 1
          },
          "opacity": 0.3,
          "type": "line",
          "x0": 5.19999999999998,
          "x1": 5.19999999999998,
          "xref": "x",
          "y0": 0,
          "y1": 1,
          "yref": "y domain"
         },
         {
          "line": {
           "color": "gray",
           "dash": "dot",
           "width": 1
          },
          "opacity": 0.3,
          "type": "line",
          "x0": 5.219999999999979,
          "x1": 5.219999999999979,
          "xref": "x",
          "y0": 0,
          "y1": 1,
          "yref": "y domain"
         },
         {
          "line": {
           "color": "gray",
           "dash": "dot",
           "width": 1
          },
          "opacity": 0.3,
          "type": "line",
          "x0": 5.239999999999979,
          "x1": 5.239999999999979,
          "xref": "x",
          "y0": 0,
          "y1": 1,
          "yref": "y domain"
         },
         {
          "line": {
           "color": "gray",
           "dash": "dot",
           "width": 1
          },
          "opacity": 0.3,
          "type": "line",
          "x0": 5.2599999999999785,
          "x1": 5.2599999999999785,
          "xref": "x",
          "y0": 0,
          "y1": 1,
          "yref": "y domain"
         },
         {
          "line": {
           "color": "gray",
           "dash": "dot",
           "width": 1
          },
          "opacity": 0.3,
          "type": "line",
          "x0": 5.279999999999978,
          "x1": 5.279999999999978,
          "xref": "x",
          "y0": 0,
          "y1": 1,
          "yref": "y domain"
         },
         {
          "line": {
           "color": "gray",
           "dash": "dot",
           "width": 1
          },
          "opacity": 0.3,
          "type": "line",
          "x0": 5.299999999999978,
          "x1": 5.299999999999978,
          "xref": "x",
          "y0": 0,
          "y1": 1,
          "yref": "y domain"
         },
         {
          "line": {
           "color": "gray",
           "dash": "dot",
           "width": 1
          },
          "opacity": 0.3,
          "type": "line",
          "x0": 5.319999999999977,
          "x1": 5.319999999999977,
          "xref": "x",
          "y0": 0,
          "y1": 1,
          "yref": "y domain"
         },
         {
          "line": {
           "color": "gray",
           "dash": "dot",
           "width": 1
          },
          "opacity": 0.3,
          "type": "line",
          "x0": 5.339999999999977,
          "x1": 5.339999999999977,
          "xref": "x",
          "y0": 0,
          "y1": 1,
          "yref": "y domain"
         },
         {
          "line": {
           "color": "gray",
           "dash": "dot",
           "width": 1
          },
          "opacity": 0.3,
          "type": "line",
          "x0": 5.359999999999976,
          "x1": 5.359999999999976,
          "xref": "x",
          "y0": 0,
          "y1": 1,
          "yref": "y domain"
         },
         {
          "line": {
           "color": "gray",
           "dash": "dot",
           "width": 1
          },
          "opacity": 0.3,
          "type": "line",
          "x0": 5.379999999999976,
          "x1": 5.379999999999976,
          "xref": "x",
          "y0": 0,
          "y1": 1,
          "yref": "y domain"
         },
         {
          "line": {
           "color": "gray",
           "dash": "dot",
           "width": 1
          },
          "opacity": 0.3,
          "type": "line",
          "x0": 5.3999999999999755,
          "x1": 5.3999999999999755,
          "xref": "x",
          "y0": 0,
          "y1": 1,
          "yref": "y domain"
         },
         {
          "line": {
           "color": "gray",
           "dash": "dot",
           "width": 1
          },
          "opacity": 0.3,
          "type": "line",
          "x0": 5.419999999999975,
          "x1": 5.419999999999975,
          "xref": "x",
          "y0": 0,
          "y1": 1,
          "yref": "y domain"
         },
         {
          "line": {
           "color": "gray",
           "dash": "dot",
           "width": 1
          },
          "opacity": 0.3,
          "type": "line",
          "x0": 5.439999999999975,
          "x1": 5.439999999999975,
          "xref": "x",
          "y0": 0,
          "y1": 1,
          "yref": "y domain"
         },
         {
          "line": {
           "color": "gray",
           "dash": "dot",
           "width": 1
          },
          "opacity": 0.3,
          "type": "line",
          "x0": 5.459999999999974,
          "x1": 5.459999999999974,
          "xref": "x",
          "y0": 0,
          "y1": 1,
          "yref": "y domain"
         },
         {
          "line": {
           "color": "gray",
           "dash": "dot",
           "width": 1
          },
          "opacity": 0.3,
          "type": "line",
          "x0": 5.479999999999974,
          "x1": 5.479999999999974,
          "xref": "x",
          "y0": 0,
          "y1": 1,
          "yref": "y domain"
         },
         {
          "line": {
           "color": "gray",
           "dash": "dot",
           "width": 1
          },
          "opacity": 0.3,
          "type": "line",
          "x0": 5.499999999999973,
          "x1": 5.499999999999973,
          "xref": "x",
          "y0": 0,
          "y1": 1,
          "yref": "y domain"
         },
         {
          "line": {
           "color": "gray",
           "dash": "dot",
           "width": 1
          },
          "opacity": 0.3,
          "type": "line",
          "x0": 5.519999999999973,
          "x1": 5.519999999999973,
          "xref": "x",
          "y0": 0,
          "y1": 1,
          "yref": "y domain"
         },
         {
          "line": {
           "color": "gray",
           "dash": "dot",
           "width": 1
          },
          "opacity": 0.3,
          "type": "line",
          "x0": 0,
          "x1": 1,
          "xref": "x domain",
          "y0": 51.4,
          "y1": 51.4,
          "yref": "y"
         },
         {
          "line": {
           "color": "gray",
           "dash": "dot",
           "width": 1
          },
          "opacity": 0.3,
          "type": "line",
          "x0": 0,
          "x1": 1,
          "xref": "x domain",
          "y0": 51.419999999999995,
          "y1": 51.419999999999995,
          "yref": "y"
         },
         {
          "line": {
           "color": "gray",
           "dash": "dot",
           "width": 1
          },
          "opacity": 0.3,
          "type": "line",
          "x0": 0,
          "x1": 1,
          "xref": "x domain",
          "y0": 51.43999999999999,
          "y1": 51.43999999999999,
          "yref": "y"
         },
         {
          "line": {
           "color": "gray",
           "dash": "dot",
           "width": 1
          },
          "opacity": 0.3,
          "type": "line",
          "x0": 0,
          "x1": 1,
          "xref": "x domain",
          "y0": 51.45999999999999,
          "y1": 51.45999999999999,
          "yref": "y"
         },
         {
          "line": {
           "color": "gray",
           "dash": "dot",
           "width": 1
          },
          "opacity": 0.3,
          "type": "line",
          "x0": 0,
          "x1": 1,
          "xref": "x domain",
          "y0": 51.47999999999998,
          "y1": 51.47999999999998,
          "yref": "y"
         },
         {
          "line": {
           "color": "gray",
           "dash": "dot",
           "width": 1
          },
          "opacity": 0.3,
          "type": "line",
          "x0": 0,
          "x1": 1,
          "xref": "x domain",
          "y0": 51.49999999999998,
          "y1": 51.49999999999998,
          "yref": "y"
         },
         {
          "line": {
           "color": "gray",
           "dash": "dot",
           "width": 1
          },
          "opacity": 0.3,
          "type": "line",
          "x0": 0,
          "x1": 1,
          "xref": "x domain",
          "y0": 51.519999999999975,
          "y1": 51.519999999999975,
          "yref": "y"
         },
         {
          "line": {
           "color": "gray",
           "dash": "dot",
           "width": 1
          },
          "opacity": 0.3,
          "type": "line",
          "x0": 0,
          "x1": 1,
          "xref": "x domain",
          "y0": 51.53999999999997,
          "y1": 51.53999999999997,
          "yref": "y"
         },
         {
          "line": {
           "color": "gray",
           "dash": "dot",
           "width": 1
          },
          "opacity": 0.3,
          "type": "line",
          "x0": 0,
          "x1": 1,
          "xref": "x domain",
          "y0": 51.55999999999997,
          "y1": 51.55999999999997,
          "yref": "y"
         },
         {
          "line": {
           "color": "gray",
           "dash": "dot",
           "width": 1
          },
          "opacity": 0.3,
          "type": "line",
          "x0": 0,
          "x1": 1,
          "xref": "x domain",
          "y0": 51.57999999999996,
          "y1": 51.57999999999996,
          "yref": "y"
         },
         {
          "line": {
           "color": "gray",
           "dash": "dot",
           "width": 1
          },
          "opacity": 0.3,
          "type": "line",
          "x0": 0,
          "x1": 1,
          "xref": "x domain",
          "y0": 51.59999999999996,
          "y1": 51.59999999999996,
          "yref": "y"
         },
         {
          "line": {
           "color": "gray",
           "dash": "dot",
           "width": 1
          },
          "opacity": 0.3,
          "type": "line",
          "x0": 0,
          "x1": 1,
          "xref": "x domain",
          "y0": 51.619999999999955,
          "y1": 51.619999999999955,
          "yref": "y"
         },
         {
          "line": {
           "color": "gray",
           "dash": "dot",
           "width": 1
          },
          "opacity": 0.3,
          "type": "line",
          "x0": 0,
          "x1": 1,
          "xref": "x domain",
          "y0": 51.63999999999995,
          "y1": 51.63999999999995,
          "yref": "y"
         },
         {
          "line": {
           "color": "gray",
           "dash": "dot",
           "width": 1
          },
          "opacity": 0.3,
          "type": "line",
          "x0": 0,
          "x1": 1,
          "xref": "x domain",
          "y0": 51.65999999999995,
          "y1": 51.65999999999995,
          "yref": "y"
         },
         {
          "line": {
           "color": "gray",
           "dash": "dot",
           "width": 1
          },
          "opacity": 0.3,
          "type": "line",
          "x0": 0,
          "x1": 1,
          "xref": "x domain",
          "y0": 51.67999999999994,
          "y1": 51.67999999999994,
          "yref": "y"
         },
         {
          "line": {
           "color": "gray",
           "dash": "dot",
           "width": 1
          },
          "opacity": 0.3,
          "type": "line",
          "x0": 0,
          "x1": 1,
          "xref": "x domain",
          "y0": 51.69999999999994,
          "y1": 51.69999999999994,
          "yref": "y"
         },
         {
          "line": {
           "color": "gray",
           "dash": "dot",
           "width": 1
          },
          "opacity": 0.3,
          "type": "line",
          "x0": 0,
          "x1": 1,
          "xref": "x domain",
          "y0": 51.719999999999935,
          "y1": 51.719999999999935,
          "yref": "y"
         },
         {
          "line": {
           "color": "gray",
           "dash": "dot",
           "width": 1
          },
          "opacity": 0.3,
          "type": "line",
          "x0": 0,
          "x1": 1,
          "xref": "x domain",
          "y0": 51.73999999999993,
          "y1": 51.73999999999993,
          "yref": "y"
         },
         {
          "line": {
           "color": "gray",
           "dash": "dot",
           "width": 1
          },
          "opacity": 0.3,
          "type": "line",
          "x0": 0,
          "x1": 1,
          "xref": "x domain",
          "y0": 51.75999999999993,
          "y1": 51.75999999999993,
          "yref": "y"
         },
         {
          "line": {
           "color": "gray",
           "dash": "dot",
           "width": 1
          },
          "opacity": 0.3,
          "type": "line",
          "x0": 0,
          "x1": 1,
          "xref": "x domain",
          "y0": 51.77999999999992,
          "y1": 51.77999999999992,
          "yref": "y"
         },
         {
          "line": {
           "color": "gray",
           "dash": "dot",
           "width": 1
          },
          "opacity": 0.3,
          "type": "line",
          "x0": 0,
          "x1": 1,
          "xref": "x domain",
          "y0": 51.79999999999992,
          "y1": 51.79999999999992,
          "yref": "y"
         },
         {
          "line": {
           "color": "gray",
           "dash": "dot",
           "width": 1
          },
          "opacity": 0.3,
          "type": "line",
          "x0": 0,
          "x1": 1,
          "xref": "x domain",
          "y0": 51.819999999999915,
          "y1": 51.819999999999915,
          "yref": "y"
         },
         {
          "line": {
           "color": "gray",
           "dash": "dot",
           "width": 1
          },
          "opacity": 0.3,
          "type": "line",
          "x0": 0,
          "x1": 1,
          "xref": "x domain",
          "y0": 51.83999999999991,
          "y1": 51.83999999999991,
          "yref": "y"
         },
         {
          "line": {
           "color": "gray",
           "dash": "dot",
           "width": 1
          },
          "opacity": 0.3,
          "type": "line",
          "x0": 0,
          "x1": 1,
          "xref": "x domain",
          "y0": 51.85999999999991,
          "y1": 51.85999999999991,
          "yref": "y"
         },
         {
          "line": {
           "color": "gray",
           "dash": "dot",
           "width": 1
          },
          "opacity": 0.3,
          "type": "line",
          "x0": 0,
          "x1": 1,
          "xref": "x domain",
          "y0": 51.8799999999999,
          "y1": 51.8799999999999,
          "yref": "y"
         },
         {
          "line": {
           "color": "gray",
           "dash": "dot",
           "width": 1
          },
          "opacity": 0.3,
          "type": "line",
          "x0": 0,
          "x1": 1,
          "xref": "x domain",
          "y0": 51.8999999999999,
          "y1": 51.8999999999999,
          "yref": "y"
         },
         {
          "line": {
           "color": "gray",
           "dash": "dot",
           "width": 1
          },
          "opacity": 0.3,
          "type": "line",
          "x0": 0,
          "x1": 1,
          "xref": "x domain",
          "y0": 51.919999999999895,
          "y1": 51.919999999999895,
          "yref": "y"
         },
         {
          "line": {
           "color": "gray",
           "dash": "dot",
           "width": 1
          },
          "opacity": 0.3,
          "type": "line",
          "x0": 0,
          "x1": 1,
          "xref": "x domain",
          "y0": 51.93999999999989,
          "y1": 51.93999999999989,
          "yref": "y"
         },
         {
          "line": {
           "color": "gray",
           "dash": "dot",
           "width": 1
          },
          "opacity": 0.3,
          "type": "line",
          "x0": 0,
          "x1": 1,
          "xref": "x domain",
          "y0": 51.95999999999989,
          "y1": 51.95999999999989,
          "yref": "y"
         },
         {
          "line": {
           "color": "gray",
           "dash": "dot",
           "width": 1
          },
          "opacity": 0.3,
          "type": "line",
          "x0": 0,
          "x1": 1,
          "xref": "x domain",
          "y0": 51.97999999999988,
          "y1": 51.97999999999988,
          "yref": "y"
         },
         {
          "line": {
           "color": "gray",
           "dash": "dot",
           "width": 1
          },
          "opacity": 0.3,
          "type": "line",
          "x0": 0,
          "x1": 1,
          "xref": "x domain",
          "y0": 51.99999999999988,
          "y1": 51.99999999999988,
          "yref": "y"
         },
         {
          "line": {
           "color": "gray",
           "dash": "dot",
           "width": 1
          },
          "opacity": 0.3,
          "type": "line",
          "x0": 0,
          "x1": 1,
          "xref": "x domain",
          "y0": 52.019999999999875,
          "y1": 52.019999999999875,
          "yref": "y"
         },
         {
          "line": {
           "color": "gray",
           "dash": "dot",
           "width": 1
          },
          "opacity": 0.3,
          "type": "line",
          "x0": 0,
          "x1": 1,
          "xref": "x domain",
          "y0": 52.03999999999987,
          "y1": 52.03999999999987,
          "yref": "y"
         },
         {
          "line": {
           "color": "gray",
           "dash": "dot",
           "width": 1
          },
          "opacity": 0.3,
          "type": "line",
          "x0": 0,
          "x1": 1,
          "xref": "x domain",
          "y0": 52.05999999999987,
          "y1": 52.05999999999987,
          "yref": "y"
         },
         {
          "line": {
           "color": "gray",
           "dash": "dot",
           "width": 1
          },
          "opacity": 0.3,
          "type": "line",
          "x0": 0,
          "x1": 1,
          "xref": "x domain",
          "y0": 52.07999999999986,
          "y1": 52.07999999999986,
          "yref": "y"
         },
         {
          "line": {
           "color": "gray",
           "dash": "dot",
           "width": 1
          },
          "opacity": 0.3,
          "type": "line",
          "x0": 0,
          "x1": 1,
          "xref": "x domain",
          "y0": 52.09999999999986,
          "y1": 52.09999999999986,
          "yref": "y"
         },
         {
          "line": {
           "color": "gray",
           "dash": "dot",
           "width": 1
          },
          "opacity": 0.3,
          "type": "line",
          "x0": 0,
          "x1": 1,
          "xref": "x domain",
          "y0": 52.119999999999855,
          "y1": 52.119999999999855,
          "yref": "y"
         },
         {
          "line": {
           "color": "gray",
           "dash": "dot",
           "width": 1
          },
          "opacity": 0.3,
          "type": "line",
          "x0": 0,
          "x1": 1,
          "xref": "x domain",
          "y0": 52.13999999999985,
          "y1": 52.13999999999985,
          "yref": "y"
         },
         {
          "line": {
           "color": "gray",
           "dash": "dot",
           "width": 1
          },
          "opacity": 0.3,
          "type": "line",
          "x0": 0,
          "x1": 1,
          "xref": "x domain",
          "y0": 52.15999999999985,
          "y1": 52.15999999999985,
          "yref": "y"
         },
         {
          "line": {
           "color": "gray",
           "dash": "dot",
           "width": 1
          },
          "opacity": 0.3,
          "type": "line",
          "x0": 0,
          "x1": 1,
          "xref": "x domain",
          "y0": 52.17999999999984,
          "y1": 52.17999999999984,
          "yref": "y"
         },
         {
          "line": {
           "color": "gray",
           "dash": "dot",
           "width": 1
          },
          "opacity": 0.3,
          "type": "line",
          "x0": 0,
          "x1": 1,
          "xref": "x domain",
          "y0": 52.19999999999984,
          "y1": 52.19999999999984,
          "yref": "y"
         },
         {
          "line": {
           "color": "gray",
           "dash": "dot",
           "width": 1
          },
          "opacity": 0.3,
          "type": "line",
          "x0": 0,
          "x1": 1,
          "xref": "x domain",
          "y0": 52.219999999999835,
          "y1": 52.219999999999835,
          "yref": "y"
         },
         {
          "line": {
           "color": "gray",
           "dash": "dot",
           "width": 1
          },
          "opacity": 0.3,
          "type": "line",
          "x0": 0,
          "x1": 1,
          "xref": "x domain",
          "y0": 52.23999999999983,
          "y1": 52.23999999999983,
          "yref": "y"
         },
         {
          "line": {
           "color": "gray",
           "dash": "dot",
           "width": 1
          },
          "opacity": 0.3,
          "type": "line",
          "x0": 0,
          "x1": 1,
          "xref": "x domain",
          "y0": 52.25999999999983,
          "y1": 52.25999999999983,
          "yref": "y"
         },
         {
          "line": {
           "color": "gray",
           "dash": "dot",
           "width": 1
          },
          "opacity": 0.3,
          "type": "line",
          "x0": 0,
          "x1": 1,
          "xref": "x domain",
          "y0": 52.27999999999982,
          "y1": 52.27999999999982,
          "yref": "y"
         },
         {
          "line": {
           "color": "gray",
           "dash": "dot",
           "width": 1
          },
          "opacity": 0.3,
          "type": "line",
          "x0": 0,
          "x1": 1,
          "xref": "x domain",
          "y0": 52.29999999999982,
          "y1": 52.29999999999982,
          "yref": "y"
         },
         {
          "line": {
           "color": "gray",
           "dash": "dot",
           "width": 1
          },
          "opacity": 0.3,
          "type": "line",
          "x0": 0,
          "x1": 1,
          "xref": "x domain",
          "y0": 52.319999999999816,
          "y1": 52.319999999999816,
          "yref": "y"
         },
         {
          "line": {
           "color": "gray",
           "dash": "dot",
           "width": 1
          },
          "opacity": 0.3,
          "type": "line",
          "x0": 0,
          "x1": 1,
          "xref": "x domain",
          "y0": 52.33999999999981,
          "y1": 52.33999999999981,
          "yref": "y"
         },
         {
          "line": {
           "color": "gray",
           "dash": "dot",
           "width": 1
          },
          "opacity": 0.3,
          "type": "line",
          "x0": 0,
          "x1": 1,
          "xref": "x domain",
          "y0": 52.35999999999981,
          "y1": 52.35999999999981,
          "yref": "y"
         },
         {
          "line": {
           "color": "gray",
           "dash": "dot",
           "width": 1
          },
          "opacity": 0.3,
          "type": "line",
          "x0": 0,
          "x1": 1,
          "xref": "x domain",
          "y0": 52.379999999999804,
          "y1": 52.379999999999804,
          "yref": "y"
         },
         {
          "line": {
           "color": "gray",
           "dash": "dot",
           "width": 1
          },
          "opacity": 0.3,
          "type": "line",
          "x0": 0,
          "x1": 1,
          "xref": "x domain",
          "y0": 52.3999999999998,
          "y1": 52.3999999999998,
          "yref": "y"
         },
         {
          "line": {
           "color": "gray",
           "dash": "dot",
           "width": 1
          },
          "opacity": 0.3,
          "type": "line",
          "x0": 0,
          "x1": 1,
          "xref": "x domain",
          "y0": 52.419999999999796,
          "y1": 52.419999999999796,
          "yref": "y"
         },
         {
          "line": {
           "color": "gray",
           "dash": "dot",
           "width": 1
          },
          "opacity": 0.3,
          "type": "line",
          "x0": 4.24,
          "x1": 4.24,
          "xref": "x2",
          "y0": 0,
          "y1": 1,
          "yref": "y2 domain"
         },
         {
          "line": {
           "color": "gray",
           "dash": "dot",
           "width": 1
          },
          "opacity": 0.3,
          "type": "line",
          "x0": 4.279999999999999,
          "x1": 4.279999999999999,
          "xref": "x2",
          "y0": 0,
          "y1": 1,
          "yref": "y2 domain"
         },
         {
          "line": {
           "color": "gray",
           "dash": "dot",
           "width": 1
          },
          "opacity": 0.3,
          "type": "line",
          "x0": 4.3199999999999985,
          "x1": 4.3199999999999985,
          "xref": "x2",
          "y0": 0,
          "y1": 1,
          "yref": "y2 domain"
         },
         {
          "line": {
           "color": "gray",
           "dash": "dot",
           "width": 1
          },
          "opacity": 0.3,
          "type": "line",
          "x0": 4.359999999999998,
          "x1": 4.359999999999998,
          "xref": "x2",
          "y0": 0,
          "y1": 1,
          "yref": "y2 domain"
         },
         {
          "line": {
           "color": "gray",
           "dash": "dot",
           "width": 1
          },
          "opacity": 0.3,
          "type": "line",
          "x0": 4.399999999999997,
          "x1": 4.399999999999997,
          "xref": "x2",
          "y0": 0,
          "y1": 1,
          "yref": "y2 domain"
         },
         {
          "line": {
           "color": "gray",
           "dash": "dot",
           "width": 1
          },
          "opacity": 0.3,
          "type": "line",
          "x0": 4.439999999999996,
          "x1": 4.439999999999996,
          "xref": "x2",
          "y0": 0,
          "y1": 1,
          "yref": "y2 domain"
         },
         {
          "line": {
           "color": "gray",
           "dash": "dot",
           "width": 1
          },
          "opacity": 0.3,
          "type": "line",
          "x0": 4.479999999999995,
          "x1": 4.479999999999995,
          "xref": "x2",
          "y0": 0,
          "y1": 1,
          "yref": "y2 domain"
         },
         {
          "line": {
           "color": "gray",
           "dash": "dot",
           "width": 1
          },
          "opacity": 0.3,
          "type": "line",
          "x0": 4.519999999999994,
          "x1": 4.519999999999994,
          "xref": "x2",
          "y0": 0,
          "y1": 1,
          "yref": "y2 domain"
         },
         {
          "line": {
           "color": "gray",
           "dash": "dot",
           "width": 1
          },
          "opacity": 0.3,
          "type": "line",
          "x0": 4.559999999999993,
          "x1": 4.559999999999993,
          "xref": "x2",
          "y0": 0,
          "y1": 1,
          "yref": "y2 domain"
         },
         {
          "line": {
           "color": "gray",
           "dash": "dot",
           "width": 1
          },
          "opacity": 0.3,
          "type": "line",
          "x0": 4.5999999999999925,
          "x1": 4.5999999999999925,
          "xref": "x2",
          "y0": 0,
          "y1": 1,
          "yref": "y2 domain"
         },
         {
          "line": {
           "color": "gray",
           "dash": "dot",
           "width": 1
          },
          "opacity": 0.3,
          "type": "line",
          "x0": 4.639999999999992,
          "x1": 4.639999999999992,
          "xref": "x2",
          "y0": 0,
          "y1": 1,
          "yref": "y2 domain"
         },
         {
          "line": {
           "color": "gray",
           "dash": "dot",
           "width": 1
          },
          "opacity": 0.3,
          "type": "line",
          "x0": 4.679999999999991,
          "x1": 4.679999999999991,
          "xref": "x2",
          "y0": 0,
          "y1": 1,
          "yref": "y2 domain"
         },
         {
          "line": {
           "color": "gray",
           "dash": "dot",
           "width": 1
          },
          "opacity": 0.3,
          "type": "line",
          "x0": 4.71999999999999,
          "x1": 4.71999999999999,
          "xref": "x2",
          "y0": 0,
          "y1": 1,
          "yref": "y2 domain"
         },
         {
          "line": {
           "color": "gray",
           "dash": "dot",
           "width": 1
          },
          "opacity": 0.3,
          "type": "line",
          "x0": 4.759999999999989,
          "x1": 4.759999999999989,
          "xref": "x2",
          "y0": 0,
          "y1": 1,
          "yref": "y2 domain"
         },
         {
          "line": {
           "color": "gray",
           "dash": "dot",
           "width": 1
          },
          "opacity": 0.3,
          "type": "line",
          "x0": 4.799999999999988,
          "x1": 4.799999999999988,
          "xref": "x2",
          "y0": 0,
          "y1": 1,
          "yref": "y2 domain"
         },
         {
          "line": {
           "color": "gray",
           "dash": "dot",
           "width": 1
          },
          "opacity": 0.3,
          "type": "line",
          "x0": 4.839999999999987,
          "x1": 4.839999999999987,
          "xref": "x2",
          "y0": 0,
          "y1": 1,
          "yref": "y2 domain"
         },
         {
          "line": {
           "color": "gray",
           "dash": "dot",
           "width": 1
          },
          "opacity": 0.3,
          "type": "line",
          "x0": 4.879999999999987,
          "x1": 4.879999999999987,
          "xref": "x2",
          "y0": 0,
          "y1": 1,
          "yref": "y2 domain"
         },
         {
          "line": {
           "color": "gray",
           "dash": "dot",
           "width": 1
          },
          "opacity": 0.3,
          "type": "line",
          "x0": 4.919999999999986,
          "x1": 4.919999999999986,
          "xref": "x2",
          "y0": 0,
          "y1": 1,
          "yref": "y2 domain"
         },
         {
          "line": {
           "color": "gray",
           "dash": "dot",
           "width": 1
          },
          "opacity": 0.3,
          "type": "line",
          "x0": 4.959999999999985,
          "x1": 4.959999999999985,
          "xref": "x2",
          "y0": 0,
          "y1": 1,
          "yref": "y2 domain"
         },
         {
          "line": {
           "color": "gray",
           "dash": "dot",
           "width": 1
          },
          "opacity": 0.3,
          "type": "line",
          "x0": 4.999999999999984,
          "x1": 4.999999999999984,
          "xref": "x2",
          "y0": 0,
          "y1": 1,
          "yref": "y2 domain"
         },
         {
          "line": {
           "color": "gray",
           "dash": "dot",
           "width": 1
          },
          "opacity": 0.3,
          "type": "line",
          "x0": 5.039999999999983,
          "x1": 5.039999999999983,
          "xref": "x2",
          "y0": 0,
          "y1": 1,
          "yref": "y2 domain"
         },
         {
          "line": {
           "color": "gray",
           "dash": "dot",
           "width": 1
          },
          "opacity": 0.3,
          "type": "line",
          "x0": 5.079999999999982,
          "x1": 5.079999999999982,
          "xref": "x2",
          "y0": 0,
          "y1": 1,
          "yref": "y2 domain"
         },
         {
          "line": {
           "color": "gray",
           "dash": "dot",
           "width": 1
          },
          "opacity": 0.3,
          "type": "line",
          "x0": 5.1199999999999815,
          "x1": 5.1199999999999815,
          "xref": "x2",
          "y0": 0,
          "y1": 1,
          "yref": "y2 domain"
         },
         {
          "line": {
           "color": "gray",
           "dash": "dot",
           "width": 1
          },
          "opacity": 0.3,
          "type": "line",
          "x0": 5.159999999999981,
          "x1": 5.159999999999981,
          "xref": "x2",
          "y0": 0,
          "y1": 1,
          "yref": "y2 domain"
         },
         {
          "line": {
           "color": "gray",
           "dash": "dot",
           "width": 1
          },
          "opacity": 0.3,
          "type": "line",
          "x0": 5.19999999999998,
          "x1": 5.19999999999998,
          "xref": "x2",
          "y0": 0,
          "y1": 1,
          "yref": "y2 domain"
         },
         {
          "line": {
           "color": "gray",
           "dash": "dot",
           "width": 1
          },
          "opacity": 0.3,
          "type": "line",
          "x0": 5.239999999999979,
          "x1": 5.239999999999979,
          "xref": "x2",
          "y0": 0,
          "y1": 1,
          "yref": "y2 domain"
         },
         {
          "line": {
           "color": "gray",
           "dash": "dot",
           "width": 1
          },
          "opacity": 0.3,
          "type": "line",
          "x0": 5.279999999999978,
          "x1": 5.279999999999978,
          "xref": "x2",
          "y0": 0,
          "y1": 1,
          "yref": "y2 domain"
         },
         {
          "line": {
           "color": "gray",
           "dash": "dot",
           "width": 1
          },
          "opacity": 0.3,
          "type": "line",
          "x0": 5.319999999999977,
          "x1": 5.319999999999977,
          "xref": "x2",
          "y0": 0,
          "y1": 1,
          "yref": "y2 domain"
         },
         {
          "line": {
           "color": "gray",
           "dash": "dot",
           "width": 1
          },
          "opacity": 0.3,
          "type": "line",
          "x0": 5.359999999999976,
          "x1": 5.359999999999976,
          "xref": "x2",
          "y0": 0,
          "y1": 1,
          "yref": "y2 domain"
         },
         {
          "line": {
           "color": "gray",
           "dash": "dot",
           "width": 1
          },
          "opacity": 0.3,
          "type": "line",
          "x0": 5.3999999999999755,
          "x1": 5.3999999999999755,
          "xref": "x2",
          "y0": 0,
          "y1": 1,
          "yref": "y2 domain"
         },
         {
          "line": {
           "color": "gray",
           "dash": "dot",
           "width": 1
          },
          "opacity": 0.3,
          "type": "line",
          "x0": 5.439999999999975,
          "x1": 5.439999999999975,
          "xref": "x2",
          "y0": 0,
          "y1": 1,
          "yref": "y2 domain"
         },
         {
          "line": {
           "color": "gray",
           "dash": "dot",
           "width": 1
          },
          "opacity": 0.3,
          "type": "line",
          "x0": 5.479999999999974,
          "x1": 5.479999999999974,
          "xref": "x2",
          "y0": 0,
          "y1": 1,
          "yref": "y2 domain"
         },
         {
          "line": {
           "color": "gray",
           "dash": "dot",
           "width": 1
          },
          "opacity": 0.3,
          "type": "line",
          "x0": 5.519999999999973,
          "x1": 5.519999999999973,
          "xref": "x2",
          "y0": 0,
          "y1": 1,
          "yref": "y2 domain"
         },
         {
          "line": {
           "color": "gray",
           "dash": "dot",
           "width": 1
          },
          "opacity": 0.3,
          "type": "line",
          "x0": 0,
          "x1": 1,
          "xref": "x2 domain",
          "y0": 51.4,
          "y1": 51.4,
          "yref": "y2"
         },
         {
          "line": {
           "color": "gray",
           "dash": "dot",
           "width": 1
          },
          "opacity": 0.3,
          "type": "line",
          "x0": 0,
          "x1": 1,
          "xref": "x2 domain",
          "y0": 51.440000000000005,
          "y1": 51.440000000000005,
          "yref": "y2"
         },
         {
          "line": {
           "color": "gray",
           "dash": "dot",
           "width": 1
          },
          "opacity": 0.3,
          "type": "line",
          "x0": 0,
          "x1": 1,
          "xref": "x2 domain",
          "y0": 51.48000000000001,
          "y1": 51.48000000000001,
          "yref": "y2"
         },
         {
          "line": {
           "color": "gray",
           "dash": "dot",
           "width": 1
          },
          "opacity": 0.3,
          "type": "line",
          "x0": 0,
          "x1": 1,
          "xref": "x2 domain",
          "y0": 51.52000000000002,
          "y1": 51.52000000000002,
          "yref": "y2"
         },
         {
          "line": {
           "color": "gray",
           "dash": "dot",
           "width": 1
          },
          "opacity": 0.3,
          "type": "line",
          "x0": 0,
          "x1": 1,
          "xref": "x2 domain",
          "y0": 51.560000000000024,
          "y1": 51.560000000000024,
          "yref": "y2"
         },
         {
          "line": {
           "color": "gray",
           "dash": "dot",
           "width": 1
          },
          "opacity": 0.3,
          "type": "line",
          "x0": 0,
          "x1": 1,
          "xref": "x2 domain",
          "y0": 51.60000000000003,
          "y1": 51.60000000000003,
          "yref": "y2"
         },
         {
          "line": {
           "color": "gray",
           "dash": "dot",
           "width": 1
          },
          "opacity": 0.3,
          "type": "line",
          "x0": 0,
          "x1": 1,
          "xref": "x2 domain",
          "y0": 51.640000000000036,
          "y1": 51.640000000000036,
          "yref": "y2"
         },
         {
          "line": {
           "color": "gray",
           "dash": "dot",
           "width": 1
          },
          "opacity": 0.3,
          "type": "line",
          "x0": 0,
          "x1": 1,
          "xref": "x2 domain",
          "y0": 51.68000000000004,
          "y1": 51.68000000000004,
          "yref": "y2"
         },
         {
          "line": {
           "color": "gray",
           "dash": "dot",
           "width": 1
          },
          "opacity": 0.3,
          "type": "line",
          "x0": 0,
          "x1": 1,
          "xref": "x2 domain",
          "y0": 51.72000000000005,
          "y1": 51.72000000000005,
          "yref": "y2"
         },
         {
          "line": {
           "color": "gray",
           "dash": "dot",
           "width": 1
          },
          "opacity": 0.3,
          "type": "line",
          "x0": 0,
          "x1": 1,
          "xref": "x2 domain",
          "y0": 51.760000000000055,
          "y1": 51.760000000000055,
          "yref": "y2"
         },
         {
          "line": {
           "color": "gray",
           "dash": "dot",
           "width": 1
          },
          "opacity": 0.3,
          "type": "line",
          "x0": 0,
          "x1": 1,
          "xref": "x2 domain",
          "y0": 51.80000000000006,
          "y1": 51.80000000000006,
          "yref": "y2"
         },
         {
          "line": {
           "color": "gray",
           "dash": "dot",
           "width": 1
          },
          "opacity": 0.3,
          "type": "line",
          "x0": 0,
          "x1": 1,
          "xref": "x2 domain",
          "y0": 51.84000000000007,
          "y1": 51.84000000000007,
          "yref": "y2"
         },
         {
          "line": {
           "color": "gray",
           "dash": "dot",
           "width": 1
          },
          "opacity": 0.3,
          "type": "line",
          "x0": 0,
          "x1": 1,
          "xref": "x2 domain",
          "y0": 51.880000000000074,
          "y1": 51.880000000000074,
          "yref": "y2"
         },
         {
          "line": {
           "color": "gray",
           "dash": "dot",
           "width": 1
          },
          "opacity": 0.3,
          "type": "line",
          "x0": 0,
          "x1": 1,
          "xref": "x2 domain",
          "y0": 51.92000000000008,
          "y1": 51.92000000000008,
          "yref": "y2"
         },
         {
          "line": {
           "color": "gray",
           "dash": "dot",
           "width": 1
          },
          "opacity": 0.3,
          "type": "line",
          "x0": 0,
          "x1": 1,
          "xref": "x2 domain",
          "y0": 51.960000000000086,
          "y1": 51.960000000000086,
          "yref": "y2"
         },
         {
          "line": {
           "color": "gray",
           "dash": "dot",
           "width": 1
          },
          "opacity": 0.3,
          "type": "line",
          "x0": 0,
          "x1": 1,
          "xref": "x2 domain",
          "y0": 52.00000000000009,
          "y1": 52.00000000000009,
          "yref": "y2"
         },
         {
          "line": {
           "color": "gray",
           "dash": "dot",
           "width": 1
          },
          "opacity": 0.3,
          "type": "line",
          "x0": 0,
          "x1": 1,
          "xref": "x2 domain",
          "y0": 52.0400000000001,
          "y1": 52.0400000000001,
          "yref": "y2"
         },
         {
          "line": {
           "color": "gray",
           "dash": "dot",
           "width": 1
          },
          "opacity": 0.3,
          "type": "line",
          "x0": 0,
          "x1": 1,
          "xref": "x2 domain",
          "y0": 52.080000000000105,
          "y1": 52.080000000000105,
          "yref": "y2"
         },
         {
          "line": {
           "color": "gray",
           "dash": "dot",
           "width": 1
          },
          "opacity": 0.3,
          "type": "line",
          "x0": 0,
          "x1": 1,
          "xref": "x2 domain",
          "y0": 52.12000000000011,
          "y1": 52.12000000000011,
          "yref": "y2"
         },
         {
          "line": {
           "color": "gray",
           "dash": "dot",
           "width": 1
          },
          "opacity": 0.3,
          "type": "line",
          "x0": 0,
          "x1": 1,
          "xref": "x2 domain",
          "y0": 52.16000000000012,
          "y1": 52.16000000000012,
          "yref": "y2"
         },
         {
          "line": {
           "color": "gray",
           "dash": "dot",
           "width": 1
          },
          "opacity": 0.3,
          "type": "line",
          "x0": 0,
          "x1": 1,
          "xref": "x2 domain",
          "y0": 52.200000000000124,
          "y1": 52.200000000000124,
          "yref": "y2"
         },
         {
          "line": {
           "color": "gray",
           "dash": "dot",
           "width": 1
          },
          "opacity": 0.3,
          "type": "line",
          "x0": 0,
          "x1": 1,
          "xref": "x2 domain",
          "y0": 52.24000000000013,
          "y1": 52.24000000000013,
          "yref": "y2"
         },
         {
          "line": {
           "color": "gray",
           "dash": "dot",
           "width": 1
          },
          "opacity": 0.3,
          "type": "line",
          "x0": 0,
          "x1": 1,
          "xref": "x2 domain",
          "y0": 52.280000000000136,
          "y1": 52.280000000000136,
          "yref": "y2"
         },
         {
          "line": {
           "color": "gray",
           "dash": "dot",
           "width": 1
          },
          "opacity": 0.3,
          "type": "line",
          "x0": 0,
          "x1": 1,
          "xref": "x2 domain",
          "y0": 52.32000000000014,
          "y1": 52.32000000000014,
          "yref": "y2"
         },
         {
          "line": {
           "color": "gray",
           "dash": "dot",
           "width": 1
          },
          "opacity": 0.3,
          "type": "line",
          "x0": 0,
          "x1": 1,
          "xref": "x2 domain",
          "y0": 52.36000000000015,
          "y1": 52.36000000000015,
          "yref": "y2"
         },
         {
          "line": {
           "color": "gray",
           "dash": "dot",
           "width": 1
          },
          "opacity": 0.3,
          "type": "line",
          "x0": 0,
          "x1": 1,
          "xref": "x2 domain",
          "y0": 52.400000000000155,
          "y1": 52.400000000000155,
          "yref": "y2"
         },
         {
          "line": {
           "color": "gray",
           "dash": "dot",
           "width": 1
          },
          "opacity": 0.3,
          "type": "line",
          "x0": 0,
          "x1": 1,
          "xref": "x2 domain",
          "y0": 52.44000000000016,
          "y1": 52.44000000000016,
          "yref": "y2"
         },
         {
          "line": {
           "color": "gray",
           "dash": "dot",
           "width": 1
          },
          "opacity": 0.3,
          "type": "line",
          "x0": 4.2299999999999995,
          "x1": 4.2299999999999995,
          "xref": "x3",
          "y0": 0,
          "y1": 1,
          "yref": "y3 domain"
         },
         {
          "line": {
           "color": "gray",
           "dash": "dot",
           "width": 1
          },
          "opacity": 0.3,
          "type": "line",
          "x0": 4.29,
          "x1": 4.29,
          "xref": "x3",
          "y0": 0,
          "y1": 1,
          "yref": "y3 domain"
         },
         {
          "line": {
           "color": "gray",
           "dash": "dot",
           "width": 1
          },
          "opacity": 0.3,
          "type": "line",
          "x0": 4.3500000000000005,
          "x1": 4.3500000000000005,
          "xref": "x3",
          "y0": 0,
          "y1": 1,
          "yref": "y3 domain"
         },
         {
          "line": {
           "color": "gray",
           "dash": "dot",
           "width": 1
          },
          "opacity": 0.3,
          "type": "line",
          "x0": 4.410000000000001,
          "x1": 4.410000000000001,
          "xref": "x3",
          "y0": 0,
          "y1": 1,
          "yref": "y3 domain"
         },
         {
          "line": {
           "color": "gray",
           "dash": "dot",
           "width": 1
          },
          "opacity": 0.3,
          "type": "line",
          "x0": 4.4700000000000015,
          "x1": 4.4700000000000015,
          "xref": "x3",
          "y0": 0,
          "y1": 1,
          "yref": "y3 domain"
         },
         {
          "line": {
           "color": "gray",
           "dash": "dot",
           "width": 1
          },
          "opacity": 0.3,
          "type": "line",
          "x0": 4.530000000000002,
          "x1": 4.530000000000002,
          "xref": "x3",
          "y0": 0,
          "y1": 1,
          "yref": "y3 domain"
         },
         {
          "line": {
           "color": "gray",
           "dash": "dot",
           "width": 1
          },
          "opacity": 0.3,
          "type": "line",
          "x0": 4.5900000000000025,
          "x1": 4.5900000000000025,
          "xref": "x3",
          "y0": 0,
          "y1": 1,
          "yref": "y3 domain"
         },
         {
          "line": {
           "color": "gray",
           "dash": "dot",
           "width": 1
          },
          "opacity": 0.3,
          "type": "line",
          "x0": 4.650000000000003,
          "x1": 4.650000000000003,
          "xref": "x3",
          "y0": 0,
          "y1": 1,
          "yref": "y3 domain"
         },
         {
          "line": {
           "color": "gray",
           "dash": "dot",
           "width": 1
          },
          "opacity": 0.3,
          "type": "line",
          "x0": 4.7100000000000035,
          "x1": 4.7100000000000035,
          "xref": "x3",
          "y0": 0,
          "y1": 1,
          "yref": "y3 domain"
         },
         {
          "line": {
           "color": "gray",
           "dash": "dot",
           "width": 1
          },
          "opacity": 0.3,
          "type": "line",
          "x0": 4.770000000000004,
          "x1": 4.770000000000004,
          "xref": "x3",
          "y0": 0,
          "y1": 1,
          "yref": "y3 domain"
         },
         {
          "line": {
           "color": "gray",
           "dash": "dot",
           "width": 1
          },
          "opacity": 0.3,
          "type": "line",
          "x0": 4.8300000000000045,
          "x1": 4.8300000000000045,
          "xref": "x3",
          "y0": 0,
          "y1": 1,
          "yref": "y3 domain"
         },
         {
          "line": {
           "color": "gray",
           "dash": "dot",
           "width": 1
          },
          "opacity": 0.3,
          "type": "line",
          "x0": 4.890000000000005,
          "x1": 4.890000000000005,
          "xref": "x3",
          "y0": 0,
          "y1": 1,
          "yref": "y3 domain"
         },
         {
          "line": {
           "color": "gray",
           "dash": "dot",
           "width": 1
          },
          "opacity": 0.3,
          "type": "line",
          "x0": 4.9500000000000055,
          "x1": 4.9500000000000055,
          "xref": "x3",
          "y0": 0,
          "y1": 1,
          "yref": "y3 domain"
         },
         {
          "line": {
           "color": "gray",
           "dash": "dot",
           "width": 1
          },
          "opacity": 0.3,
          "type": "line",
          "x0": 5.010000000000006,
          "x1": 5.010000000000006,
          "xref": "x3",
          "y0": 0,
          "y1": 1,
          "yref": "y3 domain"
         },
         {
          "line": {
           "color": "gray",
           "dash": "dot",
           "width": 1
          },
          "opacity": 0.3,
          "type": "line",
          "x0": 5.0700000000000065,
          "x1": 5.0700000000000065,
          "xref": "x3",
          "y0": 0,
          "y1": 1,
          "yref": "y3 domain"
         },
         {
          "line": {
           "color": "gray",
           "dash": "dot",
           "width": 1
          },
          "opacity": 0.3,
          "type": "line",
          "x0": 5.130000000000007,
          "x1": 5.130000000000007,
          "xref": "x3",
          "y0": 0,
          "y1": 1,
          "yref": "y3 domain"
         },
         {
          "line": {
           "color": "gray",
           "dash": "dot",
           "width": 1
          },
          "opacity": 0.3,
          "type": "line",
          "x0": 5.1900000000000075,
          "x1": 5.1900000000000075,
          "xref": "x3",
          "y0": 0,
          "y1": 1,
          "yref": "y3 domain"
         },
         {
          "line": {
           "color": "gray",
           "dash": "dot",
           "width": 1
          },
          "opacity": 0.3,
          "type": "line",
          "x0": 5.250000000000008,
          "x1": 5.250000000000008,
          "xref": "x3",
          "y0": 0,
          "y1": 1,
          "yref": "y3 domain"
         },
         {
          "line": {
           "color": "gray",
           "dash": "dot",
           "width": 1
          },
          "opacity": 0.3,
          "type": "line",
          "x0": 5.3100000000000085,
          "x1": 5.3100000000000085,
          "xref": "x3",
          "y0": 0,
          "y1": 1,
          "yref": "y3 domain"
         },
         {
          "line": {
           "color": "gray",
           "dash": "dot",
           "width": 1
          },
          "opacity": 0.3,
          "type": "line",
          "x0": 5.370000000000009,
          "x1": 5.370000000000009,
          "xref": "x3",
          "y0": 0,
          "y1": 1,
          "yref": "y3 domain"
         },
         {
          "line": {
           "color": "gray",
           "dash": "dot",
           "width": 1
          },
          "opacity": 0.3,
          "type": "line",
          "x0": 5.4300000000000095,
          "x1": 5.4300000000000095,
          "xref": "x3",
          "y0": 0,
          "y1": 1,
          "yref": "y3 domain"
         },
         {
          "line": {
           "color": "gray",
           "dash": "dot",
           "width": 1
          },
          "opacity": 0.3,
          "type": "line",
          "x0": 5.49000000000001,
          "x1": 5.49000000000001,
          "xref": "x3",
          "y0": 0,
          "y1": 1,
          "yref": "y3 domain"
         },
         {
          "line": {
           "color": "gray",
           "dash": "dot",
           "width": 1
          },
          "opacity": 0.3,
          "type": "line",
          "x0": 5.5500000000000105,
          "x1": 5.5500000000000105,
          "xref": "x3",
          "y0": 0,
          "y1": 1,
          "yref": "y3 domain"
         },
         {
          "line": {
           "color": "gray",
           "dash": "dot",
           "width": 1
          },
          "opacity": 0.3,
          "type": "line",
          "x0": 0,
          "x1": 1,
          "xref": "x3 domain",
          "y0": 51.39,
          "y1": 51.39,
          "yref": "y3"
         },
         {
          "line": {
           "color": "gray",
           "dash": "dot",
           "width": 1
          },
          "opacity": 0.3,
          "type": "line",
          "x0": 0,
          "x1": 1,
          "xref": "x3 domain",
          "y0": 51.45,
          "y1": 51.45,
          "yref": "y3"
         },
         {
          "line": {
           "color": "gray",
           "dash": "dot",
           "width": 1
          },
          "opacity": 0.3,
          "type": "line",
          "x0": 0,
          "x1": 1,
          "xref": "x3 domain",
          "y0": 51.510000000000005,
          "y1": 51.510000000000005,
          "yref": "y3"
         },
         {
          "line": {
           "color": "gray",
           "dash": "dot",
           "width": 1
          },
          "opacity": 0.3,
          "type": "line",
          "x0": 0,
          "x1": 1,
          "xref": "x3 domain",
          "y0": 51.57000000000001,
          "y1": 51.57000000000001,
          "yref": "y3"
         },
         {
          "line": {
           "color": "gray",
           "dash": "dot",
           "width": 1
          },
          "opacity": 0.3,
          "type": "line",
          "x0": 0,
          "x1": 1,
          "xref": "x3 domain",
          "y0": 51.63000000000001,
          "y1": 51.63000000000001,
          "yref": "y3"
         },
         {
          "line": {
           "color": "gray",
           "dash": "dot",
           "width": 1
          },
          "opacity": 0.3,
          "type": "line",
          "x0": 0,
          "x1": 1,
          "xref": "x3 domain",
          "y0": 51.69000000000001,
          "y1": 51.69000000000001,
          "yref": "y3"
         },
         {
          "line": {
           "color": "gray",
           "dash": "dot",
           "width": 1
          },
          "opacity": 0.3,
          "type": "line",
          "x0": 0,
          "x1": 1,
          "xref": "x3 domain",
          "y0": 51.750000000000014,
          "y1": 51.750000000000014,
          "yref": "y3"
         },
         {
          "line": {
           "color": "gray",
           "dash": "dot",
           "width": 1
          },
          "opacity": 0.3,
          "type": "line",
          "x0": 0,
          "x1": 1,
          "xref": "x3 domain",
          "y0": 51.81000000000002,
          "y1": 51.81000000000002,
          "yref": "y3"
         },
         {
          "line": {
           "color": "gray",
           "dash": "dot",
           "width": 1
          },
          "opacity": 0.3,
          "type": "line",
          "x0": 0,
          "x1": 1,
          "xref": "x3 domain",
          "y0": 51.87000000000002,
          "y1": 51.87000000000002,
          "yref": "y3"
         },
         {
          "line": {
           "color": "gray",
           "dash": "dot",
           "width": 1
          },
          "opacity": 0.3,
          "type": "line",
          "x0": 0,
          "x1": 1,
          "xref": "x3 domain",
          "y0": 51.93000000000002,
          "y1": 51.93000000000002,
          "yref": "y3"
         },
         {
          "line": {
           "color": "gray",
           "dash": "dot",
           "width": 1
          },
          "opacity": 0.3,
          "type": "line",
          "x0": 0,
          "x1": 1,
          "xref": "x3 domain",
          "y0": 51.99000000000002,
          "y1": 51.99000000000002,
          "yref": "y3"
         },
         {
          "line": {
           "color": "gray",
           "dash": "dot",
           "width": 1
          },
          "opacity": 0.3,
          "type": "line",
          "x0": 0,
          "x1": 1,
          "xref": "x3 domain",
          "y0": 52.050000000000026,
          "y1": 52.050000000000026,
          "yref": "y3"
         },
         {
          "line": {
           "color": "gray",
           "dash": "dot",
           "width": 1
          },
          "opacity": 0.3,
          "type": "line",
          "x0": 0,
          "x1": 1,
          "xref": "x3 domain",
          "y0": 52.11000000000003,
          "y1": 52.11000000000003,
          "yref": "y3"
         },
         {
          "line": {
           "color": "gray",
           "dash": "dot",
           "width": 1
          },
          "opacity": 0.3,
          "type": "line",
          "x0": 0,
          "x1": 1,
          "xref": "x3 domain",
          "y0": 52.17000000000003,
          "y1": 52.17000000000003,
          "yref": "y3"
         },
         {
          "line": {
           "color": "gray",
           "dash": "dot",
           "width": 1
          },
          "opacity": 0.3,
          "type": "line",
          "x0": 0,
          "x1": 1,
          "xref": "x3 domain",
          "y0": 52.23000000000003,
          "y1": 52.23000000000003,
          "yref": "y3"
         },
         {
          "line": {
           "color": "gray",
           "dash": "dot",
           "width": 1
          },
          "opacity": 0.3,
          "type": "line",
          "x0": 0,
          "x1": 1,
          "xref": "x3 domain",
          "y0": 52.290000000000035,
          "y1": 52.290000000000035,
          "yref": "y3"
         },
         {
          "line": {
           "color": "gray",
           "dash": "dot",
           "width": 1
          },
          "opacity": 0.3,
          "type": "line",
          "x0": 0,
          "x1": 1,
          "xref": "x3 domain",
          "y0": 52.35000000000004,
          "y1": 52.35000000000004,
          "yref": "y3"
         },
         {
          "line": {
           "color": "gray",
           "dash": "dot",
           "width": 1
          },
          "opacity": 0.3,
          "type": "line",
          "x0": 0,
          "x1": 1,
          "xref": "x3 domain",
          "y0": 52.41000000000004,
          "y1": 52.41000000000004,
          "yref": "y3"
         }
        ],
        "showlegend": false,
        "template": {
         "data": {
          "bar": [
           {
            "error_x": {
             "color": "#2a3f5f"
            },
            "error_y": {
             "color": "#2a3f5f"
            },
            "marker": {
             "line": {
              "color": "#E5ECF6",
              "width": 0.5
             },
             "pattern": {
              "fillmode": "overlay",
              "size": 10,
              "solidity": 0.2
             }
            },
            "type": "bar"
           }
          ],
          "barpolar": [
           {
            "marker": {
             "line": {
              "color": "#E5ECF6",
              "width": 0.5
             },
             "pattern": {
              "fillmode": "overlay",
              "size": 10,
              "solidity": 0.2
             }
            },
            "type": "barpolar"
           }
          ],
          "carpet": [
           {
            "aaxis": {
             "endlinecolor": "#2a3f5f",
             "gridcolor": "white",
             "linecolor": "white",
             "minorgridcolor": "white",
             "startlinecolor": "#2a3f5f"
            },
            "baxis": {
             "endlinecolor": "#2a3f5f",
             "gridcolor": "white",
             "linecolor": "white",
             "minorgridcolor": "white",
             "startlinecolor": "#2a3f5f"
            },
            "type": "carpet"
           }
          ],
          "choropleth": [
           {
            "colorbar": {
             "outlinewidth": 0,
             "ticks": ""
            },
            "type": "choropleth"
           }
          ],
          "contour": [
           {
            "colorbar": {
             "outlinewidth": 0,
             "ticks": ""
            },
            "colorscale": [
             [
              0,
              "#0d0887"
             ],
             [
              0.1111111111111111,
              "#46039f"
             ],
             [
              0.2222222222222222,
              "#7201a8"
             ],
             [
              0.3333333333333333,
              "#9c179e"
             ],
             [
              0.4444444444444444,
              "#bd3786"
             ],
             [
              0.5555555555555556,
              "#d8576b"
             ],
             [
              0.6666666666666666,
              "#ed7953"
             ],
             [
              0.7777777777777778,
              "#fb9f3a"
             ],
             [
              0.8888888888888888,
              "#fdca26"
             ],
             [
              1,
              "#f0f921"
             ]
            ],
            "type": "contour"
           }
          ],
          "contourcarpet": [
           {
            "colorbar": {
             "outlinewidth": 0,
             "ticks": ""
            },
            "type": "contourcarpet"
           }
          ],
          "heatmap": [
           {
            "colorbar": {
             "outlinewidth": 0,
             "ticks": ""
            },
            "colorscale": [
             [
              0,
              "#0d0887"
             ],
             [
              0.1111111111111111,
              "#46039f"
             ],
             [
              0.2222222222222222,
              "#7201a8"
             ],
             [
              0.3333333333333333,
              "#9c179e"
             ],
             [
              0.4444444444444444,
              "#bd3786"
             ],
             [
              0.5555555555555556,
              "#d8576b"
             ],
             [
              0.6666666666666666,
              "#ed7953"
             ],
             [
              0.7777777777777778,
              "#fb9f3a"
             ],
             [
              0.8888888888888888,
              "#fdca26"
             ],
             [
              1,
              "#f0f921"
             ]
            ],
            "type": "heatmap"
           }
          ],
          "histogram": [
           {
            "marker": {
             "pattern": {
              "fillmode": "overlay",
              "size": 10,
              "solidity": 0.2
             }
            },
            "type": "histogram"
           }
          ],
          "histogram2d": [
           {
            "colorbar": {
             "outlinewidth": 0,
             "ticks": ""
            },
            "colorscale": [
             [
              0,
              "#0d0887"
             ],
             [
              0.1111111111111111,
              "#46039f"
             ],
             [
              0.2222222222222222,
              "#7201a8"
             ],
             [
              0.3333333333333333,
              "#9c179e"
             ],
             [
              0.4444444444444444,
              "#bd3786"
             ],
             [
              0.5555555555555556,
              "#d8576b"
             ],
             [
              0.6666666666666666,
              "#ed7953"
             ],
             [
              0.7777777777777778,
              "#fb9f3a"
             ],
             [
              0.8888888888888888,
              "#fdca26"
             ],
             [
              1,
              "#f0f921"
             ]
            ],
            "type": "histogram2d"
           }
          ],
          "histogram2dcontour": [
           {
            "colorbar": {
             "outlinewidth": 0,
             "ticks": ""
            },
            "colorscale": [
             [
              0,
              "#0d0887"
             ],
             [
              0.1111111111111111,
              "#46039f"
             ],
             [
              0.2222222222222222,
              "#7201a8"
             ],
             [
              0.3333333333333333,
              "#9c179e"
             ],
             [
              0.4444444444444444,
              "#bd3786"
             ],
             [
              0.5555555555555556,
              "#d8576b"
             ],
             [
              0.6666666666666666,
              "#ed7953"
             ],
             [
              0.7777777777777778,
              "#fb9f3a"
             ],
             [
              0.8888888888888888,
              "#fdca26"
             ],
             [
              1,
              "#f0f921"
             ]
            ],
            "type": "histogram2dcontour"
           }
          ],
          "mesh3d": [
           {
            "colorbar": {
             "outlinewidth": 0,
             "ticks": ""
            },
            "type": "mesh3d"
           }
          ],
          "parcoords": [
           {
            "line": {
             "colorbar": {
              "outlinewidth": 0,
              "ticks": ""
             }
            },
            "type": "parcoords"
           }
          ],
          "pie": [
           {
            "automargin": true,
            "type": "pie"
           }
          ],
          "scatter": [
           {
            "fillpattern": {
             "fillmode": "overlay",
             "size": 10,
             "solidity": 0.2
            },
            "type": "scatter"
           }
          ],
          "scatter3d": [
           {
            "line": {
             "colorbar": {
              "outlinewidth": 0,
              "ticks": ""
             }
            },
            "marker": {
             "colorbar": {
              "outlinewidth": 0,
              "ticks": ""
             }
            },
            "type": "scatter3d"
           }
          ],
          "scattercarpet": [
           {
            "marker": {
             "colorbar": {
              "outlinewidth": 0,
              "ticks": ""
             }
            },
            "type": "scattercarpet"
           }
          ],
          "scattergeo": [
           {
            "marker": {
             "colorbar": {
              "outlinewidth": 0,
              "ticks": ""
             }
            },
            "type": "scattergeo"
           }
          ],
          "scattergl": [
           {
            "marker": {
             "colorbar": {
              "outlinewidth": 0,
              "ticks": ""
             }
            },
            "type": "scattergl"
           }
          ],
          "scattermap": [
           {
            "marker": {
             "colorbar": {
              "outlinewidth": 0,
              "ticks": ""
             }
            },
            "type": "scattermap"
           }
          ],
          "scattermapbox": [
           {
            "marker": {
             "colorbar": {
              "outlinewidth": 0,
              "ticks": ""
             }
            },
            "type": "scattermapbox"
           }
          ],
          "scatterpolar": [
           {
            "marker": {
             "colorbar": {
              "outlinewidth": 0,
              "ticks": ""
             }
            },
            "type": "scatterpolar"
           }
          ],
          "scatterpolargl": [
           {
            "marker": {
             "colorbar": {
              "outlinewidth": 0,
              "ticks": ""
             }
            },
            "type": "scatterpolargl"
           }
          ],
          "scatterternary": [
           {
            "marker": {
             "colorbar": {
              "outlinewidth": 0,
              "ticks": ""
             }
            },
            "type": "scatterternary"
           }
          ],
          "surface": [
           {
            "colorbar": {
             "outlinewidth": 0,
             "ticks": ""
            },
            "colorscale": [
             [
              0,
              "#0d0887"
             ],
             [
              0.1111111111111111,
              "#46039f"
             ],
             [
              0.2222222222222222,
              "#7201a8"
             ],
             [
              0.3333333333333333,
              "#9c179e"
             ],
             [
              0.4444444444444444,
              "#bd3786"
             ],
             [
              0.5555555555555556,
              "#d8576b"
             ],
             [
              0.6666666666666666,
              "#ed7953"
             ],
             [
              0.7777777777777778,
              "#fb9f3a"
             ],
             [
              0.8888888888888888,
              "#fdca26"
             ],
             [
              1,
              "#f0f921"
             ]
            ],
            "type": "surface"
           }
          ],
          "table": [
           {
            "cells": {
             "fill": {
              "color": "#EBF0F8"
             },
             "line": {
              "color": "white"
             }
            },
            "header": {
             "fill": {
              "color": "#C8D4E3"
             },
             "line": {
              "color": "white"
             }
            },
            "type": "table"
           }
          ]
         },
         "layout": {
          "annotationdefaults": {
           "arrowcolor": "#2a3f5f",
           "arrowhead": 0,
           "arrowwidth": 1
          },
          "autotypenumbers": "strict",
          "coloraxis": {
           "colorbar": {
            "outlinewidth": 0,
            "ticks": ""
           }
          },
          "colorscale": {
           "diverging": [
            [
             0,
             "#8e0152"
            ],
            [
             0.1,
             "#c51b7d"
            ],
            [
             0.2,
             "#de77ae"
            ],
            [
             0.3,
             "#f1b6da"
            ],
            [
             0.4,
             "#fde0ef"
            ],
            [
             0.5,
             "#f7f7f7"
            ],
            [
             0.6,
             "#e6f5d0"
            ],
            [
             0.7,
             "#b8e186"
            ],
            [
             0.8,
             "#7fbc41"
            ],
            [
             0.9,
             "#4d9221"
            ],
            [
             1,
             "#276419"
            ]
           ],
           "sequential": [
            [
             0,
             "#0d0887"
            ],
            [
             0.1111111111111111,
             "#46039f"
            ],
            [
             0.2222222222222222,
             "#7201a8"
            ],
            [
             0.3333333333333333,
             "#9c179e"
            ],
            [
             0.4444444444444444,
             "#bd3786"
            ],
            [
             0.5555555555555556,
             "#d8576b"
            ],
            [
             0.6666666666666666,
             "#ed7953"
            ],
            [
             0.7777777777777778,
             "#fb9f3a"
            ],
            [
             0.8888888888888888,
             "#fdca26"
            ],
            [
             1,
             "#f0f921"
            ]
           ],
           "sequentialminus": [
            [
             0,
             "#0d0887"
            ],
            [
             0.1111111111111111,
             "#46039f"
            ],
            [
             0.2222222222222222,
             "#7201a8"
            ],
            [
             0.3333333333333333,
             "#9c179e"
            ],
            [
             0.4444444444444444,
             "#bd3786"
            ],
            [
             0.5555555555555556,
             "#d8576b"
            ],
            [
             0.6666666666666666,
             "#ed7953"
            ],
            [
             0.7777777777777778,
             "#fb9f3a"
            ],
            [
             0.8888888888888888,
             "#fdca26"
            ],
            [
             1,
             "#f0f921"
            ]
           ]
          },
          "colorway": [
           "#636efa",
           "#EF553B",
           "#00cc96",
           "#ab63fa",
           "#FFA15A",
           "#19d3f3",
           "#FF6692",
           "#B6E880",
           "#FF97FF",
           "#FECB52"
          ],
          "font": {
           "color": "#2a3f5f"
          },
          "geo": {
           "bgcolor": "white",
           "lakecolor": "white",
           "landcolor": "#E5ECF6",
           "showlakes": true,
           "showland": true,
           "subunitcolor": "white"
          },
          "hoverlabel": {
           "align": "left"
          },
          "hovermode": "closest",
          "mapbox": {
           "style": "light"
          },
          "paper_bgcolor": "white",
          "plot_bgcolor": "#E5ECF6",
          "polar": {
           "angularaxis": {
            "gridcolor": "white",
            "linecolor": "white",
            "ticks": ""
           },
           "bgcolor": "#E5ECF6",
           "radialaxis": {
            "gridcolor": "white",
            "linecolor": "white",
            "ticks": ""
           }
          },
          "scene": {
           "xaxis": {
            "backgroundcolor": "#E5ECF6",
            "gridcolor": "white",
            "gridwidth": 2,
            "linecolor": "white",
            "showbackground": true,
            "ticks": "",
            "zerolinecolor": "white"
           },
           "yaxis": {
            "backgroundcolor": "#E5ECF6",
            "gridcolor": "white",
            "gridwidth": 2,
            "linecolor": "white",
            "showbackground": true,
            "ticks": "",
            "zerolinecolor": "white"
           },
           "zaxis": {
            "backgroundcolor": "#E5ECF6",
            "gridcolor": "white",
            "gridwidth": 2,
            "linecolor": "white",
            "showbackground": true,
            "ticks": "",
            "zerolinecolor": "white"
           }
          },
          "shapedefaults": {
           "line": {
            "color": "#2a3f5f"
           }
          },
          "ternary": {
           "aaxis": {
            "gridcolor": "white",
            "linecolor": "white",
            "ticks": ""
           },
           "baxis": {
            "gridcolor": "white",
            "linecolor": "white",
            "ticks": ""
           },
           "bgcolor": "#E5ECF6",
           "caxis": {
            "gridcolor": "white",
            "linecolor": "white",
            "ticks": ""
           }
          },
          "title": {
           "x": 0.05
          },
          "xaxis": {
           "automargin": true,
           "gridcolor": "white",
           "linecolor": "white",
           "ticks": "",
           "title": {
            "standoff": 15
           },
           "zerolinecolor": "white",
           "zerolinewidth": 2
          },
          "yaxis": {
           "automargin": true,
           "gridcolor": "white",
           "linecolor": "white",
           "ticks": "",
           "title": {
            "standoff": 15
           },
           "zerolinecolor": "white",
           "zerolinewidth": 2
          }
         }
        },
        "title": {
         "text": "Pickup Locations with Different Grid Overlays (Sample of 800 rides)"
        },
        "xaxis": {
         "anchor": "y",
         "domain": [
          0,
          0.2888888888888889
         ],
         "title": {
          "text": "Longitude"
         }
        },
        "xaxis2": {
         "anchor": "y2",
         "domain": [
          0.35555555555555557,
          0.6444444444444445
         ],
         "title": {
          "text": "Longitude"
         }
        },
        "xaxis3": {
         "anchor": "y3",
         "domain": [
          0.7111111111111111,
          1
         ],
         "title": {
          "text": "Longitude"
         }
        },
        "yaxis": {
         "anchor": "x",
         "domain": [
          0,
          1
         ],
         "title": {
          "text": "Latitude"
         }
        },
        "yaxis2": {
         "anchor": "x2",
         "domain": [
          0,
          1
         ],
         "title": {
          "text": "Latitude"
         }
        },
        "yaxis3": {
         "anchor": "x3",
         "domain": [
          0,
          1
         ],
         "title": {
          "text": "Latitude"
         }
        }
       }
      }
     },
     "metadata": {},
     "output_type": "display_data"
    },
    {
     "name": "stdout",
     "output_type": "stream",
     "text": [
      "\n",
      "Creating heatmap for 0.01° grid...\n"
     ]
    },
    {
     "data": {
      "application/vnd.plotly.v1+json": {
       "config": {
        "plotlyServerURL": "https://plot.ly"
       },
       "data": [
        {
         "coloraxis": "coloraxis",
         "histfunc": "sum",
         "hovertemplate": "Longitude Grid=%{x}<br>Latitude Grid=%{y}<br>sum of Number of Trips=%{z}<extra></extra>",
         "name": "",
         "type": "histogram2d",
         "x": {
          "bdata": "uB6F61G4FUDD9Shcj8IVQM3MzMzMzBVAw/UoXI/CFUAAAAAAAAAWQArXo3A9ChZAAAAAAAAAFkAK16NwPQoWQArXo3A9ChZAFa5H4XoUFkDD9Shcj8IVQM3MzMzMzBVAw/UoXI/CFUDNzMzMzMwVQK5H4XoUrhFAuB6F61G4EUDsUbgehesRQPYoXI/C9RFAuB6F61G4EUDD9Shcj8IRQM3MzMzMzBFA16NwPQrXEUD2KFyPwvURQLgehetRuBFAw/UoXI/CEUDNzMzMzMwRQNejcD0K1xFACtejcD0KEkAVrkfhehQSQArXo3A9ChJAFa5H4XoUEkBI4XoUrkcRQFK4HoXrURFASOF6FK5HEUBSuB6F61ERQB+F61G4HhFAKVyPwvUoEUA+CtejcD0RQEjhehSuRxFAPgrXo3A9FEBI4XoUrkcUQHE9CtejcBRAexSuR+F6FEA+CtejcD0UQEjhehSuRxRAFa5H4XoUEUAfhetRuB4RQJqZmZmZmRRApHA9CtejFED2KFyPwvUQQAAAAAAAABFAFa5H4XoUEUAfhetRuB4RQJqZmZmZmRRApHA9CtejFED2KFyPwvUQQAAAAAAAABFAMzMzMzMzEUA+CtejcD0RQK5H4XoUrhRAuB6F61G4FEB7FK5H4XoUQIXrUbgehRRAexSuR+F6FECF61G4HoUUQI/C9ShcjxNAmpmZmZmZE0Bcj8L1KFwTQGdmZmZmZhNAj8L1KFyPE0CamZmZmZkTQFyPwvUoXBNAZ2ZmZmZmE0CPwvUoXI8TQJqZmZmZmRNAj8L1KFyPE0CamZmZmZkTQK5H4XoUrhNAuB6F61G4E0BnZmZmZmYTQHE9CtejcBNAw/UoXI/CE0DD9Shcj8ITQM3MzMzMzBNA",
          "dtype": "f8"
         },
         "xaxis": "x",
         "xbingroup": "x",
         "y": {
          "bdata": "MzMzMzOzSUAzMzMzM7NJQDMzMzMzs0lAFa5H4Xq0SUAVrkfherRJQBWuR+F6tElA9ihcj8K1SUD2KFyPwrVJQHsUrkfhuklAexSuR+G6SUBcj8L1KLxJQFyPwvUovElAPgrXo3C9SUA+CtejcL1JQHE9Ctej8ElAcT0K16PwSUBSuB6F6/FJQFK4HoXr8UlAMzMzMzPzSUAzMzMzM/NJQDMzMzMz80lAMzMzMzPzSUAzMzMzM/NJQBWuR+F69ElAFa5H4Xr0SUAVrkfhevRJQBWuR+F69ElAuB6F61H4SUC4HoXrUfhJQJqZmZmZ+UlAmpmZmZn5SUDD9ShcjwJKQMP1KFyPAkpApHA9CtcDSkCkcD0K1wNKQIXrUbgeBUpAhetRuB4FSkBnZmZmZgZKQGdmZmZmBkpAZ2ZmZmYGSkBnZmZmZgZKQGdmZmZmBkpAZ2ZmZmYGSkBI4XoUrgdKQEjhehSuB0pAKVyPwvUISkApXI/C9QhKQClcj8L1CEpAKVyPwvUISkAK16NwPQpKQArXo3A9CkpACtejcD0KSkAK16NwPQpKQArXo3A9CkpACtejcD0KSkDsUbgehQtKQOxRuB6FC0pA7FG4HoULSkDsUbgehQtKQOxRuB6FC0pA7FG4HoULSkDNzMzMzAxKQM3MzMzMDEpArkfhehQOSkCuR+F6FA5KQClcj8L1KEpAKVyPwvUoSkAK16NwPSpKQArXo3A9KkpACtejcD0qSkAK16NwPSpKQOxRuB6FK0pA7FG4HoUrSkDNzMzMzCxKQM3MzMzMLEpArkfhehQuSkCuR+F6FC5KQK5H4XoULkpArkfhehQuSkBxPQrXozBKQHE9CtejMEpAUrgehesxSkAzMzMzMzNKQDMzMzMzM0pA",
          "dtype": "f8"
         },
         "yaxis": "y",
         "ybingroup": "y",
         "z": {
          "bdata": "BACuAF4AAwAtAAEALwABADYAJAATABMAHAAgAB0AOAATAE0AJAAPAAwAAQAFACwABgBEAAYAXQAMADwAMgAGAA4AFABBABQARQABAFwAFAAkAEAAKAARACgABAAyAAEABAAuAB4ABAA0AA4ATQAjAAwATAAeAGoAAQAYAKIABAAhABAAMAAVAAMABQASAFEACQALABUAEAAoAC0AOgBWABMAAQBOAAkA",
          "dtype": "i2"
         }
        }
       ],
       "layout": {
        "coloraxis": {
         "colorbar": {
          "title": {
           "text": "sum of Number of Trips"
          }
         },
         "colorscale": [
          [
           0,
           "#0d0887"
          ],
          [
           0.1111111111111111,
           "#46039f"
          ],
          [
           0.2222222222222222,
           "#7201a8"
          ],
          [
           0.3333333333333333,
           "#9c179e"
          ],
          [
           0.4444444444444444,
           "#bd3786"
          ],
          [
           0.5555555555555556,
           "#d8576b"
          ],
          [
           0.6666666666666666,
           "#ed7953"
          ],
          [
           0.7777777777777778,
           "#fb9f3a"
          ],
          [
           0.8888888888888888,
           "#fdca26"
          ],
          [
           1,
           "#f0f921"
          ]
         ]
        },
        "legend": {
         "tracegroupgap": 0
        },
        "template": {
         "data": {
          "bar": [
           {
            "error_x": {
             "color": "#2a3f5f"
            },
            "error_y": {
             "color": "#2a3f5f"
            },
            "marker": {
             "line": {
              "color": "#E5ECF6",
              "width": 0.5
             },
             "pattern": {
              "fillmode": "overlay",
              "size": 10,
              "solidity": 0.2
             }
            },
            "type": "bar"
           }
          ],
          "barpolar": [
           {
            "marker": {
             "line": {
              "color": "#E5ECF6",
              "width": 0.5
             },
             "pattern": {
              "fillmode": "overlay",
              "size": 10,
              "solidity": 0.2
             }
            },
            "type": "barpolar"
           }
          ],
          "carpet": [
           {
            "aaxis": {
             "endlinecolor": "#2a3f5f",
             "gridcolor": "white",
             "linecolor": "white",
             "minorgridcolor": "white",
             "startlinecolor": "#2a3f5f"
            },
            "baxis": {
             "endlinecolor": "#2a3f5f",
             "gridcolor": "white",
             "linecolor": "white",
             "minorgridcolor": "white",
             "startlinecolor": "#2a3f5f"
            },
            "type": "carpet"
           }
          ],
          "choropleth": [
           {
            "colorbar": {
             "outlinewidth": 0,
             "ticks": ""
            },
            "type": "choropleth"
           }
          ],
          "contour": [
           {
            "colorbar": {
             "outlinewidth": 0,
             "ticks": ""
            },
            "colorscale": [
             [
              0,
              "#0d0887"
             ],
             [
              0.1111111111111111,
              "#46039f"
             ],
             [
              0.2222222222222222,
              "#7201a8"
             ],
             [
              0.3333333333333333,
              "#9c179e"
             ],
             [
              0.4444444444444444,
              "#bd3786"
             ],
             [
              0.5555555555555556,
              "#d8576b"
             ],
             [
              0.6666666666666666,
              "#ed7953"
             ],
             [
              0.7777777777777778,
              "#fb9f3a"
             ],
             [
              0.8888888888888888,
              "#fdca26"
             ],
             [
              1,
              "#f0f921"
             ]
            ],
            "type": "contour"
           }
          ],
          "contourcarpet": [
           {
            "colorbar": {
             "outlinewidth": 0,
             "ticks": ""
            },
            "type": "contourcarpet"
           }
          ],
          "heatmap": [
           {
            "colorbar": {
             "outlinewidth": 0,
             "ticks": ""
            },
            "colorscale": [
             [
              0,
              "#0d0887"
             ],
             [
              0.1111111111111111,
              "#46039f"
             ],
             [
              0.2222222222222222,
              "#7201a8"
             ],
             [
              0.3333333333333333,
              "#9c179e"
             ],
             [
              0.4444444444444444,
              "#bd3786"
             ],
             [
              0.5555555555555556,
              "#d8576b"
             ],
             [
              0.6666666666666666,
              "#ed7953"
             ],
             [
              0.7777777777777778,
              "#fb9f3a"
             ],
             [
              0.8888888888888888,
              "#fdca26"
             ],
             [
              1,
              "#f0f921"
             ]
            ],
            "type": "heatmap"
           }
          ],
          "histogram": [
           {
            "marker": {
             "pattern": {
              "fillmode": "overlay",
              "size": 10,
              "solidity": 0.2
             }
            },
            "type": "histogram"
           }
          ],
          "histogram2d": [
           {
            "colorbar": {
             "outlinewidth": 0,
             "ticks": ""
            },
            "colorscale": [
             [
              0,
              "#0d0887"
             ],
             [
              0.1111111111111111,
              "#46039f"
             ],
             [
              0.2222222222222222,
              "#7201a8"
             ],
             [
              0.3333333333333333,
              "#9c179e"
             ],
             [
              0.4444444444444444,
              "#bd3786"
             ],
             [
              0.5555555555555556,
              "#d8576b"
             ],
             [
              0.6666666666666666,
              "#ed7953"
             ],
             [
              0.7777777777777778,
              "#fb9f3a"
             ],
             [
              0.8888888888888888,
              "#fdca26"
             ],
             [
              1,
              "#f0f921"
             ]
            ],
            "type": "histogram2d"
           }
          ],
          "histogram2dcontour": [
           {
            "colorbar": {
             "outlinewidth": 0,
             "ticks": ""
            },
            "colorscale": [
             [
              0,
              "#0d0887"
             ],
             [
              0.1111111111111111,
              "#46039f"
             ],
             [
              0.2222222222222222,
              "#7201a8"
             ],
             [
              0.3333333333333333,
              "#9c179e"
             ],
             [
              0.4444444444444444,
              "#bd3786"
             ],
             [
              0.5555555555555556,
              "#d8576b"
             ],
             [
              0.6666666666666666,
              "#ed7953"
             ],
             [
              0.7777777777777778,
              "#fb9f3a"
             ],
             [
              0.8888888888888888,
              "#fdca26"
             ],
             [
              1,
              "#f0f921"
             ]
            ],
            "type": "histogram2dcontour"
           }
          ],
          "mesh3d": [
           {
            "colorbar": {
             "outlinewidth": 0,
             "ticks": ""
            },
            "type": "mesh3d"
           }
          ],
          "parcoords": [
           {
            "line": {
             "colorbar": {
              "outlinewidth": 0,
              "ticks": ""
             }
            },
            "type": "parcoords"
           }
          ],
          "pie": [
           {
            "automargin": true,
            "type": "pie"
           }
          ],
          "scatter": [
           {
            "fillpattern": {
             "fillmode": "overlay",
             "size": 10,
             "solidity": 0.2
            },
            "type": "scatter"
           }
          ],
          "scatter3d": [
           {
            "line": {
             "colorbar": {
              "outlinewidth": 0,
              "ticks": ""
             }
            },
            "marker": {
             "colorbar": {
              "outlinewidth": 0,
              "ticks": ""
             }
            },
            "type": "scatter3d"
           }
          ],
          "scattercarpet": [
           {
            "marker": {
             "colorbar": {
              "outlinewidth": 0,
              "ticks": ""
             }
            },
            "type": "scattercarpet"
           }
          ],
          "scattergeo": [
           {
            "marker": {
             "colorbar": {
              "outlinewidth": 0,
              "ticks": ""
             }
            },
            "type": "scattergeo"
           }
          ],
          "scattergl": [
           {
            "marker": {
             "colorbar": {
              "outlinewidth": 0,
              "ticks": ""
             }
            },
            "type": "scattergl"
           }
          ],
          "scattermap": [
           {
            "marker": {
             "colorbar": {
              "outlinewidth": 0,
              "ticks": ""
             }
            },
            "type": "scattermap"
           }
          ],
          "scattermapbox": [
           {
            "marker": {
             "colorbar": {
              "outlinewidth": 0,
              "ticks": ""
             }
            },
            "type": "scattermapbox"
           }
          ],
          "scatterpolar": [
           {
            "marker": {
             "colorbar": {
              "outlinewidth": 0,
              "ticks": ""
             }
            },
            "type": "scatterpolar"
           }
          ],
          "scatterpolargl": [
           {
            "marker": {
             "colorbar": {
              "outlinewidth": 0,
              "ticks": ""
             }
            },
            "type": "scatterpolargl"
           }
          ],
          "scatterternary": [
           {
            "marker": {
             "colorbar": {
              "outlinewidth": 0,
              "ticks": ""
             }
            },
            "type": "scatterternary"
           }
          ],
          "surface": [
           {
            "colorbar": {
             "outlinewidth": 0,
             "ticks": ""
            },
            "colorscale": [
             [
              0,
              "#0d0887"
             ],
             [
              0.1111111111111111,
              "#46039f"
             ],
             [
              0.2222222222222222,
              "#7201a8"
             ],
             [
              0.3333333333333333,
              "#9c179e"
             ],
             [
              0.4444444444444444,
              "#bd3786"
             ],
             [
              0.5555555555555556,
              "#d8576b"
             ],
             [
              0.6666666666666666,
              "#ed7953"
             ],
             [
              0.7777777777777778,
              "#fb9f3a"
             ],
             [
              0.8888888888888888,
              "#fdca26"
             ],
             [
              1,
              "#f0f921"
             ]
            ],
            "type": "surface"
           }
          ],
          "table": [
           {
            "cells": {
             "fill": {
              "color": "#EBF0F8"
             },
             "line": {
              "color": "white"
             }
            },
            "header": {
             "fill": {
              "color": "#C8D4E3"
             },
             "line": {
              "color": "white"
             }
            },
            "type": "table"
           }
          ]
         },
         "layout": {
          "annotationdefaults": {
           "arrowcolor": "#2a3f5f",
           "arrowhead": 0,
           "arrowwidth": 1
          },
          "autotypenumbers": "strict",
          "coloraxis": {
           "colorbar": {
            "outlinewidth": 0,
            "ticks": ""
           }
          },
          "colorscale": {
           "diverging": [
            [
             0,
             "#8e0152"
            ],
            [
             0.1,
             "#c51b7d"
            ],
            [
             0.2,
             "#de77ae"
            ],
            [
             0.3,
             "#f1b6da"
            ],
            [
             0.4,
             "#fde0ef"
            ],
            [
             0.5,
             "#f7f7f7"
            ],
            [
             0.6,
             "#e6f5d0"
            ],
            [
             0.7,
             "#b8e186"
            ],
            [
             0.8,
             "#7fbc41"
            ],
            [
             0.9,
             "#4d9221"
            ],
            [
             1,
             "#276419"
            ]
           ],
           "sequential": [
            [
             0,
             "#0d0887"
            ],
            [
             0.1111111111111111,
             "#46039f"
            ],
            [
             0.2222222222222222,
             "#7201a8"
            ],
            [
             0.3333333333333333,
             "#9c179e"
            ],
            [
             0.4444444444444444,
             "#bd3786"
            ],
            [
             0.5555555555555556,
             "#d8576b"
            ],
            [
             0.6666666666666666,
             "#ed7953"
            ],
            [
             0.7777777777777778,
             "#fb9f3a"
            ],
            [
             0.8888888888888888,
             "#fdca26"
            ],
            [
             1,
             "#f0f921"
            ]
           ],
           "sequentialminus": [
            [
             0,
             "#0d0887"
            ],
            [
             0.1111111111111111,
             "#46039f"
            ],
            [
             0.2222222222222222,
             "#7201a8"
            ],
            [
             0.3333333333333333,
             "#9c179e"
            ],
            [
             0.4444444444444444,
             "#bd3786"
            ],
            [
             0.5555555555555556,
             "#d8576b"
            ],
            [
             0.6666666666666666,
             "#ed7953"
            ],
            [
             0.7777777777777778,
             "#fb9f3a"
            ],
            [
             0.8888888888888888,
             "#fdca26"
            ],
            [
             1,
             "#f0f921"
            ]
           ]
          },
          "colorway": [
           "#636efa",
           "#EF553B",
           "#00cc96",
           "#ab63fa",
           "#FFA15A",
           "#19d3f3",
           "#FF6692",
           "#B6E880",
           "#FF97FF",
           "#FECB52"
          ],
          "font": {
           "color": "#2a3f5f"
          },
          "geo": {
           "bgcolor": "white",
           "lakecolor": "white",
           "landcolor": "#E5ECF6",
           "showlakes": true,
           "showland": true,
           "subunitcolor": "white"
          },
          "hoverlabel": {
           "align": "left"
          },
          "hovermode": "closest",
          "mapbox": {
           "style": "light"
          },
          "paper_bgcolor": "white",
          "plot_bgcolor": "#E5ECF6",
          "polar": {
           "angularaxis": {
            "gridcolor": "white",
            "linecolor": "white",
            "ticks": ""
           },
           "bgcolor": "#E5ECF6",
           "radialaxis": {
            "gridcolor": "white",
            "linecolor": "white",
            "ticks": ""
           }
          },
          "scene": {
           "xaxis": {
            "backgroundcolor": "#E5ECF6",
            "gridcolor": "white",
            "gridwidth": 2,
            "linecolor": "white",
            "showbackground": true,
            "ticks": "",
            "zerolinecolor": "white"
           },
           "yaxis": {
            "backgroundcolor": "#E5ECF6",
            "gridcolor": "white",
            "gridwidth": 2,
            "linecolor": "white",
            "showbackground": true,
            "ticks": "",
            "zerolinecolor": "white"
           },
           "zaxis": {
            "backgroundcolor": "#E5ECF6",
            "gridcolor": "white",
            "gridwidth": 2,
            "linecolor": "white",
            "showbackground": true,
            "ticks": "",
            "zerolinecolor": "white"
           }
          },
          "shapedefaults": {
           "line": {
            "color": "#2a3f5f"
           }
          },
          "ternary": {
           "aaxis": {
            "gridcolor": "white",
            "linecolor": "white",
            "ticks": ""
           },
           "baxis": {
            "gridcolor": "white",
            "linecolor": "white",
            "ticks": ""
           },
           "bgcolor": "#E5ECF6",
           "caxis": {
            "gridcolor": "white",
            "linecolor": "white",
            "ticks": ""
           }
          },
          "title": {
           "x": 0.05
          },
          "xaxis": {
           "automargin": true,
           "gridcolor": "white",
           "linecolor": "white",
           "ticks": "",
           "title": {
            "standoff": 15
           },
           "zerolinecolor": "white",
           "zerolinewidth": 2
          },
          "yaxis": {
           "automargin": true,
           "gridcolor": "white",
           "linecolor": "white",
           "ticks": "",
           "title": {
            "standoff": 15
           },
           "zerolinecolor": "white",
           "zerolinewidth": 2
          }
         }
        },
        "title": {
         "text": "Pickup Activity Heatmap - 0.01° Grid (~1m cells)"
        },
        "xaxis": {
         "anchor": "y",
         "domain": [
          0,
          1
         ],
         "title": {
          "text": "Longitude Grid"
         }
        },
        "yaxis": {
         "anchor": "x",
         "domain": [
          0,
          1
         ],
         "title": {
          "text": "Latitude Grid"
         }
        }
       }
      }
     },
     "metadata": {},
     "output_type": "display_data"
    },
    {
     "name": "stdout",
     "output_type": "stream",
     "text": [
      "\n",
      "Creating heatmap for 0.02° grid...\n"
     ]
    },
    {
     "data": {
      "application/vnd.plotly.v1+json": {
       "config": {
        "plotlyServerURL": "https://plot.ly"
       },
       "data": [
        {
         "coloraxis": "coloraxis",
         "histfunc": "sum",
         "hovertemplate": "Longitude Grid=%{x}<br>Latitude Grid=%{y}<br>sum of Number of Trips=%{z}<extra></extra>",
         "name": "",
         "type": "histogram2d",
         "x": {
          "bdata": "rkfhehSuFUDD9Shcj8IVQAAAAAAAABZAAAAAAAAAFkDD9Shcj8IVQAAAAAAAABZAFa5H4XoUFkDD9Shcj8IVQK5H4XoUrhFA7FG4HoXrEUCuR+F6FK4RQMP1KFyPwhFA16NwPQrXEUDsUbgehesRQAAAAAAAABJAFa5H4XoUEkBI4XoUrkcRQB+F61G4HhFAMzMzMzMzEUBI4XoUrkcRQD4K16NwPRRAZ2ZmZmZmFEB7FK5H4XoUQArXo3A9ChFAH4XrUbgeEUA+CtejcD0UQI/C9ShcjxRApHA9CtejFED2KFyPwvUQQArXo3A9ChFAH4XrUbgeEUAzMzMzMzMRQI/C9ShcjxRApHA9CtejFEC4HoXrUbgUQHsUrkfhehRAXI/C9ShcE0CF61G4HoUTQJqZmZmZmRNAXI/C9ShcE0CF61G4HoUTQJqZmZmZmRNAhetRuB6FE0CamZmZmZkTQK5H4XoUrhNAXI/C9ShcE0BxPQrXo3ATQMP1KFyPwhNAw/UoXI/CE0A=",
          "dtype": "f8"
         },
         "xaxis": "x",
         "xbingroup": "x",
         "y": {
          "bdata": "MzMzMzOzSUAzMzMzM7NJQDMzMzMzs0lA9ihcj8K1SUB7FK5H4bpJQHsUrkfhuklAexSuR+G6SUA+CtejcL1JQHE9Ctej8ElAcT0K16PwSUAzMzMzM/NJQDMzMzMz80lAMzMzMzPzSUAzMzMzM/NJQLgehetR+ElAuB6F61H4SUDD9ShcjwJKQIXrUbgeBUpAhetRuB4FSkCF61G4HgVKQIXrUbgeBUpAhetRuB4FSkCF61G4HgVKQEjhehSuB0pASOF6FK4HSkBI4XoUrgdKQEjhehSuB0pASOF6FK4HSkAK16NwPQpKQArXo3A9CkpACtejcD0KSkAK16NwPQpKQArXo3A9CkpACtejcD0KSkAK16NwPQpKQM3MzMzMDEpAKVyPwvUoSkApXI/C9ShKQClcj8L1KEpA7FG4HoUrSkDsUbgehStKQOxRuB6FK0pArkfhehQuSkCuR+F6FC5KQK5H4XoULkpAcT0K16MwSkBxPQrXozBKQHE9CtejMEpAMzMzMzMzSkA=",
          "dtype": "f8"
         },
         "yaxis": "y",
         "ybingroup": "y",
         "z": {
          "bdata": "BAAPAS4AMAAmADYAJAA8AFUAYABQAGUABwAFAJkAPgBpAFkAAQBcADgAQAAoAAQAMgA5AAEABAB7AAQANABqAA4AtwABAN8AGAAVAEIAWgALABUAEAAoAGcAVgATAAEAVwA=",
          "dtype": "i2"
         }
        }
       ],
       "layout": {
        "coloraxis": {
         "colorbar": {
          "title": {
           "text": "sum of Number of Trips"
          }
         },
         "colorscale": [
          [
           0,
           "#0d0887"
          ],
          [
           0.1111111111111111,
           "#46039f"
          ],
          [
           0.2222222222222222,
           "#7201a8"
          ],
          [
           0.3333333333333333,
           "#9c179e"
          ],
          [
           0.4444444444444444,
           "#bd3786"
          ],
          [
           0.5555555555555556,
           "#d8576b"
          ],
          [
           0.6666666666666666,
           "#ed7953"
          ],
          [
           0.7777777777777778,
           "#fb9f3a"
          ],
          [
           0.8888888888888888,
           "#fdca26"
          ],
          [
           1,
           "#f0f921"
          ]
         ]
        },
        "legend": {
         "tracegroupgap": 0
        },
        "template": {
         "data": {
          "bar": [
           {
            "error_x": {
             "color": "#2a3f5f"
            },
            "error_y": {
             "color": "#2a3f5f"
            },
            "marker": {
             "line": {
              "color": "#E5ECF6",
              "width": 0.5
             },
             "pattern": {
              "fillmode": "overlay",
              "size": 10,
              "solidity": 0.2
             }
            },
            "type": "bar"
           }
          ],
          "barpolar": [
           {
            "marker": {
             "line": {
              "color": "#E5ECF6",
              "width": 0.5
             },
             "pattern": {
              "fillmode": "overlay",
              "size": 10,
              "solidity": 0.2
             }
            },
            "type": "barpolar"
           }
          ],
          "carpet": [
           {
            "aaxis": {
             "endlinecolor": "#2a3f5f",
             "gridcolor": "white",
             "linecolor": "white",
             "minorgridcolor": "white",
             "startlinecolor": "#2a3f5f"
            },
            "baxis": {
             "endlinecolor": "#2a3f5f",
             "gridcolor": "white",
             "linecolor": "white",
             "minorgridcolor": "white",
             "startlinecolor": "#2a3f5f"
            },
            "type": "carpet"
           }
          ],
          "choropleth": [
           {
            "colorbar": {
             "outlinewidth": 0,
             "ticks": ""
            },
            "type": "choropleth"
           }
          ],
          "contour": [
           {
            "colorbar": {
             "outlinewidth": 0,
             "ticks": ""
            },
            "colorscale": [
             [
              0,
              "#0d0887"
             ],
             [
              0.1111111111111111,
              "#46039f"
             ],
             [
              0.2222222222222222,
              "#7201a8"
             ],
             [
              0.3333333333333333,
              "#9c179e"
             ],
             [
              0.4444444444444444,
              "#bd3786"
             ],
             [
              0.5555555555555556,
              "#d8576b"
             ],
             [
              0.6666666666666666,
              "#ed7953"
             ],
             [
              0.7777777777777778,
              "#fb9f3a"
             ],
             [
              0.8888888888888888,
              "#fdca26"
             ],
             [
              1,
              "#f0f921"
             ]
            ],
            "type": "contour"
           }
          ],
          "contourcarpet": [
           {
            "colorbar": {
             "outlinewidth": 0,
             "ticks": ""
            },
            "type": "contourcarpet"
           }
          ],
          "heatmap": [
           {
            "colorbar": {
             "outlinewidth": 0,
             "ticks": ""
            },
            "colorscale": [
             [
              0,
              "#0d0887"
             ],
             [
              0.1111111111111111,
              "#46039f"
             ],
             [
              0.2222222222222222,
              "#7201a8"
             ],
             [
              0.3333333333333333,
              "#9c179e"
             ],
             [
              0.4444444444444444,
              "#bd3786"
             ],
             [
              0.5555555555555556,
              "#d8576b"
             ],
             [
              0.6666666666666666,
              "#ed7953"
             ],
             [
              0.7777777777777778,
              "#fb9f3a"
             ],
             [
              0.8888888888888888,
              "#fdca26"
             ],
             [
              1,
              "#f0f921"
             ]
            ],
            "type": "heatmap"
           }
          ],
          "histogram": [
           {
            "marker": {
             "pattern": {
              "fillmode": "overlay",
              "size": 10,
              "solidity": 0.2
             }
            },
            "type": "histogram"
           }
          ],
          "histogram2d": [
           {
            "colorbar": {
             "outlinewidth": 0,
             "ticks": ""
            },
            "colorscale": [
             [
              0,
              "#0d0887"
             ],
             [
              0.1111111111111111,
              "#46039f"
             ],
             [
              0.2222222222222222,
              "#7201a8"
             ],
             [
              0.3333333333333333,
              "#9c179e"
             ],
             [
              0.4444444444444444,
              "#bd3786"
             ],
             [
              0.5555555555555556,
              "#d8576b"
             ],
             [
              0.6666666666666666,
              "#ed7953"
             ],
             [
              0.7777777777777778,
              "#fb9f3a"
             ],
             [
              0.8888888888888888,
              "#fdca26"
             ],
             [
              1,
              "#f0f921"
             ]
            ],
            "type": "histogram2d"
           }
          ],
          "histogram2dcontour": [
           {
            "colorbar": {
             "outlinewidth": 0,
             "ticks": ""
            },
            "colorscale": [
             [
              0,
              "#0d0887"
             ],
             [
              0.1111111111111111,
              "#46039f"
             ],
             [
              0.2222222222222222,
              "#7201a8"
             ],
             [
              0.3333333333333333,
              "#9c179e"
             ],
             [
              0.4444444444444444,
              "#bd3786"
             ],
             [
              0.5555555555555556,
              "#d8576b"
             ],
             [
              0.6666666666666666,
              "#ed7953"
             ],
             [
              0.7777777777777778,
              "#fb9f3a"
             ],
             [
              0.8888888888888888,
              "#fdca26"
             ],
             [
              1,
              "#f0f921"
             ]
            ],
            "type": "histogram2dcontour"
           }
          ],
          "mesh3d": [
           {
            "colorbar": {
             "outlinewidth": 0,
             "ticks": ""
            },
            "type": "mesh3d"
           }
          ],
          "parcoords": [
           {
            "line": {
             "colorbar": {
              "outlinewidth": 0,
              "ticks": ""
             }
            },
            "type": "parcoords"
           }
          ],
          "pie": [
           {
            "automargin": true,
            "type": "pie"
           }
          ],
          "scatter": [
           {
            "fillpattern": {
             "fillmode": "overlay",
             "size": 10,
             "solidity": 0.2
            },
            "type": "scatter"
           }
          ],
          "scatter3d": [
           {
            "line": {
             "colorbar": {
              "outlinewidth": 0,
              "ticks": ""
             }
            },
            "marker": {
             "colorbar": {
              "outlinewidth": 0,
              "ticks": ""
             }
            },
            "type": "scatter3d"
           }
          ],
          "scattercarpet": [
           {
            "marker": {
             "colorbar": {
              "outlinewidth": 0,
              "ticks": ""
             }
            },
            "type": "scattercarpet"
           }
          ],
          "scattergeo": [
           {
            "marker": {
             "colorbar": {
              "outlinewidth": 0,
              "ticks": ""
             }
            },
            "type": "scattergeo"
           }
          ],
          "scattergl": [
           {
            "marker": {
             "colorbar": {
              "outlinewidth": 0,
              "ticks": ""
             }
            },
            "type": "scattergl"
           }
          ],
          "scattermap": [
           {
            "marker": {
             "colorbar": {
              "outlinewidth": 0,
              "ticks": ""
             }
            },
            "type": "scattermap"
           }
          ],
          "scattermapbox": [
           {
            "marker": {
             "colorbar": {
              "outlinewidth": 0,
              "ticks": ""
             }
            },
            "type": "scattermapbox"
           }
          ],
          "scatterpolar": [
           {
            "marker": {
             "colorbar": {
              "outlinewidth": 0,
              "ticks": ""
             }
            },
            "type": "scatterpolar"
           }
          ],
          "scatterpolargl": [
           {
            "marker": {
             "colorbar": {
              "outlinewidth": 0,
              "ticks": ""
             }
            },
            "type": "scatterpolargl"
           }
          ],
          "scatterternary": [
           {
            "marker": {
             "colorbar": {
              "outlinewidth": 0,
              "ticks": ""
             }
            },
            "type": "scatterternary"
           }
          ],
          "surface": [
           {
            "colorbar": {
             "outlinewidth": 0,
             "ticks": ""
            },
            "colorscale": [
             [
              0,
              "#0d0887"
             ],
             [
              0.1111111111111111,
              "#46039f"
             ],
             [
              0.2222222222222222,
              "#7201a8"
             ],
             [
              0.3333333333333333,
              "#9c179e"
             ],
             [
              0.4444444444444444,
              "#bd3786"
             ],
             [
              0.5555555555555556,
              "#d8576b"
             ],
             [
              0.6666666666666666,
              "#ed7953"
             ],
             [
              0.7777777777777778,
              "#fb9f3a"
             ],
             [
              0.8888888888888888,
              "#fdca26"
             ],
             [
              1,
              "#f0f921"
             ]
            ],
            "type": "surface"
           }
          ],
          "table": [
           {
            "cells": {
             "fill": {
              "color": "#EBF0F8"
             },
             "line": {
              "color": "white"
             }
            },
            "header": {
             "fill": {
              "color": "#C8D4E3"
             },
             "line": {
              "color": "white"
             }
            },
            "type": "table"
           }
          ]
         },
         "layout": {
          "annotationdefaults": {
           "arrowcolor": "#2a3f5f",
           "arrowhead": 0,
           "arrowwidth": 1
          },
          "autotypenumbers": "strict",
          "coloraxis": {
           "colorbar": {
            "outlinewidth": 0,
            "ticks": ""
           }
          },
          "colorscale": {
           "diverging": [
            [
             0,
             "#8e0152"
            ],
            [
             0.1,
             "#c51b7d"
            ],
            [
             0.2,
             "#de77ae"
            ],
            [
             0.3,
             "#f1b6da"
            ],
            [
             0.4,
             "#fde0ef"
            ],
            [
             0.5,
             "#f7f7f7"
            ],
            [
             0.6,
             "#e6f5d0"
            ],
            [
             0.7,
             "#b8e186"
            ],
            [
             0.8,
             "#7fbc41"
            ],
            [
             0.9,
             "#4d9221"
            ],
            [
             1,
             "#276419"
            ]
           ],
           "sequential": [
            [
             0,
             "#0d0887"
            ],
            [
             0.1111111111111111,
             "#46039f"
            ],
            [
             0.2222222222222222,
             "#7201a8"
            ],
            [
             0.3333333333333333,
             "#9c179e"
            ],
            [
             0.4444444444444444,
             "#bd3786"
            ],
            [
             0.5555555555555556,
             "#d8576b"
            ],
            [
             0.6666666666666666,
             "#ed7953"
            ],
            [
             0.7777777777777778,
             "#fb9f3a"
            ],
            [
             0.8888888888888888,
             "#fdca26"
            ],
            [
             1,
             "#f0f921"
            ]
           ],
           "sequentialminus": [
            [
             0,
             "#0d0887"
            ],
            [
             0.1111111111111111,
             "#46039f"
            ],
            [
             0.2222222222222222,
             "#7201a8"
            ],
            [
             0.3333333333333333,
             "#9c179e"
            ],
            [
             0.4444444444444444,
             "#bd3786"
            ],
            [
             0.5555555555555556,
             "#d8576b"
            ],
            [
             0.6666666666666666,
             "#ed7953"
            ],
            [
             0.7777777777777778,
             "#fb9f3a"
            ],
            [
             0.8888888888888888,
             "#fdca26"
            ],
            [
             1,
             "#f0f921"
            ]
           ]
          },
          "colorway": [
           "#636efa",
           "#EF553B",
           "#00cc96",
           "#ab63fa",
           "#FFA15A",
           "#19d3f3",
           "#FF6692",
           "#B6E880",
           "#FF97FF",
           "#FECB52"
          ],
          "font": {
           "color": "#2a3f5f"
          },
          "geo": {
           "bgcolor": "white",
           "lakecolor": "white",
           "landcolor": "#E5ECF6",
           "showlakes": true,
           "showland": true,
           "subunitcolor": "white"
          },
          "hoverlabel": {
           "align": "left"
          },
          "hovermode": "closest",
          "mapbox": {
           "style": "light"
          },
          "paper_bgcolor": "white",
          "plot_bgcolor": "#E5ECF6",
          "polar": {
           "angularaxis": {
            "gridcolor": "white",
            "linecolor": "white",
            "ticks": ""
           },
           "bgcolor": "#E5ECF6",
           "radialaxis": {
            "gridcolor": "white",
            "linecolor": "white",
            "ticks": ""
           }
          },
          "scene": {
           "xaxis": {
            "backgroundcolor": "#E5ECF6",
            "gridcolor": "white",
            "gridwidth": 2,
            "linecolor": "white",
            "showbackground": true,
            "ticks": "",
            "zerolinecolor": "white"
           },
           "yaxis": {
            "backgroundcolor": "#E5ECF6",
            "gridcolor": "white",
            "gridwidth": 2,
            "linecolor": "white",
            "showbackground": true,
            "ticks": "",
            "zerolinecolor": "white"
           },
           "zaxis": {
            "backgroundcolor": "#E5ECF6",
            "gridcolor": "white",
            "gridwidth": 2,
            "linecolor": "white",
            "showbackground": true,
            "ticks": "",
            "zerolinecolor": "white"
           }
          },
          "shapedefaults": {
           "line": {
            "color": "#2a3f5f"
           }
          },
          "ternary": {
           "aaxis": {
            "gridcolor": "white",
            "linecolor": "white",
            "ticks": ""
           },
           "baxis": {
            "gridcolor": "white",
            "linecolor": "white",
            "ticks": ""
           },
           "bgcolor": "#E5ECF6",
           "caxis": {
            "gridcolor": "white",
            "linecolor": "white",
            "ticks": ""
           }
          },
          "title": {
           "x": 0.05
          },
          "xaxis": {
           "automargin": true,
           "gridcolor": "white",
           "linecolor": "white",
           "ticks": "",
           "title": {
            "standoff": 15
           },
           "zerolinecolor": "white",
           "zerolinewidth": 2
          },
          "yaxis": {
           "automargin": true,
           "gridcolor": "white",
           "linecolor": "white",
           "ticks": "",
           "title": {
            "standoff": 15
           },
           "zerolinecolor": "white",
           "zerolinewidth": 2
          }
         }
        },
        "title": {
         "text": "Pickup Activity Heatmap - 0.02° Grid (~2m cells)"
        },
        "xaxis": {
         "anchor": "y",
         "domain": [
          0,
          1
         ],
         "title": {
          "text": "Longitude Grid"
         }
        },
        "yaxis": {
         "anchor": "x",
         "domain": [
          0,
          1
         ],
         "title": {
          "text": "Latitude Grid"
         }
        }
       }
      }
     },
     "metadata": {},
     "output_type": "display_data"
    },
    {
     "name": "stdout",
     "output_type": "stream",
     "text": [
      "\n",
      "Creating heatmap for 0.03° grid...\n"
     ]
    },
    {
     "data": {
      "application/vnd.plotly.v1+json": {
       "config": {
        "plotlyServerURL": "https://plot.ly"
       },
       "data": [
        {
         "coloraxis": "coloraxis",
         "histfunc": "sum",
         "hovertemplate": "Longitude Grid=%{x}<br>Latitude Grid=%{y}<br>sum of Number of Trips=%{z}<extra></extra>",
         "name": "",
         "type": "histogram2d",
         "x": {
          "bdata": "uB6F61G4FUD2KFyPwvUVQPYoXI/C9RVAuB6F61G4FUD2KFyPwvUVQBSuR+F6FBZAuB6F61G4FUCkcD0K16MRQOF6FK5H4RFApHA9CtejEUDC9Shcj8IRQOF6FK5H4RFAAAAAAAAAEkAK16NwPQoRQClcj8L1KBFASOF6FK5HEUAK16NwPQoRQClcj8L1KBFASOF6FK5HEUApXI/C9SgUQEfhehSuRxRAZmZmZmZmFECF61G4HoUUQKRwPQrXoxRA61G4HoXrEEAK16NwPQoRQClcj8L1KBFAZmZmZmZmFECF61G4HoUUQKRwPQrXoxRAZmZmZmZmFECF61G4HoUUQFK4HoXrURNAj8L1KFyPE0CPwvUoXI8TQK5H4XoUrhNAUrgehetRE0BwPQrXo3ATQK5H4XoUrhNAzczMzMzME0A=",
          "dtype": "f8"
         },
         "xaxis": "x",
         "xbingroup": "x",
         "y": {
          "bdata": "UrgeheuxSUBSuB6F67FJQPUoXI/CtUlAmZmZmZm5SUCZmZmZmblJQJmZmZmZuUlAPQrXo3C9SUCPwvUoXO9JQI/C9Shc70lAMzMzMzPzSUAzMzMzM/NJQDMzMzMz80lA16NwPQr3SUDC9ShcjwJKQML1KFyPAkpAwvUoXI8CSkBmZmZmZgZKQGZmZmZmBkpAZmZmZmYGSkBmZmZmZgZKQGZmZmZmBkpAZmZmZmYGSkBmZmZmZgZKQGZmZmZmBkpACtejcD0KSkAK16NwPQpKQArXo3A9CkpACtejcD0KSkAK16NwPQpKQArXo3A9CkpArkfhehQOSkCuR+F6FA5KQClcj8L1KEpAKVyPwvUoSkDNzMzMzCxKQM3MzMzMLEpAcD0K16MwSkBwPQrXozBKQHA9CtejMEpAcD0K16MwSkA=",
          "dtype": "f8"
         },
         "yaxis": "y",
         "ybingroup": "y",
         "z": {
          "bdata": "EwEuADAAJgA2ACQAPABVAGAAUABsAAUA1wAUAEUAaQA2AAEAXAAlAEwAaAABAAQAewA4AGoAGACwALgABAAhAHIAVwBYAGcAVgATAE8ACQA=",
          "dtype": "i2"
         }
        }
       ],
       "layout": {
        "coloraxis": {
         "colorbar": {
          "title": {
           "text": "sum of Number of Trips"
          }
         },
         "colorscale": [
          [
           0,
           "#0d0887"
          ],
          [
           0.1111111111111111,
           "#46039f"
          ],
          [
           0.2222222222222222,
           "#7201a8"
          ],
          [
           0.3333333333333333,
           "#9c179e"
          ],
          [
           0.4444444444444444,
           "#bd3786"
          ],
          [
           0.5555555555555556,
           "#d8576b"
          ],
          [
           0.6666666666666666,
           "#ed7953"
          ],
          [
           0.7777777777777778,
           "#fb9f3a"
          ],
          [
           0.8888888888888888,
           "#fdca26"
          ],
          [
           1,
           "#f0f921"
          ]
         ]
        },
        "legend": {
         "tracegroupgap": 0
        },
        "template": {
         "data": {
          "bar": [
           {
            "error_x": {
             "color": "#2a3f5f"
            },
            "error_y": {
             "color": "#2a3f5f"
            },
            "marker": {
             "line": {
              "color": "#E5ECF6",
              "width": 0.5
             },
             "pattern": {
              "fillmode": "overlay",
              "size": 10,
              "solidity": 0.2
             }
            },
            "type": "bar"
           }
          ],
          "barpolar": [
           {
            "marker": {
             "line": {
              "color": "#E5ECF6",
              "width": 0.5
             },
             "pattern": {
              "fillmode": "overlay",
              "size": 10,
              "solidity": 0.2
             }
            },
            "type": "barpolar"
           }
          ],
          "carpet": [
           {
            "aaxis": {
             "endlinecolor": "#2a3f5f",
             "gridcolor": "white",
             "linecolor": "white",
             "minorgridcolor": "white",
             "startlinecolor": "#2a3f5f"
            },
            "baxis": {
             "endlinecolor": "#2a3f5f",
             "gridcolor": "white",
             "linecolor": "white",
             "minorgridcolor": "white",
             "startlinecolor": "#2a3f5f"
            },
            "type": "carpet"
           }
          ],
          "choropleth": [
           {
            "colorbar": {
             "outlinewidth": 0,
             "ticks": ""
            },
            "type": "choropleth"
           }
          ],
          "contour": [
           {
            "colorbar": {
             "outlinewidth": 0,
             "ticks": ""
            },
            "colorscale": [
             [
              0,
              "#0d0887"
             ],
             [
              0.1111111111111111,
              "#46039f"
             ],
             [
              0.2222222222222222,
              "#7201a8"
             ],
             [
              0.3333333333333333,
              "#9c179e"
             ],
             [
              0.4444444444444444,
              "#bd3786"
             ],
             [
              0.5555555555555556,
              "#d8576b"
             ],
             [
              0.6666666666666666,
              "#ed7953"
             ],
             [
              0.7777777777777778,
              "#fb9f3a"
             ],
             [
              0.8888888888888888,
              "#fdca26"
             ],
             [
              1,
              "#f0f921"
             ]
            ],
            "type": "contour"
           }
          ],
          "contourcarpet": [
           {
            "colorbar": {
             "outlinewidth": 0,
             "ticks": ""
            },
            "type": "contourcarpet"
           }
          ],
          "heatmap": [
           {
            "colorbar": {
             "outlinewidth": 0,
             "ticks": ""
            },
            "colorscale": [
             [
              0,
              "#0d0887"
             ],
             [
              0.1111111111111111,
              "#46039f"
             ],
             [
              0.2222222222222222,
              "#7201a8"
             ],
             [
              0.3333333333333333,
              "#9c179e"
             ],
             [
              0.4444444444444444,
              "#bd3786"
             ],
             [
              0.5555555555555556,
              "#d8576b"
             ],
             [
              0.6666666666666666,
              "#ed7953"
             ],
             [
              0.7777777777777778,
              "#fb9f3a"
             ],
             [
              0.8888888888888888,
              "#fdca26"
             ],
             [
              1,
              "#f0f921"
             ]
            ],
            "type": "heatmap"
           }
          ],
          "histogram": [
           {
            "marker": {
             "pattern": {
              "fillmode": "overlay",
              "size": 10,
              "solidity": 0.2
             }
            },
            "type": "histogram"
           }
          ],
          "histogram2d": [
           {
            "colorbar": {
             "outlinewidth": 0,
             "ticks": ""
            },
            "colorscale": [
             [
              0,
              "#0d0887"
             ],
             [
              0.1111111111111111,
              "#46039f"
             ],
             [
              0.2222222222222222,
              "#7201a8"
             ],
             [
              0.3333333333333333,
              "#9c179e"
             ],
             [
              0.4444444444444444,
              "#bd3786"
             ],
             [
              0.5555555555555556,
              "#d8576b"
             ],
             [
              0.6666666666666666,
              "#ed7953"
             ],
             [
              0.7777777777777778,
              "#fb9f3a"
             ],
             [
              0.8888888888888888,
              "#fdca26"
             ],
             [
              1,
              "#f0f921"
             ]
            ],
            "type": "histogram2d"
           }
          ],
          "histogram2dcontour": [
           {
            "colorbar": {
             "outlinewidth": 0,
             "ticks": ""
            },
            "colorscale": [
             [
              0,
              "#0d0887"
             ],
             [
              0.1111111111111111,
              "#46039f"
             ],
             [
              0.2222222222222222,
              "#7201a8"
             ],
             [
              0.3333333333333333,
              "#9c179e"
             ],
             [
              0.4444444444444444,
              "#bd3786"
             ],
             [
              0.5555555555555556,
              "#d8576b"
             ],
             [
              0.6666666666666666,
              "#ed7953"
             ],
             [
              0.7777777777777778,
              "#fb9f3a"
             ],
             [
              0.8888888888888888,
              "#fdca26"
             ],
             [
              1,
              "#f0f921"
             ]
            ],
            "type": "histogram2dcontour"
           }
          ],
          "mesh3d": [
           {
            "colorbar": {
             "outlinewidth": 0,
             "ticks": ""
            },
            "type": "mesh3d"
           }
          ],
          "parcoords": [
           {
            "line": {
             "colorbar": {
              "outlinewidth": 0,
              "ticks": ""
             }
            },
            "type": "parcoords"
           }
          ],
          "pie": [
           {
            "automargin": true,
            "type": "pie"
           }
          ],
          "scatter": [
           {
            "fillpattern": {
             "fillmode": "overlay",
             "size": 10,
             "solidity": 0.2
            },
            "type": "scatter"
           }
          ],
          "scatter3d": [
           {
            "line": {
             "colorbar": {
              "outlinewidth": 0,
              "ticks": ""
             }
            },
            "marker": {
             "colorbar": {
              "outlinewidth": 0,
              "ticks": ""
             }
            },
            "type": "scatter3d"
           }
          ],
          "scattercarpet": [
           {
            "marker": {
             "colorbar": {
              "outlinewidth": 0,
              "ticks": ""
             }
            },
            "type": "scattercarpet"
           }
          ],
          "scattergeo": [
           {
            "marker": {
             "colorbar": {
              "outlinewidth": 0,
              "ticks": ""
             }
            },
            "type": "scattergeo"
           }
          ],
          "scattergl": [
           {
            "marker": {
             "colorbar": {
              "outlinewidth": 0,
              "ticks": ""
             }
            },
            "type": "scattergl"
           }
          ],
          "scattermap": [
           {
            "marker": {
             "colorbar": {
              "outlinewidth": 0,
              "ticks": ""
             }
            },
            "type": "scattermap"
           }
          ],
          "scattermapbox": [
           {
            "marker": {
             "colorbar": {
              "outlinewidth": 0,
              "ticks": ""
             }
            },
            "type": "scattermapbox"
           }
          ],
          "scatterpolar": [
           {
            "marker": {
             "colorbar": {
              "outlinewidth": 0,
              "ticks": ""
             }
            },
            "type": "scatterpolar"
           }
          ],
          "scatterpolargl": [
           {
            "marker": {
             "colorbar": {
              "outlinewidth": 0,
              "ticks": ""
             }
            },
            "type": "scatterpolargl"
           }
          ],
          "scatterternary": [
           {
            "marker": {
             "colorbar": {
              "outlinewidth": 0,
              "ticks": ""
             }
            },
            "type": "scatterternary"
           }
          ],
          "surface": [
           {
            "colorbar": {
             "outlinewidth": 0,
             "ticks": ""
            },
            "colorscale": [
             [
              0,
              "#0d0887"
             ],
             [
              0.1111111111111111,
              "#46039f"
             ],
             [
              0.2222222222222222,
              "#7201a8"
             ],
             [
              0.3333333333333333,
              "#9c179e"
             ],
             [
              0.4444444444444444,
              "#bd3786"
             ],
             [
              0.5555555555555556,
              "#d8576b"
             ],
             [
              0.6666666666666666,
              "#ed7953"
             ],
             [
              0.7777777777777778,
              "#fb9f3a"
             ],
             [
              0.8888888888888888,
              "#fdca26"
             ],
             [
              1,
              "#f0f921"
             ]
            ],
            "type": "surface"
           }
          ],
          "table": [
           {
            "cells": {
             "fill": {
              "color": "#EBF0F8"
             },
             "line": {
              "color": "white"
             }
            },
            "header": {
             "fill": {
              "color": "#C8D4E3"
             },
             "line": {
              "color": "white"
             }
            },
            "type": "table"
           }
          ]
         },
         "layout": {
          "annotationdefaults": {
           "arrowcolor": "#2a3f5f",
           "arrowhead": 0,
           "arrowwidth": 1
          },
          "autotypenumbers": "strict",
          "coloraxis": {
           "colorbar": {
            "outlinewidth": 0,
            "ticks": ""
           }
          },
          "colorscale": {
           "diverging": [
            [
             0,
             "#8e0152"
            ],
            [
             0.1,
             "#c51b7d"
            ],
            [
             0.2,
             "#de77ae"
            ],
            [
             0.3,
             "#f1b6da"
            ],
            [
             0.4,
             "#fde0ef"
            ],
            [
             0.5,
             "#f7f7f7"
            ],
            [
             0.6,
             "#e6f5d0"
            ],
            [
             0.7,
             "#b8e186"
            ],
            [
             0.8,
             "#7fbc41"
            ],
            [
             0.9,
             "#4d9221"
            ],
            [
             1,
             "#276419"
            ]
           ],
           "sequential": [
            [
             0,
             "#0d0887"
            ],
            [
             0.1111111111111111,
             "#46039f"
            ],
            [
             0.2222222222222222,
             "#7201a8"
            ],
            [
             0.3333333333333333,
             "#9c179e"
            ],
            [
             0.4444444444444444,
             "#bd3786"
            ],
            [
             0.5555555555555556,
             "#d8576b"
            ],
            [
             0.6666666666666666,
             "#ed7953"
            ],
            [
             0.7777777777777778,
             "#fb9f3a"
            ],
            [
             0.8888888888888888,
             "#fdca26"
            ],
            [
             1,
             "#f0f921"
            ]
           ],
           "sequentialminus": [
            [
             0,
             "#0d0887"
            ],
            [
             0.1111111111111111,
             "#46039f"
            ],
            [
             0.2222222222222222,
             "#7201a8"
            ],
            [
             0.3333333333333333,
             "#9c179e"
            ],
            [
             0.4444444444444444,
             "#bd3786"
            ],
            [
             0.5555555555555556,
             "#d8576b"
            ],
            [
             0.6666666666666666,
             "#ed7953"
            ],
            [
             0.7777777777777778,
             "#fb9f3a"
            ],
            [
             0.8888888888888888,
             "#fdca26"
            ],
            [
             1,
             "#f0f921"
            ]
           ]
          },
          "colorway": [
           "#636efa",
           "#EF553B",
           "#00cc96",
           "#ab63fa",
           "#FFA15A",
           "#19d3f3",
           "#FF6692",
           "#B6E880",
           "#FF97FF",
           "#FECB52"
          ],
          "font": {
           "color": "#2a3f5f"
          },
          "geo": {
           "bgcolor": "white",
           "lakecolor": "white",
           "landcolor": "#E5ECF6",
           "showlakes": true,
           "showland": true,
           "subunitcolor": "white"
          },
          "hoverlabel": {
           "align": "left"
          },
          "hovermode": "closest",
          "mapbox": {
           "style": "light"
          },
          "paper_bgcolor": "white",
          "plot_bgcolor": "#E5ECF6",
          "polar": {
           "angularaxis": {
            "gridcolor": "white",
            "linecolor": "white",
            "ticks": ""
           },
           "bgcolor": "#E5ECF6",
           "radialaxis": {
            "gridcolor": "white",
            "linecolor": "white",
            "ticks": ""
           }
          },
          "scene": {
           "xaxis": {
            "backgroundcolor": "#E5ECF6",
            "gridcolor": "white",
            "gridwidth": 2,
            "linecolor": "white",
            "showbackground": true,
            "ticks": "",
            "zerolinecolor": "white"
           },
           "yaxis": {
            "backgroundcolor": "#E5ECF6",
            "gridcolor": "white",
            "gridwidth": 2,
            "linecolor": "white",
            "showbackground": true,
            "ticks": "",
            "zerolinecolor": "white"
           },
           "zaxis": {
            "backgroundcolor": "#E5ECF6",
            "gridcolor": "white",
            "gridwidth": 2,
            "linecolor": "white",
            "showbackground": true,
            "ticks": "",
            "zerolinecolor": "white"
           }
          },
          "shapedefaults": {
           "line": {
            "color": "#2a3f5f"
           }
          },
          "ternary": {
           "aaxis": {
            "gridcolor": "white",
            "linecolor": "white",
            "ticks": ""
           },
           "baxis": {
            "gridcolor": "white",
            "linecolor": "white",
            "ticks": ""
           },
           "bgcolor": "#E5ECF6",
           "caxis": {
            "gridcolor": "white",
            "linecolor": "white",
            "ticks": ""
           }
          },
          "title": {
           "x": 0.05
          },
          "xaxis": {
           "automargin": true,
           "gridcolor": "white",
           "linecolor": "white",
           "ticks": "",
           "title": {
            "standoff": 15
           },
           "zerolinecolor": "white",
           "zerolinewidth": 2
          },
          "yaxis": {
           "automargin": true,
           "gridcolor": "white",
           "linecolor": "white",
           "ticks": "",
           "title": {
            "standoff": 15
           },
           "zerolinecolor": "white",
           "zerolinewidth": 2
          }
         }
        },
        "title": {
         "text": "Pickup Activity Heatmap - 0.03° Grid (~3m cells)"
        },
        "xaxis": {
         "anchor": "y",
         "domain": [
          0,
          1
         ],
         "title": {
          "text": "Longitude Grid"
         }
        },
        "yaxis": {
         "anchor": "x",
         "domain": [
          0,
          1
         ],
         "title": {
          "text": "Latitude Grid"
         }
        }
       }
      }
     },
     "metadata": {},
     "output_type": "display_data"
    },
    {
     "name": "stdout",
     "output_type": "stream",
     "text": [
      "\n",
      "============================================================\n",
      "GRID SIZE SELECTION GUIDE\n",
      "============================================================\n",
      "\n",
      "CHOOSE YOUR GRID SIZE BASED ON YOUR ANALYSIS GOAL:\n",
      "\n",
      "🔍 0.01° Grid (1.1km cells) - DETAILED ANALYSIS\n",
      "   • 84 pickup groups, 83 dropoff groups  \n",
      "   • Best for: Hotspot identification, local optimization\n",
      "   • Use when: You need to find exact problem areas or optimize driver positioning\n",
      "   • Example: \"Where exactly should we position drivers in downtown?\"\n",
      "\n",
      "🏘️ 0.02° Grid (2.2km cells) - NEIGHBORHOOD ANALYSIS  \n",
      "   • 49 pickup groups, 47 dropoff groups\n",
      "   • Best for: Balanced detail vs simplicity, route optimization\n",
      "   • Use when: You want neighborhood-level insights without too much complexity\n",
      "   • Example: \"Which neighborhoods have highest demand?\"\n",
      "\n",
      "🏙️ 0.03° Grid (3.3km cells) - DISTRICT ANALYSIS\n",
      "   • 40 pickup groups, 40 dropoff groups  \n",
      "   • Best for: City planning, high-level strategy, resource allocation\n",
      "   • Use when: You need broad patterns for strategic decisions\n",
      "   • Example: \"Which districts need more drivers during peak hours?\"\n",
      "\n",
      "💡 RECOMMENDATION: Start with 0.02° grid for most analyses\n",
      "   - Good balance of detail and manageability\n",
      "   - ~47-49 groups are easy to work with\n",
      "   - Can always drill down to 0.01° for specific areas of interest\n",
      "\n",
      "\n",
      "📋 READY TO USE: apply_grid_size(df, 0.02) function is now available\n",
      "Example: df_with_02_grid = apply_grid_size(df, 0.02)\n",
      "\n",
      "Demo: Applied 0.02° grid to first 10 rows:\n",
      "   pickup_lat  pickup_lon            pickup_grid_id\n",
      "0    52.09319     5.17695                52.08_5.16\n",
      "1    51.41972     5.50334                  51.4_5.5\n",
      "2    52.05469     5.11900  52.04_5.1000000000000005\n",
      "3    51.94535     4.51494                 51.94_4.5\n",
      "4    52.10560     5.13254                 52.1_5.12\n"
     ]
    }
   ],
   "source": [
    "# VISUAL COMPARISON OF DIFFERENT GRID SIZES\n",
    "\n",
    "print(\"Creating visual comparisons of different grid sizes...\")\n",
    "\n",
    "# Sample data for visualization\n",
    "sample_data = df.sample(n=800, random_state=42)\n",
    "\n",
    "# Create subplots for different grid sizes\n",
    "fig_grids = make_subplots(\n",
    "    rows=1, cols=3,\n",
    "    subplot_titles=['0.01° Grid (~1.1km)', '0.02° Grid (~2.2km)', '0.03° Grid (~3.3km)'],\n",
    "    specs=[[{\"secondary_y\": False}, {\"secondary_y\": False}, {\"secondary_y\": False}]]\n",
    ")\n",
    "\n",
    "colors = ['red', 'blue', 'green']\n",
    "grid_sizes_viz = [0.01, 0.02, 0.03]\n",
    "\n",
    "for i, size in enumerate(grid_sizes_viz):\n",
    "    # Create grid IDs for this size\n",
    "    lat_grid = np.floor(sample_data['pickup_lat'] / size) * size\n",
    "    lon_grid = np.floor(sample_data['pickup_lon'] / size) * size\n",
    "    grid_id = lat_grid.astype(str) + '_' + lon_grid.astype(str)\n",
    "    \n",
    "    # Create scatter plot\n",
    "    fig_grids.add_scatter(\n",
    "        x=sample_data['pickup_lon'],\n",
    "        y=sample_data['pickup_lat'],\n",
    "        mode='markers',\n",
    "        marker=dict(\n",
    "            size=4,\n",
    "            color=colors[i],\n",
    "            opacity=0.6\n",
    "        ),\n",
    "        name=f'{size}° grid',\n",
    "        row=1, col=i+1\n",
    "    )\n",
    "    \n",
    "    # Add grid lines for visualization\n",
    "    lat_min, lat_max = sample_data['pickup_lat'].min(), sample_data['pickup_lat'].max()\n",
    "    lon_min, lon_max = sample_data['pickup_lon'].min(), sample_data['pickup_lon'].max()\n",
    "    \n",
    "    # Create grid lines\n",
    "    lat_lines = np.arange(\n",
    "        np.floor(lat_min / size) * size,\n",
    "        np.ceil(lat_max / size) * size + size,\n",
    "        size\n",
    "    )\n",
    "    lon_lines = np.arange(\n",
    "        np.floor(lon_min / size) * size,\n",
    "        np.ceil(lon_max / size) * size + size,\n",
    "        size\n",
    "    )\n",
    "    \n",
    "    # Add vertical lines (longitude)\n",
    "    for lon in lon_lines[::2]:  # Show every other line to avoid clutter\n",
    "        fig_grids.add_vline(\n",
    "            x=lon, \n",
    "            line=dict(color=\"gray\", width=1, dash=\"dot\"),\n",
    "            opacity=0.3,\n",
    "            row=1, col=i+1\n",
    "        )\n",
    "    \n",
    "    # Add horizontal lines (latitude)\n",
    "    for lat in lat_lines[::2]:  # Show every other line to avoid clutter\n",
    "        fig_grids.add_hline(\n",
    "            y=lat,\n",
    "            line=dict(color=\"gray\", width=1, dash=\"dot\"),\n",
    "            opacity=0.3,\n",
    "            row=1, col=i+1\n",
    "        )\n",
    "\n",
    "fig_grids.update_layout(\n",
    "    title_text=\"Pickup Locations with Different Grid Overlays (Sample of 800 rides)\",\n",
    "    showlegend=False,\n",
    "    height=500\n",
    ")\n",
    "\n",
    "# Update axes labels\n",
    "for i in range(3):\n",
    "    fig_grids.update_xaxes(title_text=\"Longitude\", row=1, col=i+1)\n",
    "    fig_grids.update_yaxes(title_text=\"Latitude\", row=1, col=i+1)\n",
    "\n",
    "fig_grids.show()\n",
    "\n",
    "# Create activity heatmaps for each grid size  \n",
    "for i, size in enumerate(grid_sizes_viz):\n",
    "    print(f\"\\nCreating heatmap for {size}° grid...\")\n",
    "    \n",
    "    # Create grid coordinates\n",
    "    pickup_lat_grid = np.floor(df['pickup_lat'] / size) * size\n",
    "    pickup_lon_grid = np.floor(df['pickup_lon'] / size) * size\n",
    "    \n",
    "    # Count activities by grid cell\n",
    "    activity_by_grid = df.groupby([pickup_lat_grid, pickup_lon_grid]).size().reset_index(name='count')\n",
    "    activity_by_grid.columns = ['lat_grid', 'lon_grid', 'count']\n",
    "    \n",
    "    # Create heatmap\n",
    "    fig_heat = px.density_heatmap(\n",
    "        activity_by_grid,\n",
    "        x='lon_grid',\n",
    "        y='lat_grid',\n",
    "        z='count',\n",
    "        title=f'Pickup Activity Heatmap - {size}° Grid (~{size*111:.0f}m cells)',\n",
    "        labels={'lon_grid': 'Longitude Grid', 'lat_grid': 'Latitude Grid', 'count': 'Number of Trips'}\n",
    "    )\n",
    "    fig_heat.show()\n",
    "\n",
    "# Summary recommendations based on analysis\n",
    "print(f\"\\n\" + \"=\"*60)\n",
    "print(\"GRID SIZE SELECTION GUIDE\")\n",
    "print(\"=\"*60)\n",
    "\n",
    "print(\"\"\"\n",
    "CHOOSE YOUR GRID SIZE BASED ON YOUR ANALYSIS GOAL:\n",
    "\n",
    "🔍 0.01° Grid (1.1km cells) - DETAILED ANALYSIS\n",
    "   • 84 pickup groups, 83 dropoff groups  \n",
    "   • Best for: Hotspot identification, local optimization\n",
    "   • Use when: You need to find exact problem areas or optimize driver positioning\n",
    "   • Example: \"Where exactly should we position drivers in downtown?\"\n",
    "\n",
    "🏘️ 0.02° Grid (2.2km cells) - NEIGHBORHOOD ANALYSIS  \n",
    "   • 49 pickup groups, 47 dropoff groups\n",
    "   • Best for: Balanced detail vs simplicity, route optimization\n",
    "   • Use when: You want neighborhood-level insights without too much complexity\n",
    "   • Example: \"Which neighborhoods have highest demand?\"\n",
    "\n",
    "🏙️ 0.03° Grid (3.3km cells) - DISTRICT ANALYSIS\n",
    "   • 40 pickup groups, 40 dropoff groups  \n",
    "   • Best for: City planning, high-level strategy, resource allocation\n",
    "   • Use when: You need broad patterns for strategic decisions\n",
    "   • Example: \"Which districts need more drivers during peak hours?\"\n",
    "\n",
    "💡 RECOMMENDATION: Start with 0.02° grid for most analyses\n",
    "   - Good balance of detail and manageability\n",
    "   - ~47-49 groups are easy to work with\n",
    "   - Can always drill down to 0.01° for specific areas of interest\n",
    "\"\"\")\n",
    "\n",
    "# Quick function to apply any grid size\n",
    "def apply_grid_size(df, grid_size):\n",
    "    \"\"\"Apply a specific grid size to the dataframe\"\"\"\n",
    "    df_result = df.copy()\n",
    "    \n",
    "    # Pickup grids\n",
    "    df_result['pickup_lat_grid'] = np.floor(df['pickup_lat'] / grid_size) * grid_size\n",
    "    df_result['pickup_lon_grid'] = np.floor(df['pickup_lon'] / grid_size) * grid_size\n",
    "    df_result['pickup_grid_id'] = (df_result['pickup_lat_grid'].astype(str) + '_' + \n",
    "                                  df_result['pickup_lon_grid'].astype(str))\n",
    "    \n",
    "    # Dropoff grids  \n",
    "    df_result['drop_lat_grid'] = np.floor(df['drop_lat'] / grid_size) * grid_size\n",
    "    df_result['drop_lon_grid'] = np.floor(df['drop_lon'] / grid_size) * grid_size\n",
    "    df_result['drop_grid_id'] = (df_result['drop_lat_grid'].astype(str) + '_' + \n",
    "                                df_result['drop_lon_grid'].astype(str))\n",
    "    \n",
    "    return df_result\n",
    "\n",
    "print(f\"\\n📋 READY TO USE: apply_grid_size(df, 0.02) function is now available\")\n",
    "print(f\"Example: df_with_02_grid = apply_grid_size(df, 0.02)\")\n",
    "\n",
    "# Demonstrate the function\n",
    "demo_02 = apply_grid_size(df.head(10), 0.02)\n",
    "print(f\"\\nDemo: Applied 0.02° grid to first 10 rows:\")\n",
    "print(demo_02[['pickup_lat', 'pickup_lon', 'pickup_grid_id']].head())"
   ]
  },
  {
   "cell_type": "code",
   "execution_count": 9,
   "id": "494a699f",
   "metadata": {},
   "outputs": [
    {
     "name": "stdout",
     "output_type": "stream",
     "text": [
      "============================================================\n",
      "CITY-BASED ANALYSIS\n",
      "============================================================\n",
      "Cities in the dataset:\n",
      "Number of cities: 5\n",
      "City IDs: [np.int64(1), np.int64(2), np.int64(3), np.int64(4), np.int64(5)]\n",
      "\n",
      "Trips per city:\n",
      "  City 1: 585 trips (19.5%)\n",
      "  City 2: 589 trips (19.6%)\n",
      "  City 3: 643 trips (21.4%)\n",
      "  City 4: 557 trips (18.6%)\n",
      "  City 5: 626 trips (20.9%)\n",
      "\n",
      "==================================================\n",
      "INTER-CITY TRIP ANALYSIS\n",
      "==================================================\n",
      "City centers and spread (from pickup locations):\n",
      "        pickup_lat         pickup_lon        \n",
      "              mean     std       mean     std\n",
      "city_id                                      \n",
      "1          52.3638  0.0246     4.8950  0.0370\n",
      "2          51.9194  0.0251     4.4783  0.0362\n",
      "3          52.0851  0.0215     5.1317  0.0337\n",
      "4          51.4317  0.0305     5.4697  0.0303\n",
      "5          52.0672  0.0237     4.2965  0.0291\n",
      "\n",
      "City coordinates:\n",
      "  City 3: (52.0851, 5.1317)\n",
      "  City 4: (51.4317, 5.4697)\n",
      "  City 2: (51.9194, 4.4783)\n",
      "  City 1: (52.3638, 4.8950)\n",
      "  City 5: (52.0672, 4.2965)\n",
      "\n",
      "Assigning dropoff cities based on coordinates...\n",
      "\n",
      "Inter-city trip matrix:\n",
      "Rows = Pickup City, Columns = Dropoff City\n",
      "dropoff_city_estimated    1    2    3    4    5\n",
      "city_id                                        \n",
      "1                       585    0    0    0    0\n",
      "2                         0  589    0    0    0\n",
      "3                         0    0  643    0    0\n",
      "4                         0    0    0  557    0\n",
      "5                         0    0    0    0  626\n",
      "\n",
      "==================================================\n",
      "TRIP DISTRIBUTION SUMMARY\n",
      "==================================================\n",
      "Total trips analyzed: 3,000.0\n",
      "Intra-city trips (within same city): 3,000.0 (100.0%)\n",
      "Inter-city trips (between cities): 0.0 (0.0%)\n",
      "\n",
      "✅ NO INTER-CITY TRIPS DETECTED\n",
      "All trips appear to be within the same city boundaries.\n",
      "This suggests each city operates as an independent market.\n"
     ]
    }
   ],
   "source": [
    "# CITY ANALYSIS: INTER-CITY TRIPS AND OPTIMAL NODES PER CITY\n",
    "\n",
    "print(\"=\"*60)\n",
    "print(\"CITY-BASED ANALYSIS\")\n",
    "print(\"=\"*60)\n",
    "\n",
    "# First, let's examine the cities in our dataset\n",
    "print(\"Cities in the dataset:\")\n",
    "cities = df['city_id'].unique()\n",
    "print(f\"Number of cities: {len(cities)}\")\n",
    "print(f\"City IDs: {sorted(cities)}\")\n",
    "\n",
    "# Analyze trips by city\n",
    "print(f\"\\nTrips per city:\")\n",
    "city_trip_counts = df['city_id'].value_counts().sort_index()\n",
    "for city in sorted(cities):\n",
    "    count = city_trip_counts[city]\n",
    "    percentage = (count / len(df)) * 100\n",
    "    print(f\"  City {city}: {count:,} trips ({percentage:.1f}%)\")\n",
    "\n",
    "# Check for inter-city trips\n",
    "print(f\"\\n\" + \"=\"*50)\n",
    "print(\"INTER-CITY TRIP ANALYSIS\")\n",
    "print(\"=\"*50)\n",
    "\n",
    "# Create pickup and dropoff city analysis\n",
    "# We'll need to determine city for each pickup/dropoff location\n",
    "# Since we don't have direct city info for dropoffs, we'll use coordinates\n",
    "\n",
    "def assign_city_by_coordinates(lat, lon, city_mapping=None):\n",
    "    \"\"\"\n",
    "    Assign city based on coordinates\n",
    "    This is a simplified approach - in reality you'd use proper geographic boundaries\n",
    "    \"\"\"\n",
    "    if city_mapping is None:\n",
    "        # We'll create a mapping based on the pickup locations and their known cities\n",
    "        city_coords = df.groupby('city_id')[['pickup_lat', 'pickup_lon']].mean()\n",
    "        city_mapping = {}\n",
    "        for city_id in city_coords.index:\n",
    "            city_mapping[city_id] = {\n",
    "                'lat': city_coords.loc[city_id, 'pickup_lat'],\n",
    "                'lon': city_coords.loc[city_id, 'pickup_lon']\n",
    "            }\n",
    "    \n",
    "    # Find closest city for each coordinate\n",
    "    min_distance = float('inf')\n",
    "    closest_city = None\n",
    "    \n",
    "    for city_id, coords in city_mapping.items():\n",
    "        # Simple Euclidean distance (not geographically accurate but good for estimation)\n",
    "        distance = ((lat - coords['lat'])**2 + (lon - coords['lon'])**2)**0.5\n",
    "        if distance < min_distance:\n",
    "            min_distance = distance\n",
    "            closest_city = city_id\n",
    "    \n",
    "    return closest_city\n",
    "\n",
    "# Get city centers for reference\n",
    "city_centers = df.groupby('city_id')[['pickup_lat', 'pickup_lon']].agg(['mean', 'std']).round(4)\n",
    "print(\"City centers and spread (from pickup locations):\")\n",
    "print(city_centers)\n",
    "\n",
    "# Create city mapping\n",
    "city_mapping = {}\n",
    "for city_id in cities:\n",
    "    city_data = df[df['city_id'] == city_id]\n",
    "    city_mapping[city_id] = {\n",
    "        'lat': city_data['pickup_lat'].mean(),\n",
    "        'lon': city_data['pickup_lon'].mean()\n",
    "    }\n",
    "\n",
    "print(f\"\\nCity coordinates:\")\n",
    "for city_id, coords in city_mapping.items():\n",
    "    print(f\"  City {city_id}: ({coords['lat']:.4f}, {coords['lon']:.4f})\")\n",
    "\n",
    "# Assign cities to dropoff locations\n",
    "print(f\"\\nAssigning dropoff cities based on coordinates...\")\n",
    "df['dropoff_city_estimated'] = df.apply(\n",
    "    lambda row: assign_city_by_coordinates(row['drop_lat'], row['drop_lon'], city_mapping), \n",
    "    axis=1\n",
    ")\n",
    "\n",
    "# Analyze inter-city trips\n",
    "intercity_analysis = df.groupby(['city_id', 'dropoff_city_estimated']).size().reset_index(name='trip_count')\n",
    "intercity_matrix = intercity_analysis.pivot(index='city_id', columns='dropoff_city_estimated', values='trip_count').fillna(0)\n",
    "\n",
    "print(f\"\\nInter-city trip matrix:\")\n",
    "print(\"Rows = Pickup City, Columns = Dropoff City\")\n",
    "print(intercity_matrix.astype(int))\n",
    "\n",
    "# Calculate inter-city vs intra-city trips\n",
    "intra_city_trips = 0\n",
    "inter_city_trips = 0\n",
    "\n",
    "for pickup_city in cities:\n",
    "    for dropoff_city in cities:\n",
    "        trips = intercity_matrix.loc[pickup_city, dropoff_city] if dropoff_city in intercity_matrix.columns else 0\n",
    "        if pickup_city == dropoff_city:\n",
    "            intra_city_trips += trips\n",
    "        else:\n",
    "            inter_city_trips += trips\n",
    "\n",
    "print(f\"\\n\" + \"=\"*50)\n",
    "print(\"TRIP DISTRIBUTION SUMMARY\")\n",
    "print(\"=\"*50)\n",
    "total_trips = intra_city_trips + inter_city_trips\n",
    "print(f\"Total trips analyzed: {total_trips:,}\")\n",
    "print(f\"Intra-city trips (within same city): {intra_city_trips:,} ({intra_city_trips/total_trips*100:.1f}%)\")\n",
    "print(f\"Inter-city trips (between cities): {inter_city_trips:,} ({inter_city_trips/total_trips*100:.1f}%)\")\n",
    "\n",
    "if inter_city_trips > 0:\n",
    "    print(f\"\\n📊 INTER-CITY TRIP DETAILS:\")\n",
    "    intercity_details = []\n",
    "    for pickup_city in cities:\n",
    "        for dropoff_city in cities:\n",
    "            if pickup_city != dropoff_city:\n",
    "                trips = intercity_matrix.loc[pickup_city, dropoff_city] if dropoff_city in intercity_matrix.columns else 0\n",
    "                if trips > 0:\n",
    "                    intercity_details.append({\n",
    "                        'route': f\"City {pickup_city} → City {dropoff_city}\",\n",
    "                        'trips': int(trips),\n",
    "                        'percentage': trips/total_trips*100\n",
    "                    })\n",
    "    \n",
    "    intercity_df = pd.DataFrame(intercity_details).sort_values('trips', ascending=False)\n",
    "    if len(intercity_df) > 0:\n",
    "        print(intercity_df.to_string(index=False))\n",
    "    else:\n",
    "        print(\"No significant inter-city trips detected.\")\n",
    "else:\n",
    "    print(f\"\\n✅ NO INTER-CITY TRIPS DETECTED\")\n",
    "    print(\"All trips appear to be within the same city boundaries.\")\n",
    "    print(\"This suggests each city operates as an independent market.\")"
   ]
  },
  {
   "cell_type": "code",
   "execution_count": 10,
   "id": "232f0577",
   "metadata": {},
   "outputs": [
    {
     "name": "stdout",
     "output_type": "stream",
     "text": [
      "\n",
      "============================================================\n",
      "OPTIMAL NODES ANALYSIS PER CITY\n",
      "============================================================\n",
      "Since all trips are intra-city, we'll analyze each city separately...\n",
      "\n",
      "========================================\n",
      "CITY 1 ANALYSIS\n",
      "========================================\n",
      "Total trips: 585\n",
      "Coordinate range:\n",
      "  Pickup Lat: 52.3257 to 52.4058\n",
      "  Pickup Lon: 4.8416 to 4.9512\n",
      "  Dropoff Lat: 52.3258 to 52.4059\n",
      "  Dropoff Lon: 4.8415 to 4.9511\n",
      "  Area span: 0.0802° lat × 0.1097° lon\n",
      "  Approx area: 8.9km × 12.2km\n",
      "\n",
      "  Grid 0.01° (~1m cells):\n",
      "    Pickup nodes: 19\n",
      "    Dropoff nodes: 18\n",
      "    Total unique nodes: 19\n",
      "    Avg trips per node: 30.8\n",
      "    Activity range: 1 - 170\n",
      "\n",
      "  Grid 0.02° (~2m cells):\n",
      "    Pickup nodes: 13\n",
      "    Dropoff nodes: 12\n",
      "    Total unique nodes: 13\n",
      "    Avg trips per node: 45.0\n",
      "    Activity range: 1 - 192\n",
      "\n",
      "  Grid 0.03° (~3m cells):\n",
      "    Pickup nodes: 8\n",
      "    Dropoff nodes: 8\n",
      "    Total unique nodes: 8\n",
      "    Avg trips per node: 73.1\n",
      "    Activity range: 21 - 235\n",
      "\n",
      "========================================\n",
      "CITY 2 ANALYSIS\n",
      "========================================\n",
      "Total trips: 589\n",
      "Coordinate range:\n",
      "  Pickup Lat: 51.8833 to 51.9588\n",
      "  Pickup Lon: 4.4267 to 4.5254\n",
      "  Dropoff Lat: 51.8831 to 51.9588\n",
      "  Dropoff Lon: 4.4268 to 4.5255\n",
      "  Area span: 0.0758° lat × 0.0988° lon\n",
      "  Approx area: 8.4km × 11.0km\n",
      "\n",
      "  Grid 0.01° (~1m cells):\n",
      "    Pickup nodes: 17\n",
      "    Dropoff nodes: 18\n",
      "    Total unique nodes: 18\n",
      "    Avg trips per node: 32.7\n",
      "    Activity range: 5 - 181\n",
      "\n",
      "  Grid 0.02° (~2m cells):\n",
      "    Pickup nodes: 8\n",
      "    Dropoff nodes: 8\n",
      "    Total unique nodes: 8\n",
      "    Avg trips per node: 73.6\n",
      "    Activity range: 14 - 284\n",
      "\n",
      "  Grid 0.03° (~3m cells):\n",
      "    Pickup nodes: 6\n",
      "    Dropoff nodes: 6\n",
      "    Total unique nodes: 6\n",
      "    Avg trips per node: 98.2\n",
      "    Activity range: 14 - 416\n",
      "\n",
      "========================================\n",
      "CITY 3 ANALYSIS\n",
      "========================================\n",
      "Total trips: 643\n",
      "Coordinate range:\n",
      "  Pickup Lat: 52.0522 to 52.1111\n",
      "  Pickup Lon: 5.0665 to 5.1801\n",
      "  Dropoff Lat: 52.0523 to 52.1111\n",
      "  Dropoff Lon: 5.0665 to 5.1799\n",
      "  Area span: 0.0589° lat × 0.1136° lon\n",
      "  Approx area: 6.5km × 12.6km\n",
      "\n",
      "  Grid 0.01° (~1m cells):\n",
      "    Pickup nodes: 16\n",
      "    Dropoff nodes: 15\n",
      "    Total unique nodes: 16\n",
      "    Avg trips per node: 40.2\n",
      "    Activity range: 1 - 311\n",
      "\n",
      "  Grid 0.02° (~2m cells):\n",
      "    Pickup nodes: 10\n",
      "    Dropoff nodes: 9\n",
      "    Total unique nodes: 10\n",
      "    Avg trips per node: 64.3\n",
      "    Activity range: 1 - 422\n",
      "\n",
      "  Grid 0.03° (~3m cells):\n",
      "    Pickup nodes: 10\n",
      "    Dropoff nodes: 10\n",
      "    Total unique nodes: 10\n",
      "    Avg trips per node: 64.3\n",
      "    Activity range: 2 - 374\n",
      "\n",
      "========================================\n",
      "CITY 4 ANALYSIS\n",
      "========================================\n",
      "Total trips: 557\n",
      "Coordinate range:\n",
      "  Pickup Lat: 51.4037 to 51.4835\n",
      "  Pickup Lon: 5.4397 to 5.5233\n",
      "  Dropoff Lat: 51.4037 to 51.4834\n",
      "  Dropoff Lon: 5.4397 to 5.5233\n",
      "  Area span: 0.0798° lat × 0.0836° lon\n",
      "  Approx area: 8.9km × 9.3km\n",
      "\n",
      "  Grid 0.01° (~1m cells):\n",
      "    Pickup nodes: 14\n",
      "    Dropoff nodes: 14\n",
      "    Total unique nodes: 14\n",
      "    Avg trips per node: 39.8\n",
      "    Activity range: 2 - 342\n",
      "\n",
      "  Grid 0.02° (~2m cells):\n",
      "    Pickup nodes: 8\n",
      "    Dropoff nodes: 8\n",
      "    Total unique nodes: 8\n",
      "    Avg trips per node: 69.6\n",
      "    Activity range: 10 - 544\n",
      "\n",
      "  Grid 0.03° (~3m cells):\n",
      "    Pickup nodes: 7\n",
      "    Dropoff nodes: 7\n",
      "    Total unique nodes: 7\n",
      "    Avg trips per node: 79.6\n",
      "    Activity range: 65 - 554\n",
      "\n",
      "========================================\n",
      "CITY 5 ANALYSIS\n",
      "========================================\n",
      "Total trips: 626\n",
      "Coordinate range:\n",
      "  Pickup Lat: 52.0292 to 52.0969\n",
      "  Pickup Lon: 4.2433 to 4.3378\n",
      "  Dropoff Lat: 52.0292 to 52.0969\n",
      "  Dropoff Lon: 4.2433 to 4.3382\n",
      "  Area span: 0.0677° lat × 0.0949° lon\n",
      "  Approx area: 7.5km × 10.5km\n",
      "\n",
      "  Grid 0.01° (~1m cells):\n",
      "    Pickup nodes: 18\n",
      "    Dropoff nodes: 18\n",
      "    Total unique nodes: 18\n",
      "    Avg trips per node: 34.8\n",
      "    Activity range: 4 - 197\n",
      "\n",
      "  Grid 0.02° (~2m cells):\n",
      "    Pickup nodes: 10\n",
      "    Dropoff nodes: 10\n",
      "    Total unique nodes: 10\n",
      "    Avg trips per node: 62.6\n",
      "    Activity range: 4 - 230\n",
      "\n",
      "  Grid 0.03° (~3m cells):\n",
      "    Pickup nodes: 9\n",
      "    Dropoff nodes: 9\n",
      "    Total unique nodes: 9\n",
      "    Avg trips per node: 69.6\n",
      "    Activity range: 4 - 230\n",
      "\n",
      "============================================================\n",
      "CITY COMPARISON SUMMARY\n",
      "============================================================\n",
      " City Grid Size Cell Size  Total Nodes Trips/Node Max Activity  Total Trips\n",
      "    1     0.01°       ~1m           19       30.8          170          585\n",
      "    1     0.02°       ~2m           13       45.0          192          585\n",
      "    1     0.03°       ~3m            8       73.1          235          585\n",
      "    2     0.01°       ~1m           18       32.7          181          589\n",
      "    2     0.02°       ~2m            8       73.6          284          589\n",
      "    2     0.03°       ~3m            6       98.2          416          589\n",
      "    3     0.01°       ~1m           16       40.2          311          643\n",
      "    3     0.02°       ~2m           10       64.3          422          643\n",
      "    3     0.03°       ~3m           10       64.3          374          643\n",
      "    4     0.01°       ~1m           14       39.8          342          557\n",
      "    4     0.02°       ~2m            8       69.6          544          557\n",
      "    4     0.03°       ~3m            7       79.6          554          557\n",
      "    5     0.01°       ~1m           18       34.8          197          626\n",
      "    5     0.02°       ~2m           10       62.6          230          626\n",
      "    5     0.03°       ~3m            9       69.6          230          626\n",
      "\n",
      "============================================================\n",
      "RECOMMENDATIONS PER CITY\n",
      "============================================================\n",
      "\n",
      "🏙️ CITY 1 (585 trips):\n",
      "  ⭐ RECOMMENDED: 0.01° grid\n",
      "     • 19 nodes\n",
      "     • 30.8 trips per node\n",
      "     • ~1m cell size\n",
      "  📊 All options:\n",
      "     0.01°: 19 nodes, 30.8 trips/node\n",
      "     0.02°: 13 nodes, 45.0 trips/node\n",
      "     0.03°: 8 nodes, 73.1 trips/node\n",
      "\n",
      "🏙️ CITY 2 (589 trips):\n",
      "  ⭐ RECOMMENDED: 0.01° grid\n",
      "     • 18 nodes\n",
      "     • 32.7 trips per node\n",
      "     • ~1m cell size\n",
      "  📊 All options:\n",
      "     0.01°: 18 nodes, 32.7 trips/node\n",
      "     0.02°: 8 nodes, 73.6 trips/node\n",
      "     0.03°: 6 nodes, 98.2 trips/node\n",
      "\n",
      "🏙️ CITY 3 (643 trips):\n",
      "  ⭐ RECOMMENDED: 0.01° grid\n",
      "     • 16 nodes\n",
      "     • 40.2 trips per node\n",
      "     • ~1m cell size\n",
      "  📊 All options:\n",
      "     0.01°: 16 nodes, 40.2 trips/node\n",
      "     0.02°: 10 nodes, 64.3 trips/node\n",
      "     0.03°: 10 nodes, 64.3 trips/node\n",
      "\n",
      "🏙️ CITY 4 (557 trips):\n",
      "  ⭐ RECOMMENDED: 0.01° grid\n",
      "     • 14 nodes\n",
      "     • 39.8 trips per node\n",
      "     • ~1m cell size\n",
      "  📊 All options:\n",
      "     0.01°: 14 nodes, 39.8 trips/node\n",
      "     0.02°: 8 nodes, 69.6 trips/node\n",
      "     0.03°: 7 nodes, 79.6 trips/node\n",
      "\n",
      "🏙️ CITY 5 (626 trips):\n",
      "  ⭐ RECOMMENDED: 0.01° grid\n",
      "     • 18 nodes\n",
      "     • 34.8 trips per node\n",
      "     • ~1m cell size\n",
      "  📊 All options:\n",
      "     0.01°: 18 nodes, 34.8 trips/node\n",
      "     0.02°: 10 nodes, 62.6 trips/node\n",
      "     0.03°: 9 nodes, 69.6 trips/node\n",
      "\n",
      "============================================================\n",
      "FINAL RECOMMENDATIONS\n",
      "============================================================\n",
      "\n",
      "🎯 OPTIMAL NODE STRATEGY:\n",
      "\n",
      "Since there are NO inter-city trips, treat each city as an independent network:\n",
      "\n",
      "• Each city should have its own separate node structure\n",
      "• No need for inter-city connectivity in your graph\n",
      "• Focus on optimizing within-city routing and demand patterns\n",
      "• Consider different grid sizes per city based on trip density\n",
      "\n",
      "💡 PRACTICAL IMPLEMENTATION:\n",
      "1. Create separate graphs for each city\n",
      "2. Use 0.02° grid for most cities (good balance)\n",
      "3. Adjust grid size based on city size and trip density\n",
      "4. Cities with more trips can handle finer grids (more nodes)\n",
      "5. Smaller cities may work better with coarser grids (fewer nodes)\n",
      "\n"
     ]
    }
   ],
   "source": [
    "# OPTIMAL NODE ANALYSIS PER CITY\n",
    "\n",
    "print(f\"\\n\" + \"=\"*60)\n",
    "print(\"OPTIMAL NODES ANALYSIS PER CITY\")\n",
    "print(\"=\"*60)\n",
    "\n",
    "# Since there are no inter-city trips, we can analyze each city independently\n",
    "city_results = {}\n",
    "\n",
    "print(\"Since all trips are intra-city, we'll analyze each city separately...\")\n",
    "\n",
    "# Test different grid sizes for each city\n",
    "grid_sizes_test = [0.01, 0.02, 0.03]\n",
    "\n",
    "for city_id in sorted(cities):\n",
    "    print(f\"\\n\" + \"=\"*40)\n",
    "    print(f\"CITY {city_id} ANALYSIS\")\n",
    "    print(\"=\"*40)\n",
    "    \n",
    "    city_data = df[df['city_id'] == city_id]\n",
    "    city_trips = len(city_data)\n",
    "    \n",
    "    print(f\"Total trips: {city_trips:,}\")\n",
    "    print(f\"Coordinate range:\")\n",
    "    print(f\"  Pickup Lat: {city_data['pickup_lat'].min():.4f} to {city_data['pickup_lat'].max():.4f}\")\n",
    "    print(f\"  Pickup Lon: {city_data['pickup_lon'].min():.4f} to {city_data['pickup_lon'].max():.4f}\")\n",
    "    print(f\"  Dropoff Lat: {city_data['drop_lat'].min():.4f} to {city_data['drop_lat'].max():.4f}\")\n",
    "    print(f\"  Dropoff Lon: {city_data['drop_lon'].min():.4f} to {city_data['drop_lon'].max():.4f}\")\n",
    "    \n",
    "    # Calculate area coverage\n",
    "    lat_span = max(city_data['pickup_lat'].max(), city_data['drop_lat'].max()) - min(city_data['pickup_lat'].min(), city_data['drop_lat'].min())\n",
    "    lon_span = max(city_data['pickup_lon'].max(), city_data['drop_lon'].max()) - min(city_data['pickup_lon'].min(), city_data['drop_lon'].min())\n",
    "    \n",
    "    print(f\"  Area span: {lat_span:.4f}° lat × {lon_span:.4f}° lon\")\n",
    "    print(f\"  Approx area: {lat_span*111:.1f}km × {lon_span*111:.1f}km\")\n",
    "    \n",
    "    city_grid_results = []\n",
    "    \n",
    "    # Test different grid sizes for this city\n",
    "    for grid_size in grid_sizes_test:\n",
    "        # Apply grid to pickup locations\n",
    "        pickup_lat_grid = np.floor(city_data['pickup_lat'] / grid_size) * grid_size\n",
    "        pickup_lon_grid = np.floor(city_data['pickup_lon'] / grid_size) * grid_size\n",
    "        pickup_grid_id = pickup_lat_grid.astype(str) + '_' + pickup_lon_grid.astype(str)\n",
    "        \n",
    "        # Apply grid to dropoff locations\n",
    "        drop_lat_grid = np.floor(city_data['drop_lat'] / grid_size) * grid_size\n",
    "        drop_lon_grid = np.floor(city_data['drop_lon'] / grid_size) * grid_size\n",
    "        drop_grid_id = drop_lat_grid.astype(str) + '_' + drop_lon_grid.astype(str)\n",
    "        \n",
    "        # Calculate statistics\n",
    "        pickup_nodes = pickup_grid_id.nunique()\n",
    "        dropoff_nodes = drop_grid_id.nunique()\n",
    "        total_unique_nodes = len(set(pickup_grid_id.unique()).union(set(drop_grid_id.unique())))\n",
    "        \n",
    "        # Activity analysis\n",
    "        pickup_activity = pickup_grid_id.value_counts()\n",
    "        dropoff_activity = drop_grid_id.value_counts()\n",
    "        \n",
    "        combined_activity = pd.concat([\n",
    "            pickup_activity.rename('pickup'),\n",
    "            dropoff_activity.rename('dropoff')\n",
    "        ], axis=1).fillna(0)\n",
    "        combined_activity['total'] = combined_activity['pickup'] + combined_activity['dropoff']\n",
    "        \n",
    "        avg_activity = combined_activity['total'].mean()\n",
    "        max_activity = combined_activity['total'].max()\n",
    "        min_activity = combined_activity['total'].min()\n",
    "        \n",
    "        city_grid_results.append({\n",
    "            'grid_size': grid_size,\n",
    "            'pickup_nodes': pickup_nodes,\n",
    "            'dropoff_nodes': dropoff_nodes,\n",
    "            'total_nodes': total_unique_nodes,\n",
    "            'avg_activity': avg_activity,\n",
    "            'max_activity': max_activity,\n",
    "            'min_activity': min_activity,\n",
    "            'trips_per_node': city_trips / total_unique_nodes\n",
    "        })\n",
    "        \n",
    "        print(f\"\\n  Grid {grid_size}° (~{grid_size*111:.0f}m cells):\")\n",
    "        print(f\"    Pickup nodes: {pickup_nodes}\")\n",
    "        print(f\"    Dropoff nodes: {dropoff_nodes}\")\n",
    "        print(f\"    Total unique nodes: {total_unique_nodes}\")\n",
    "        print(f\"    Avg trips per node: {city_trips / total_unique_nodes:.1f}\")\n",
    "        print(f\"    Activity range: {min_activity:.0f} - {max_activity:.0f}\")\n",
    "    \n",
    "    city_results[city_id] = {\n",
    "        'trips': city_trips,\n",
    "        'area_km2': lat_span * lon_span * 111 * 111,  # Very rough approximation\n",
    "        'grid_results': city_grid_results\n",
    "    }\n",
    "\n",
    "# Create summary comparison\n",
    "print(f\"\\n\" + \"=\"*60)\n",
    "print(\"CITY COMPARISON SUMMARY\")\n",
    "print(\"=\"*60)\n",
    "\n",
    "summary_data = []\n",
    "for city_id in sorted(cities):\n",
    "    city_info = city_results[city_id]\n",
    "    for result in city_info['grid_results']:\n",
    "        summary_data.append({\n",
    "            'City': city_id,\n",
    "            'Grid Size': f\"{result['grid_size']}°\",\n",
    "            'Cell Size': f\"~{result['grid_size']*111:.0f}m\",\n",
    "            'Total Nodes': result['total_nodes'],\n",
    "            'Trips/Node': f\"{result['trips_per_node']:.1f}\",\n",
    "            'Max Activity': f\"{result['max_activity']:.0f}\",\n",
    "            'Total Trips': city_info['trips']\n",
    "        })\n",
    "\n",
    "summary_df = pd.DataFrame(summary_data)\n",
    "print(summary_df.to_string(index=False))\n",
    "\n",
    "# Recommendations per city\n",
    "print(f\"\\n\" + \"=\"*60)\n",
    "print(\"RECOMMENDATIONS PER CITY\")\n",
    "print(\"=\"*60)\n",
    "\n",
    "for city_id in sorted(cities):\n",
    "    city_info = city_results[city_id]\n",
    "    print(f\"\\n🏙️ CITY {city_id} ({city_info['trips']:,} trips):\")\n",
    "    \n",
    "    # Find optimal grid size based on trips per node\n",
    "    best_balance = None\n",
    "    for result in city_info['grid_results']:\n",
    "        trips_per_node = result['trips_per_node']\n",
    "        total_nodes = result['total_nodes']\n",
    "        \n",
    "        # Good balance: 10-50 trips per node, not too many nodes\n",
    "        if 10 <= trips_per_node <= 50 and total_nodes <= 50:\n",
    "            if best_balance is None or abs(trips_per_node - 25) < abs(best_balance['trips_per_node'] - 25):\n",
    "                best_balance = result\n",
    "    \n",
    "    if best_balance:\n",
    "        print(f\"  ⭐ RECOMMENDED: {best_balance['grid_size']}° grid\")\n",
    "        print(f\"     • {best_balance['total_nodes']} nodes\")\n",
    "        print(f\"     • {best_balance['trips_per_node']:.1f} trips per node\")\n",
    "        print(f\"     • ~{best_balance['grid_size']*111:.0f}m cell size\")\n",
    "    else:\n",
    "        # Fallback recommendation\n",
    "        medium_grid = next(r for r in city_info['grid_results'] if r['grid_size'] == 0.02)\n",
    "        print(f\"  💡 SUGGESTED: 0.02° grid (balanced approach)\")\n",
    "        print(f\"     • {medium_grid['total_nodes']} nodes\")\n",
    "        print(f\"     • {medium_grid['trips_per_node']:.1f} trips per node\")\n",
    "    \n",
    "    # Show all options\n",
    "    print(f\"  📊 All options:\")\n",
    "    for result in city_info['grid_results']:\n",
    "        print(f\"     {result['grid_size']}°: {result['total_nodes']} nodes, {result['trips_per_node']:.1f} trips/node\")\n",
    "\n",
    "print(f\"\\n\" + \"=\"*60)\n",
    "print(\"FINAL RECOMMENDATIONS\")\n",
    "print(\"=\"*60)\n",
    "print(\"\"\"\n",
    "🎯 OPTIMAL NODE STRATEGY:\n",
    "\n",
    "Since there are NO inter-city trips, treat each city as an independent network:\n",
    "\n",
    "• Each city should have its own separate node structure\n",
    "• No need for inter-city connectivity in your graph\n",
    "• Focus on optimizing within-city routing and demand patterns\n",
    "• Consider different grid sizes per city based on trip density\n",
    "\n",
    "💡 PRACTICAL IMPLEMENTATION:\n",
    "1. Create separate graphs for each city\n",
    "2. Use 0.02° grid for most cities (good balance)\n",
    "3. Adjust grid size based on city size and trip density\n",
    "4. Cities with more trips can handle finer grids (more nodes)\n",
    "5. Smaller cities may work better with coarser grids (fewer nodes)\n",
    "\"\"\")"
   ]
  },
  {
   "cell_type": "code",
   "execution_count": 11,
   "id": "d18c090d",
   "metadata": {},
   "outputs": [
    {
     "name": "stdout",
     "output_type": "stream",
     "text": [
      "Creating city-specific visualizations...\n"
     ]
    },
    {
     "data": {
      "application/vnd.plotly.v1+json": {
       "config": {
        "plotlyServerURL": "https://plot.ly"
       },
       "data": [
        {
         "hovertemplate": "City=%{x}<br>Number of Trips=%{y}<br>color=%{marker.color}<extra></extra>",
         "legendgroup": "",
         "marker": {
          "color": {
           "bdata": "SQJNAoMCLQJyAg==",
           "dtype": "i2"
          },
          "coloraxis": "coloraxis",
          "pattern": {
           "shape": ""
          }
         },
         "name": "",
         "orientation": "v",
         "showlegend": false,
         "textposition": "auto",
         "type": "bar",
         "x": [
          "City 1",
          "City 2",
          "City 3",
          "City 4",
          "City 5"
         ],
         "xaxis": "x",
         "y": {
          "bdata": "SQJNAoMCLQJyAg==",
          "dtype": "i2"
         },
         "yaxis": "y"
        }
       ],
       "layout": {
        "barmode": "relative",
        "coloraxis": {
         "colorbar": {
          "title": {
           "text": "color"
          }
         },
         "colorscale": [
          [
           0,
           "#440154"
          ],
          [
           0.1111111111111111,
           "#482878"
          ],
          [
           0.2222222222222222,
           "#3e4989"
          ],
          [
           0.3333333333333333,
           "#31688e"
          ],
          [
           0.4444444444444444,
           "#26828e"
          ],
          [
           0.5555555555555556,
           "#1f9e89"
          ],
          [
           0.6666666666666666,
           "#35b779"
          ],
          [
           0.7777777777777778,
           "#6ece58"
          ],
          [
           0.8888888888888888,
           "#b5de2b"
          ],
          [
           1,
           "#fde725"
          ]
         ]
        },
        "legend": {
         "tracegroupgap": 0
        },
        "template": {
         "data": {
          "bar": [
           {
            "error_x": {
             "color": "#2a3f5f"
            },
            "error_y": {
             "color": "#2a3f5f"
            },
            "marker": {
             "line": {
              "color": "#E5ECF6",
              "width": 0.5
             },
             "pattern": {
              "fillmode": "overlay",
              "size": 10,
              "solidity": 0.2
             }
            },
            "type": "bar"
           }
          ],
          "barpolar": [
           {
            "marker": {
             "line": {
              "color": "#E5ECF6",
              "width": 0.5
             },
             "pattern": {
              "fillmode": "overlay",
              "size": 10,
              "solidity": 0.2
             }
            },
            "type": "barpolar"
           }
          ],
          "carpet": [
           {
            "aaxis": {
             "endlinecolor": "#2a3f5f",
             "gridcolor": "white",
             "linecolor": "white",
             "minorgridcolor": "white",
             "startlinecolor": "#2a3f5f"
            },
            "baxis": {
             "endlinecolor": "#2a3f5f",
             "gridcolor": "white",
             "linecolor": "white",
             "minorgridcolor": "white",
             "startlinecolor": "#2a3f5f"
            },
            "type": "carpet"
           }
          ],
          "choropleth": [
           {
            "colorbar": {
             "outlinewidth": 0,
             "ticks": ""
            },
            "type": "choropleth"
           }
          ],
          "contour": [
           {
            "colorbar": {
             "outlinewidth": 0,
             "ticks": ""
            },
            "colorscale": [
             [
              0,
              "#0d0887"
             ],
             [
              0.1111111111111111,
              "#46039f"
             ],
             [
              0.2222222222222222,
              "#7201a8"
             ],
             [
              0.3333333333333333,
              "#9c179e"
             ],
             [
              0.4444444444444444,
              "#bd3786"
             ],
             [
              0.5555555555555556,
              "#d8576b"
             ],
             [
              0.6666666666666666,
              "#ed7953"
             ],
             [
              0.7777777777777778,
              "#fb9f3a"
             ],
             [
              0.8888888888888888,
              "#fdca26"
             ],
             [
              1,
              "#f0f921"
             ]
            ],
            "type": "contour"
           }
          ],
          "contourcarpet": [
           {
            "colorbar": {
             "outlinewidth": 0,
             "ticks": ""
            },
            "type": "contourcarpet"
           }
          ],
          "heatmap": [
           {
            "colorbar": {
             "outlinewidth": 0,
             "ticks": ""
            },
            "colorscale": [
             [
              0,
              "#0d0887"
             ],
             [
              0.1111111111111111,
              "#46039f"
             ],
             [
              0.2222222222222222,
              "#7201a8"
             ],
             [
              0.3333333333333333,
              "#9c179e"
             ],
             [
              0.4444444444444444,
              "#bd3786"
             ],
             [
              0.5555555555555556,
              "#d8576b"
             ],
             [
              0.6666666666666666,
              "#ed7953"
             ],
             [
              0.7777777777777778,
              "#fb9f3a"
             ],
             [
              0.8888888888888888,
              "#fdca26"
             ],
             [
              1,
              "#f0f921"
             ]
            ],
            "type": "heatmap"
           }
          ],
          "histogram": [
           {
            "marker": {
             "pattern": {
              "fillmode": "overlay",
              "size": 10,
              "solidity": 0.2
             }
            },
            "type": "histogram"
           }
          ],
          "histogram2d": [
           {
            "colorbar": {
             "outlinewidth": 0,
             "ticks": ""
            },
            "colorscale": [
             [
              0,
              "#0d0887"
             ],
             [
              0.1111111111111111,
              "#46039f"
             ],
             [
              0.2222222222222222,
              "#7201a8"
             ],
             [
              0.3333333333333333,
              "#9c179e"
             ],
             [
              0.4444444444444444,
              "#bd3786"
             ],
             [
              0.5555555555555556,
              "#d8576b"
             ],
             [
              0.6666666666666666,
              "#ed7953"
             ],
             [
              0.7777777777777778,
              "#fb9f3a"
             ],
             [
              0.8888888888888888,
              "#fdca26"
             ],
             [
              1,
              "#f0f921"
             ]
            ],
            "type": "histogram2d"
           }
          ],
          "histogram2dcontour": [
           {
            "colorbar": {
             "outlinewidth": 0,
             "ticks": ""
            },
            "colorscale": [
             [
              0,
              "#0d0887"
             ],
             [
              0.1111111111111111,
              "#46039f"
             ],
             [
              0.2222222222222222,
              "#7201a8"
             ],
             [
              0.3333333333333333,
              "#9c179e"
             ],
             [
              0.4444444444444444,
              "#bd3786"
             ],
             [
              0.5555555555555556,
              "#d8576b"
             ],
             [
              0.6666666666666666,
              "#ed7953"
             ],
             [
              0.7777777777777778,
              "#fb9f3a"
             ],
             [
              0.8888888888888888,
              "#fdca26"
             ],
             [
              1,
              "#f0f921"
             ]
            ],
            "type": "histogram2dcontour"
           }
          ],
          "mesh3d": [
           {
            "colorbar": {
             "outlinewidth": 0,
             "ticks": ""
            },
            "type": "mesh3d"
           }
          ],
          "parcoords": [
           {
            "line": {
             "colorbar": {
              "outlinewidth": 0,
              "ticks": ""
             }
            },
            "type": "parcoords"
           }
          ],
          "pie": [
           {
            "automargin": true,
            "type": "pie"
           }
          ],
          "scatter": [
           {
            "fillpattern": {
             "fillmode": "overlay",
             "size": 10,
             "solidity": 0.2
            },
            "type": "scatter"
           }
          ],
          "scatter3d": [
           {
            "line": {
             "colorbar": {
              "outlinewidth": 0,
              "ticks": ""
             }
            },
            "marker": {
             "colorbar": {
              "outlinewidth": 0,
              "ticks": ""
             }
            },
            "type": "scatter3d"
           }
          ],
          "scattercarpet": [
           {
            "marker": {
             "colorbar": {
              "outlinewidth": 0,
              "ticks": ""
             }
            },
            "type": "scattercarpet"
           }
          ],
          "scattergeo": [
           {
            "marker": {
             "colorbar": {
              "outlinewidth": 0,
              "ticks": ""
             }
            },
            "type": "scattergeo"
           }
          ],
          "scattergl": [
           {
            "marker": {
             "colorbar": {
              "outlinewidth": 0,
              "ticks": ""
             }
            },
            "type": "scattergl"
           }
          ],
          "scattermap": [
           {
            "marker": {
             "colorbar": {
              "outlinewidth": 0,
              "ticks": ""
             }
            },
            "type": "scattermap"
           }
          ],
          "scattermapbox": [
           {
            "marker": {
             "colorbar": {
              "outlinewidth": 0,
              "ticks": ""
             }
            },
            "type": "scattermapbox"
           }
          ],
          "scatterpolar": [
           {
            "marker": {
             "colorbar": {
              "outlinewidth": 0,
              "ticks": ""
             }
            },
            "type": "scatterpolar"
           }
          ],
          "scatterpolargl": [
           {
            "marker": {
             "colorbar": {
              "outlinewidth": 0,
              "ticks": ""
             }
            },
            "type": "scatterpolargl"
           }
          ],
          "scatterternary": [
           {
            "marker": {
             "colorbar": {
              "outlinewidth": 0,
              "ticks": ""
             }
            },
            "type": "scatterternary"
           }
          ],
          "surface": [
           {
            "colorbar": {
             "outlinewidth": 0,
             "ticks": ""
            },
            "colorscale": [
             [
              0,
              "#0d0887"
             ],
             [
              0.1111111111111111,
              "#46039f"
             ],
             [
              0.2222222222222222,
              "#7201a8"
             ],
             [
              0.3333333333333333,
              "#9c179e"
             ],
             [
              0.4444444444444444,
              "#bd3786"
             ],
             [
              0.5555555555555556,
              "#d8576b"
             ],
             [
              0.6666666666666666,
              "#ed7953"
             ],
             [
              0.7777777777777778,
              "#fb9f3a"
             ],
             [
              0.8888888888888888,
              "#fdca26"
             ],
             [
              1,
              "#f0f921"
             ]
            ],
            "type": "surface"
           }
          ],
          "table": [
           {
            "cells": {
             "fill": {
              "color": "#EBF0F8"
             },
             "line": {
              "color": "white"
             }
            },
            "header": {
             "fill": {
              "color": "#C8D4E3"
             },
             "line": {
              "color": "white"
             }
            },
            "type": "table"
           }
          ]
         },
         "layout": {
          "annotationdefaults": {
           "arrowcolor": "#2a3f5f",
           "arrowhead": 0,
           "arrowwidth": 1
          },
          "autotypenumbers": "strict",
          "coloraxis": {
           "colorbar": {
            "outlinewidth": 0,
            "ticks": ""
           }
          },
          "colorscale": {
           "diverging": [
            [
             0,
             "#8e0152"
            ],
            [
             0.1,
             "#c51b7d"
            ],
            [
             0.2,
             "#de77ae"
            ],
            [
             0.3,
             "#f1b6da"
            ],
            [
             0.4,
             "#fde0ef"
            ],
            [
             0.5,
             "#f7f7f7"
            ],
            [
             0.6,
             "#e6f5d0"
            ],
            [
             0.7,
             "#b8e186"
            ],
            [
             0.8,
             "#7fbc41"
            ],
            [
             0.9,
             "#4d9221"
            ],
            [
             1,
             "#276419"
            ]
           ],
           "sequential": [
            [
             0,
             "#0d0887"
            ],
            [
             0.1111111111111111,
             "#46039f"
            ],
            [
             0.2222222222222222,
             "#7201a8"
            ],
            [
             0.3333333333333333,
             "#9c179e"
            ],
            [
             0.4444444444444444,
             "#bd3786"
            ],
            [
             0.5555555555555556,
             "#d8576b"
            ],
            [
             0.6666666666666666,
             "#ed7953"
            ],
            [
             0.7777777777777778,
             "#fb9f3a"
            ],
            [
             0.8888888888888888,
             "#fdca26"
            ],
            [
             1,
             "#f0f921"
            ]
           ],
           "sequentialminus": [
            [
             0,
             "#0d0887"
            ],
            [
             0.1111111111111111,
             "#46039f"
            ],
            [
             0.2222222222222222,
             "#7201a8"
            ],
            [
             0.3333333333333333,
             "#9c179e"
            ],
            [
             0.4444444444444444,
             "#bd3786"
            ],
            [
             0.5555555555555556,
             "#d8576b"
            ],
            [
             0.6666666666666666,
             "#ed7953"
            ],
            [
             0.7777777777777778,
             "#fb9f3a"
            ],
            [
             0.8888888888888888,
             "#fdca26"
            ],
            [
             1,
             "#f0f921"
            ]
           ]
          },
          "colorway": [
           "#636efa",
           "#EF553B",
           "#00cc96",
           "#ab63fa",
           "#FFA15A",
           "#19d3f3",
           "#FF6692",
           "#B6E880",
           "#FF97FF",
           "#FECB52"
          ],
          "font": {
           "color": "#2a3f5f"
          },
          "geo": {
           "bgcolor": "white",
           "lakecolor": "white",
           "landcolor": "#E5ECF6",
           "showlakes": true,
           "showland": true,
           "subunitcolor": "white"
          },
          "hoverlabel": {
           "align": "left"
          },
          "hovermode": "closest",
          "mapbox": {
           "style": "light"
          },
          "paper_bgcolor": "white",
          "plot_bgcolor": "#E5ECF6",
          "polar": {
           "angularaxis": {
            "gridcolor": "white",
            "linecolor": "white",
            "ticks": ""
           },
           "bgcolor": "#E5ECF6",
           "radialaxis": {
            "gridcolor": "white",
            "linecolor": "white",
            "ticks": ""
           }
          },
          "scene": {
           "xaxis": {
            "backgroundcolor": "#E5ECF6",
            "gridcolor": "white",
            "gridwidth": 2,
            "linecolor": "white",
            "showbackground": true,
            "ticks": "",
            "zerolinecolor": "white"
           },
           "yaxis": {
            "backgroundcolor": "#E5ECF6",
            "gridcolor": "white",
            "gridwidth": 2,
            "linecolor": "white",
            "showbackground": true,
            "ticks": "",
            "zerolinecolor": "white"
           },
           "zaxis": {
            "backgroundcolor": "#E5ECF6",
            "gridcolor": "white",
            "gridwidth": 2,
            "linecolor": "white",
            "showbackground": true,
            "ticks": "",
            "zerolinecolor": "white"
           }
          },
          "shapedefaults": {
           "line": {
            "color": "#2a3f5f"
           }
          },
          "ternary": {
           "aaxis": {
            "gridcolor": "white",
            "linecolor": "white",
            "ticks": ""
           },
           "baxis": {
            "gridcolor": "white",
            "linecolor": "white",
            "ticks": ""
           },
           "bgcolor": "#E5ECF6",
           "caxis": {
            "gridcolor": "white",
            "linecolor": "white",
            "ticks": ""
           }
          },
          "title": {
           "x": 0.05
          },
          "xaxis": {
           "automargin": true,
           "gridcolor": "white",
           "linecolor": "white",
           "ticks": "",
           "title": {
            "standoff": 15
           },
           "zerolinecolor": "white",
           "zerolinewidth": 2
          },
          "yaxis": {
           "automargin": true,
           "gridcolor": "white",
           "linecolor": "white",
           "ticks": "",
           "title": {
            "standoff": 15
           },
           "zerolinecolor": "white",
           "zerolinewidth": 2
          }
         }
        },
        "title": {
         "text": "Trip Distribution Across Cities"
        },
        "xaxis": {
         "anchor": "y",
         "domain": [
          0,
          1
         ],
         "title": {
          "text": "City"
         }
        },
        "yaxis": {
         "anchor": "x",
         "domain": [
          0,
          1
         ],
         "title": {
          "text": "Number of Trips"
         }
        }
       }
      }
     },
     "metadata": {},
     "output_type": "display_data"
    },
    {
     "data": {
      "application/vnd.plotly.v1+json": {
       "config": {
        "plotlyServerURL": "https://plot.ly"
       },
       "data": [
        {
         "alignmentgroup": "True",
         "hovertemplate": "Grid Size=0.01°<br>City=%{x}<br>Nodes=%{y}<extra></extra>",
         "legendgroup": "0.01°",
         "marker": {
          "color": "#636efa",
          "pattern": {
           "shape": ""
          }
         },
         "name": "0.01°",
         "offsetgroup": "0.01°",
         "orientation": "v",
         "showlegend": true,
         "textposition": "auto",
         "type": "bar",
         "x": [
          "City 1",
          "City 2",
          "City 3",
          "City 4",
          "City 5"
         ],
         "xaxis": "x",
         "y": {
          "bdata": "ExIQDhI=",
          "dtype": "i1"
         },
         "yaxis": "y"
        },
        {
         "alignmentgroup": "True",
         "hovertemplate": "Grid Size=0.02°<br>City=%{x}<br>Nodes=%{y}<extra></extra>",
         "legendgroup": "0.02°",
         "marker": {
          "color": "#EF553B",
          "pattern": {
           "shape": ""
          }
         },
         "name": "0.02°",
         "offsetgroup": "0.02°",
         "orientation": "v",
         "showlegend": true,
         "textposition": "auto",
         "type": "bar",
         "x": [
          "City 1",
          "City 2",
          "City 3",
          "City 4",
          "City 5"
         ],
         "xaxis": "x",
         "y": {
          "bdata": "DQgKCAo=",
          "dtype": "i1"
         },
         "yaxis": "y"
        },
        {
         "alignmentgroup": "True",
         "hovertemplate": "Grid Size=0.03°<br>City=%{x}<br>Nodes=%{y}<extra></extra>",
         "legendgroup": "0.03°",
         "marker": {
          "color": "#00cc96",
          "pattern": {
           "shape": ""
          }
         },
         "name": "0.03°",
         "offsetgroup": "0.03°",
         "orientation": "v",
         "showlegend": true,
         "textposition": "auto",
         "type": "bar",
         "x": [
          "City 1",
          "City 2",
          "City 3",
          "City 4",
          "City 5"
         ],
         "xaxis": "x",
         "y": {
          "bdata": "CAYKBwk=",
          "dtype": "i1"
         },
         "yaxis": "y"
        }
       ],
       "layout": {
        "barmode": "group",
        "legend": {
         "title": {
          "text": "Grid Size"
         },
         "tracegroupgap": 0
        },
        "template": {
         "data": {
          "bar": [
           {
            "error_x": {
             "color": "#2a3f5f"
            },
            "error_y": {
             "color": "#2a3f5f"
            },
            "marker": {
             "line": {
              "color": "#E5ECF6",
              "width": 0.5
             },
             "pattern": {
              "fillmode": "overlay",
              "size": 10,
              "solidity": 0.2
             }
            },
            "type": "bar"
           }
          ],
          "barpolar": [
           {
            "marker": {
             "line": {
              "color": "#E5ECF6",
              "width": 0.5
             },
             "pattern": {
              "fillmode": "overlay",
              "size": 10,
              "solidity": 0.2
             }
            },
            "type": "barpolar"
           }
          ],
          "carpet": [
           {
            "aaxis": {
             "endlinecolor": "#2a3f5f",
             "gridcolor": "white",
             "linecolor": "white",
             "minorgridcolor": "white",
             "startlinecolor": "#2a3f5f"
            },
            "baxis": {
             "endlinecolor": "#2a3f5f",
             "gridcolor": "white",
             "linecolor": "white",
             "minorgridcolor": "white",
             "startlinecolor": "#2a3f5f"
            },
            "type": "carpet"
           }
          ],
          "choropleth": [
           {
            "colorbar": {
             "outlinewidth": 0,
             "ticks": ""
            },
            "type": "choropleth"
           }
          ],
          "contour": [
           {
            "colorbar": {
             "outlinewidth": 0,
             "ticks": ""
            },
            "colorscale": [
             [
              0,
              "#0d0887"
             ],
             [
              0.1111111111111111,
              "#46039f"
             ],
             [
              0.2222222222222222,
              "#7201a8"
             ],
             [
              0.3333333333333333,
              "#9c179e"
             ],
             [
              0.4444444444444444,
              "#bd3786"
             ],
             [
              0.5555555555555556,
              "#d8576b"
             ],
             [
              0.6666666666666666,
              "#ed7953"
             ],
             [
              0.7777777777777778,
              "#fb9f3a"
             ],
             [
              0.8888888888888888,
              "#fdca26"
             ],
             [
              1,
              "#f0f921"
             ]
            ],
            "type": "contour"
           }
          ],
          "contourcarpet": [
           {
            "colorbar": {
             "outlinewidth": 0,
             "ticks": ""
            },
            "type": "contourcarpet"
           }
          ],
          "heatmap": [
           {
            "colorbar": {
             "outlinewidth": 0,
             "ticks": ""
            },
            "colorscale": [
             [
              0,
              "#0d0887"
             ],
             [
              0.1111111111111111,
              "#46039f"
             ],
             [
              0.2222222222222222,
              "#7201a8"
             ],
             [
              0.3333333333333333,
              "#9c179e"
             ],
             [
              0.4444444444444444,
              "#bd3786"
             ],
             [
              0.5555555555555556,
              "#d8576b"
             ],
             [
              0.6666666666666666,
              "#ed7953"
             ],
             [
              0.7777777777777778,
              "#fb9f3a"
             ],
             [
              0.8888888888888888,
              "#fdca26"
             ],
             [
              1,
              "#f0f921"
             ]
            ],
            "type": "heatmap"
           }
          ],
          "histogram": [
           {
            "marker": {
             "pattern": {
              "fillmode": "overlay",
              "size": 10,
              "solidity": 0.2
             }
            },
            "type": "histogram"
           }
          ],
          "histogram2d": [
           {
            "colorbar": {
             "outlinewidth": 0,
             "ticks": ""
            },
            "colorscale": [
             [
              0,
              "#0d0887"
             ],
             [
              0.1111111111111111,
              "#46039f"
             ],
             [
              0.2222222222222222,
              "#7201a8"
             ],
             [
              0.3333333333333333,
              "#9c179e"
             ],
             [
              0.4444444444444444,
              "#bd3786"
             ],
             [
              0.5555555555555556,
              "#d8576b"
             ],
             [
              0.6666666666666666,
              "#ed7953"
             ],
             [
              0.7777777777777778,
              "#fb9f3a"
             ],
             [
              0.8888888888888888,
              "#fdca26"
             ],
             [
              1,
              "#f0f921"
             ]
            ],
            "type": "histogram2d"
           }
          ],
          "histogram2dcontour": [
           {
            "colorbar": {
             "outlinewidth": 0,
             "ticks": ""
            },
            "colorscale": [
             [
              0,
              "#0d0887"
             ],
             [
              0.1111111111111111,
              "#46039f"
             ],
             [
              0.2222222222222222,
              "#7201a8"
             ],
             [
              0.3333333333333333,
              "#9c179e"
             ],
             [
              0.4444444444444444,
              "#bd3786"
             ],
             [
              0.5555555555555556,
              "#d8576b"
             ],
             [
              0.6666666666666666,
              "#ed7953"
             ],
             [
              0.7777777777777778,
              "#fb9f3a"
             ],
             [
              0.8888888888888888,
              "#fdca26"
             ],
             [
              1,
              "#f0f921"
             ]
            ],
            "type": "histogram2dcontour"
           }
          ],
          "mesh3d": [
           {
            "colorbar": {
             "outlinewidth": 0,
             "ticks": ""
            },
            "type": "mesh3d"
           }
          ],
          "parcoords": [
           {
            "line": {
             "colorbar": {
              "outlinewidth": 0,
              "ticks": ""
             }
            },
            "type": "parcoords"
           }
          ],
          "pie": [
           {
            "automargin": true,
            "type": "pie"
           }
          ],
          "scatter": [
           {
            "fillpattern": {
             "fillmode": "overlay",
             "size": 10,
             "solidity": 0.2
            },
            "type": "scatter"
           }
          ],
          "scatter3d": [
           {
            "line": {
             "colorbar": {
              "outlinewidth": 0,
              "ticks": ""
             }
            },
            "marker": {
             "colorbar": {
              "outlinewidth": 0,
              "ticks": ""
             }
            },
            "type": "scatter3d"
           }
          ],
          "scattercarpet": [
           {
            "marker": {
             "colorbar": {
              "outlinewidth": 0,
              "ticks": ""
             }
            },
            "type": "scattercarpet"
           }
          ],
          "scattergeo": [
           {
            "marker": {
             "colorbar": {
              "outlinewidth": 0,
              "ticks": ""
             }
            },
            "type": "scattergeo"
           }
          ],
          "scattergl": [
           {
            "marker": {
             "colorbar": {
              "outlinewidth": 0,
              "ticks": ""
             }
            },
            "type": "scattergl"
           }
          ],
          "scattermap": [
           {
            "marker": {
             "colorbar": {
              "outlinewidth": 0,
              "ticks": ""
             }
            },
            "type": "scattermap"
           }
          ],
          "scattermapbox": [
           {
            "marker": {
             "colorbar": {
              "outlinewidth": 0,
              "ticks": ""
             }
            },
            "type": "scattermapbox"
           }
          ],
          "scatterpolar": [
           {
            "marker": {
             "colorbar": {
              "outlinewidth": 0,
              "ticks": ""
             }
            },
            "type": "scatterpolar"
           }
          ],
          "scatterpolargl": [
           {
            "marker": {
             "colorbar": {
              "outlinewidth": 0,
              "ticks": ""
             }
            },
            "type": "scatterpolargl"
           }
          ],
          "scatterternary": [
           {
            "marker": {
             "colorbar": {
              "outlinewidth": 0,
              "ticks": ""
             }
            },
            "type": "scatterternary"
           }
          ],
          "surface": [
           {
            "colorbar": {
             "outlinewidth": 0,
             "ticks": ""
            },
            "colorscale": [
             [
              0,
              "#0d0887"
             ],
             [
              0.1111111111111111,
              "#46039f"
             ],
             [
              0.2222222222222222,
              "#7201a8"
             ],
             [
              0.3333333333333333,
              "#9c179e"
             ],
             [
              0.4444444444444444,
              "#bd3786"
             ],
             [
              0.5555555555555556,
              "#d8576b"
             ],
             [
              0.6666666666666666,
              "#ed7953"
             ],
             [
              0.7777777777777778,
              "#fb9f3a"
             ],
             [
              0.8888888888888888,
              "#fdca26"
             ],
             [
              1,
              "#f0f921"
             ]
            ],
            "type": "surface"
           }
          ],
          "table": [
           {
            "cells": {
             "fill": {
              "color": "#EBF0F8"
             },
             "line": {
              "color": "white"
             }
            },
            "header": {
             "fill": {
              "color": "#C8D4E3"
             },
             "line": {
              "color": "white"
             }
            },
            "type": "table"
           }
          ]
         },
         "layout": {
          "annotationdefaults": {
           "arrowcolor": "#2a3f5f",
           "arrowhead": 0,
           "arrowwidth": 1
          },
          "autotypenumbers": "strict",
          "coloraxis": {
           "colorbar": {
            "outlinewidth": 0,
            "ticks": ""
           }
          },
          "colorscale": {
           "diverging": [
            [
             0,
             "#8e0152"
            ],
            [
             0.1,
             "#c51b7d"
            ],
            [
             0.2,
             "#de77ae"
            ],
            [
             0.3,
             "#f1b6da"
            ],
            [
             0.4,
             "#fde0ef"
            ],
            [
             0.5,
             "#f7f7f7"
            ],
            [
             0.6,
             "#e6f5d0"
            ],
            [
             0.7,
             "#b8e186"
            ],
            [
             0.8,
             "#7fbc41"
            ],
            [
             0.9,
             "#4d9221"
            ],
            [
             1,
             "#276419"
            ]
           ],
           "sequential": [
            [
             0,
             "#0d0887"
            ],
            [
             0.1111111111111111,
             "#46039f"
            ],
            [
             0.2222222222222222,
             "#7201a8"
            ],
            [
             0.3333333333333333,
             "#9c179e"
            ],
            [
             0.4444444444444444,
             "#bd3786"
            ],
            [
             0.5555555555555556,
             "#d8576b"
            ],
            [
             0.6666666666666666,
             "#ed7953"
            ],
            [
             0.7777777777777778,
             "#fb9f3a"
            ],
            [
             0.8888888888888888,
             "#fdca26"
            ],
            [
             1,
             "#f0f921"
            ]
           ],
           "sequentialminus": [
            [
             0,
             "#0d0887"
            ],
            [
             0.1111111111111111,
             "#46039f"
            ],
            [
             0.2222222222222222,
             "#7201a8"
            ],
            [
             0.3333333333333333,
             "#9c179e"
            ],
            [
             0.4444444444444444,
             "#bd3786"
            ],
            [
             0.5555555555555556,
             "#d8576b"
            ],
            [
             0.6666666666666666,
             "#ed7953"
            ],
            [
             0.7777777777777778,
             "#fb9f3a"
            ],
            [
             0.8888888888888888,
             "#fdca26"
            ],
            [
             1,
             "#f0f921"
            ]
           ]
          },
          "colorway": [
           "#636efa",
           "#EF553B",
           "#00cc96",
           "#ab63fa",
           "#FFA15A",
           "#19d3f3",
           "#FF6692",
           "#B6E880",
           "#FF97FF",
           "#FECB52"
          ],
          "font": {
           "color": "#2a3f5f"
          },
          "geo": {
           "bgcolor": "white",
           "lakecolor": "white",
           "landcolor": "#E5ECF6",
           "showlakes": true,
           "showland": true,
           "subunitcolor": "white"
          },
          "hoverlabel": {
           "align": "left"
          },
          "hovermode": "closest",
          "mapbox": {
           "style": "light"
          },
          "paper_bgcolor": "white",
          "plot_bgcolor": "#E5ECF6",
          "polar": {
           "angularaxis": {
            "gridcolor": "white",
            "linecolor": "white",
            "ticks": ""
           },
           "bgcolor": "#E5ECF6",
           "radialaxis": {
            "gridcolor": "white",
            "linecolor": "white",
            "ticks": ""
           }
          },
          "scene": {
           "xaxis": {
            "backgroundcolor": "#E5ECF6",
            "gridcolor": "white",
            "gridwidth": 2,
            "linecolor": "white",
            "showbackground": true,
            "ticks": "",
            "zerolinecolor": "white"
           },
           "yaxis": {
            "backgroundcolor": "#E5ECF6",
            "gridcolor": "white",
            "gridwidth": 2,
            "linecolor": "white",
            "showbackground": true,
            "ticks": "",
            "zerolinecolor": "white"
           },
           "zaxis": {
            "backgroundcolor": "#E5ECF6",
            "gridcolor": "white",
            "gridwidth": 2,
            "linecolor": "white",
            "showbackground": true,
            "ticks": "",
            "zerolinecolor": "white"
           }
          },
          "shapedefaults": {
           "line": {
            "color": "#2a3f5f"
           }
          },
          "ternary": {
           "aaxis": {
            "gridcolor": "white",
            "linecolor": "white",
            "ticks": ""
           },
           "baxis": {
            "gridcolor": "white",
            "linecolor": "white",
            "ticks": ""
           },
           "bgcolor": "#E5ECF6",
           "caxis": {
            "gridcolor": "white",
            "linecolor": "white",
            "ticks": ""
           }
          },
          "title": {
           "x": 0.05
          },
          "xaxis": {
           "automargin": true,
           "gridcolor": "white",
           "linecolor": "white",
           "ticks": "",
           "title": {
            "standoff": 15
           },
           "zerolinecolor": "white",
           "zerolinewidth": 2
          },
          "yaxis": {
           "automargin": true,
           "gridcolor": "white",
           "linecolor": "white",
           "ticks": "",
           "title": {
            "standoff": 15
           },
           "zerolinecolor": "white",
           "zerolinewidth": 2
          }
         }
        },
        "title": {
         "text": "Number of Nodes by City and Grid Size"
        },
        "xaxis": {
         "anchor": "y",
         "domain": [
          0,
          1
         ],
         "title": {
          "text": "City"
         }
        },
        "yaxis": {
         "anchor": "x",
         "domain": [
          0,
          1
         ],
         "title": {
          "text": "Nodes"
         }
        }
       }
      }
     },
     "metadata": {},
     "output_type": "display_data"
    },
    {
     "data": {
      "application/vnd.plotly.v1+json": {
       "config": {
        "plotlyServerURL": "https://plot.ly"
       },
       "data": [
        {
         "alignmentgroup": "True",
         "hovertemplate": "Grid Size=0.01°<br>City=%{x}<br>Trips per Node=%{y}<extra></extra>",
         "legendgroup": "0.01°",
         "marker": {
          "color": "#636efa",
          "pattern": {
           "shape": ""
          }
         },
         "name": "0.01°",
         "offsetgroup": "0.01°",
         "orientation": "v",
         "showlegend": true,
         "textposition": "auto",
         "type": "bar",
         "x": [
          "City 1",
          "City 2",
          "City 3",
          "City 4",
          "City 5"
         ],
         "xaxis": "x",
         "y": {
          "bdata": "oryG8hrKPkDHcRzHcVxAQAAAAAAAGERASZIkSZLkQ0A5juM4jmNBQA==",
          "dtype": "f8"
         },
         "yaxis": "y"
        },
        {
         "alignmentgroup": "True",
         "hovertemplate": "Grid Size=0.02°<br>City=%{x}<br>Trips per Node=%{y}<extra></extra>",
         "legendgroup": "0.02°",
         "marker": {
          "color": "#EF553B",
          "pattern": {
           "shape": ""
          }
         },
         "name": "0.02°",
         "offsetgroup": "0.02°",
         "orientation": "v",
         "showlegend": true,
         "textposition": "auto",
         "type": "bar",
         "x": [
          "City 1",
          "City 2",
          "City 3",
          "City 4",
          "City 5"
         ],
         "xaxis": "x",
         "y": {
          "bdata": "AAAAAACARkAAAAAAAGhSQDMzMzMzE1BAAAAAAABoUUDNzMzMzExPQA==",
          "dtype": "f8"
         },
         "yaxis": "y"
        },
        {
         "alignmentgroup": "True",
         "hovertemplate": "Grid Size=0.03°<br>City=%{x}<br>Trips per Node=%{y}<extra></extra>",
         "legendgroup": "0.03°",
         "marker": {
          "color": "#00cc96",
          "pattern": {
           "shape": ""
          }
         },
         "name": "0.03°",
         "offsetgroup": "0.03°",
         "orientation": "v",
         "showlegend": true,
         "textposition": "auto",
         "type": "bar",
         "x": [
          "City 1",
          "City 2",
          "City 3",
          "City 4",
          "City 5"
         ],
         "xaxis": "x",
         "y": {
          "bdata": "AAAAAABIUkCrqqqqqopYQDMzMzMzE1BASZIkSZLkU0A5juM4jmNRQA==",
          "dtype": "f8"
         },
         "yaxis": "y"
        }
       ],
       "layout": {
        "barmode": "group",
        "legend": {
         "title": {
          "text": "Grid Size"
         },
         "tracegroupgap": 0
        },
        "template": {
         "data": {
          "bar": [
           {
            "error_x": {
             "color": "#2a3f5f"
            },
            "error_y": {
             "color": "#2a3f5f"
            },
            "marker": {
             "line": {
              "color": "#E5ECF6",
              "width": 0.5
             },
             "pattern": {
              "fillmode": "overlay",
              "size": 10,
              "solidity": 0.2
             }
            },
            "type": "bar"
           }
          ],
          "barpolar": [
           {
            "marker": {
             "line": {
              "color": "#E5ECF6",
              "width": 0.5
             },
             "pattern": {
              "fillmode": "overlay",
              "size": 10,
              "solidity": 0.2
             }
            },
            "type": "barpolar"
           }
          ],
          "carpet": [
           {
            "aaxis": {
             "endlinecolor": "#2a3f5f",
             "gridcolor": "white",
             "linecolor": "white",
             "minorgridcolor": "white",
             "startlinecolor": "#2a3f5f"
            },
            "baxis": {
             "endlinecolor": "#2a3f5f",
             "gridcolor": "white",
             "linecolor": "white",
             "minorgridcolor": "white",
             "startlinecolor": "#2a3f5f"
            },
            "type": "carpet"
           }
          ],
          "choropleth": [
           {
            "colorbar": {
             "outlinewidth": 0,
             "ticks": ""
            },
            "type": "choropleth"
           }
          ],
          "contour": [
           {
            "colorbar": {
             "outlinewidth": 0,
             "ticks": ""
            },
            "colorscale": [
             [
              0,
              "#0d0887"
             ],
             [
              0.1111111111111111,
              "#46039f"
             ],
             [
              0.2222222222222222,
              "#7201a8"
             ],
             [
              0.3333333333333333,
              "#9c179e"
             ],
             [
              0.4444444444444444,
              "#bd3786"
             ],
             [
              0.5555555555555556,
              "#d8576b"
             ],
             [
              0.6666666666666666,
              "#ed7953"
             ],
             [
              0.7777777777777778,
              "#fb9f3a"
             ],
             [
              0.8888888888888888,
              "#fdca26"
             ],
             [
              1,
              "#f0f921"
             ]
            ],
            "type": "contour"
           }
          ],
          "contourcarpet": [
           {
            "colorbar": {
             "outlinewidth": 0,
             "ticks": ""
            },
            "type": "contourcarpet"
           }
          ],
          "heatmap": [
           {
            "colorbar": {
             "outlinewidth": 0,
             "ticks": ""
            },
            "colorscale": [
             [
              0,
              "#0d0887"
             ],
             [
              0.1111111111111111,
              "#46039f"
             ],
             [
              0.2222222222222222,
              "#7201a8"
             ],
             [
              0.3333333333333333,
              "#9c179e"
             ],
             [
              0.4444444444444444,
              "#bd3786"
             ],
             [
              0.5555555555555556,
              "#d8576b"
             ],
             [
              0.6666666666666666,
              "#ed7953"
             ],
             [
              0.7777777777777778,
              "#fb9f3a"
             ],
             [
              0.8888888888888888,
              "#fdca26"
             ],
             [
              1,
              "#f0f921"
             ]
            ],
            "type": "heatmap"
           }
          ],
          "histogram": [
           {
            "marker": {
             "pattern": {
              "fillmode": "overlay",
              "size": 10,
              "solidity": 0.2
             }
            },
            "type": "histogram"
           }
          ],
          "histogram2d": [
           {
            "colorbar": {
             "outlinewidth": 0,
             "ticks": ""
            },
            "colorscale": [
             [
              0,
              "#0d0887"
             ],
             [
              0.1111111111111111,
              "#46039f"
             ],
             [
              0.2222222222222222,
              "#7201a8"
             ],
             [
              0.3333333333333333,
              "#9c179e"
             ],
             [
              0.4444444444444444,
              "#bd3786"
             ],
             [
              0.5555555555555556,
              "#d8576b"
             ],
             [
              0.6666666666666666,
              "#ed7953"
             ],
             [
              0.7777777777777778,
              "#fb9f3a"
             ],
             [
              0.8888888888888888,
              "#fdca26"
             ],
             [
              1,
              "#f0f921"
             ]
            ],
            "type": "histogram2d"
           }
          ],
          "histogram2dcontour": [
           {
            "colorbar": {
             "outlinewidth": 0,
             "ticks": ""
            },
            "colorscale": [
             [
              0,
              "#0d0887"
             ],
             [
              0.1111111111111111,
              "#46039f"
             ],
             [
              0.2222222222222222,
              "#7201a8"
             ],
             [
              0.3333333333333333,
              "#9c179e"
             ],
             [
              0.4444444444444444,
              "#bd3786"
             ],
             [
              0.5555555555555556,
              "#d8576b"
             ],
             [
              0.6666666666666666,
              "#ed7953"
             ],
             [
              0.7777777777777778,
              "#fb9f3a"
             ],
             [
              0.8888888888888888,
              "#fdca26"
             ],
             [
              1,
              "#f0f921"
             ]
            ],
            "type": "histogram2dcontour"
           }
          ],
          "mesh3d": [
           {
            "colorbar": {
             "outlinewidth": 0,
             "ticks": ""
            },
            "type": "mesh3d"
           }
          ],
          "parcoords": [
           {
            "line": {
             "colorbar": {
              "outlinewidth": 0,
              "ticks": ""
             }
            },
            "type": "parcoords"
           }
          ],
          "pie": [
           {
            "automargin": true,
            "type": "pie"
           }
          ],
          "scatter": [
           {
            "fillpattern": {
             "fillmode": "overlay",
             "size": 10,
             "solidity": 0.2
            },
            "type": "scatter"
           }
          ],
          "scatter3d": [
           {
            "line": {
             "colorbar": {
              "outlinewidth": 0,
              "ticks": ""
             }
            },
            "marker": {
             "colorbar": {
              "outlinewidth": 0,
              "ticks": ""
             }
            },
            "type": "scatter3d"
           }
          ],
          "scattercarpet": [
           {
            "marker": {
             "colorbar": {
              "outlinewidth": 0,
              "ticks": ""
             }
            },
            "type": "scattercarpet"
           }
          ],
          "scattergeo": [
           {
            "marker": {
             "colorbar": {
              "outlinewidth": 0,
              "ticks": ""
             }
            },
            "type": "scattergeo"
           }
          ],
          "scattergl": [
           {
            "marker": {
             "colorbar": {
              "outlinewidth": 0,
              "ticks": ""
             }
            },
            "type": "scattergl"
           }
          ],
          "scattermap": [
           {
            "marker": {
             "colorbar": {
              "outlinewidth": 0,
              "ticks": ""
             }
            },
            "type": "scattermap"
           }
          ],
          "scattermapbox": [
           {
            "marker": {
             "colorbar": {
              "outlinewidth": 0,
              "ticks": ""
             }
            },
            "type": "scattermapbox"
           }
          ],
          "scatterpolar": [
           {
            "marker": {
             "colorbar": {
              "outlinewidth": 0,
              "ticks": ""
             }
            },
            "type": "scatterpolar"
           }
          ],
          "scatterpolargl": [
           {
            "marker": {
             "colorbar": {
              "outlinewidth": 0,
              "ticks": ""
             }
            },
            "type": "scatterpolargl"
           }
          ],
          "scatterternary": [
           {
            "marker": {
             "colorbar": {
              "outlinewidth": 0,
              "ticks": ""
             }
            },
            "type": "scatterternary"
           }
          ],
          "surface": [
           {
            "colorbar": {
             "outlinewidth": 0,
             "ticks": ""
            },
            "colorscale": [
             [
              0,
              "#0d0887"
             ],
             [
              0.1111111111111111,
              "#46039f"
             ],
             [
              0.2222222222222222,
              "#7201a8"
             ],
             [
              0.3333333333333333,
              "#9c179e"
             ],
             [
              0.4444444444444444,
              "#bd3786"
             ],
             [
              0.5555555555555556,
              "#d8576b"
             ],
             [
              0.6666666666666666,
              "#ed7953"
             ],
             [
              0.7777777777777778,
              "#fb9f3a"
             ],
             [
              0.8888888888888888,
              "#fdca26"
             ],
             [
              1,
              "#f0f921"
             ]
            ],
            "type": "surface"
           }
          ],
          "table": [
           {
            "cells": {
             "fill": {
              "color": "#EBF0F8"
             },
             "line": {
              "color": "white"
             }
            },
            "header": {
             "fill": {
              "color": "#C8D4E3"
             },
             "line": {
              "color": "white"
             }
            },
            "type": "table"
           }
          ]
         },
         "layout": {
          "annotationdefaults": {
           "arrowcolor": "#2a3f5f",
           "arrowhead": 0,
           "arrowwidth": 1
          },
          "autotypenumbers": "strict",
          "coloraxis": {
           "colorbar": {
            "outlinewidth": 0,
            "ticks": ""
           }
          },
          "colorscale": {
           "diverging": [
            [
             0,
             "#8e0152"
            ],
            [
             0.1,
             "#c51b7d"
            ],
            [
             0.2,
             "#de77ae"
            ],
            [
             0.3,
             "#f1b6da"
            ],
            [
             0.4,
             "#fde0ef"
            ],
            [
             0.5,
             "#f7f7f7"
            ],
            [
             0.6,
             "#e6f5d0"
            ],
            [
             0.7,
             "#b8e186"
            ],
            [
             0.8,
             "#7fbc41"
            ],
            [
             0.9,
             "#4d9221"
            ],
            [
             1,
             "#276419"
            ]
           ],
           "sequential": [
            [
             0,
             "#0d0887"
            ],
            [
             0.1111111111111111,
             "#46039f"
            ],
            [
             0.2222222222222222,
             "#7201a8"
            ],
            [
             0.3333333333333333,
             "#9c179e"
            ],
            [
             0.4444444444444444,
             "#bd3786"
            ],
            [
             0.5555555555555556,
             "#d8576b"
            ],
            [
             0.6666666666666666,
             "#ed7953"
            ],
            [
             0.7777777777777778,
             "#fb9f3a"
            ],
            [
             0.8888888888888888,
             "#fdca26"
            ],
            [
             1,
             "#f0f921"
            ]
           ],
           "sequentialminus": [
            [
             0,
             "#0d0887"
            ],
            [
             0.1111111111111111,
             "#46039f"
            ],
            [
             0.2222222222222222,
             "#7201a8"
            ],
            [
             0.3333333333333333,
             "#9c179e"
            ],
            [
             0.4444444444444444,
             "#bd3786"
            ],
            [
             0.5555555555555556,
             "#d8576b"
            ],
            [
             0.6666666666666666,
             "#ed7953"
            ],
            [
             0.7777777777777778,
             "#fb9f3a"
            ],
            [
             0.8888888888888888,
             "#fdca26"
            ],
            [
             1,
             "#f0f921"
            ]
           ]
          },
          "colorway": [
           "#636efa",
           "#EF553B",
           "#00cc96",
           "#ab63fa",
           "#FFA15A",
           "#19d3f3",
           "#FF6692",
           "#B6E880",
           "#FF97FF",
           "#FECB52"
          ],
          "font": {
           "color": "#2a3f5f"
          },
          "geo": {
           "bgcolor": "white",
           "lakecolor": "white",
           "landcolor": "#E5ECF6",
           "showlakes": true,
           "showland": true,
           "subunitcolor": "white"
          },
          "hoverlabel": {
           "align": "left"
          },
          "hovermode": "closest",
          "mapbox": {
           "style": "light"
          },
          "paper_bgcolor": "white",
          "plot_bgcolor": "#E5ECF6",
          "polar": {
           "angularaxis": {
            "gridcolor": "white",
            "linecolor": "white",
            "ticks": ""
           },
           "bgcolor": "#E5ECF6",
           "radialaxis": {
            "gridcolor": "white",
            "linecolor": "white",
            "ticks": ""
           }
          },
          "scene": {
           "xaxis": {
            "backgroundcolor": "#E5ECF6",
            "gridcolor": "white",
            "gridwidth": 2,
            "linecolor": "white",
            "showbackground": true,
            "ticks": "",
            "zerolinecolor": "white"
           },
           "yaxis": {
            "backgroundcolor": "#E5ECF6",
            "gridcolor": "white",
            "gridwidth": 2,
            "linecolor": "white",
            "showbackground": true,
            "ticks": "",
            "zerolinecolor": "white"
           },
           "zaxis": {
            "backgroundcolor": "#E5ECF6",
            "gridcolor": "white",
            "gridwidth": 2,
            "linecolor": "white",
            "showbackground": true,
            "ticks": "",
            "zerolinecolor": "white"
           }
          },
          "shapedefaults": {
           "line": {
            "color": "#2a3f5f"
           }
          },
          "ternary": {
           "aaxis": {
            "gridcolor": "white",
            "linecolor": "white",
            "ticks": ""
           },
           "baxis": {
            "gridcolor": "white",
            "linecolor": "white",
            "ticks": ""
           },
           "bgcolor": "#E5ECF6",
           "caxis": {
            "gridcolor": "white",
            "linecolor": "white",
            "ticks": ""
           }
          },
          "title": {
           "x": 0.05
          },
          "xaxis": {
           "automargin": true,
           "gridcolor": "white",
           "linecolor": "white",
           "ticks": "",
           "title": {
            "standoff": 15
           },
           "zerolinecolor": "white",
           "zerolinewidth": 2
          },
          "yaxis": {
           "automargin": true,
           "gridcolor": "white",
           "linecolor": "white",
           "ticks": "",
           "title": {
            "standoff": 15
           },
           "zerolinecolor": "white",
           "zerolinewidth": 2
          }
         }
        },
        "title": {
         "text": "Trips per Node by City and Grid Size (Higher = More Efficient)"
        },
        "xaxis": {
         "anchor": "y",
         "domain": [
          0,
          1
         ],
         "title": {
          "text": "City"
         }
        },
        "yaxis": {
         "anchor": "x",
         "domain": [
          0,
          1
         ],
         "title": {
          "text": "Trips per Node"
         }
        }
       }
      }
     },
     "metadata": {},
     "output_type": "display_data"
    },
    {
     "data": {
      "application/vnd.plotly.v1+json": {
       "config": {
        "plotlyServerURL": "https://plot.ly"
       },
       "data": [
        {
         "hovertemplate": "City=City 3<br>Longitude=%{x}<br>Latitude=%{y}<br>Trips=%{marker.size}<extra></extra>",
         "legendgroup": "City 3",
         "marker": {
          "color": "#636efa",
          "size": {
           "bdata": "gwI=",
           "dtype": "i2"
          },
          "sizemode": "area",
          "sizeref": 0.7144444444444444,
          "symbol": "circle"
         },
         "mode": "markers",
         "name": "City 3",
         "orientation": "v",
         "showlegend": true,
         "type": "scatter",
         "x": {
          "bdata": "ezAVbtWGFEA=",
          "dtype": "f8"
         },
         "xaxis": "x",
         "y": {
          "bdata": "trIW8OUKSkA=",
          "dtype": "f8"
         },
         "yaxis": "y"
        },
        {
         "hovertemplate": "City=City 4<br>Longitude=%{x}<br>Latitude=%{y}<br>Trips=%{marker.size}<extra></extra>",
         "legendgroup": "City 4",
         "marker": {
          "color": "#EF553B",
          "size": {
           "bdata": "LQI=",
           "dtype": "i2"
          },
          "sizemode": "area",
          "sizeref": 0.7144444444444444,
          "symbol": "circle"
         },
         "mode": "markers",
         "name": "City 4",
         "orientation": "v",
         "showlegend": true,
         "type": "scatter",
         "x": {
          "bdata": "Uhm8IPLgFUA=",
          "dtype": "f8"
         },
         "xaxis": "x",
         "y": {
          "bdata": "OT08X0G3SUA=",
          "dtype": "f8"
         },
         "yaxis": "y"
        },
        {
         "hovertemplate": "City=City 2<br>Longitude=%{x}<br>Latitude=%{y}<br>Trips=%{marker.size}<extra></extra>",
         "legendgroup": "City 2",
         "marker": {
          "color": "#00cc96",
          "size": {
           "bdata": "TQI=",
           "dtype": "i2"
          },
          "sizemode": "area",
          "sizeref": 0.7144444444444444,
          "symbol": "circle"
         },
         "mode": "markers",
         "name": "City 2",
         "orientation": "v",
         "showlegend": true,
         "type": "scatter",
         "x": {
          "bdata": "vtsJD8LpEUA=",
          "dtype": "f8"
         },
         "xaxis": "x",
         "y": {
          "bdata": "+kbVRbD1SUA=",
          "dtype": "f8"
         },
         "yaxis": "y"
        },
        {
         "hovertemplate": "City=City 1<br>Longitude=%{x}<br>Latitude=%{y}<br>Trips=%{marker.size}<extra></extra>",
         "legendgroup": "City 1",
         "marker": {
          "color": "#ab63fa",
          "size": {
           "bdata": "SQI=",
           "dtype": "i2"
          },
          "sizemode": "area",
          "sizeref": 0.7144444444444444,
          "symbol": "circle"
         },
         "mode": "markers",
         "name": "City 1",
         "orientation": "v",
         "showlegend": true,
         "type": "scatter",
         "x": {
          "bdata": "oVtGdoKUE0A=",
          "dtype": "f8"
         },
         "xaxis": "x",
         "y": {
          "bdata": "HuTAW5IuSkA=",
          "dtype": "f8"
         },
         "yaxis": "y"
        },
        {
         "hovertemplate": "City=City 5<br>Longitude=%{x}<br>Latitude=%{y}<br>Trips=%{marker.size}<extra></extra>",
         "legendgroup": "City 5",
         "marker": {
          "color": "#FFA15A",
          "size": {
           "bdata": "cgI=",
           "dtype": "i2"
          },
          "sizemode": "area",
          "sizeref": 0.7144444444444444,
          "symbol": "circle"
         },
         "mode": "markers",
         "name": "City 5",
         "orientation": "v",
         "showlegend": true,
         "type": "scatter",
         "x": {
          "bdata": "cxB7VKAvEUA=",
          "dtype": "f8"
         },
         "xaxis": "x",
         "y": {
          "bdata": "V2xGq5gISkA=",
          "dtype": "f8"
         },
         "yaxis": "y"
        }
       ],
       "layout": {
        "legend": {
         "itemsizing": "constant",
         "title": {
          "text": "City"
         },
         "tracegroupgap": 0
        },
        "template": {
         "data": {
          "bar": [
           {
            "error_x": {
             "color": "#2a3f5f"
            },
            "error_y": {
             "color": "#2a3f5f"
            },
            "marker": {
             "line": {
              "color": "#E5ECF6",
              "width": 0.5
             },
             "pattern": {
              "fillmode": "overlay",
              "size": 10,
              "solidity": 0.2
             }
            },
            "type": "bar"
           }
          ],
          "barpolar": [
           {
            "marker": {
             "line": {
              "color": "#E5ECF6",
              "width": 0.5
             },
             "pattern": {
              "fillmode": "overlay",
              "size": 10,
              "solidity": 0.2
             }
            },
            "type": "barpolar"
           }
          ],
          "carpet": [
           {
            "aaxis": {
             "endlinecolor": "#2a3f5f",
             "gridcolor": "white",
             "linecolor": "white",
             "minorgridcolor": "white",
             "startlinecolor": "#2a3f5f"
            },
            "baxis": {
             "endlinecolor": "#2a3f5f",
             "gridcolor": "white",
             "linecolor": "white",
             "minorgridcolor": "white",
             "startlinecolor": "#2a3f5f"
            },
            "type": "carpet"
           }
          ],
          "choropleth": [
           {
            "colorbar": {
             "outlinewidth": 0,
             "ticks": ""
            },
            "type": "choropleth"
           }
          ],
          "contour": [
           {
            "colorbar": {
             "outlinewidth": 0,
             "ticks": ""
            },
            "colorscale": [
             [
              0,
              "#0d0887"
             ],
             [
              0.1111111111111111,
              "#46039f"
             ],
             [
              0.2222222222222222,
              "#7201a8"
             ],
             [
              0.3333333333333333,
              "#9c179e"
             ],
             [
              0.4444444444444444,
              "#bd3786"
             ],
             [
              0.5555555555555556,
              "#d8576b"
             ],
             [
              0.6666666666666666,
              "#ed7953"
             ],
             [
              0.7777777777777778,
              "#fb9f3a"
             ],
             [
              0.8888888888888888,
              "#fdca26"
             ],
             [
              1,
              "#f0f921"
             ]
            ],
            "type": "contour"
           }
          ],
          "contourcarpet": [
           {
            "colorbar": {
             "outlinewidth": 0,
             "ticks": ""
            },
            "type": "contourcarpet"
           }
          ],
          "heatmap": [
           {
            "colorbar": {
             "outlinewidth": 0,
             "ticks": ""
            },
            "colorscale": [
             [
              0,
              "#0d0887"
             ],
             [
              0.1111111111111111,
              "#46039f"
             ],
             [
              0.2222222222222222,
              "#7201a8"
             ],
             [
              0.3333333333333333,
              "#9c179e"
             ],
             [
              0.4444444444444444,
              "#bd3786"
             ],
             [
              0.5555555555555556,
              "#d8576b"
             ],
             [
              0.6666666666666666,
              "#ed7953"
             ],
             [
              0.7777777777777778,
              "#fb9f3a"
             ],
             [
              0.8888888888888888,
              "#fdca26"
             ],
             [
              1,
              "#f0f921"
             ]
            ],
            "type": "heatmap"
           }
          ],
          "histogram": [
           {
            "marker": {
             "pattern": {
              "fillmode": "overlay",
              "size": 10,
              "solidity": 0.2
             }
            },
            "type": "histogram"
           }
          ],
          "histogram2d": [
           {
            "colorbar": {
             "outlinewidth": 0,
             "ticks": ""
            },
            "colorscale": [
             [
              0,
              "#0d0887"
             ],
             [
              0.1111111111111111,
              "#46039f"
             ],
             [
              0.2222222222222222,
              "#7201a8"
             ],
             [
              0.3333333333333333,
              "#9c179e"
             ],
             [
              0.4444444444444444,
              "#bd3786"
             ],
             [
              0.5555555555555556,
              "#d8576b"
             ],
             [
              0.6666666666666666,
              "#ed7953"
             ],
             [
              0.7777777777777778,
              "#fb9f3a"
             ],
             [
              0.8888888888888888,
              "#fdca26"
             ],
             [
              1,
              "#f0f921"
             ]
            ],
            "type": "histogram2d"
           }
          ],
          "histogram2dcontour": [
           {
            "colorbar": {
             "outlinewidth": 0,
             "ticks": ""
            },
            "colorscale": [
             [
              0,
              "#0d0887"
             ],
             [
              0.1111111111111111,
              "#46039f"
             ],
             [
              0.2222222222222222,
              "#7201a8"
             ],
             [
              0.3333333333333333,
              "#9c179e"
             ],
             [
              0.4444444444444444,
              "#bd3786"
             ],
             [
              0.5555555555555556,
              "#d8576b"
             ],
             [
              0.6666666666666666,
              "#ed7953"
             ],
             [
              0.7777777777777778,
              "#fb9f3a"
             ],
             [
              0.8888888888888888,
              "#fdca26"
             ],
             [
              1,
              "#f0f921"
             ]
            ],
            "type": "histogram2dcontour"
           }
          ],
          "mesh3d": [
           {
            "colorbar": {
             "outlinewidth": 0,
             "ticks": ""
            },
            "type": "mesh3d"
           }
          ],
          "parcoords": [
           {
            "line": {
             "colorbar": {
              "outlinewidth": 0,
              "ticks": ""
             }
            },
            "type": "parcoords"
           }
          ],
          "pie": [
           {
            "automargin": true,
            "type": "pie"
           }
          ],
          "scatter": [
           {
            "fillpattern": {
             "fillmode": "overlay",
             "size": 10,
             "solidity": 0.2
            },
            "type": "scatter"
           }
          ],
          "scatter3d": [
           {
            "line": {
             "colorbar": {
              "outlinewidth": 0,
              "ticks": ""
             }
            },
            "marker": {
             "colorbar": {
              "outlinewidth": 0,
              "ticks": ""
             }
            },
            "type": "scatter3d"
           }
          ],
          "scattercarpet": [
           {
            "marker": {
             "colorbar": {
              "outlinewidth": 0,
              "ticks": ""
             }
            },
            "type": "scattercarpet"
           }
          ],
          "scattergeo": [
           {
            "marker": {
             "colorbar": {
              "outlinewidth": 0,
              "ticks": ""
             }
            },
            "type": "scattergeo"
           }
          ],
          "scattergl": [
           {
            "marker": {
             "colorbar": {
              "outlinewidth": 0,
              "ticks": ""
             }
            },
            "type": "scattergl"
           }
          ],
          "scattermap": [
           {
            "marker": {
             "colorbar": {
              "outlinewidth": 0,
              "ticks": ""
             }
            },
            "type": "scattermap"
           }
          ],
          "scattermapbox": [
           {
            "marker": {
             "colorbar": {
              "outlinewidth": 0,
              "ticks": ""
             }
            },
            "type": "scattermapbox"
           }
          ],
          "scatterpolar": [
           {
            "marker": {
             "colorbar": {
              "outlinewidth": 0,
              "ticks": ""
             }
            },
            "type": "scatterpolar"
           }
          ],
          "scatterpolargl": [
           {
            "marker": {
             "colorbar": {
              "outlinewidth": 0,
              "ticks": ""
             }
            },
            "type": "scatterpolargl"
           }
          ],
          "scatterternary": [
           {
            "marker": {
             "colorbar": {
              "outlinewidth": 0,
              "ticks": ""
             }
            },
            "type": "scatterternary"
           }
          ],
          "surface": [
           {
            "colorbar": {
             "outlinewidth": 0,
             "ticks": ""
            },
            "colorscale": [
             [
              0,
              "#0d0887"
             ],
             [
              0.1111111111111111,
              "#46039f"
             ],
             [
              0.2222222222222222,
              "#7201a8"
             ],
             [
              0.3333333333333333,
              "#9c179e"
             ],
             [
              0.4444444444444444,
              "#bd3786"
             ],
             [
              0.5555555555555556,
              "#d8576b"
             ],
             [
              0.6666666666666666,
              "#ed7953"
             ],
             [
              0.7777777777777778,
              "#fb9f3a"
             ],
             [
              0.8888888888888888,
              "#fdca26"
             ],
             [
              1,
              "#f0f921"
             ]
            ],
            "type": "surface"
           }
          ],
          "table": [
           {
            "cells": {
             "fill": {
              "color": "#EBF0F8"
             },
             "line": {
              "color": "white"
             }
            },
            "header": {
             "fill": {
              "color": "#C8D4E3"
             },
             "line": {
              "color": "white"
             }
            },
            "type": "table"
           }
          ]
         },
         "layout": {
          "annotationdefaults": {
           "arrowcolor": "#2a3f5f",
           "arrowhead": 0,
           "arrowwidth": 1
          },
          "autotypenumbers": "strict",
          "coloraxis": {
           "colorbar": {
            "outlinewidth": 0,
            "ticks": ""
           }
          },
          "colorscale": {
           "diverging": [
            [
             0,
             "#8e0152"
            ],
            [
             0.1,
             "#c51b7d"
            ],
            [
             0.2,
             "#de77ae"
            ],
            [
             0.3,
             "#f1b6da"
            ],
            [
             0.4,
             "#fde0ef"
            ],
            [
             0.5,
             "#f7f7f7"
            ],
            [
             0.6,
             "#e6f5d0"
            ],
            [
             0.7,
             "#b8e186"
            ],
            [
             0.8,
             "#7fbc41"
            ],
            [
             0.9,
             "#4d9221"
            ],
            [
             1,
             "#276419"
            ]
           ],
           "sequential": [
            [
             0,
             "#0d0887"
            ],
            [
             0.1111111111111111,
             "#46039f"
            ],
            [
             0.2222222222222222,
             "#7201a8"
            ],
            [
             0.3333333333333333,
             "#9c179e"
            ],
            [
             0.4444444444444444,
             "#bd3786"
            ],
            [
             0.5555555555555556,
             "#d8576b"
            ],
            [
             0.6666666666666666,
             "#ed7953"
            ],
            [
             0.7777777777777778,
             "#fb9f3a"
            ],
            [
             0.8888888888888888,
             "#fdca26"
            ],
            [
             1,
             "#f0f921"
            ]
           ],
           "sequentialminus": [
            [
             0,
             "#0d0887"
            ],
            [
             0.1111111111111111,
             "#46039f"
            ],
            [
             0.2222222222222222,
             "#7201a8"
            ],
            [
             0.3333333333333333,
             "#9c179e"
            ],
            [
             0.4444444444444444,
             "#bd3786"
            ],
            [
             0.5555555555555556,
             "#d8576b"
            ],
            [
             0.6666666666666666,
             "#ed7953"
            ],
            [
             0.7777777777777778,
             "#fb9f3a"
            ],
            [
             0.8888888888888888,
             "#fdca26"
            ],
            [
             1,
             "#f0f921"
            ]
           ]
          },
          "colorway": [
           "#636efa",
           "#EF553B",
           "#00cc96",
           "#ab63fa",
           "#FFA15A",
           "#19d3f3",
           "#FF6692",
           "#B6E880",
           "#FF97FF",
           "#FECB52"
          ],
          "font": {
           "color": "#2a3f5f"
          },
          "geo": {
           "bgcolor": "white",
           "lakecolor": "white",
           "landcolor": "#E5ECF6",
           "showlakes": true,
           "showland": true,
           "subunitcolor": "white"
          },
          "hoverlabel": {
           "align": "left"
          },
          "hovermode": "closest",
          "mapbox": {
           "style": "light"
          },
          "paper_bgcolor": "white",
          "plot_bgcolor": "#E5ECF6",
          "polar": {
           "angularaxis": {
            "gridcolor": "white",
            "linecolor": "white",
            "ticks": ""
           },
           "bgcolor": "#E5ECF6",
           "radialaxis": {
            "gridcolor": "white",
            "linecolor": "white",
            "ticks": ""
           }
          },
          "scene": {
           "xaxis": {
            "backgroundcolor": "#E5ECF6",
            "gridcolor": "white",
            "gridwidth": 2,
            "linecolor": "white",
            "showbackground": true,
            "ticks": "",
            "zerolinecolor": "white"
           },
           "yaxis": {
            "backgroundcolor": "#E5ECF6",
            "gridcolor": "white",
            "gridwidth": 2,
            "linecolor": "white",
            "showbackground": true,
            "ticks": "",
            "zerolinecolor": "white"
           },
           "zaxis": {
            "backgroundcolor": "#E5ECF6",
            "gridcolor": "white",
            "gridwidth": 2,
            "linecolor": "white",
            "showbackground": true,
            "ticks": "",
            "zerolinecolor": "white"
           }
          },
          "shapedefaults": {
           "line": {
            "color": "#2a3f5f"
           }
          },
          "ternary": {
           "aaxis": {
            "gridcolor": "white",
            "linecolor": "white",
            "ticks": ""
           },
           "baxis": {
            "gridcolor": "white",
            "linecolor": "white",
            "ticks": ""
           },
           "bgcolor": "#E5ECF6",
           "caxis": {
            "gridcolor": "white",
            "linecolor": "white",
            "ticks": ""
           }
          },
          "title": {
           "x": 0.05
          },
          "xaxis": {
           "automargin": true,
           "gridcolor": "white",
           "linecolor": "white",
           "ticks": "",
           "title": {
            "standoff": 15
           },
           "zerolinecolor": "white",
           "zerolinewidth": 2
          },
          "yaxis": {
           "automargin": true,
           "gridcolor": "white",
           "linecolor": "white",
           "ticks": "",
           "title": {
            "standoff": 15
           },
           "zerolinecolor": "white",
           "zerolinewidth": 2
          }
         }
        },
        "title": {
         "text": "Geographic Distribution of Cities"
        },
        "xaxis": {
         "anchor": "y",
         "domain": [
          0,
          1
         ],
         "title": {
          "text": "Longitude"
         }
        },
        "yaxis": {
         "anchor": "x",
         "domain": [
          0,
          1
         ],
         "title": {
          "text": "Latitude"
         }
        }
       }
      }
     },
     "metadata": {},
     "output_type": "display_data"
    },
    {
     "name": "stdout",
     "output_type": "stream",
     "text": [
      "\n",
      "============================================================\n",
      "QUICK REFERENCE: RECOMMENDED NODES PER CITY\n",
      "============================================================\n",
      "  City Trips  Recommended Nodes Trips/Node      Grid Size\n",
      "City 1   585                 13       45.0 0.02° (~2.2km)\n",
      "City 2   589                  8       73.6 0.02° (~2.2km)\n",
      "City 3   643                 10       64.3 0.02° (~2.2km)\n",
      "City 4   557                  8       69.6 0.02° (~2.2km)\n",
      "City 5   626                 10       62.6 0.02° (~2.2km)\n",
      "\n",
      "📋 IMPLEMENTATION SUMMARY:\n",
      "• Create 5 separate city networks (no inter-city connections needed)\n",
      "• Total recommended nodes across all cities: 49\n",
      "• Average nodes per city: 9.8\n",
      "• Use 0.02° grid size for balanced analysis\n",
      "\n",
      "🔧 UTILITY FUNCTION AVAILABLE:\n",
      "Use get_optimal_nodes_for_city(city_id, grid_size) to get node info for any city\n",
      "\n",
      "Example: City 1 with 0.02° grid:\n",
      "  Nodes: 13\n",
      "  Trips per node: 45.0\n",
      "  Total trips: 585\n"
     ]
    }
   ],
   "source": [
    "# CITY-SPECIFIC VISUALIZATIONS\n",
    "\n",
    "print(\"Creating city-specific visualizations...\")\n",
    "\n",
    "# 1. City distribution visualization\n",
    "fig_cities = px.bar(\n",
    "    x=[f\"City {i}\" for i in sorted(cities)],\n",
    "    y=[city_trip_counts[i] for i in sorted(cities)],\n",
    "    title=\"Trip Distribution Across Cities\",\n",
    "    labels={'x': 'City', 'y': 'Number of Trips'},\n",
    "    color=[city_trip_counts[i] for i in sorted(cities)],\n",
    "    color_continuous_scale='viridis'\n",
    ")\n",
    "fig_cities.show()\n",
    "\n",
    "# 2. Node count comparison by city and grid size\n",
    "node_comparison_data = []\n",
    "for city_id in sorted(cities):\n",
    "    for result in city_results[city_id]['grid_results']:\n",
    "        node_comparison_data.append({\n",
    "            'City': f\"City {city_id}\",\n",
    "            'Grid Size': f\"{result['grid_size']}°\",\n",
    "            'Nodes': result['total_nodes'],\n",
    "            'Trips per Node': result['trips_per_node']\n",
    "        })\n",
    "\n",
    "node_df = pd.DataFrame(node_comparison_data)\n",
    "\n",
    "fig_nodes = px.bar(\n",
    "    node_df,\n",
    "    x='City',\n",
    "    y='Nodes',\n",
    "    color='Grid Size',\n",
    "    title='Number of Nodes by City and Grid Size',\n",
    "    barmode='group'\n",
    ")\n",
    "fig_nodes.show()\n",
    "\n",
    "# 3. Trips per node analysis\n",
    "fig_efficiency = px.bar(\n",
    "    node_df,\n",
    "    x='City',\n",
    "    y='Trips per Node',\n",
    "    color='Grid Size',\n",
    "    title='Trips per Node by City and Grid Size (Higher = More Efficient)',\n",
    "    barmode='group'\n",
    ")\n",
    "fig_efficiency.show()\n",
    "\n",
    "# 4. Geographic distribution of cities\n",
    "city_coords_df = pd.DataFrame([\n",
    "    {'City': f\"City {city_id}\", 'Latitude': coords['lat'], 'Longitude': coords['lon'], \n",
    "     'Trips': city_trip_counts[city_id]}\n",
    "    for city_id, coords in city_mapping.items()\n",
    "])\n",
    "\n",
    "fig_map = px.scatter(\n",
    "    city_coords_df,\n",
    "    x='Longitude',\n",
    "    y='Latitude',\n",
    "    size='Trips',\n",
    "    color='City',\n",
    "    title='Geographic Distribution of Cities',\n",
    "    labels={'Longitude': 'Longitude', 'Latitude': 'Latitude'},\n",
    "    size_max=30\n",
    ")\n",
    "fig_map.show()\n",
    "\n",
    "# 5. Create a summary table for easy reference\n",
    "print(f\"\\n\" + \"=\"*60)\n",
    "print(\"QUICK REFERENCE: RECOMMENDED NODES PER CITY\")\n",
    "print(\"=\"*60)\n",
    "\n",
    "quick_ref = []\n",
    "for city_id in sorted(cities):\n",
    "    city_info = city_results[city_id]\n",
    "    # Use 0.02° as the recommended grid size\n",
    "    rec_result = next(r for r in city_info['grid_results'] if r['grid_size'] == 0.02)\n",
    "    quick_ref.append({\n",
    "        'City': f\"City {city_id}\",\n",
    "        'Trips': f\"{city_info['trips']:,}\",\n",
    "        'Recommended Nodes': rec_result['total_nodes'],\n",
    "        'Trips/Node': f\"{rec_result['trips_per_node']:.1f}\",\n",
    "        'Grid Size': \"0.02° (~2.2km)\"\n",
    "    })\n",
    "\n",
    "quick_ref_df = pd.DataFrame(quick_ref)\n",
    "print(quick_ref_df.to_string(index=False))\n",
    "\n",
    "print(f\"\\n📋 IMPLEMENTATION SUMMARY:\")\n",
    "print(f\"• Create 5 separate city networks (no inter-city connections needed)\")\n",
    "print(f\"• Total recommended nodes across all cities: {sum(r['Recommended Nodes'] for r in quick_ref)}\")\n",
    "print(f\"• Average nodes per city: {sum(r['Recommended Nodes'] for r in quick_ref) / len(quick_ref):.1f}\")\n",
    "print(f\"• Use 0.02° grid size for balanced analysis\")\n",
    "\n",
    "# Create a function to get optimal nodes for any city\n",
    "def get_optimal_nodes_for_city(city_id, grid_size=0.02):\n",
    "    \"\"\"Get optimal node configuration for a specific city\"\"\"\n",
    "    if city_id not in city_results:\n",
    "        return None\n",
    "    \n",
    "    result = next((r for r in city_results[city_id]['grid_results'] if r['grid_size'] == grid_size), None)\n",
    "    if result:\n",
    "        return {\n",
    "            'city_id': city_id,\n",
    "            'total_nodes': result['total_nodes'],\n",
    "            'trips_per_node': result['trips_per_node'],\n",
    "            'grid_size': grid_size,\n",
    "            'total_trips': city_results[city_id]['trips']\n",
    "        }\n",
    "    return None\n",
    "\n",
    "print(f\"\\n🔧 UTILITY FUNCTION AVAILABLE:\")\n",
    "print(f\"Use get_optimal_nodes_for_city(city_id, grid_size) to get node info for any city\")\n",
    "\n",
    "# Demonstrate the function\n",
    "print(f\"\\nExample: City 1 with 0.02° grid:\")\n",
    "example = get_optimal_nodes_for_city(1, 0.02)\n",
    "if example:\n",
    "    print(f\"  Nodes: {example['total_nodes']}\")\n",
    "    print(f\"  Trips per node: {example['trips_per_node']:.1f}\")\n",
    "    print(f\"  Total trips: {example['total_trips']}\")"
   ]
  }
 ],
 "metadata": {
  "kernelspec": {
   "display_name": ".venv",
   "language": "python",
   "name": "python3"
  },
  "language_info": {
   "codemirror_mode": {
    "name": "ipython",
    "version": 3
   },
   "file_extension": ".py",
   "mimetype": "text/x-python",
   "name": "python",
   "nbconvert_exporter": "python",
   "pygments_lexer": "ipython3",
   "version": "3.11.13"
  }
 },
 "nbformat": 4,
 "nbformat_minor": 5
}
